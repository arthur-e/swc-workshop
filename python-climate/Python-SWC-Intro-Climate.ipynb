{
 "cells": [
  {
   "cell_type": "markdown",
   "metadata": {},
   "source": [
    "# Overview"
   ]
  },
  {
   "cell_type": "markdown",
   "metadata": {},
   "source": [
    "This lesson introduces Python as an environment for reproducible scientific data analysis and programming. The materials are based on the Software Carpentry [Programming with Python lesson](http://swcarpentry.github.io/python-novice-inflammation/).\n",
    "\n",
    "**At the end of this lesson, you will be able to:**\n",
    "\n",
    "- Read and write basic Python code;\n",
    "- Import and export tabular data with Python;\n",
    "- Subset and filter tabular data;\n",
    "- Understand different data types and data formats;\n",
    "- Understand pandas Data Frames and how they help organize tabular data;\n",
    "- Devise and intepret data processing workflows;\n",
    "- Automate your data cleaning and analysis with Python;\n",
    "- Visualize your data using matplotlib and pandas;\n",
    "- Connect to a SQLite database using Python.\n",
    "\n",
    "This lesson will introduce Python as a *general purpose programming language.* Python is a great programming language to use for a wide variety of applications, including:\n",
    "\n",
    "- Natural language processing or text analysis;\n",
    "- Web development and web publishing;\n",
    "- Web scraping or other unstructured data mining;\n",
    "- Image processing;\n",
    "- Spatial data analysis;\n",
    "- (And many others.)"
   ]
  },
  {
   "cell_type": "markdown",
   "metadata": {},
   "source": [
    "## License"
   ]
  },
  {
   "cell_type": "markdown",
   "metadata": {},
   "source": [
    "As with [the Software Carpentry lesson](http://swcarpentry.github.io/python-novice-inflammation/license/), this lesson is licensed for open use under the [CC BY 4.0 license](https://creativecommons.org/licenses/by/4.0/)."
   ]
  },
  {
   "cell_type": "markdown",
   "metadata": {},
   "source": [
    "### Contents\n",
    "\n",
    "- **Introduction to Python**\n",
    "  - The Python Interpreter\n",
    "  - First Steps with Python\n",
    "  - Importing Libraries\n",
    "  - About the Data\n",
    "  - Arrays and their Attributes\n",
    "  - Getting Help\n",
    "  - More on Arrays\n",
    "  - Basic Data Visualization\n",
    "- **Repeating Tasks with Loops**\n",
    "  - Sequences\n",
    "  - More Complex Loops\n",
    "- **Analyzing Data from Multiple Files**\n",
    "  - Looping over Files\n",
    "  - Generating a Plot\n",
    "  - Putting it All Together\n",
    "- **Conditional Evaluation**\n",
    "  - Conditional Expressions in Python\n",
    "  - Checking our Data\n",
    "- **Creating Functions for Reuse**\n",
    "  - Composing Multiple Functions\n",
    "  - Cleaning Up our Analysis Code\n",
    "  - Positional versus Keyword Arguments\n",
    "  - Documenting Functions\n",
    "- **Understanding and Handling Errors**\n",
    "- **Defensive Programming**\n",
    "  - Assertions\n",
    "  - Test-Driven Development\n",
    "- **Python at the Command Line**\n",
    "- **Analyzing and Optimizing Performance**\n",
    "  - Benchmarking\n",
    "- **Connecting to SQLite with Python**"
   ]
  },
  {
   "cell_type": "markdown",
   "metadata": {},
   "source": [
    "# Introduction to Python"
   ]
  },
  {
   "cell_type": "markdown",
   "metadata": {},
   "source": [
    "Python is a general purpose programming language that allows for the rapid development of scientific workflows. Python's main advantages are:\n",
    "\n",
    "- It is open-source software, supported by the [Python Software Foundation](https://www.python.org/psf/);\n",
    "- It is available on all platforms, including Windows, Mac OS X, and GNU/Linux;\n",
    "- It can be used to program any kind of task (it is a *general purpose* language);\n",
    "- It supports multiple *programming paradigms* (a fancy term computer scientists use to describe the different ways people like to design software);\n",
    "- **Most importantly, it has a large and diverse community of users who share Python code they've already written to do a wide variety of things.**"
   ]
  },
  {
   "cell_type": "markdown",
   "metadata": {},
   "source": [
    "## The Python Interpreter"
   ]
  },
  {
   "cell_type": "markdown",
   "metadata": {},
   "source": [
    "The only language that computers really understand is machine language, or binary: ones and zeros. Anything we tell computers to do has to be translated to binary for computers to execute.\n",
    "\n",
    "Python is what we call an *interpreted language.* This means that computers can translate Python to machine code as they are reading it. This distinguishes Python from languages like C, C++, or Java, which have to be *compiled* to machine code *before* they are run. The details aren't important to us; **what is important is that we can use Python in two ways:**\n",
    "\n",
    "- We can use the Python interpreter in **interactive mode;**\n",
    "- Or, we can use execute Python code that is stored in a text file, called a script."
   ]
  },
  {
   "cell_type": "markdown",
   "metadata": {},
   "source": [
    "### Jupyter Notebook"
   ]
  },
  {
   "cell_type": "markdown",
   "metadata": {},
   "source": [
    "For this lesson, we'll be using the Python interpreter that is embedded in Jupyter Notebook. Jupyter Notebook is a fancy, browser-based environment for **literate programming,** the combination of Python scripts with rich text for telling a story about the task you set out to do with Python. This is a powerful way for collecting the code, the analysis, the context, and the results in a single place.\n",
    "\n",
    "The Python interpreter we'll interact with in Jupyter Notebook is the same interpreter we could use from the command line. To launch Jupyter Notebook:\n",
    "\n",
    "- In GNU/Linux or Mac OS X, launch the Terminal and type: `jupyter notebook`; then press ENTER.\n",
    "- In Windows, launch the Command Prompt and type `jupyter notebook`; then press ENTER."
   ]
  },
  {
   "cell_type": "markdown",
   "metadata": {},
   "source": [
    "Let's try out the Python interpreter."
   ]
  },
  {
   "cell_type": "code",
   "execution_count": 1,
   "metadata": {
    "collapsed": false
   },
   "outputs": [
    {
     "name": "stdout",
     "output_type": "stream",
     "text": [
      "Hello, world!\n"
     ]
    }
   ],
   "source": [
    "print('Hello, world!')"
   ]
  },
  {
   "cell_type": "markdown",
   "metadata": {},
   "source": [
    "Alternatively, we could save that one line of Python code to a text file with a `*.py` extension and then execute that file. We'll see that towards the end of this lesson."
   ]
  },
  {
   "cell_type": "markdown",
   "metadata": {},
   "source": [
    "## First Steps with Python"
   ]
  },
  {
   "cell_type": "markdown",
   "metadata": {},
   "source": [
    "In *interactive mode,* the Python interpreter does three things for us, in order:\n",
    "\n",
    "1. Reads our input;\n",
    "2. Evaluates or executes the input command, if it can;\n",
    "3. Prints the output for us to see, then waits for the next input.\n",
    "\n",
    "This is called a **read, evaluate, print loop (REPL).** Let's try it out."
   ]
  },
  {
   "cell_type": "code",
   "execution_count": 2,
   "metadata": {
    "collapsed": false
   },
   "outputs": [
    {
     "data": {
      "text/plain": [
       "55"
      ]
     },
     "execution_count": 2,
     "metadata": {},
     "output_type": "execute_result"
    }
   ],
   "source": [
    "5 * 11"
   ]
  },
  {
   "cell_type": "markdown",
   "metadata": {},
   "source": [
    "We can use Python as a fancy calculator, like any programming language.\n",
    "\n",
    "When we perform calculations with Python, or run any Python statement that produces output, if we don't explicitly save that output somewhere, then we can't access it again. Python prints the output to the screen, but it doesn't keep a record of the output.\n",
    "\n",
    "**In order to save the output of an arbitrary Python statement, we have to assign that output to a variable. We do this using the equal sign operator:**"
   ]
  },
  {
   "cell_type": "code",
   "execution_count": 3,
   "metadata": {
    "collapsed": true
   },
   "outputs": [],
   "source": [
    "weight_kg = 5 * 11"
   ]
  },
  {
   "cell_type": "markdown",
   "metadata": {},
   "source": [
    "Notice there is no output associated with running this command. That's because the output we saw earlier has instead been saved to the *variable* named `number`.\n",
    "\n",
    "If we want to retrieve this output, we can ask Python for the value associated with the variable named `number`."
   ]
  },
  {
   "cell_type": "code",
   "execution_count": 4,
   "metadata": {
    "collapsed": false
   },
   "outputs": [
    {
     "data": {
      "text/plain": [
       "55"
      ]
     },
     "execution_count": 4,
     "metadata": {},
     "output_type": "execute_result"
    }
   ],
   "source": [
    "weight_kg"
   ]
  },
  {
   "cell_type": "markdown",
   "metadata": {},
   "source": [
    "As we saw earlier, we can also use the **function** `print()` to explicitly print the value to the screen."
   ]
  },
  {
   "cell_type": "code",
   "execution_count": 5,
   "metadata": {
    "collapsed": false
   },
   "outputs": [
    {
     "name": "stdout",
     "output_type": "stream",
     "text": [
      "Weight in pounds: 121.00000000000001\n"
     ]
    }
   ],
   "source": [
    "print('Weight in pounds:', 2.2 * weight_kg)"
   ]
  },
  {
   "cell_type": "markdown",
   "metadata": {},
   "source": [
    "A function like `print()` can take multiple **arguments,** or inputs to the function. In the example above, we've provided two arguments; two different things to print to the screen in a sequence.\n",
    "\n",
    "We can also change a variable's assigned value."
   ]
  },
  {
   "cell_type": "code",
   "execution_count": 6,
   "metadata": {
    "collapsed": false
   },
   "outputs": [
    {
     "name": "stdout",
     "output_type": "stream",
     "text": [
      "Weight in pounds: 126.50000000000001\n"
     ]
    }
   ],
   "source": [
    "weight_kg = 57.5\n",
    "print('Weight in pounds:', 2.2 * weight_kg)"
   ]
  },
  {
   "cell_type": "markdown",
   "metadata": {},
   "source": [
    "**If we imagine the variable as a sticky note with a name written on it, assignment is like putting the sticky note on a particular value.** [See this illustration](http://python.net/~goodger/projects/pycon/2007/idiomatic/handout.html#other-languages-have-variables).\n",
    "\n",
    "This means that assigning a value to one variable does *not* change the values of other variables. For example:"
   ]
  },
  {
   "cell_type": "code",
   "execution_count": 7,
   "metadata": {
    "collapsed": false
   },
   "outputs": [
    {
     "data": {
      "text/plain": [
       "126.50000000000001"
      ]
     },
     "execution_count": 7,
     "metadata": {},
     "output_type": "execute_result"
    }
   ],
   "source": [
    "weight_lb = 2.2 * weight_kg\n",
    "weight_lb"
   ]
  },
  {
   "cell_type": "code",
   "execution_count": 8,
   "metadata": {
    "collapsed": false
   },
   "outputs": [
    {
     "data": {
      "text/plain": [
       "126.50000000000001"
      ]
     },
     "execution_count": 8,
     "metadata": {},
     "output_type": "execute_result"
    }
   ],
   "source": [
    "weight_kg = 100.0\n",
    "weight_lb"
   ]
  },
  {
   "cell_type": "markdown",
   "metadata": {},
   "source": [
    "Since `weight_lb` doesn't depend on where its initial value came from, it isn't automatically updated when `weight_kg` changes. This is different from how, say, spreadsheets work."
   ]
  },
  {
   "cell_type": "markdown",
   "metadata": {},
   "source": [
    "## Importing Libraries"
   ]
  },
  {
   "cell_type": "markdown",
   "metadata": {},
   "source": [
    "What are some tasks you're hoping to complete with Python? Alternatively, what kinds of things have you done in other programming languages?\n",
    "\n",
    "**When you're thinking of starting a new computer-aided analysis or building a new software tool, there's always the possibility that someone else has created just the piece of software you need to get your job done faster.** Because Python is a popular, general-purpose, and open-source programming language with a long history, there's a wealth of completed software tools out there written in the Python for you to use. Each of these software *libraries* extends the basic functionality of Python to let you do new and better things.\n",
    "\n",
    "**The Python Package Index (PyPI),** is the place to start when you're looking for a piece of Python software to use. We'll talk about that later.\n",
    "\n",
    "For now, we'll load a Python package that is already available on our systems. **NumPy** is a numerical computing library that allows us to both represent sophisticated data structures and perform calculations on them."
   ]
  },
  {
   "cell_type": "code",
   "execution_count": 9,
   "metadata": {
    "collapsed": true
   },
   "outputs": [],
   "source": [
    "import numpy"
   ]
  },
  {
   "cell_type": "markdown",
   "metadata": {},
   "source": [
    "Now that we've imported `numpy`, we have access to new tools and functions that we didn't have before. For instance, we can use `numpy` to read in tabular data for us to work with."
   ]
  },
  {
   "cell_type": "code",
   "execution_count": 10,
   "metadata": {
    "collapsed": false
   },
   "outputs": [
    {
     "data": {
      "text/plain": [
       "array([[ 245.66  ,  247.52  ,  245.28  ,  256.32  ,  262.9   ,  272.46  ,\n",
       "         278.06  ,  275.51  ,  269.34  ,  261.68  ,  251.35  ,  242.52  ],\n",
       "       [ 248.12  ,  242.64  ,  252.04  ,  248.61  ,  262.84  ,  271.93  ,\n",
       "         277.45  ,  278.92  ,  274.4   ,  266.77  ,  258.69  ,  248.2   ],\n",
       "       [ 252.3   ,  240.39  ,  248.66  ,  255.41  ,  265.84  ,  274.64  ,\n",
       "         278.87  ,  278.26  ,  273.36  ,  265.77  ,  261.22  ,  248.8   ],\n",
       "       [ 239.52  ,  242.16  ,  243.65  ,  256.21  ,  266.    ,  274.64  ,\n",
       "         279.66  ,  279.17  ,  273.23  ,  264.89  ,  260.47  ,  249.39  ],\n",
       "       [ 244.95  ,  241.02  ,  244.75  ,  251.51  ,  262.25  ,  272.85  ,\n",
       "         278.78  ,  277.02  ,  270.84  ,  264.87  ,  259.14  ,  248.89  ],\n",
       "       [ 244.04  ,  242.96  ,  245.17  ,  255.92  ,  265.94  ,  275.58  ,\n",
       "         277.5   ,  275.5   ,  272.59  ,  261.36  ,  254.54  ,  245.16  ],\n",
       "       [ 245.15  ,  241.35  ,  249.29  ,  255.02  ,  264.12  ,  273.83  ,\n",
       "         277.92  ,  279.6   ,  273.92  ,  266.54  ,  256.88  ,  244.83  ],\n",
       "       [ 248.89  ,  240.27  ,  245.6   ,  253.41  ,  264.44  ,  272.96  ,\n",
       "         277.09  ,  274.26  ,  271.2   ,  260.74  ,  248.42  ,  246.11  ],\n",
       "       [ 244.43  ,  240.49  ,  246.82  ,  255.39  ,  266.63  ,  272.9   ,\n",
       "         277.25  ,  274.2   ,  272.48  ,  260.43  ,  249.28  ,  246.57  ],\n",
       "       [ 252.79  ,  242.63  ,  247.48  ,  258.35  ,  266.03  ,  274.71  ,\n",
       "         277.16  ,  278.55  ,  271.8   ,  265.78  ,  255.21  ,  243.86  ],\n",
       "       [ 247.12  ,  245.83  ,  249.23  ,  255.7   ,  265.03  ,  274.97  ,\n",
       "         277.51  ,  278.35  ,  273.96  ,  263.44  ,  255.64  ,  250.09  ],\n",
       "       [ 245.59  ,  250.75  ,  240.12  ,  253.26  ,  265.89  ,  274.27  ,\n",
       "         275.25  ,  275.97  ,  271.94  ,  263.74  ,  253.62  ,  243.95  ],\n",
       "       [ 244.29  ,  249.98  ,  248.36  ,  252.28  ,  267.14  ,  273.45  ,\n",
       "         276.63  ,  275.15  ,  269.89  ,  262.72  ,  251.06  ,  252.82  ],\n",
       "       [ 250.32  ,  241.28  ,  243.16  ,  251.37  ,  267.16  ,  274.29  ,\n",
       "         276.54  ,  275.49  ,  273.54  ,  262.95  ,  254.61  ,  244.49  ],\n",
       "       [ 252.23  ,  251.42  ,  247.37  ,  254.33  ,  264.13  ,  274.27  ,\n",
       "         277.91  ,  278.39  ,  271.66  ,  265.05  ,  256.49  ,  250.37  ],\n",
       "       [ 251.01  ,  246.49  ,  244.48  ,  256.79  ,  268.48  ,  273.48  ,\n",
       "         276.17  ,  275.96  ,  272.35  ,  262.42  ,  251.49  ,  253.72  ],\n",
       "       [ 244.77  ,  241.01  ,  242.21  ,  250.23  ,  264.22  ,  273.3   ,\n",
       "         276.61  ,  275.63  ,  271.4   ,  263.85  ,  254.92  ,  242.63  ],\n",
       "       [ 244.62  ,  240.12  ,  251.65  ,  256.26  ,  264.17  ,  272.55  ,\n",
       "         276.38  ,  275.97  ,  272.35  ,  260.26  ,  260.46  ,  247.79  ],\n",
       "       [ 245.2   ,  243.45  ,  242.63  ,  252.33  ,  264.26  ,  274.66  ,\n",
       "         276.67  ,  275.17  ,  273.01  ,  264.47  ,  257.25  ,  248.04  ],\n",
       "       [ 248.1   ,  245.61  ,  249.87  ,  257.78  ,  266.9   ,  274.25  ,\n",
       "         276.39  ,  275.76  ,  270.87  ,  262.69  ,  254.8   ,  250.74  ],\n",
       "       [ 249.26  ,  242.05  ,  248.97  ,  252.76  ,  266.36  ,  273.65  ,\n",
       "         278.7   ,  278.02  ,  272.49  ,  263.92  ,  253.8   ,  247.5   ],\n",
       "       [ 246.89  ,  244.36  ,  248.17  ,  256.93  ,  267.02  ,  274.51  ,\n",
       "         275.29  ,  273.09  ,  272.59  ,  265.6   ,  250.46  ,  252.78  ],\n",
       "       [ 246.45  ,  247.03  ,  246.63  ,  254.01  ,  265.85  ,  273.49  ,\n",
       "         276.41  ,  275.41  ,  269.49  ,  257.23  ,  254.26  ,  248.5   ],\n",
       "       [ 242.13  ,  240.63  ,  243.75  ,  252.48  ,  264.86  ,  275.15  ,\n",
       "         277.7   ,  274.59  ,  272.5   ,  262.79  ,  254.22  ,  248.6   ],\n",
       "       [ 245.1   ,  243.38  ,  242.77  ,  251.69  ,  265.32  ,  273.57  ,\n",
       "         278.84  ,  277.91  ,  271.99  ,  265.99  ,  255.61  ,  252.15  ],\n",
       "       [ 246.13  ,  247.34  ,  243.83  ,  254.08  ,  266.04  ,  273.8   ,\n",
       "         276.94  ,  276.58  ,  273.79  ,  264.65  ,  256.48  ,  251.51  ],\n",
       "       [ 247.74  ,  239.06  ,  244.38  ,  252.04  ,  265.73  ,  272.47  ,\n",
       "         276.98  ,  278.23  ,  273.87  ,  259.68  ,  251.41  ,  241.78  ],\n",
       "       [ 241.6   ,  246.71  ,  249.93  ,  252.84  ,  266.02  ,  273.88  ,\n",
       "         276.78  ,  275.41  ,  269.8   ,  259.93  ,  249.18  ,  243.94  ],\n",
       "       [ 245.59  ,  241.88  ,  246.59  ,  254.65  ,  265.36  ,  274.01  ,\n",
       "         276.99  ,  277.17  ,  273.7   ,  263.14  ,  257.85  ,  246.84  ],\n",
       "       [ 252.33  ,  248.12  ,  242.86  ,  252.26  ,  266.26  ,  274.62  ,\n",
       "         277.51  ,  279.74  ,  274.49  ,  265.64  ,  251.91  ,  249.33  ],\n",
       "       [ 252.5   ,  247.59  ,  248.82  ,  255.9   ,  265.09  ,  273.42  ,\n",
       "         277.74  ,  276.34  ,  274.01  ,  260.2   ,  258.06  ,  248.86  ],\n",
       "       [ 252.85  ,  242.06  ,  246.28  ,  254.76  ,  266.71  ,  273.58  ,\n",
       "         278.7   ,  279.6801,  274.62  ,  266.07  ,  260.85  ,  246.9   ],\n",
       "       [ 246.82  ,  250.27  ,  248.81  ,  253.95  ,  265.82  ,  275.47  ,\n",
       "         276.13  ,  274.99  ,  269.79  ,  264.34  ,  254.28  ,  245.07  ],\n",
       "       [ 255.14  ,  245.79  ,  248.75  ,  255.22  ,  268.94  ,  275.16  ,\n",
       "         278.04  ,  275.07  ,  270.55  ,  264.25  ,  254.67  ,  249.39  ],\n",
       "       [ 247.41  ,  250.2   ,  247.26  ,  253.82  ,  264.28  ,  274.26  ,\n",
       "         277.22  ,  276.23  ,  271.89  ,  259.64  ,  249.28  ,  248.69  ],\n",
       "       [ 243.    ,  245.26  ,  245.31  ,  254.97  ,  263.21  ,  273.89  ,\n",
       "         276.75  ,  275.42  ,  269.6   ,  258.88  ,  255.23  ,  253.84  ],\n",
       "       [ 245.9   ,  235.7   ,  244.44  ,  247.95  ,  263.35  ,  274.92  ,\n",
       "         277.67  ,  276.39  ,  273.82  ,  264.31  ,  249.53  ,  246.02  ],\n",
       "       [ 250.66  ,  244.58  ,  246.8   ,  248.61  ,  266.59  ,  274.56  ,\n",
       "         277.25  ,  276.27  ,  271.35  ,  260.75  ,  257.02  ,  251.27  ],\n",
       "       [ 245.47  ,  251.1   ,  244.93  ,  250.6   ,  265.36  ,  274.82  ,\n",
       "         279.27  ,  277.23  ,  275.31  ,  263.35  ,  254.18  ,  250.93  ],\n",
       "       [ 248.06  ,  245.35  ,  247.77  ,  250.9   ,  266.2   ,  274.56  ,\n",
       "         277.7   ,  277.75  ,  271.32  ,  267.57  ,  252.11  ,  249.45  ],\n",
       "       [ 249.63  ,  246.68  ,  247.49  ,  255.31  ,  265.54  ,  274.02  ,\n",
       "         277.73  ,  275.84  ,  271.62  ,  258.34  ,  248.56  ,  250.82  ],\n",
       "       [ 241.62  ,  257.48  ,  247.96  ,  258.22  ,  265.39  ,  275.42  ,\n",
       "         280.11  ,  280.18  ,  274.69  ,  264.81  ,  248.74  ,  250.75  ],\n",
       "       [ 243.12  ,  240.    ,  249.57  ,  259.39  ,  269.73  ,  276.15  ,\n",
       "         279.17  ,  276.97  ,  272.72  ,  264.47  ,  251.15  ,  246.73  ],\n",
       "       [ 247.28  ,  243.6   ,  245.3   ,  256.1   ,  269.67  ,  276.63  ,\n",
       "         277.5   ,  276.15  ,  272.6   ,  264.51  ,  250.08  ,  244.12  ],\n",
       "       [ 244.31  ,  245.26  ,  251.27  ,  258.2   ,  269.23  ,  277.28  ,\n",
       "         278.09  ,  274.28  ,  268.89  ,  259.18  ,  253.01  ,  249.2   ],\n",
       "       [ 248.05  ,  248.52  ,  248.25  ,  257.31  ,  266.78  ,  276.48  ,\n",
       "         281.76  ,  276.78  ,  272.97  ,  268.03  ,  257.33  ,  249.91  ],\n",
       "       [ 248.14  ,  248.22  ,  244.39  ,  258.36  ,  269.12  ,  276.29  ,\n",
       "         279.18  ,  276.61  ,  271.37  ,  257.02  ,  249.25  ,  246.96  ],\n",
       "       [ 247.81  ,  246.38  ,  245.45  ,  258.4   ,  269.41  ,  276.27  ,\n",
       "         279.36  ,  277.    ,  275.55  ,  262.83  ,  253.32  ,  248.82  ],\n",
       "       [ 248.38  ,  245.65  ,  251.99  ,  254.02  ,  271.74  ,  277.23  ,\n",
       "         277.65  ,  273.45  ,  271.1   ,  257.76  ,  256.4   ,  251.3   ],\n",
       "       [ 244.91  ,  247.23  ,  246.02  ,  256.88  ,  266.29  ,  276.01  ,\n",
       "         279.16  ,  279.34  ,  275.07  ,  264.47  ,  260.06  ,  247.69  ],\n",
       "       [ 245.19  ,  245.54  ,  253.27  ,  261.44  ,  268.26  ,  276.95  ,\n",
       "         281.2   ,  278.93  ,  275.8   ,  267.62  ,  259.2   ,  252.71  ],\n",
       "       [ 243.85  ,  244.22  ,  245.52  ,  253.71  ,  270.49  ,  276.88  ,\n",
       "         279.34  ,  278.36  ,  273.99  ,  264.52  ,  254.36  ,  245.63  ],\n",
       "       [ 246.86  ,  248.67  ,  247.19  ,  254.44  ,  263.16  ,  276.81  ,\n",
       "         278.43  ,  276.95  ,  272.99  ,  264.51  ,  256.15  ,  251.8   ],\n",
       "       [ 250.87  ,  252.82  ,  247.19  ,  256.52  ,  262.62  ,  275.2   ,\n",
       "         277.4   ,  276.    ,  273.79  ,  261.83  ,  255.56  ,  249.26  ],\n",
       "       [ 247.36  ,  246.03  ,  252.86  ,  255.58  ,  268.74  ,  274.61  ,\n",
       "         277.73  ,  276.2   ,  275.08  ,  268.29  ,  260.39  ,  254.52  ],\n",
       "       [ 249.51  ,  248.38  ,  248.76  ,  259.16  ,  267.28  ,  275.32  ,\n",
       "         278.29  ,  276.2   ,  273.09  ,  268.66  ,  257.18  ,  250.49  ],\n",
       "       [ 248.81  ,  244.36  ,  246.86  ,  256.96  ,  268.68  ,  277.54  ,\n",
       "         279.86  ,  279.97  ,  273.06  ,  267.07  ,  257.15  ,  250.49  ],\n",
       "       [ 250.03  ,  247.77  ,  251.23  ,  256.23  ,  268.59  ,  275.15  ,\n",
       "         277.72  ,  278.94  ,  274.42  ,  267.14  ,  253.75  ,  253.15  ],\n",
       "       [ 246.16  ,  250.86  ,  245.87  ,  253.31  ,  268.51  ,  275.84  ,\n",
       "         277.52  ,  276.19  ,  275.68  ,  269.29  ,  256.62  ,  253.05  ],\n",
       "       [ 247.26  ,  248.67  ,  245.21  ,  259.71  ,  265.85  ,  275.7401,\n",
       "         279.99  ,  279.82  ,  275.89  ,  266.91  ,  261.99  ,  253.9   ],\n",
       "       [ 246.28  ,  246.21  ,  246.88  ,  258.33  ,  267.85  ,  275.64  ,\n",
       "         277.85  ,  276.39  ,  274.12  ,  265.39  ,  256.85  ,  253.57  ],\n",
       "       [ 247.09  ,  246.44  ,  246.22  ,  256.26  ,  268.96  ,  275.03  ,\n",
       "         279.62  ,  277.92  ,  274.49  ,  268.55  ,  254.66  ,  253.4   ],\n",
       "       [ 245.53  ,  249.51  ,  248.98  ,  258.93  ,  267.35  ,  274.91  ,\n",
       "         278.52  ,  278.96  ,  275.55  ,  267.43  ,  260.76  ,  248.88  ],\n",
       "       [ 249.82  ,  250.2   ,  250.58  ,  254.86  ,  267.95  ,  275.15  ,\n",
       "         278.4   ,  277.98  ,  275.31  ,  267.61  ,  253.98  ,  250.52  ],\n",
       "       [ 242.19  ,  248.96  ,  243.16  ,  257.6   ,  266.93  ,  275.86  ,\n",
       "         279.16  ,  279.32  ,  274.23  ,  268.54  ,  256.51  ,  248.66  ],\n",
       "       [ 250.17  ,  245.43  ,  249.71  ,  254.56  ,  266.73  ,  277.18  ,\n",
       "         279.58  ,  277.69  ,  272.76  ,  269.18  ,  258.31  ,  252.66  ],\n",
       "       [ 256.26  ,  249.03  ,  250.96  ,  258.16  ,  267.62  ,  273.48  ,\n",
       "         276.79  ,  279.19  ,  273.85  ,  265.64  ,  260.18  ,  255.57  ],\n",
       "       [ 248.85  ,  252.09  ,  248.18  ,  257.83  ,  271.14  ,  276.61  ,\n",
       "         279.49  ,  276.57  ,  271.73  ,  267.68  ,  259.43  ,  250.4   ],\n",
       "       [ 256.61  ,  254.16  ,  250.8   ,  261.01  ,  270.44  ,  276.61  ,\n",
       "         279.02  ,  279.61  ,  273.73  ,  268.21  ,  256.45  ,  251.37  ]])"
      ]
     },
     "execution_count": 10,
     "metadata": {},
     "output_type": "execute_result"
    }
   ],
   "source": [
    "numpy.loadtxt('barrow.temperature.csv', delimiter = ',')"
   ]
  },
  {
   "cell_type": "markdown",
   "metadata": {},
   "source": [
    "The expression `numpy.loadtxt()` is a **function call** that asks Python to run the function `loadtxt()` which belongs to the `numpy` library. Here, the word `numpy` is the **namespace** to which a function belongs. **This dotted notation is used everywhere in Python to refer to the parts of things as `thing.component`.**\n",
    "\n",
    "Because the `loadtxt()` function and others belong to the `numpy` library, to access them we will always have to type `numpy.` in front of the function name. This can get tedious, especially in interactive mode, so Python allows us to come up with a new namespace as an alias."
   ]
  },
  {
   "cell_type": "code",
   "execution_count": 11,
   "metadata": {
    "collapsed": true
   },
   "outputs": [],
   "source": [
    "import numpy as np"
   ]
  },
  {
   "cell_type": "markdown",
   "metadata": {},
   "source": [
    "The `np` alias for the `numpy` library is a very common alias; so common, in fact, that you can get help for NumPy functions by looking up `np` and the function name in a search engine.\n",
    "\n",
    "With this alias, the `loadtxt()` function is now called as:"
   ]
  },
  {
   "cell_type": "code",
   "execution_count": 12,
   "metadata": {
    "collapsed": false
   },
   "outputs": [
    {
     "data": {
      "text/plain": [
       "array([[ 245.66  ,  247.52  ,  245.28  ,  256.32  ,  262.9   ,  272.46  ,\n",
       "         278.06  ,  275.51  ,  269.34  ,  261.68  ,  251.35  ,  242.52  ],\n",
       "       [ 248.12  ,  242.64  ,  252.04  ,  248.61  ,  262.84  ,  271.93  ,\n",
       "         277.45  ,  278.92  ,  274.4   ,  266.77  ,  258.69  ,  248.2   ],\n",
       "       [ 252.3   ,  240.39  ,  248.66  ,  255.41  ,  265.84  ,  274.64  ,\n",
       "         278.87  ,  278.26  ,  273.36  ,  265.77  ,  261.22  ,  248.8   ],\n",
       "       [ 239.52  ,  242.16  ,  243.65  ,  256.21  ,  266.    ,  274.64  ,\n",
       "         279.66  ,  279.17  ,  273.23  ,  264.89  ,  260.47  ,  249.39  ],\n",
       "       [ 244.95  ,  241.02  ,  244.75  ,  251.51  ,  262.25  ,  272.85  ,\n",
       "         278.78  ,  277.02  ,  270.84  ,  264.87  ,  259.14  ,  248.89  ],\n",
       "       [ 244.04  ,  242.96  ,  245.17  ,  255.92  ,  265.94  ,  275.58  ,\n",
       "         277.5   ,  275.5   ,  272.59  ,  261.36  ,  254.54  ,  245.16  ],\n",
       "       [ 245.15  ,  241.35  ,  249.29  ,  255.02  ,  264.12  ,  273.83  ,\n",
       "         277.92  ,  279.6   ,  273.92  ,  266.54  ,  256.88  ,  244.83  ],\n",
       "       [ 248.89  ,  240.27  ,  245.6   ,  253.41  ,  264.44  ,  272.96  ,\n",
       "         277.09  ,  274.26  ,  271.2   ,  260.74  ,  248.42  ,  246.11  ],\n",
       "       [ 244.43  ,  240.49  ,  246.82  ,  255.39  ,  266.63  ,  272.9   ,\n",
       "         277.25  ,  274.2   ,  272.48  ,  260.43  ,  249.28  ,  246.57  ],\n",
       "       [ 252.79  ,  242.63  ,  247.48  ,  258.35  ,  266.03  ,  274.71  ,\n",
       "         277.16  ,  278.55  ,  271.8   ,  265.78  ,  255.21  ,  243.86  ],\n",
       "       [ 247.12  ,  245.83  ,  249.23  ,  255.7   ,  265.03  ,  274.97  ,\n",
       "         277.51  ,  278.35  ,  273.96  ,  263.44  ,  255.64  ,  250.09  ],\n",
       "       [ 245.59  ,  250.75  ,  240.12  ,  253.26  ,  265.89  ,  274.27  ,\n",
       "         275.25  ,  275.97  ,  271.94  ,  263.74  ,  253.62  ,  243.95  ],\n",
       "       [ 244.29  ,  249.98  ,  248.36  ,  252.28  ,  267.14  ,  273.45  ,\n",
       "         276.63  ,  275.15  ,  269.89  ,  262.72  ,  251.06  ,  252.82  ],\n",
       "       [ 250.32  ,  241.28  ,  243.16  ,  251.37  ,  267.16  ,  274.29  ,\n",
       "         276.54  ,  275.49  ,  273.54  ,  262.95  ,  254.61  ,  244.49  ],\n",
       "       [ 252.23  ,  251.42  ,  247.37  ,  254.33  ,  264.13  ,  274.27  ,\n",
       "         277.91  ,  278.39  ,  271.66  ,  265.05  ,  256.49  ,  250.37  ],\n",
       "       [ 251.01  ,  246.49  ,  244.48  ,  256.79  ,  268.48  ,  273.48  ,\n",
       "         276.17  ,  275.96  ,  272.35  ,  262.42  ,  251.49  ,  253.72  ],\n",
       "       [ 244.77  ,  241.01  ,  242.21  ,  250.23  ,  264.22  ,  273.3   ,\n",
       "         276.61  ,  275.63  ,  271.4   ,  263.85  ,  254.92  ,  242.63  ],\n",
       "       [ 244.62  ,  240.12  ,  251.65  ,  256.26  ,  264.17  ,  272.55  ,\n",
       "         276.38  ,  275.97  ,  272.35  ,  260.26  ,  260.46  ,  247.79  ],\n",
       "       [ 245.2   ,  243.45  ,  242.63  ,  252.33  ,  264.26  ,  274.66  ,\n",
       "         276.67  ,  275.17  ,  273.01  ,  264.47  ,  257.25  ,  248.04  ],\n",
       "       [ 248.1   ,  245.61  ,  249.87  ,  257.78  ,  266.9   ,  274.25  ,\n",
       "         276.39  ,  275.76  ,  270.87  ,  262.69  ,  254.8   ,  250.74  ],\n",
       "       [ 249.26  ,  242.05  ,  248.97  ,  252.76  ,  266.36  ,  273.65  ,\n",
       "         278.7   ,  278.02  ,  272.49  ,  263.92  ,  253.8   ,  247.5   ],\n",
       "       [ 246.89  ,  244.36  ,  248.17  ,  256.93  ,  267.02  ,  274.51  ,\n",
       "         275.29  ,  273.09  ,  272.59  ,  265.6   ,  250.46  ,  252.78  ],\n",
       "       [ 246.45  ,  247.03  ,  246.63  ,  254.01  ,  265.85  ,  273.49  ,\n",
       "         276.41  ,  275.41  ,  269.49  ,  257.23  ,  254.26  ,  248.5   ],\n",
       "       [ 242.13  ,  240.63  ,  243.75  ,  252.48  ,  264.86  ,  275.15  ,\n",
       "         277.7   ,  274.59  ,  272.5   ,  262.79  ,  254.22  ,  248.6   ],\n",
       "       [ 245.1   ,  243.38  ,  242.77  ,  251.69  ,  265.32  ,  273.57  ,\n",
       "         278.84  ,  277.91  ,  271.99  ,  265.99  ,  255.61  ,  252.15  ],\n",
       "       [ 246.13  ,  247.34  ,  243.83  ,  254.08  ,  266.04  ,  273.8   ,\n",
       "         276.94  ,  276.58  ,  273.79  ,  264.65  ,  256.48  ,  251.51  ],\n",
       "       [ 247.74  ,  239.06  ,  244.38  ,  252.04  ,  265.73  ,  272.47  ,\n",
       "         276.98  ,  278.23  ,  273.87  ,  259.68  ,  251.41  ,  241.78  ],\n",
       "       [ 241.6   ,  246.71  ,  249.93  ,  252.84  ,  266.02  ,  273.88  ,\n",
       "         276.78  ,  275.41  ,  269.8   ,  259.93  ,  249.18  ,  243.94  ],\n",
       "       [ 245.59  ,  241.88  ,  246.59  ,  254.65  ,  265.36  ,  274.01  ,\n",
       "         276.99  ,  277.17  ,  273.7   ,  263.14  ,  257.85  ,  246.84  ],\n",
       "       [ 252.33  ,  248.12  ,  242.86  ,  252.26  ,  266.26  ,  274.62  ,\n",
       "         277.51  ,  279.74  ,  274.49  ,  265.64  ,  251.91  ,  249.33  ],\n",
       "       [ 252.5   ,  247.59  ,  248.82  ,  255.9   ,  265.09  ,  273.42  ,\n",
       "         277.74  ,  276.34  ,  274.01  ,  260.2   ,  258.06  ,  248.86  ],\n",
       "       [ 252.85  ,  242.06  ,  246.28  ,  254.76  ,  266.71  ,  273.58  ,\n",
       "         278.7   ,  279.6801,  274.62  ,  266.07  ,  260.85  ,  246.9   ],\n",
       "       [ 246.82  ,  250.27  ,  248.81  ,  253.95  ,  265.82  ,  275.47  ,\n",
       "         276.13  ,  274.99  ,  269.79  ,  264.34  ,  254.28  ,  245.07  ],\n",
       "       [ 255.14  ,  245.79  ,  248.75  ,  255.22  ,  268.94  ,  275.16  ,\n",
       "         278.04  ,  275.07  ,  270.55  ,  264.25  ,  254.67  ,  249.39  ],\n",
       "       [ 247.41  ,  250.2   ,  247.26  ,  253.82  ,  264.28  ,  274.26  ,\n",
       "         277.22  ,  276.23  ,  271.89  ,  259.64  ,  249.28  ,  248.69  ],\n",
       "       [ 243.    ,  245.26  ,  245.31  ,  254.97  ,  263.21  ,  273.89  ,\n",
       "         276.75  ,  275.42  ,  269.6   ,  258.88  ,  255.23  ,  253.84  ],\n",
       "       [ 245.9   ,  235.7   ,  244.44  ,  247.95  ,  263.35  ,  274.92  ,\n",
       "         277.67  ,  276.39  ,  273.82  ,  264.31  ,  249.53  ,  246.02  ],\n",
       "       [ 250.66  ,  244.58  ,  246.8   ,  248.61  ,  266.59  ,  274.56  ,\n",
       "         277.25  ,  276.27  ,  271.35  ,  260.75  ,  257.02  ,  251.27  ],\n",
       "       [ 245.47  ,  251.1   ,  244.93  ,  250.6   ,  265.36  ,  274.82  ,\n",
       "         279.27  ,  277.23  ,  275.31  ,  263.35  ,  254.18  ,  250.93  ],\n",
       "       [ 248.06  ,  245.35  ,  247.77  ,  250.9   ,  266.2   ,  274.56  ,\n",
       "         277.7   ,  277.75  ,  271.32  ,  267.57  ,  252.11  ,  249.45  ],\n",
       "       [ 249.63  ,  246.68  ,  247.49  ,  255.31  ,  265.54  ,  274.02  ,\n",
       "         277.73  ,  275.84  ,  271.62  ,  258.34  ,  248.56  ,  250.82  ],\n",
       "       [ 241.62  ,  257.48  ,  247.96  ,  258.22  ,  265.39  ,  275.42  ,\n",
       "         280.11  ,  280.18  ,  274.69  ,  264.81  ,  248.74  ,  250.75  ],\n",
       "       [ 243.12  ,  240.    ,  249.57  ,  259.39  ,  269.73  ,  276.15  ,\n",
       "         279.17  ,  276.97  ,  272.72  ,  264.47  ,  251.15  ,  246.73  ],\n",
       "       [ 247.28  ,  243.6   ,  245.3   ,  256.1   ,  269.67  ,  276.63  ,\n",
       "         277.5   ,  276.15  ,  272.6   ,  264.51  ,  250.08  ,  244.12  ],\n",
       "       [ 244.31  ,  245.26  ,  251.27  ,  258.2   ,  269.23  ,  277.28  ,\n",
       "         278.09  ,  274.28  ,  268.89  ,  259.18  ,  253.01  ,  249.2   ],\n",
       "       [ 248.05  ,  248.52  ,  248.25  ,  257.31  ,  266.78  ,  276.48  ,\n",
       "         281.76  ,  276.78  ,  272.97  ,  268.03  ,  257.33  ,  249.91  ],\n",
       "       [ 248.14  ,  248.22  ,  244.39  ,  258.36  ,  269.12  ,  276.29  ,\n",
       "         279.18  ,  276.61  ,  271.37  ,  257.02  ,  249.25  ,  246.96  ],\n",
       "       [ 247.81  ,  246.38  ,  245.45  ,  258.4   ,  269.41  ,  276.27  ,\n",
       "         279.36  ,  277.    ,  275.55  ,  262.83  ,  253.32  ,  248.82  ],\n",
       "       [ 248.38  ,  245.65  ,  251.99  ,  254.02  ,  271.74  ,  277.23  ,\n",
       "         277.65  ,  273.45  ,  271.1   ,  257.76  ,  256.4   ,  251.3   ],\n",
       "       [ 244.91  ,  247.23  ,  246.02  ,  256.88  ,  266.29  ,  276.01  ,\n",
       "         279.16  ,  279.34  ,  275.07  ,  264.47  ,  260.06  ,  247.69  ],\n",
       "       [ 245.19  ,  245.54  ,  253.27  ,  261.44  ,  268.26  ,  276.95  ,\n",
       "         281.2   ,  278.93  ,  275.8   ,  267.62  ,  259.2   ,  252.71  ],\n",
       "       [ 243.85  ,  244.22  ,  245.52  ,  253.71  ,  270.49  ,  276.88  ,\n",
       "         279.34  ,  278.36  ,  273.99  ,  264.52  ,  254.36  ,  245.63  ],\n",
       "       [ 246.86  ,  248.67  ,  247.19  ,  254.44  ,  263.16  ,  276.81  ,\n",
       "         278.43  ,  276.95  ,  272.99  ,  264.51  ,  256.15  ,  251.8   ],\n",
       "       [ 250.87  ,  252.82  ,  247.19  ,  256.52  ,  262.62  ,  275.2   ,\n",
       "         277.4   ,  276.    ,  273.79  ,  261.83  ,  255.56  ,  249.26  ],\n",
       "       [ 247.36  ,  246.03  ,  252.86  ,  255.58  ,  268.74  ,  274.61  ,\n",
       "         277.73  ,  276.2   ,  275.08  ,  268.29  ,  260.39  ,  254.52  ],\n",
       "       [ 249.51  ,  248.38  ,  248.76  ,  259.16  ,  267.28  ,  275.32  ,\n",
       "         278.29  ,  276.2   ,  273.09  ,  268.66  ,  257.18  ,  250.49  ],\n",
       "       [ 248.81  ,  244.36  ,  246.86  ,  256.96  ,  268.68  ,  277.54  ,\n",
       "         279.86  ,  279.97  ,  273.06  ,  267.07  ,  257.15  ,  250.49  ],\n",
       "       [ 250.03  ,  247.77  ,  251.23  ,  256.23  ,  268.59  ,  275.15  ,\n",
       "         277.72  ,  278.94  ,  274.42  ,  267.14  ,  253.75  ,  253.15  ],\n",
       "       [ 246.16  ,  250.86  ,  245.87  ,  253.31  ,  268.51  ,  275.84  ,\n",
       "         277.52  ,  276.19  ,  275.68  ,  269.29  ,  256.62  ,  253.05  ],\n",
       "       [ 247.26  ,  248.67  ,  245.21  ,  259.71  ,  265.85  ,  275.7401,\n",
       "         279.99  ,  279.82  ,  275.89  ,  266.91  ,  261.99  ,  253.9   ],\n",
       "       [ 246.28  ,  246.21  ,  246.88  ,  258.33  ,  267.85  ,  275.64  ,\n",
       "         277.85  ,  276.39  ,  274.12  ,  265.39  ,  256.85  ,  253.57  ],\n",
       "       [ 247.09  ,  246.44  ,  246.22  ,  256.26  ,  268.96  ,  275.03  ,\n",
       "         279.62  ,  277.92  ,  274.49  ,  268.55  ,  254.66  ,  253.4   ],\n",
       "       [ 245.53  ,  249.51  ,  248.98  ,  258.93  ,  267.35  ,  274.91  ,\n",
       "         278.52  ,  278.96  ,  275.55  ,  267.43  ,  260.76  ,  248.88  ],\n",
       "       [ 249.82  ,  250.2   ,  250.58  ,  254.86  ,  267.95  ,  275.15  ,\n",
       "         278.4   ,  277.98  ,  275.31  ,  267.61  ,  253.98  ,  250.52  ],\n",
       "       [ 242.19  ,  248.96  ,  243.16  ,  257.6   ,  266.93  ,  275.86  ,\n",
       "         279.16  ,  279.32  ,  274.23  ,  268.54  ,  256.51  ,  248.66  ],\n",
       "       [ 250.17  ,  245.43  ,  249.71  ,  254.56  ,  266.73  ,  277.18  ,\n",
       "         279.58  ,  277.69  ,  272.76  ,  269.18  ,  258.31  ,  252.66  ],\n",
       "       [ 256.26  ,  249.03  ,  250.96  ,  258.16  ,  267.62  ,  273.48  ,\n",
       "         276.79  ,  279.19  ,  273.85  ,  265.64  ,  260.18  ,  255.57  ],\n",
       "       [ 248.85  ,  252.09  ,  248.18  ,  257.83  ,  271.14  ,  276.61  ,\n",
       "         279.49  ,  276.57  ,  271.73  ,  267.68  ,  259.43  ,  250.4   ],\n",
       "       [ 256.61  ,  254.16  ,  250.8   ,  261.01  ,  270.44  ,  276.61  ,\n",
       "         279.02  ,  279.61  ,  273.73  ,  268.21  ,  256.45  ,  251.37  ]])"
      ]
     },
     "execution_count": 12,
     "metadata": {},
     "output_type": "execute_result"
    }
   ],
   "source": [
    "np.loadtxt('barrow.temperature.csv', delimiter = ',')"
   ]
  },
  {
   "cell_type": "markdown",
   "metadata": {},
   "source": [
    "`np.loadtxt()` has two arguments: the name of the file we want to read, and the delimiter that separates values on a line. These both need to be character strings (or strings for short), so we put them in quotes.\n",
    "\n",
    "Finally, note that we haven't stored the Barrow temperature data because we haven't assigned it to a variable. Let's fix that."
   ]
  },
  {
   "cell_type": "code",
   "execution_count": 13,
   "metadata": {
    "collapsed": false
   },
   "outputs": [],
   "source": [
    "barrow = np.loadtxt('barrow.temperature.csv', delimiter = ',')"
   ]
  },
  {
   "cell_type": "markdown",
   "metadata": {},
   "source": [
    "## About the Data"
   ]
  },
  {
   "cell_type": "markdown",
   "metadata": {},
   "source": [
    "The data we're using for this lesson are **monthly averages of surface air temperatures** from 1948 to 2016 for five different locations. They are derived from the NOAA NCEP CPC Monthly Global Surface Air Temperature Data Set, which has a 0.5 degree spatial resolution.\n",
    "\n",
    "**What is the unit for air temperature used in this dataset?** Recall that when we assign a value to a variable, we don't see any output on the screen. To see our Barrow temperature data, we can use the `print()` function again."
   ]
  },
  {
   "cell_type": "code",
   "execution_count": 14,
   "metadata": {
    "collapsed": false
   },
   "outputs": [
    {
     "name": "stdout",
     "output_type": "stream",
     "text": [
      "[[ 245.66    247.52    245.28    256.32    262.9     272.46    278.06\n",
      "   275.51    269.34    261.68    251.35    242.52  ]\n",
      " [ 248.12    242.64    252.04    248.61    262.84    271.93    277.45\n",
      "   278.92    274.4     266.77    258.69    248.2   ]\n",
      " [ 252.3     240.39    248.66    255.41    265.84    274.64    278.87\n",
      "   278.26    273.36    265.77    261.22    248.8   ]\n",
      " [ 239.52    242.16    243.65    256.21    266.      274.64    279.66\n",
      "   279.17    273.23    264.89    260.47    249.39  ]\n",
      " [ 244.95    241.02    244.75    251.51    262.25    272.85    278.78\n",
      "   277.02    270.84    264.87    259.14    248.89  ]\n",
      " [ 244.04    242.96    245.17    255.92    265.94    275.58    277.5     275.5\n",
      "   272.59    261.36    254.54    245.16  ]\n",
      " [ 245.15    241.35    249.29    255.02    264.12    273.83    277.92\n",
      "   279.6     273.92    266.54    256.88    244.83  ]\n",
      " [ 248.89    240.27    245.6     253.41    264.44    272.96    277.09\n",
      "   274.26    271.2     260.74    248.42    246.11  ]\n",
      " [ 244.43    240.49    246.82    255.39    266.63    272.9     277.25\n",
      "   274.2     272.48    260.43    249.28    246.57  ]\n",
      " [ 252.79    242.63    247.48    258.35    266.03    274.71    277.16\n",
      "   278.55    271.8     265.78    255.21    243.86  ]\n",
      " [ 247.12    245.83    249.23    255.7     265.03    274.97    277.51\n",
      "   278.35    273.96    263.44    255.64    250.09  ]\n",
      " [ 245.59    250.75    240.12    253.26    265.89    274.27    275.25\n",
      "   275.97    271.94    263.74    253.62    243.95  ]\n",
      " [ 244.29    249.98    248.36    252.28    267.14    273.45    276.63\n",
      "   275.15    269.89    262.72    251.06    252.82  ]\n",
      " [ 250.32    241.28    243.16    251.37    267.16    274.29    276.54\n",
      "   275.49    273.54    262.95    254.61    244.49  ]\n",
      " [ 252.23    251.42    247.37    254.33    264.13    274.27    277.91\n",
      "   278.39    271.66    265.05    256.49    250.37  ]\n",
      " [ 251.01    246.49    244.48    256.79    268.48    273.48    276.17\n",
      "   275.96    272.35    262.42    251.49    253.72  ]\n",
      " [ 244.77    241.01    242.21    250.23    264.22    273.3     276.61\n",
      "   275.63    271.4     263.85    254.92    242.63  ]\n",
      " [ 244.62    240.12    251.65    256.26    264.17    272.55    276.38\n",
      "   275.97    272.35    260.26    260.46    247.79  ]\n",
      " [ 245.2     243.45    242.63    252.33    264.26    274.66    276.67\n",
      "   275.17    273.01    264.47    257.25    248.04  ]\n",
      " [ 248.1     245.61    249.87    257.78    266.9     274.25    276.39\n",
      "   275.76    270.87    262.69    254.8     250.74  ]\n",
      " [ 249.26    242.05    248.97    252.76    266.36    273.65    278.7\n",
      "   278.02    272.49    263.92    253.8     247.5   ]\n",
      " [ 246.89    244.36    248.17    256.93    267.02    274.51    275.29\n",
      "   273.09    272.59    265.6     250.46    252.78  ]\n",
      " [ 246.45    247.03    246.63    254.01    265.85    273.49    276.41\n",
      "   275.41    269.49    257.23    254.26    248.5   ]\n",
      " [ 242.13    240.63    243.75    252.48    264.86    275.15    277.7\n",
      "   274.59    272.5     262.79    254.22    248.6   ]\n",
      " [ 245.1     243.38    242.77    251.69    265.32    273.57    278.84\n",
      "   277.91    271.99    265.99    255.61    252.15  ]\n",
      " [ 246.13    247.34    243.83    254.08    266.04    273.8     276.94\n",
      "   276.58    273.79    264.65    256.48    251.51  ]\n",
      " [ 247.74    239.06    244.38    252.04    265.73    272.47    276.98\n",
      "   278.23    273.87    259.68    251.41    241.78  ]\n",
      " [ 241.6     246.71    249.93    252.84    266.02    273.88    276.78\n",
      "   275.41    269.8     259.93    249.18    243.94  ]\n",
      " [ 245.59    241.88    246.59    254.65    265.36    274.01    276.99\n",
      "   277.17    273.7     263.14    257.85    246.84  ]\n",
      " [ 252.33    248.12    242.86    252.26    266.26    274.62    277.51\n",
      "   279.74    274.49    265.64    251.91    249.33  ]\n",
      " [ 252.5     247.59    248.82    255.9     265.09    273.42    277.74\n",
      "   276.34    274.01    260.2     258.06    248.86  ]\n",
      " [ 252.85    242.06    246.28    254.76    266.71    273.58    278.7\n",
      "   279.6801  274.62    266.07    260.85    246.9   ]\n",
      " [ 246.82    250.27    248.81    253.95    265.82    275.47    276.13\n",
      "   274.99    269.79    264.34    254.28    245.07  ]\n",
      " [ 255.14    245.79    248.75    255.22    268.94    275.16    278.04\n",
      "   275.07    270.55    264.25    254.67    249.39  ]\n",
      " [ 247.41    250.2     247.26    253.82    264.28    274.26    277.22\n",
      "   276.23    271.89    259.64    249.28    248.69  ]\n",
      " [ 243.      245.26    245.31    254.97    263.21    273.89    276.75\n",
      "   275.42    269.6     258.88    255.23    253.84  ]\n",
      " [ 245.9     235.7     244.44    247.95    263.35    274.92    277.67\n",
      "   276.39    273.82    264.31    249.53    246.02  ]\n",
      " [ 250.66    244.58    246.8     248.61    266.59    274.56    277.25\n",
      "   276.27    271.35    260.75    257.02    251.27  ]\n",
      " [ 245.47    251.1     244.93    250.6     265.36    274.82    279.27\n",
      "   277.23    275.31    263.35    254.18    250.93  ]\n",
      " [ 248.06    245.35    247.77    250.9     266.2     274.56    277.7\n",
      "   277.75    271.32    267.57    252.11    249.45  ]\n",
      " [ 249.63    246.68    247.49    255.31    265.54    274.02    277.73\n",
      "   275.84    271.62    258.34    248.56    250.82  ]\n",
      " [ 241.62    257.48    247.96    258.22    265.39    275.42    280.11\n",
      "   280.18    274.69    264.81    248.74    250.75  ]\n",
      " [ 243.12    240.      249.57    259.39    269.73    276.15    279.17\n",
      "   276.97    272.72    264.47    251.15    246.73  ]\n",
      " [ 247.28    243.6     245.3     256.1     269.67    276.63    277.5\n",
      "   276.15    272.6     264.51    250.08    244.12  ]\n",
      " [ 244.31    245.26    251.27    258.2     269.23    277.28    278.09\n",
      "   274.28    268.89    259.18    253.01    249.2   ]\n",
      " [ 248.05    248.52    248.25    257.31    266.78    276.48    281.76\n",
      "   276.78    272.97    268.03    257.33    249.91  ]\n",
      " [ 248.14    248.22    244.39    258.36    269.12    276.29    279.18\n",
      "   276.61    271.37    257.02    249.25    246.96  ]\n",
      " [ 247.81    246.38    245.45    258.4     269.41    276.27    279.36    277.\n",
      "   275.55    262.83    253.32    248.82  ]\n",
      " [ 248.38    245.65    251.99    254.02    271.74    277.23    277.65\n",
      "   273.45    271.1     257.76    256.4     251.3   ]\n",
      " [ 244.91    247.23    246.02    256.88    266.29    276.01    279.16\n",
      "   279.34    275.07    264.47    260.06    247.69  ]\n",
      " [ 245.19    245.54    253.27    261.44    268.26    276.95    281.2\n",
      "   278.93    275.8     267.62    259.2     252.71  ]\n",
      " [ 243.85    244.22    245.52    253.71    270.49    276.88    279.34\n",
      "   278.36    273.99    264.52    254.36    245.63  ]\n",
      " [ 246.86    248.67    247.19    254.44    263.16    276.81    278.43\n",
      "   276.95    272.99    264.51    256.15    251.8   ]\n",
      " [ 250.87    252.82    247.19    256.52    262.62    275.2     277.4     276.\n",
      "   273.79    261.83    255.56    249.26  ]\n",
      " [ 247.36    246.03    252.86    255.58    268.74    274.61    277.73\n",
      "   276.2     275.08    268.29    260.39    254.52  ]\n",
      " [ 249.51    248.38    248.76    259.16    267.28    275.32    278.29\n",
      "   276.2     273.09    268.66    257.18    250.49  ]\n",
      " [ 248.81    244.36    246.86    256.96    268.68    277.54    279.86\n",
      "   279.97    273.06    267.07    257.15    250.49  ]\n",
      " [ 250.03    247.77    251.23    256.23    268.59    275.15    277.72\n",
      "   278.94    274.42    267.14    253.75    253.15  ]\n",
      " [ 246.16    250.86    245.87    253.31    268.51    275.84    277.52\n",
      "   276.19    275.68    269.29    256.62    253.05  ]\n",
      " [ 247.26    248.67    245.21    259.71    265.85    275.7401  279.99\n",
      "   279.82    275.89    266.91    261.99    253.9   ]\n",
      " [ 246.28    246.21    246.88    258.33    267.85    275.64    277.85\n",
      "   276.39    274.12    265.39    256.85    253.57  ]\n",
      " [ 247.09    246.44    246.22    256.26    268.96    275.03    279.62\n",
      "   277.92    274.49    268.55    254.66    253.4   ]\n",
      " [ 245.53    249.51    248.98    258.93    267.35    274.91    278.52\n",
      "   278.96    275.55    267.43    260.76    248.88  ]\n",
      " [ 249.82    250.2     250.58    254.86    267.95    275.15    278.4\n",
      "   277.98    275.31    267.61    253.98    250.52  ]\n",
      " [ 242.19    248.96    243.16    257.6     266.93    275.86    279.16\n",
      "   279.32    274.23    268.54    256.51    248.66  ]\n",
      " [ 250.17    245.43    249.71    254.56    266.73    277.18    279.58\n",
      "   277.69    272.76    269.18    258.31    252.66  ]\n",
      " [ 256.26    249.03    250.96    258.16    267.62    273.48    276.79\n",
      "   279.19    273.85    265.64    260.18    255.57  ]\n",
      " [ 248.85    252.09    248.18    257.83    271.14    276.61    279.49\n",
      "   276.57    271.73    267.68    259.43    250.4   ]\n",
      " [ 256.61    254.16    250.8     261.01    270.44    276.61    279.02\n",
      "   279.61    273.73    268.21    256.45    251.37  ]]\n"
     ]
    }
   ],
   "source": [
    "print(barrow)"
   ]
  },
  {
   "cell_type": "markdown",
   "metadata": {},
   "source": [
    "The data are formatted such that:\n",
    "\n",
    "- Each column is the monthly mean, January (1) through December (12)\n",
    "- Each row is a year, starting from January 1948 (1) through December 2016 (69)\n",
    "\n",
    "[More information on the data can be found here.](http://iridl.ldeo.columbia.edu/SOURCES/.NOAA/.NCEP/.CPC/.GHCN_CAMS/.gridded/.deg0p5/.temp/)"
   ]
  },
  {
   "cell_type": "markdown",
   "metadata": {},
   "source": [
    "## Arrays and their Attributes"
   ]
  },
  {
   "cell_type": "markdown",
   "metadata": {},
   "source": [
    "Now that our data are stored in memory, we can start asking substantial questions about it. First, let's ask how Python represents the value stored in the `barrow` variable."
   ]
  },
  {
   "cell_type": "code",
   "execution_count": 15,
   "metadata": {
    "collapsed": false
   },
   "outputs": [
    {
     "data": {
      "text/plain": [
       "numpy.ndarray"
      ]
     },
     "execution_count": 15,
     "metadata": {},
     "output_type": "execute_result"
    }
   ],
   "source": [
    "type(barrow)"
   ]
  },
  {
   "cell_type": "markdown",
   "metadata": {},
   "source": [
    "This output indicates that `barrow` currently refers to an N-dimensional array created by the NumPy library.\n",
    "\n",
    "**A NumPy array contains one or more elements of the same data type.** The `type()` function only tells us that we have a NumPy array. We can find out the type of data contained in the array by asking for the *data type* of the array."
   ]
  },
  {
   "cell_type": "code",
   "execution_count": 16,
   "metadata": {
    "collapsed": false
   },
   "outputs": [
    {
     "data": {
      "text/plain": [
       "dtype('float64')"
      ]
     },
     "execution_count": 16,
     "metadata": {},
     "output_type": "execute_result"
    }
   ],
   "source": [
    "barrow.dtype"
   ]
  },
  {
   "cell_type": "markdown",
   "metadata": {},
   "source": [
    "This tells us that the NumPy array's elements are 64-bit *floating point,* or decimal numbers.\n",
    "\n",
    "**In the last example,** we accessed an **attribute** of the `barrow` array called `dtype`. Because `dtype` is not a function, we don't call it using a pair of parentheses. We'll talk more about this later but, for now, it's sufficient to distinguish between these examples:\n",
    "\n",
    "- `np.loadtxt()` - A function that takes arguments, which go inside the parentheses\n",
    "- `barrow.dtype` - An attribute of the `barrow` array; the `dtype` of an array doesn't depend on anything, so `dtype` is not a function and it does not take arguments"
   ]
  },
  {
   "cell_type": "markdown",
   "metadata": {},
   "source": [
    "**How many rows and columns are there in the `barrow` array?**"
   ]
  },
  {
   "cell_type": "code",
   "execution_count": 17,
   "metadata": {
    "collapsed": false
   },
   "outputs": [
    {
     "data": {
      "text/plain": [
       "(69, 12)"
      ]
     },
     "execution_count": 17,
     "metadata": {},
     "output_type": "execute_result"
    }
   ],
   "source": [
    "barrow.shape"
   ]
  },
  {
   "cell_type": "markdown",
   "metadata": {},
   "source": [
    "We see there are 64 rows and 12 columns.\n",
    "\n",
    "The `shape` attribute, like the `dtype`, is a piece of information that was generated and stored when we first created the `barrow` array. This extra information, `shape` and `dtype`, describe `barrow` in the same way an adjective describes a noun. **We use the same dotted notation here as we did with the `loadtxt()` function because they have the same part-and-whole relationship.**\n",
    "\n",
    "**To access the elements of the `barrow` array, we use square-brackets as follows.**"
   ]
  },
  {
   "cell_type": "code",
   "execution_count": 18,
   "metadata": {
    "collapsed": false
   },
   "outputs": [
    {
     "data": {
      "text/plain": [
       "245.66"
      ]
     },
     "execution_count": 18,
     "metadata": {},
     "output_type": "execute_result"
    }
   ],
   "source": [
    "barrow[0, 0]"
   ]
  },
  {
   "cell_type": "markdown",
   "metadata": {},
   "source": [
    "The `0, 0` element is the element in the first row and the first column. Python starts counting from zero, not from one, just like other languages in the C family (including C++, Java, and Perl).\n",
    "\n",
    "**With this bracket notation, remember that rows are counted first, then columns.** For instance, this is the value in the first row and second column of the array:"
   ]
  },
  {
   "cell_type": "code",
   "execution_count": 19,
   "metadata": {
    "collapsed": false
   },
   "outputs": [
    {
     "data": {
      "text/plain": [
       "247.52000000000001"
      ]
     },
     "execution_count": 19,
     "metadata": {},
     "output_type": "execute_result"
    }
   ],
   "source": [
    "barrow[0, 1]"
   ]
  },
  {
   "cell_type": "markdown",
   "metadata": {},
   "source": [
    "**Challenge: What do each of the following code samples do?**\n",
    "\n",
    "```py\n",
    "barrow[0]\n",
    "barrow[0,]\n",
    "barrow[-1]\n",
    "barrow[-3:-1]\n",
    "```"
   ]
  },
  {
   "cell_type": "markdown",
   "metadata": {},
   "source": [
    "### Slicing NumPy Arrays"
   ]
  },
  {
   "cell_type": "markdown",
   "metadata": {},
   "source": [
    "We can make a larger selection with **slicing.** For instance, **here is the first year of monthly average temperatures, all 12 of them, for Barrow:**"
   ]
  },
  {
   "cell_type": "code",
   "execution_count": 20,
   "metadata": {
    "collapsed": false
   },
   "outputs": [
    {
     "data": {
      "text/plain": [
       "array([ 245.66,  247.52,  245.28,  256.32,  262.9 ,  272.46,  278.06,\n",
       "        275.51,  269.34,  261.68,  251.35,  242.52])"
      ]
     },
     "execution_count": 20,
     "metadata": {},
     "output_type": "execute_result"
    }
   ],
   "source": [
    "barrow[0, 0:12]"
   ]
  },
  {
   "cell_type": "markdown",
   "metadata": {},
   "source": [
    "The notation `0:12` can be read, \"Start at index 0 and go up to, *but not including,* index 12.\" The up-to-but-not-including is important; we have 12 values in the array but, since we started counting at zero, there isn't a value at index 12."
   ]
  },
  {
   "cell_type": "code",
   "execution_count": 21,
   "metadata": {
    "collapsed": false
   },
   "outputs": [
    {
     "ename": "IndexError",
     "evalue": "index 12 is out of bounds for axis 1 with size 12",
     "output_type": "error",
     "traceback": [
      "\u001b[0;31m---------------------------------------------------------------------------\u001b[0m",
      "\u001b[0;31mIndexError\u001b[0m                                Traceback (most recent call last)",
      "\u001b[0;32m<ipython-input-21-a5a1605091fb>\u001b[0m in \u001b[0;36m<module>\u001b[0;34m()\u001b[0m\n\u001b[0;32m----> 1\u001b[0;31m \u001b[0mbarrow\u001b[0m\u001b[0;34m[\u001b[0m\u001b[0;36m0\u001b[0m\u001b[0;34m,\u001b[0m \u001b[0;36m12\u001b[0m\u001b[0;34m]\u001b[0m\u001b[0;34m\u001b[0m\u001b[0m\n\u001b[0m",
      "\u001b[0;31mIndexError\u001b[0m: index 12 is out of bounds for axis 1 with size 12"
     ]
    }
   ],
   "source": [
    "barrow[0, 12]"
   ]
  },
  {
   "cell_type": "markdown",
   "metadata": {},
   "source": [
    "Slices don't have to start at zero and they also don't have to include the upper or lower bound, if we want to simply take all the ending or beginning values, respectively.\n",
    "\n",
    "Here's the last six monthly averages of the first three years, written two different ways:"
   ]
  },
  {
   "cell_type": "code",
   "execution_count": null,
   "metadata": {
    "collapsed": false
   },
   "outputs": [],
   "source": [
    "barrow[0:3, 6:12]"
   ]
  },
  {
   "cell_type": "code",
   "execution_count": null,
   "metadata": {
    "collapsed": false
   },
   "outputs": [],
   "source": [
    "barrow[:3, 6:]"
   ]
  },
  {
   "cell_type": "markdown",
   "metadata": {},
   "source": [
    "If we don't include a number at all, then the `:` symbol indicates \"take everying.\""
   ]
  },
  {
   "cell_type": "code",
   "execution_count": null,
   "metadata": {
    "collapsed": false
   },
   "outputs": [],
   "source": [
    "barrow[0, :]"
   ]
  },
  {
   "cell_type": "markdown",
   "metadata": {},
   "source": [
    "**Challenge: What's the mean monthly temperature in August of 2016? Converted to degrees Fahrenheit?**\n",
    "\n",
    "Degrees F can be calculated from degrees K by the formula:"
   ]
  },
  {
   "cell_type": "markdown",
   "metadata": {},
   "source": [
    "$$\n",
    "T_F = \\left(T_K \\times \\frac{9}{5}\\right) - 459.67\n",
    "$$"
   ]
  },
  {
   "cell_type": "markdown",
   "metadata": {},
   "source": [
    "### Calculating on NumPy Arrays"
   ]
  },
  {
   "cell_type": "markdown",
   "metadata": {},
   "source": [
    "Arrays know how to perform common mathematical operations on their values. This allows us to treat them like pure numbers, as we did earlier."
   ]
  },
  {
   "cell_type": "markdown",
   "metadata": {},
   "source": [
    "**Convert the first year of Barrow air temperatures from degrees Kelvin to degrees Celsius.**"
   ]
  },
  {
   "cell_type": "code",
   "execution_count": null,
   "metadata": {
    "collapsed": false
   },
   "outputs": [],
   "source": [
    "barrow[0,:] - 273.15"
   ]
  },
  {
   "cell_type": "markdown",
   "metadata": {},
   "source": [
    "We can also perform calculations that have only matrices as operands."
   ]
  },
  {
   "cell_type": "markdown",
   "metadata": {},
   "source": [
    "**Calculate the monthly average of the first two years of air temperatures in Barrow.** (Consider this the average of the monthly averages.) Then convert to Celsius."
   ]
  },
  {
   "cell_type": "code",
   "execution_count": null,
   "metadata": {
    "collapsed": false
   },
   "outputs": [],
   "source": [
    "two_year_sum = barrow[0,:] + barrow[1,:]\n",
    "(two_year_sum / 2) - 273.15"
   ]
  },
  {
   "cell_type": "markdown",
   "metadata": {},
   "source": [
    "Quite often, we want to do more than add, subtract, multiply, and divide values of data. NumPy knows how to do more complex operations on arrays, including statistical summaries of the data."
   ]
  },
  {
   "cell_type": "markdown",
   "metadata": {},
   "source": [
    "**What is the overall mean temperature in any month in Barrow between 1948 and 2016 in degrees C?**"
   ]
  },
  {
   "cell_type": "code",
   "execution_count": null,
   "metadata": {
    "collapsed": false
   },
   "outputs": [],
   "source": [
    "barrow.mean() - 273.15"
   ]
  },
  {
   "cell_type": "markdown",
   "metadata": {},
   "source": [
    "Here, note that the `mean()` function is an attribute of the `barrow` array. **When the attribute of a Python object is a function, we usually call it a method.** Methods are functions that belong to Python objects. Here, the `barrow` array owns a method called `mean()`. When we call the `mean()` method of `barrow`, the array knows how to calculate its overall mean.\n",
    "\n",
    "**Note, also, that `barrow.mean()` is an example of a function that doesn't have to take any input.** In this example, no input is needed because the overall mean is not dependent on any external information."
   ]
  },
  {
   "cell_type": "markdown",
   "metadata": {},
   "source": [
    "**How cold was the coldest February in Barrow, by monthly mean temperatures, in degrees C?**"
   ]
  },
  {
   "cell_type": "code",
   "execution_count": null,
   "metadata": {
    "collapsed": false
   },
   "outputs": [],
   "source": [
    "barrow[:,1].min() - 273.15"
   ]
  },
  {
   "cell_type": "markdown",
   "metadata": {},
   "source": [
    "**Challenge: What's the minimum, maximum, and mean monthly temperature for August in Barrow, in degrees C?**"
   ]
  },
  {
   "cell_type": "markdown",
   "metadata": {},
   "source": [
    "## Getting Help"
   ]
  },
  {
   "cell_type": "markdown",
   "metadata": {},
   "source": [
    "How did we find out what methods the array has for us to use?"
   ]
  },
  {
   "cell_type": "markdown",
   "metadata": {},
   "source": [
    "While in Jupyter Notebook, we can use the handy shortcut:"
   ]
  },
  {
   "cell_type": "code",
   "execution_count": null,
   "metadata": {
    "collapsed": true
   },
   "outputs": [],
   "source": [
    "barrow?"
   ]
  },
  {
   "cell_type": "markdown",
   "metadata": {},
   "source": [
    "In general, Python provides two helper functions, `help()` and `dir()`."
   ]
  },
  {
   "cell_type": "code",
   "execution_count": null,
   "metadata": {
    "collapsed": false,
    "scrolled": false
   },
   "outputs": [],
   "source": [
    "help(barrow)"
   ]
  },
  {
   "cell_type": "code",
   "execution_count": null,
   "metadata": {
    "collapsed": false,
    "scrolled": false
   },
   "outputs": [],
   "source": [
    "dir(barrow)"
   ]
  },
  {
   "cell_type": "markdown",
   "metadata": {},
   "source": [
    "## More on Arrays"
   ]
  },
  {
   "cell_type": "markdown",
   "metadata": {},
   "source": [
    "Before, we saw how the built-in statistical summary methods like `mean()` could be used to calculate an overall statistical summary for the `barrow` array or a subset of the array. **More often, we want to look at partial statistics, such as the mean temperature in each year or the maximum temperature in each month.**\n",
    "\n",
    "One way to do this is to take what we saw earlier and apply it to each row or column."
   ]
  },
  {
   "cell_type": "markdown",
   "metadata": {},
   "source": [
    "**What is the mean temperature in 1948? In 1949? And so on...**"
   ]
  },
  {
   "cell_type": "code",
   "execution_count": null,
   "metadata": {
    "collapsed": false
   },
   "outputs": [],
   "source": [
    "barrow[0,:].mean()"
   ]
  },
  {
   "cell_type": "code",
   "execution_count": null,
   "metadata": {
    "collapsed": false
   },
   "outputs": [],
   "source": [
    "barrow[1,:].mean()"
   ]
  },
  {
   "cell_type": "markdown",
   "metadata": {},
   "source": [
    "But this gets tedious very quickly. **Instead, we can calculate a statisical summary over a particular axis of the array: along its rows or along its columns.**"
   ]
  },
  {
   "cell_type": "code",
   "execution_count": null,
   "metadata": {
    "collapsed": false
   },
   "outputs": [],
   "source": [
    "barrow.mean()"
   ]
  },
  {
   "cell_type": "code",
   "execution_count": null,
   "metadata": {
    "collapsed": false
   },
   "outputs": [],
   "source": [
    "barrow.mean(axis = 1)"
   ]
  },
  {
   "cell_type": "markdown",
   "metadata": {},
   "source": [
    "Recall that in our square bracket notation, we number the rows first, then the columns. Also, recall that Python starts counting at zero. Therefore, the \"1\" axis refers to the columns. **To calculate a mean across the column axis, that is, the mean temperature in each year, we use the `axis = 1` argument in the function call.**\n",
    "\n",
    "As a quick check, we can confirm that there are 69 values in the output, one for each of the 69 years between 1948 and 2016, inclusive."
   ]
  },
  {
   "cell_type": "code",
   "execution_count": null,
   "metadata": {
    "collapsed": false
   },
   "outputs": [],
   "source": [
    "barrow.mean(axis = 1).shape"
   ]
  },
  {
   "cell_type": "markdown",
   "metadata": {},
   "source": [
    "**What, then, does the following function call give us?**"
   ]
  },
  {
   "cell_type": "code",
   "execution_count": null,
   "metadata": {
    "collapsed": false
   },
   "outputs": [],
   "source": [
    "barrow.mean(axis = 0)"
   ]
  },
  {
   "cell_type": "markdown",
   "metadata": {},
   "source": [
    "Remembering the difference between `axis = 0` and `axis = 1` is tricky, even for experienced Python programmers. Here are some helpful, visual reminders:\n",
    "\n",
    "- [Integrating across rows or columns (StackOverflow)](https://stackoverflow.com/questions/25773245/ambiguity-in-pandas-dataframe-numpy-array-axis-definition/25774395#25774395)\n",
    "- [Another way of visualizing the same thing (Site44)](http://using-python-in-research.site44.com/_images/axis.png)"
   ]
  },
  {
   "cell_type": "markdown",
   "metadata": {},
   "source": [
    "## Basic Data Visualization"
   ]
  },
  {
   "cell_type": "markdown",
   "metadata": {},
   "source": [
    "Visualization, as line plots, bar charts, and other kinds, can often help us to better interpret data, particularly when we have a large set of numbers. Here, we'll look at some basic data visualization tools available in Python.\n",
    "\n",
    "While there is no \"official\" plotting library in Python, the most often used is a library called `matplotlib`. First, we'll import the `pyplot` module from `matplotlib` and use two of its functions to create and display a heatmap of our data."
   ]
  },
  {
   "cell_type": "code",
   "execution_count": 26,
   "metadata": {
    "collapsed": true
   },
   "outputs": [],
   "source": [
    "import matplotlib.pyplot as pyplot\n",
    "%matplotlib inline"
   ]
  },
  {
   "cell_type": "markdown",
   "metadata": {},
   "source": [
    "**We also used a Jupyter Notebook \"magic\" command to make `matplotlib` figures display inside our notebook, instead of a separate window.** Commands with percent signs in front of them, as in the above example, are particular to Jupyter Notebook and won't work in a basic Python intepreter or command-line."
   ]
  },
  {
   "cell_type": "code",
   "execution_count": null,
   "metadata": {
    "collapsed": false
   },
   "outputs": [],
   "source": [
    "image = pyplot.imshow(barrow, aspect = 1/3)\n",
    "pyplot.show()"
   ]
  },
  {
   "cell_type": "markdown",
   "metadata": {},
   "source": [
    "Let's look at the average temperature over the years."
   ]
  },
  {
   "cell_type": "code",
   "execution_count": null,
   "metadata": {
    "collapsed": false
   },
   "outputs": [],
   "source": [
    "avg_temp = barrow.mean(axis = 1)\n",
    "avg_temp_plot = pyplot.plot(avg_temp)\n",
    "pyplot.show()"
   ]
  },
  {
   "cell_type": "markdown",
   "metadata": {},
   "source": [
    "# Repeating Tasks with Loops"
   ]
  },
  {
   "cell_type": "markdown",
   "metadata": {},
   "source": [
    "Let's review what we've just learned.\n",
    "\n",
    "- How to import a library into Python using `import library_name`;\n",
    "- How to use the NumPy library for working with arrays;\n",
    "- Variable assignment, `variable = value`;\n",
    "- An array's shape can be retrieved with `my_array.shape`;\n",
    "- An array's data type can be retrieved with `my_array.dtype`;\n",
    "- Use `array[x, y]` to select the element in row X, column Y from an array;\n",
    "- Python starts counting at zero, so array indices start at 0, not 1;\n",
    "- Use `a:b` to specify a slice that includes indices from A to B;\n",
    "- How to calculate statistical summaries on NumPy arrays;\n",
    "- How to create basic line plots and heat maps using `matplotlib`;\n",
    "\n",
    "We saw how to do these things for just one CSV file we loaded into Python. But what if we're interested in more places than just Barrow, Alaska? We could execute the same code for each place we're interested in, each CSV file... \n",
    "\n",
    "- But that's tedious, and tedium is what we're trying to avoid by using computers in the first place!\n",
    "- It's also error-prone; humans are likely to make a mistake as they try to type the same things over and over again.\n",
    "- Finally, it's more difficult and takes more space, more lines of code, to show someone else what we've done or in coming back to it after a long break.\n",
    "\n",
    "In this next lesson, **we'll learn how to instruct Python to do the same thing multiple times without mistake.**"
   ]
  },
  {
   "cell_type": "markdown",
   "metadata": {},
   "source": [
    "## Sequences"
   ]
  },
  {
   "cell_type": "markdown",
   "metadata": {},
   "source": [
    "Before we discuss how Python can execute repetitive tasks, we need to discuss sequences. **Sequences are a very powerful and flexible class of data structures in Python.**\n",
    "\n",
    "The simplest example of a sequence is a character string."
   ]
  },
  {
   "cell_type": "code",
   "execution_count": null,
   "metadata": {
    "collapsed": false
   },
   "outputs": [],
   "source": [
    "'Hello, world!'"
   ]
  },
  {
   "cell_type": "markdown",
   "metadata": {},
   "source": [
    "### Character Strings"
   ]
  },
  {
   "cell_type": "markdown",
   "metadata": {},
   "source": [
    "Character strings can be created with either single or double quotes; it doesn't matter which. If you want to include quotes *inside* a string you have some options..."
   ]
  },
  {
   "cell_type": "code",
   "execution_count": null,
   "metadata": {
    "collapsed": false
   },
   "outputs": [],
   "source": [
    "print(\"My mother's cousin\")"
   ]
  },
  {
   "cell_type": "code",
   "execution_count": null,
   "metadata": {
    "collapsed": false
   },
   "outputs": [],
   "source": [
    "print('My mother\\'s cousin said, \"Behave.\"')"
   ]
  },
  {
   "cell_type": "markdown",
   "metadata": {},
   "source": [
    "**Every character string is a sequence of letters.**"
   ]
  },
  {
   "cell_type": "code",
   "execution_count": null,
   "metadata": {
    "collapsed": true
   },
   "outputs": [],
   "source": [
    "word = 'bird'"
   ]
  },
  {
   "cell_type": "markdown",
   "metadata": {},
   "source": [
    "We can access each letter in this *sequence* of letters using the index notation we saw earlier."
   ]
  },
  {
   "cell_type": "code",
   "execution_count": null,
   "metadata": {
    "collapsed": false
   },
   "outputs": [],
   "source": [
    "print(word[0])\n",
    "print(word[1])\n",
    "print(word[2])\n",
    "print(word[3])"
   ]
  },
  {
   "cell_type": "markdown",
   "metadata": {},
   "source": [
    "This is a bad approach, though, for multiple reasons.\n",
    "\n",
    "- This approach **doesn't scale;** if we want to print the characters in a string that is hundreds of letters long, we have to type quite a lot of indices!\n",
    "- It's also **fragile;** if we have a longer string, it prints only part of the data and, for a shorter string, it produces an error because we're indexing a part of the sequence that doesn't exist.\n",
    "\n",
    "Here's a better approach."
   ]
  },
  {
   "cell_type": "code",
   "execution_count": null,
   "metadata": {
    "collapsed": false
   },
   "outputs": [],
   "source": [
    "for letter in word:\n",
    "    print(letter)"
   ]
  },
  {
   "cell_type": "markdown",
   "metadata": {},
   "source": [
    "This is much shorter! And we can quickly see how it scales much better."
   ]
  },
  {
   "cell_type": "code",
   "execution_count": null,
   "metadata": {
    "collapsed": false
   },
   "outputs": [],
   "source": [
    "word = 'cockatoo'\n",
    "for letter in word:\n",
    "    print(letter)"
   ]
  },
  {
   "cell_type": "markdown",
   "metadata": {},
   "source": [
    "**Some things to note about this example:**\n",
    "\n",
    "- The Python keyword `for` is what gives this technique its name; it's a **for loop.**\n",
    "- We can read the first line almost line English: \"For (each) letter in (the sequence) word...\"\n",
    "- The second line, then, is what we want Python to do \"for each\" of those things.\n",
    "- The second line is executed once for every element in the `word` sequence.\n",
    "- **(How many times is this?)** Four.\n",
    "- In each iteration of the `for` loop, the variable `letter` takes on a new value.\n",
    "- **(What is the value of `letter` in the first iteration? The second?)**\n",
    "\n",
    "**Most importantly, the second line is indented by four spaces.** In Python, code blocks are structured by indentation. When a group of Python lines belong to a `for` loop, in this example, those lines are indented one level more than the line with the `for` statement. It doesn't matter whether we use tabs or spaces, or how many we use, as long as we're consistent throughout the Python program.\n",
    "\n",
    "**You'll note that Jupyter Notebook indented the second line automatically for you and that it uses four spaces.** Jupyter Notebook follows [the Python Enhancement Proposal 8, or PEP-8,](https://www.python.org/dev/peps/pep-0008/) which is a style guide for Python. It is therefore strongly recommended that you [use four (4) spaces for indentation](https://www.python.org/dev/peps/pep-0008/#indentation) in your own Python code, wherever you're writing it."
   ]
  },
  {
   "cell_type": "markdown",
   "metadata": {},
   "source": [
    "### Lists and Tuples"
   ]
  },
  {
   "cell_type": "markdown",
   "metadata": {},
   "source": [
    "Another type of sequence in Python that is more general and more useful than a character string is the **list.** Lists are formed by putting comma-separated values inside square brackets."
   ]
  },
  {
   "cell_type": "code",
   "execution_count": null,
   "metadata": {
    "collapsed": false
   },
   "outputs": [],
   "source": [
    "cities = ['Barrow', 'Veracruz', 'Chennai']\n",
    "for city in cities:\n",
    "    print('Visit beautiful', city, '!')"
   ]
  },
  {
   "cell_type": "markdown",
   "metadata": {},
   "source": [
    "Lists can be indexed and sequenced just as we say with character strings (another sequence) and NumPy arrays."
   ]
  },
  {
   "cell_type": "code",
   "execution_count": null,
   "metadata": {
    "collapsed": false
   },
   "outputs": [],
   "source": [
    "cities[0]"
   ]
  },
  {
   "cell_type": "code",
   "execution_count": null,
   "metadata": {
    "collapsed": false
   },
   "outputs": [],
   "source": [
    "cities[0:1]"
   ]
  },
  {
   "cell_type": "code",
   "execution_count": null,
   "metadata": {
    "collapsed": false
   },
   "outputs": [],
   "source": [
    "cities[0:2]"
   ]
  },
  {
   "cell_type": "code",
   "execution_count": null,
   "metadata": {
    "collapsed": false
   },
   "outputs": [],
   "source": [
    "cities[-1]"
   ]
  },
  {
   "cell_type": "markdown",
   "metadata": {},
   "source": [
    "What really distinguishes lists is that they can hold different types of data in a single instance, including other lists!"
   ]
  },
  {
   "cell_type": "code",
   "execution_count": null,
   "metadata": {
    "collapsed": false
   },
   "outputs": [],
   "source": [
    "things = [100, 'oranges', [1,2,3]]\n",
    "for thing in things:\n",
    "    print(thing)"
   ]
  },
  {
   "cell_type": "markdown",
   "metadata": {},
   "source": [
    "Just as we saw with NumPy arrays, lists also have a number of useful built-in methods."
   ]
  },
  {
   "cell_type": "markdown",
   "metadata": {},
   "source": [
    "**How many times is the value `\"Barrow\"` found in the `cities` list?** Exactly once."
   ]
  },
  {
   "cell_type": "code",
   "execution_count": null,
   "metadata": {
    "collapsed": false
   },
   "outputs": [],
   "source": [
    "cities.count('Barrow')"
   ]
  },
  {
   "cell_type": "markdown",
   "metadata": {},
   "source": [
    "Some of the methods change the array **in-place,** meaning that they change the underlying list without returning a new list. Since there is no output from these methods, to confirm that something changed with `cities`, we have to examine its value again."
   ]
  },
  {
   "cell_type": "code",
   "execution_count": null,
   "metadata": {
    "collapsed": false
   },
   "outputs": [],
   "source": [
    "cities.reverse()\n",
    "cities"
   ]
  },
  {
   "cell_type": "markdown",
   "metadata": {},
   "source": [
    "**Also, try running the above code block multiple times over.**"
   ]
  },
  {
   "cell_type": "markdown",
   "metadata": {},
   "source": [
    "A **tuple** is a lot like a list in that it can take multiple types of data. **However, once it is created, a tuple cannot be changed.**"
   ]
  },
  {
   "cell_type": "code",
   "execution_count": null,
   "metadata": {
    "collapsed": false
   },
   "outputs": [],
   "source": [
    "cities"
   ]
  },
  {
   "cell_type": "code",
   "execution_count": null,
   "metadata": {
    "collapsed": false
   },
   "outputs": [],
   "source": [
    "cities_tuple = tuple(cities)\n",
    "cities_tuple"
   ]
  },
  {
   "cell_type": "code",
   "execution_count": null,
   "metadata": {
    "collapsed": false
   },
   "outputs": [],
   "source": [
    "cities[2] = 'Accra'\n",
    "cities"
   ]
  },
  {
   "cell_type": "code",
   "execution_count": null,
   "metadata": {
    "collapsed": false
   },
   "outputs": [],
   "source": [
    "cities_tuple[2] = 'Accra'"
   ]
  },
  {
   "cell_type": "markdown",
   "metadata": {},
   "source": [
    "And, therefore, tuples also don't have the useful functions that lists have."
   ]
  },
  {
   "cell_type": "code",
   "execution_count": null,
   "metadata": {
    "collapsed": false
   },
   "outputs": [],
   "source": [
    "cities.append('Paris')\n",
    "cities"
   ]
  },
  {
   "cell_type": "code",
   "execution_count": null,
   "metadata": {
    "collapsed": false
   },
   "outputs": [],
   "source": [
    "cities_tuple.append('Paris')"
   ]
  },
  {
   "cell_type": "markdown",
   "metadata": {},
   "source": [
    "Tuples are advantageous when you have sequence data that you want to make sure doesn't get changed. Partly because they can't be changed, tuples are also slightly faster in computations where the sequence is very large."
   ]
  },
  {
   "cell_type": "markdown",
   "metadata": {},
   "source": [
    "Lists and tuples also allow us to quickly exchange values between variables and the elements of a sequence."
   ]
  },
  {
   "cell_type": "code",
   "execution_count": null,
   "metadata": {
    "collapsed": false
   },
   "outputs": [],
   "source": [
    "option1, option2 = ('Chocolate', 'Strawberry')\n",
    "\n",
    "print('Option 1 is:', option1)\n",
    "print('Option 2 is:', option2)"
   ]
  },
  {
   "cell_type": "markdown",
   "metadata": {},
   "source": [
    "### Performing Calculations with Lists"
   ]
  },
  {
   "cell_type": "markdown",
   "metadata": {},
   "source": [
    "Performing calculations with lists is different from with NumPy arrays."
   ]
  },
  {
   "cell_type": "code",
   "execution_count": null,
   "metadata": {
    "collapsed": false
   },
   "outputs": [],
   "source": [
    "numbers = [1, 1, 2, 3, 5, 8]\n",
    "numbers * 2"
   ]
  },
  {
   "cell_type": "code",
   "execution_count": null,
   "metadata": {
    "collapsed": false
   },
   "outputs": [],
   "source": [
    "numbers + 1"
   ]
  },
  {
   "cell_type": "code",
   "execution_count": null,
   "metadata": {
    "collapsed": false
   },
   "outputs": [],
   "source": [
    "numbers + [13]"
   ]
  },
  {
   "cell_type": "markdown",
   "metadata": {},
   "source": [
    "So, with lists, the addition operator `+` means **to concatenate** while the multiplication operator `*` means **to compound.** This is the same for strings:"
   ]
  },
  {
   "cell_type": "code",
   "execution_count": null,
   "metadata": {
    "collapsed": false
   },
   "outputs": [],
   "source": [
    "'butter' + 'fly'"
   ]
  },
  {
   "cell_type": "code",
   "execution_count": null,
   "metadata": {
    "collapsed": false
   },
   "outputs": [],
   "source": [
    "'Cats! ' * 5"
   ]
  },
  {
   "cell_type": "markdown",
   "metadata": {},
   "source": [
    "## More Complex Loops"
   ]
  },
  {
   "cell_type": "markdown",
   "metadata": {},
   "source": [
    "We can execute any arbitrary Python code inside a loop. That includes changing the value of an assigned variable within a loop."
   ]
  },
  {
   "cell_type": "code",
   "execution_count": null,
   "metadata": {
    "collapsed": false
   },
   "outputs": [],
   "source": [
    "length = 0\n",
    "for letter in 'Bangalore':\n",
    "    length = length + 1\n",
    "    \n",
    "length"
   ]
  },
  {
   "cell_type": "markdown",
   "metadata": {},
   "source": [
    "Note that a loop variable is just a variable that’s being used to record progress in a loop. It still exists after the loop is over, and we can re-use variables previously defined as loop variables as well."
   ]
  },
  {
   "cell_type": "code",
   "execution_count": null,
   "metadata": {
    "collapsed": false
   },
   "outputs": [],
   "source": [
    "letter"
   ]
  },
  {
   "cell_type": "markdown",
   "metadata": {},
   "source": [
    "Also, in the last exercise, we used a loop to count the number of letters in the string `'Bangalore'`. Python has a built-in function to count the number of elements in any sequence."
   ]
  },
  {
   "cell_type": "code",
   "execution_count": null,
   "metadata": {
    "collapsed": false
   },
   "outputs": [],
   "source": [
    "len('Bangalore')"
   ]
  },
  {
   "cell_type": "code",
   "execution_count": null,
   "metadata": {
    "collapsed": false
   },
   "outputs": [],
   "source": [
    "cities"
   ]
  },
  {
   "cell_type": "code",
   "execution_count": null,
   "metadata": {
    "collapsed": false,
    "scrolled": true
   },
   "outputs": [],
   "source": [
    "len(cities)"
   ]
  },
  {
   "cell_type": "markdown",
   "metadata": {},
   "source": [
    "### Challenge: Looping over Sequences"
   ]
  },
  {
   "cell_type": "markdown",
   "metadata": {},
   "source": [
    "**Write a `for` loop that iterates through the letters of your favorite city, putting each letter inside a list. The result should be a list with an element for each letter.**\n",
    "\n",
    "Hint: You can create an empty list like this:\n",
    "\n",
    "```py\n",
    "letters = []\n",
    "```\n",
    "\n",
    "Hint: You can confirm you have the right result by comparing it to:\n",
    "\n",
    "```py\n",
    "list(\"my favorite city\")\n",
    "```"
   ]
  },
  {
   "cell_type": "markdown",
   "metadata": {},
   "source": [
    "### Challenge: Sequences and Mutability"
   ]
  },
  {
   "cell_type": "markdown",
   "metadata": {},
   "source": [
    "**Which of the sequences we've learned about are immutable (i.e., they can't be changed)?**\n",
    "\n",
    "- Strings are (immutable / mutable)?\n",
    "- Lists are (immutable / mutable)?\n",
    "- Tuples are (immutable / mutable)?\n",
    "\n",
    "**And what does this mean for working with each data type?**\n",
    "\n",
    "```py\n",
    "\"birds\".upper()\n",
    "\n",
    "[1, 2, 3].append(4)\n",
    "\n",
    "(1, 2, 3)\n",
    "```\n"
   ]
  },
  {
   "cell_type": "markdown",
   "metadata": {},
   "source": [
    "## Iterators and Generators"
   ]
  },
  {
   "cell_type": "markdown",
   "metadata": {},
   "source": [
    "Earlier, we saw that lists in Python have a built-in function to reverse the elements."
   ]
  },
  {
   "cell_type": "code",
   "execution_count": null,
   "metadata": {
    "collapsed": false
   },
   "outputs": [],
   "source": [
    "cities.reverse()\n",
    "cities"
   ]
  },
  {
   "cell_type": "markdown",
   "metadata": {},
   "source": [
    "There's also a built-in global function, `reversed()`, that returns a reversed version of a sequence."
   ]
  },
  {
   "cell_type": "code",
   "execution_count": null,
   "metadata": {
    "collapsed": false
   },
   "outputs": [],
   "source": [
    "reversed(cities)"
   ]
  },
  {
   "cell_type": "markdown",
   "metadata": {},
   "source": [
    "But, whoa, what is this? Why didn't we get a reversed version of the `cities` list?"
   ]
  },
  {
   "cell_type": "code",
   "execution_count": null,
   "metadata": {
    "collapsed": false
   },
   "outputs": [],
   "source": [
    "print(reversed(cities))"
   ]
  },
  {
   "cell_type": "markdown",
   "metadata": {},
   "source": [
    "**What we got from `reversed()` is called an iterator.** A Python iterator is any object that iteratively produces a value as part of a loop.\n",
    "\n",
    "Remember that everything in Python is an object. Objects that are also iterators have a special built-in behavior where they \"give up\" a value when they're used inside a `for` loop, `while` loop, or similar iterative procedure. Put another way, iterators only produce new values *on demand.* By returning an iterator instead of a reversed copy of the list, the `reversed()` function is saving memory and computing time."
   ]
  },
  {
   "cell_type": "code",
   "execution_count": null,
   "metadata": {
    "collapsed": false
   },
   "outputs": [],
   "source": [
    "for each in reversed(cities):\n",
    "    print(each)"
   ]
  },
  {
   "cell_type": "markdown",
   "metadata": {},
   "source": [
    "# Analyzing Data from Multiple Files"
   ]
  },
  {
   "cell_type": "markdown",
   "metadata": {},
   "source": [
    "We have almost all of the tools we need to process all of our data files. The last thing we need is a tool for navigating our file system and finding the files that we're interested in."
   ]
  },
  {
   "cell_type": "code",
   "execution_count": null,
   "metadata": {
    "collapsed": true
   },
   "outputs": [],
   "source": [
    "import glob"
   ]
  },
  {
   "cell_type": "markdown",
   "metadata": {},
   "source": [
    "The `glob` library contains a function, also called `glob`, that finds files and directories whose names match a pattern. The pattern is referred to as a \"glob regular expression,\" hence the name of this Python module and its chief function.\n",
    "\n",
    "`glob` patterns have two wildcards:\n",
    "\n",
    "- The `*` character matches zero or more characters;\n",
    "- The `?` character matches any one character.\n",
    "\n",
    "We can use this to get the names of all the CSV files in the current directory:"
   ]
  },
  {
   "cell_type": "code",
   "execution_count": null,
   "metadata": {
    "collapsed": false
   },
   "outputs": [],
   "source": [
    "glob.glob('*.csv')"
   ]
  },
  {
   "cell_type": "markdown",
   "metadata": {},
   "source": [
    "As you can see, `glob` returns a list of the matching files as a list. This means that we can loop over the list of filenames, doing something with each filename in turn.\n",
    "\n",
    "In our case, we want to generate a set of plots for each file in our temperature dataset."
   ]
  },
  {
   "cell_type": "markdown",
   "metadata": {},
   "source": [
    "## First Step: Looping over Files"
   ]
  },
  {
   "cell_type": "markdown",
   "metadata": {},
   "source": [
    "First, let's confirm that we can loop over filenames and load in each file."
   ]
  },
  {
   "cell_type": "code",
   "execution_count": null,
   "metadata": {
    "collapsed": false
   },
   "outputs": [],
   "source": [
    "filenames = glob.glob('*.csv')\n",
    "\n",
    "for fname in filenames:\n",
    "    print('Working on', fname, '...')\n",
    "    data = np.loadtxt(fname, delimiter = ',')"
   ]
  },
  {
   "cell_type": "markdown",
   "metadata": {},
   "source": [
    "## Second Step: Generating a Plot"
   ]
  },
  {
   "cell_type": "markdown",
   "metadata": {},
   "source": [
    "Let's use the variables created in the last iteration of the loop to test that we can create the `matplotlib` figure that we want. **Recall that after a `for` loop has finished, the looping variable retains the value of the last element accessed in the loop.**"
   ]
  },
  {
   "cell_type": "code",
   "execution_count": null,
   "metadata": {
    "collapsed": false
   },
   "outputs": [],
   "source": [
    "fname"
   ]
  },
  {
   "cell_type": "code",
   "execution_count": null,
   "metadata": {
    "collapsed": false
   },
   "outputs": [],
   "source": [
    "fig = pyplot.figure(figsize = (10.0, 3.0))\n",
    "axes1 = fig.add_subplot(1, 3, 1)\n",
    "axes2 = fig.add_subplot(1, 3, 2)\n",
    "axes3 = fig.add_subplot(1, 3, 3)\n",
    "\n",
    "axes1.set_ylabel('Average (deg K)')\n",
    "axes1.plot(data.mean(axis = 1))\n",
    "\n",
    "axes2.set_ylabel('Minimum (deg K)')\n",
    "axes2.plot(data.min(axis = 1))\n",
    "\n",
    "axes3.set_ylabel('Maximum (deg K)')\n",
    "axes3.plot(data.max(axis = 1))\n",
    "\n",
    "fig.tight_layout()\n",
    "pyplot.show()"
   ]
  },
  {
   "cell_type": "markdown",
   "metadata": {},
   "source": [
    "## Third Step: Putting It All Together"
   ]
  },
  {
   "cell_type": "markdown",
   "metadata": {},
   "source": [
    "Now we need to combine the code we've written so far so that we create these images for each file."
   ]
  },
  {
   "cell_type": "code",
   "execution_count": null,
   "metadata": {
    "collapsed": false
   },
   "outputs": [],
   "source": [
    "import glob\n",
    "import numpy as np\n",
    "import matplotlib.pyplot as pyplot\n",
    "%matplotlib inline\n",
    "\n",
    "# Get a list of the filenames we're interested in\n",
    "filenames = glob.glob('*.csv')\n",
    "\n",
    "for fname in filenames:\n",
    "    print('Working on', fname, '...')\n",
    "    \n",
    "    # Load the data\n",
    "    data = np.loadtxt(fname, delimiter = ',')\n",
    "    \n",
    "    # Create a 1 x 3 figure\n",
    "    fig = pyplot.figure(figsize = (10.0, 3.0))\n",
    "    axes1 = fig.add_subplot(1, 3, 1)\n",
    "    axes2 = fig.add_subplot(1, 3, 2)\n",
    "    axes3 = fig.add_subplot(1, 3, 3)\n",
    "\n",
    "    axes1.set_ylabel('Average (deg K)')\n",
    "    axes1.plot(data.mean(axis = 1))\n",
    "\n",
    "    axes2.set_ylabel('Minimum (deg K)')\n",
    "    axes2.plot(data.min(axis = 1))\n",
    "\n",
    "    axes3.set_ylabel('Maximum (deg K)')\n",
    "    axes3.plot(data.max(axis = 1))\n",
    "\n",
    "    fig.tight_layout()\n",
    "    pyplot.show()"
   ]
  },
  {
   "cell_type": "markdown",
   "metadata": {},
   "source": [
    "**Note that I've introduced comments into my code using the hash character, `#`.** Anything that comes after this symbol, on the same line, we'll be ignored by the Python interpreter. This is a really useful way of reminding yourself, as well as communicating to others, what certain parts of your code are doing."
   ]
  },
  {
   "cell_type": "markdown",
   "metadata": {},
   "source": [
    "### Challenge: Integrating over Multiple File Datasets"
   ]
  },
  {
   "cell_type": "markdown",
   "metadata": {},
   "source": [
    "**For each location (each file), plot the difference between that location's mean temperature and the mean across all locations.**\n",
    "\n",
    "Hint: One way to calculate the mean across five (5) files is by adding the 5 arrays together, then dividing by 5. You can add arrays together in a loop like this:\n",
    "\n",
    "```py\n",
    "# Start with an array full of zeros that is 69-elements long\n",
    "running_total = np.zeros((69))\n",
    "\n",
    "for fname in filenames:\n",
    "    data = np.loadtxt(fname, delimiter = ',')\n",
    "    running_total = running_total + data.mean(axis = 1)\n",
    "```\n",
    "\n",
    "Hint: How do you difference two arrays? Remember how the plus, `+`, and minus, `-`, operators work on arrays?"
   ]
  },
  {
   "cell_type": "code",
   "execution_count": null,
   "metadata": {
    "collapsed": false
   },
   "outputs": [],
   "source": [
    "filenames = glob.glob('*.csv')\n",
    "\n",
    "running_total = np.zeros((69))\n",
    "\n",
    "for fname in filenames:\n",
    "    data = np.loadtxt(fname, delimiter = ',')\n",
    "    running_total = running_total + data.mean(axis = 1)\n",
    "    \n",
    "overall_mean = running_total / len(filenames)\n",
    "\n",
    "for fname in filenames:\n",
    "    data = np.loadtxt(fname, delimiter = ',')\n",
    "    fig = pyplot.figure(figsize = (10.0, 3.0))\n",
    "    axis1 = fig.add_subplot(1, 1, 1)\n",
    "    axis1.plot((data.mean(axis = 1) - overall_mean))\n",
    "    axis1.set_title(fname)\n",
    "    pyplot.show()"
   ]
  },
  {
   "cell_type": "markdown",
   "metadata": {},
   "source": [
    "# Conditional Evaluation"
   ]
  },
  {
   "cell_type": "markdown",
   "metadata": {},
   "source": [
    "As humans, we often face choices in our work and daily lives. Given some information about the world, we make a decision to do one thing or another.\n",
    "\n",
    "It should be obvious that our computer programs need to do this as well. **So far, we've written Python code that does the exact same thing with whatever input it receives.** This is a great benefit, of course, for our productivity; we can reliably perform analyses the same way on multiple datasets.\n",
    "\n",
    "Now, we need to learn how Python can detect certain **conditions** and act accordingly.\n",
    "\n",
    "**Conditional evaluation** in Python is performed using what are called **conditional statements.**"
   ]
  },
  {
   "cell_type": "code",
   "execution_count": null,
   "metadata": {
    "collapsed": false
   },
   "outputs": [],
   "source": [
    "a_number = 42\n",
    "\n",
    "if a_number > 100:\n",
    "    print('Greater')\n",
    "    \n",
    "else:\n",
    "    print('Not greater')\n",
    "    \n",
    "print('Done')"
   ]
  },
  {
   "cell_type": "markdown",
   "metadata": {},
   "source": [
    "This code can be represented by the following workflow.\n",
    "\n",
    "![](./python-flowchart-conditional.png)"
   ]
  },
  {
   "cell_type": "markdown",
   "metadata": {},
   "source": [
    "The `if` statement in Python is a conditional statement; it contains a conditional expression, which evaluates to `True` or `False`."
   ]
  },
  {
   "cell_type": "code",
   "execution_count": null,
   "metadata": {
    "collapsed": false
   },
   "outputs": [],
   "source": [
    "a_number > 100"
   ]
  },
  {
   "cell_type": "markdown",
   "metadata": {},
   "source": [
    "Thus, when the conditional expression following the `if` statement evaluates to `False`, the codes skips to the `else` statement. Note that it is the indented code blocks below the `if` and `else` statements that is **conditionally executed.**\n",
    "\n",
    "`True` and `False` are special values in Python and the first letter is always capitalized.\n",
    "\n",
    "Conditional statements don't have to include the `else` statement. If there is `else` statement, Python simply does nothing when the test is `False`."
   ]
  },
  {
   "cell_type": "code",
   "execution_count": null,
   "metadata": {
    "collapsed": true
   },
   "outputs": [],
   "source": [
    "if a_number > 100:\n",
    "    print(a_number, 'is greater than 100')"
   ]
  },
  {
   "cell_type": "markdown",
   "metadata": {},
   "source": [
    "Note that there is no output associated with this code."
   ]
  },
  {
   "cell_type": "markdown",
   "metadata": {},
   "source": [
    "### Challenge: Conditional Expressions"
   ]
  },
  {
   "cell_type": "markdown",
   "metadata": {},
   "source": [
    "**How can you make this code print \"Greater\" by changing only one line?**\n",
    "\n",
    "```py\n",
    "a_number = 42\n",
    "\n",
    "if a_number > 100:\n",
    "    print('Greater')\n",
    "    \n",
    "else:\n",
    "    print('Not greater')\n",
    "    \n",
    "print('Done')\n",
    "```\n",
    "\n",
    "**There are two (2) one-line changes you could make. Can you find them both?**"
   ]
  },
  {
   "cell_type": "markdown",
   "metadata": {},
   "source": [
    "## Conditional Expressions in Python"
   ]
  },
  {
   "cell_type": "markdown",
   "metadata": {},
   "source": [
    "As we've seen, conditional expressions evaluate to either `True` or `False`. These two, special values are called **logical** or **Boolean** values. Let's get more familiar with Booleans."
   ]
  },
  {
   "cell_type": "code",
   "execution_count": null,
   "metadata": {
    "collapsed": false
   },
   "outputs": [],
   "source": [
    "True and True"
   ]
  },
  {
   "cell_type": "code",
   "execution_count": null,
   "metadata": {
    "collapsed": false
   },
   "outputs": [],
   "source": [
    "True or False"
   ]
  },
  {
   "cell_type": "code",
   "execution_count": null,
   "metadata": {
    "collapsed": false
   },
   "outputs": [],
   "source": [
    "True or not True"
   ]
  },
  {
   "cell_type": "code",
   "execution_count": null,
   "metadata": {
    "collapsed": false
   },
   "outputs": [],
   "source": [
    "not True"
   ]
  },
  {
   "cell_type": "markdown",
   "metadata": {},
   "source": [
    "Here, `and` and `or` are two comparison operators. We've seen \"greater than\" already and there are a couple more."
   ]
  },
  {
   "cell_type": "markdown",
   "metadata": {},
   "source": [
    "**What do each of the following evaluate to, `True` or `False`?**\n",
    "\n",
    "```py\n",
    "1 < 2\n",
    "1 <= 1\n",
    "3 == 3\n",
    "2 != 3\n",
    "```"
   ]
  },
  {
   "cell_type": "markdown",
   "metadata": {},
   "source": [
    "**We can combine multiple comparison operators to create complex tests in our code.**"
   ]
  },
  {
   "cell_type": "code",
   "execution_count": null,
   "metadata": {
    "collapsed": false
   },
   "outputs": [],
   "source": [
    "if (1 > 0) and (-1 > 0):\n",
    "    print('Both parts are true')\n",
    "    \n",
    "else:\n",
    "    print('At least one part is false')"
   ]
  },
  {
   "cell_type": "markdown",
   "metadata": {},
   "source": [
    "What happens if we change the `and` to an `or`?"
   ]
  },
  {
   "cell_type": "code",
   "execution_count": null,
   "metadata": {
    "collapsed": false
   },
   "outputs": [],
   "source": [
    "if (1 > 0) or (-1 > 0):\n",
    "    print('At least one part is true')"
   ]
  },
  {
   "cell_type": "markdown",
   "metadata": {},
   "source": [
    "Finally, we can chain conditional expressions together using `elif`, which stands for \"else if\" and follows an initial `if` statement."
   ]
  },
  {
   "cell_type": "code",
   "execution_count": null,
   "metadata": {
    "collapsed": false
   },
   "outputs": [],
   "source": [
    "number = -3\n",
    "\n",
    "if number > 0:\n",
    "    print('Positive')\n",
    "    \n",
    "elif number == 0:\n",
    "    print('Is Zero')\n",
    "    \n",
    "else:\n",
    "    print('Negative')"
   ]
  },
  {
   "cell_type": "markdown",
   "metadata": {},
   "source": [
    "Whereas each `if` statement has only one `else`, it can have as many `elif` statements as you need."
   ]
  },
  {
   "cell_type": "markdown",
   "metadata": {},
   "source": [
    "## Checking our Data"
   ]
  },
  {
   "cell_type": "markdown",
   "metadata": {},
   "source": [
    "How can we put conditional evaluation to work in analyzing our temperature data? Let's say we're interested in temperature anomalies; that is, the year-to-year deviation in temperature from a long-term mean.\n",
    "\n",
    "Let's also say we want to fit a straight line to the anomalies. **We can use another Python library, `statsmodels`, to fit an ordinary-least squares (OLS) regression to our temperature anomaly.**"
   ]
  },
  {
   "cell_type": "code",
   "execution_count": null,
   "metadata": {
    "collapsed": false
   },
   "outputs": [],
   "source": [
    "import statsmodels.api as sm\n",
    "\n",
    "data = np.loadtxt('wvu.temperature.csv', delimiter = ',')\n",
    "\n",
    "# Subtract the location's long-term mean\n",
    "y_data = data.mean(axis = 1) - data.mean()\n",
    "\n",
    "# Create an array of numbers 1948, 1949, ..., 2016\n",
    "x_data = np.arange(1948, 2017)\n",
    "\n",
    "# Add a constant (the intercept term)\n",
    "x_data = sm.add_constant(x_data)\n",
    "\n",
    "# Fit the temperature anomalies to a simple time series\n",
    "results = sm.OLS(y_data, x_data).fit()\n",
    "results.summary()"
   ]
  },
  {
   "cell_type": "code",
   "execution_count": null,
   "metadata": {
    "collapsed": false
   },
   "outputs": [],
   "source": [
    "b0, b1 = results.params\n",
    "\n",
    "# Calculate a line of best fit\n",
    "fit_line = b0 + (b1 * x_data[:,1])\n",
    "\n",
    "fig = pyplot.figure(figsize = (10.0, 3.0))\n",
    "axis1 = fig.add_subplot(1, 1, 1)\n",
    "axis1.plot(x_data, y_data, 'k')\n",
    "axis1.plot(x_data, fit_line, 'r')\n",
    "axis1.set_xlim(1948, 2016)\n",
    "axis1.set_title(fname)\n",
    "pyplot.show()"
   ]
  },
  {
   "cell_type": "markdown",
   "metadata": {},
   "source": [
    "**What if we wanted to detect the direction of this fit line automatically?** It could be tedious to have a human being tally up how many are trending upwards versus downwards... Let's have the computer do it."
   ]
  },
  {
   "cell_type": "markdown",
   "metadata": {},
   "source": [
    "### Challenge: Fitting a Line over Multiple File Datasets"
   ]
  },
  {
   "cell_type": "markdown",
   "metadata": {},
   "source": [
    "**Write a `for` loop, with an `if` statement inside, that calculates a line of best fit for each dataset's temperature anomalies and prints out a message as to whether that trend line is positive or negative.**\n",
    "\n",
    "Hint: What we want to know about each trend line is whether, for:\n",
    "\n",
    "```py\n",
    "results = sm.OLS(y_data, x_data).fit()\n",
    "b0, b1 = results.params\n",
    "```\n",
    "\n",
    "If `b1`, the slope of the line, is positive or negative."
   ]
  },
  {
   "cell_type": "code",
   "execution_count": null,
   "metadata": {
    "collapsed": false
   },
   "outputs": [],
   "source": [
    "filenames = glob.glob('*.csv')\n",
    "\n",
    "# I can do these things outside of the loop\n",
    "#  because the X data are the same for each dataset\n",
    "x_data = np.arange(1948, 2017)\n",
    "x_data = sm.add_constant(x_data) # Add the intercept term)\n",
    "\n",
    "for fname in filenames:\n",
    "    data = np.loadtxt(fname, delimiter = ',')\n",
    "    \n",
    "    # Subtract the location's long-term mean\n",
    "    y_data = data.mean(axis = 1) - data.mean()\n",
    "\n",
    "    # Fit the temperature anomalies to a simple time series\n",
    "    results = sm.OLS(y_data, x_data).fit()\n",
    "    \n",
    "    b0, b1 = results.params\n",
    "\n",
    "    if b1 > 0:\n",
    "        print(fname, '-- Long-term trend is positive')\n",
    "        \n",
    "    else:\n",
    "        print(fname, '-- Long-term trend is negative')"
   ]
  },
  {
   "cell_type": "markdown",
   "metadata": {},
   "source": [
    "# Creating Functions for Reuse"
   ]
  },
  {
   "cell_type": "markdown",
   "metadata": {},
   "source": [
    "At this point, what have we learned?\n",
    "\n",
    "- What sequences are and how to create them;\n",
    "- A list is created by comma-separated values inside square brackets;\n",
    "- A tuple is created by comma-separated values inside parentheses;\n",
    "- Lists are mutable--their elements can be changed;\n",
    "- Strings and tuples are immutable--the letters or other elements in these sequences cannot be changed;\n",
    "- How to use `glob.glob()` to create a list of files whose names match a given pattern;\n",
    "- How to use `if` statements to test a condition;\n",
    "- How to use `elif` and `else` statements to test alternative conditions;\n",
    "- Conditional operators including `==`, `>=`, `<=`, `and`, and `or`;\n",
    "- `X and Y` is only true if both X and Y are true;\n",
    "- `X or Y` is true if either X, Y, or both are true;\n",
    "- How to implement a test over multiple inputs using an `if` statement inside a `for` loop."
   ]
  },
  {
   "cell_type": "markdown",
   "metadata": {},
   "source": [
    "At this point, we've done a lot of interesting things with our temperature dataset. But our code is getting kind of long. The interesting parts that we've figured out together could be useful to us in the future or to other people. **Is there a way for us to package this code for later re-use?**\n",
    "\n",
    "In Python, we can do just that be creating our own custom functions. We'll start by defining a function that converts temperatures from Kelvin to Celsius."
   ]
  },
  {
   "cell_type": "code",
   "execution_count": null,
   "metadata": {
    "collapsed": true
   },
   "outputs": [],
   "source": [
    "def kelvin_to_celsius(temp_k):\n",
    "    return temp_k - 273.15"
   ]
  },
  {
   "cell_type": "markdown",
   "metadata": {},
   "source": [
    "How do we know this function works? We can devise tests where we know what output should correspond with a given input."
   ]
  },
  {
   "cell_type": "code",
   "execution_count": null,
   "metadata": {
    "collapsed": false
   },
   "outputs": [],
   "source": [
    "if kelvin_to_celsius(273.15) == 0:\n",
    "    print('Passed')\n",
    "    \n",
    "if kelvin_to_celsius(373.15) == 100:\n",
    "    print('Passed')"
   ]
  },
  {
   "cell_type": "markdown",
   "metadata": {},
   "source": [
    "**Let's break down this function definition.**"
   ]
  },
  {
   "cell_type": "markdown",
   "metadata": {},
   "source": [
    "- The `def` keyword indicates to Python that we are defining a function; the name of the function we want to define comes next.\n",
    "- In parentheses after the function name are any **arguments** that function takes. Remember that a function doesn't have to take any arguments. In that case, we still need the parentheses, but there is nothing inside them.\n",
    "- Just as with `for` loops and `if` statements, after the colon, `:`, we indent 4 spaces and then write the **body** of the function. This is what the function actually does when it is called. Inside the body, any arguments provided are available as variables with the name of the argument as we wrote it in the function definition."
   ]
  },
  {
   "cell_type": "markdown",
   "metadata": {},
   "source": [
    "**What happens if we remove the keyword `return` from this function? Make this change and call the function again.**"
   ]
  },
  {
   "cell_type": "markdown",
   "metadata": {},
   "source": [
    "## Composing Multiple Functions"
   ]
  },
  {
   "cell_type": "markdown",
   "metadata": {},
   "source": [
    "Now that we've created a function that converts temperatures in degrees Kelvin to degrees Celsius, let's see if we can write a function that converts from degrees Celsius to degrees Fahrenheit.\n",
    "\n",
    "$$\n",
    "T_F = \\left(T_C \\times \\frac{9}{5}\\right) + 32\n",
    "$$"
   ]
  },
  {
   "cell_type": "code",
   "execution_count": null,
   "metadata": {
    "collapsed": true
   },
   "outputs": [],
   "source": [
    "def celsius_to_fahr(temp_c):\n",
    "    return (temp_c * (9/5)) + 32"
   ]
  },
  {
   "cell_type": "code",
   "execution_count": null,
   "metadata": {
    "collapsed": false
   },
   "outputs": [],
   "source": [
    "if celsius_to_fahr(0) == 32:\n",
    "    print('Passed')\n",
    "    \n",
    "if celsius_to_fahr(-40) == -40:\n",
    "    print('Passed')"
   ]
  },
  {
   "cell_type": "markdown",
   "metadata": {},
   "source": [
    "**Now, what if we want to convert temperatures in degrees to Kelvin to degrees Fahrenheit?**"
   ]
  },
  {
   "cell_type": "code",
   "execution_count": null,
   "metadata": {
    "collapsed": true
   },
   "outputs": [],
   "source": [
    "def kelvin_to_fahr(temp_k):\n",
    "    temp_c = kelvin_to_celsius(temp_k)\n",
    "    return celsius_to_fahr(temp_c)"
   ]
  },
  {
   "cell_type": "code",
   "execution_count": null,
   "metadata": {
    "collapsed": false
   },
   "outputs": [],
   "source": [
    "kelvin_to_fahr(300)"
   ]
  },
  {
   "cell_type": "markdown",
   "metadata": {},
   "source": [
    "Another way to do this is to chain multiple function calls."
   ]
  },
  {
   "cell_type": "code",
   "execution_count": null,
   "metadata": {
    "collapsed": false
   },
   "outputs": [],
   "source": [
    "celsius_to_fahr(kelvin_to_celsius(300))"
   ]
  },
  {
   "cell_type": "code",
   "execution_count": null,
   "metadata": {
    "collapsed": false
   },
   "outputs": [],
   "source": [
    "print(fname)\n",
    "kelvin_to_fahr(data.mean(axis = 0))"
   ]
  },
  {
   "cell_type": "markdown",
   "metadata": {},
   "source": [
    "## Cleaning Up our Analysis Code"
   ]
  },
  {
   "cell_type": "markdown",
   "metadata": {},
   "source": [
    "Now that we understand functions in Python we can begin to clean up the codebase we've established so far.\n",
    "\n",
    "For starters, let's create a function that calculates temperature anomalies."
   ]
  },
  {
   "cell_type": "code",
   "execution_count": null,
   "metadata": {
    "collapsed": false
   },
   "outputs": [],
   "source": [
    "def temperature_anomaly(temp_array):\n",
    "    return temp_array.mean(axis = 1) - temp_array.mean()\n",
    "\n",
    "temperature_anomaly(data)"
   ]
  },
  {
   "cell_type": "markdown",
   "metadata": {},
   "source": [
    "This works great! Now, suppose I suspect the long-term mean is a little biased; maybe I want a different measure of central tendency to use in calculating anomalies. Say, maybe I want to subtract the median temperature value instead of the mean.\n",
    "\n",
    "In Python, I can just add another argument to provide this flexibility."
   ]
  },
  {
   "cell_type": "code",
   "execution_count": null,
   "metadata": {
    "collapsed": false
   },
   "outputs": [],
   "source": [
    "def temperature_anomaly(temp_array, long_term_avg):\n",
    "    return temp_array.mean(axis = 1) - long_term_avg\n",
    "\n",
    "temperature_anomaly(data, np.median(data))"
   ]
  },
  {
   "cell_type": "markdown",
   "metadata": {},
   "source": [
    "This function is more flexible, but I also have to type more. Suppose that I want a function that allows me to use the median value but will default to the mean value, because the mean value is what most people who will use this function want.\n",
    "\n",
    "In Python, functions can take **default arguments;** these are arguments that could be provided when the function is called, but aren't required."
   ]
  },
  {
   "cell_type": "code",
   "execution_count": null,
   "metadata": {
    "collapsed": false
   },
   "outputs": [],
   "source": [
    "def temperature_anomaly(temp_array, long_term_avg = None):\n",
    "    if long_term_avg:\n",
    "        return temp_array.mean(axis = 1) - long_term_avg\n",
    "    \n",
    "    else:\n",
    "        return temp_array.mean(axis = 1) - temp_array.mean()\n",
    "    \n",
    "pyplot.plot(temperature_anomaly(data))\n",
    "pyplot.show()"
   ]
  },
  {
   "cell_type": "code",
   "execution_count": null,
   "metadata": {
    "collapsed": false
   },
   "outputs": [],
   "source": [
    "pyplot.plot(temperature_anomaly(data, np.median(data)))\n",
    "pyplot.show()"
   ]
  },
  {
   "cell_type": "markdown",
   "metadata": {},
   "source": [
    "**`None` is a special value in Python.** It means just that: nothing. It is similar to \"null\" in other programming languages. Like `True` and `False`, the first letter is always capitalized.\n",
    "\n",
    "Because `None` has a \"False-y\" value, we can treat it like the Python `False`."
   ]
  },
  {
   "cell_type": "code",
   "execution_count": null,
   "metadata": {
    "collapsed": false
   },
   "outputs": [],
   "source": [
    "not None"
   ]
  },
  {
   "cell_type": "markdown",
   "metadata": {},
   "source": [
    "However, for various reasons, we usually want to distinguish values that are False-y and values that are `None`. Let's make two changes to our function:\n",
    "\n",
    "- Explicitly test for `None`;\n",
    "- Remove the `else` statement, which is unnecessary;"
   ]
  },
  {
   "cell_type": "code",
   "execution_count": null,
   "metadata": {
    "collapsed": false
   },
   "outputs": [],
   "source": [
    "def temperature_anomaly(temp_array, long_term_avg = None):\n",
    "    if long_term_avg is not None:\n",
    "        return temp_array.mean(axis = 1) - long_term_avg\n",
    "    \n",
    "    return temp_array.mean(axis = 1) - temp_array.mean()\n",
    "\n",
    "pyplot.plot(temperature_anomaly(data))\n",
    "pyplot.show()"
   ]
  },
  {
   "cell_type": "markdown",
   "metadata": {},
   "source": [
    "## Positional versus Keyword Arguments"
   ]
  },
  {
   "cell_type": "markdown",
   "metadata": {},
   "source": [
    "In a Python function, there are two kinds of arguments: **positional arguments** and **keyword arguments.**\n",
    "\n",
    "**Positional arguments** are simpler and more common. In this example, Python knows that the value `1` we've provided is the first (and only) argument, so it assigns this value to the first argument in the corresponding function definition."
   ]
  },
  {
   "cell_type": "code",
   "execution_count": null,
   "metadata": {
    "collapsed": false
   },
   "outputs": [],
   "source": [
    "data.mean(1)"
   ]
  },
  {
   "cell_type": "code",
   "execution_count": null,
   "metadata": {
    "collapsed": true
   },
   "outputs": [],
   "source": [
    "data.mean?"
   ]
  },
  {
   "cell_type": "markdown",
   "metadata": {},
   "source": [
    "We can call this same function more explicitly by providing the `axis`, 1, as a **keyword argument.**"
   ]
  },
  {
   "cell_type": "code",
   "execution_count": null,
   "metadata": {
    "collapsed": false
   },
   "outputs": [],
   "source": [
    "data.mean(axis = 1)"
   ]
  },
  {
   "cell_type": "markdown",
   "metadata": {},
   "source": [
    "Keyword arguments are provided as key-value pairs.\n",
    "\n",
    "Positional arguments have to be provided in the right order, otherwise Python doesn't know which value goes with which argument. When there's only one argument, it doesn't matter, but with multiple arguments, they have to come in order."
   ]
  },
  {
   "cell_type": "code",
   "execution_count": null,
   "metadata": {
    "collapsed": false
   },
   "outputs": [],
   "source": [
    "np.zeros?"
   ]
  },
  {
   "cell_type": "code",
   "execution_count": null,
   "metadata": {
    "collapsed": false
   },
   "outputs": [],
   "source": [
    "np.zeros(10, np.int)"
   ]
  },
  {
   "cell_type": "code",
   "execution_count": null,
   "metadata": {
    "collapsed": false
   },
   "outputs": [],
   "source": [
    "np.zeros(np.int, 10)"
   ]
  },
  {
   "cell_type": "markdown",
   "metadata": {},
   "source": [
    "Keyword arguments, on the other hand, can be provided in any order."
   ]
  },
  {
   "cell_type": "code",
   "execution_count": null,
   "metadata": {
    "collapsed": false
   },
   "outputs": [],
   "source": [
    "np.zeros(dtype = np.int, shape = 10)"
   ]
  },
  {
   "cell_type": "markdown",
   "metadata": {},
   "source": [
    "## Documenting Functions"
   ]
  },
  {
   "cell_type": "markdown",
   "metadata": {},
   "source": [
    "As we saw earlier, comments help clarify to others and our future selves what our intentions are and how our code works. This kind of documentation is critical for creating software that other people want to use and that we will be able to make sense of later.\n",
    "\n",
    "Functions, in particular, should be documented well using both in-line comments and also **docstrings.**"
   ]
  },
  {
   "cell_type": "code",
   "execution_count": null,
   "metadata": {
    "collapsed": true
   },
   "outputs": [],
   "source": [
    "def temperature_anomaly(temp_array, long_term_avg = None):\n",
    "    '''\n",
    "    Calculates the inter-annual temperature anomalies. Subtracts the\n",
    "    long-term mean by default but another long-term average can\n",
    "    be provided as the `long_term_avg` argument.\n",
    "    '''\n",
    "    if long_term_avg is not None:\n",
    "        return temp_array.mean(axis = 1) - long_term_avg\n",
    "    \n",
    "    # If no long-term average is provided, use the overall mean\n",
    "    return temp_array.mean(axis = 1) - temp_array.mean()"
   ]
  },
  {
   "cell_type": "markdown",
   "metadata": {},
   "source": [
    "### Challenge: Functions"
   ]
  },
  {
   "cell_type": "markdown",
   "metadata": {},
   "source": [
    "**Create one (or both, for an extra challenge) of the following functions...**\n",
    "\n",
    "- A function called `fences` that takes an input character string and surrounds it on both sides with another string, e.g., \"pasture\" becomes \"|pasture|\" or \"@pasture@\" if either \"|\" or \"@\" are provided.\n",
    "- A function called `rescale` that takes an array and returns a corresponding array of values scaled to lie in the range 0.0 to 1.0.\n",
    "\n",
    "Hint: Strings can be concatenated with the plus operator.\n",
    "\n",
    "```py\n",
    "'cat' + 's'\n",
    "```\n",
    "\n",
    "Hint: If $x_0$ and $x_1$ are the lowest and highest values in an array, respectively, then the replacement value for any element $x$, scaled to between 0.0 and 1.0, should be:\n",
    "\n",
    "$$\n",
    "\\frac{x - x_0}{x_1 - x_0}\n",
    "$$"
   ]
  },
  {
   "cell_type": "markdown",
   "metadata": {},
   "source": [
    "# Python at the Command Line"
   ]
  },
  {
   "cell_type": "markdown",
   "metadata": {
    "collapsed": true
   },
   "source": [
    "We've seen a lot of tools and techniques for improving our productivity through reproducible Python code. So far, however, we've been working exclusively within Jupyter Notebook. Jupyter Notebook is great for interactive, exploratory work in Python and encourages literate programming, as we discussed earlier. A Notebook is a great place to demonstrate to your future self or your peers how some Python code works.\n",
    "\n",
    "But when it's time to scale-up your work and process data, you want to be on the command line, for all the reasons we saw when we discussed the Unix shell earlier.\n",
    "\n",
    "Let's explore Python programs at the command line using the following *Python script,* `temp_extremes.py`.\n",
    "\n",
    "```py\n",
    "'''\n",
    "Reports the min and max July temperatures for each file\n",
    "that matches the given filename pattern.\n",
    "'''\n",
    "\n",
    "import csv\n",
    "import os\n",
    "import sys\n",
    "import glob\n",
    "\n",
    "def main():\n",
    "    # Get the user-specified directory\n",
    "    directory = sys.argv[1]\n",
    "\n",
    "    # Pattern to use in searching for files\n",
    "    filename_pattern = os.path.join(directory, '*temperature.csv')\n",
    "\n",
    "    for filename in glob.glob(filename_pattern):\n",
    "        july_temps = []\n",
    "\n",
    "        # While the file is open...\n",
    "        with open(filename, 'r') as stream:\n",
    "            # Use a function to read the file\n",
    "            reader = csv.reader(stream)\n",
    "\n",
    "            # Each row is a year\n",
    "            for row in reader:\n",
    "                # Add this year's July temperature to the list\n",
    "                july_temps.append(row[6])\n",
    "\n",
    "        # A human-readable name for the file        \n",
    "        pretty_name = os.path.basename(filename)\n",
    "        print(pretty_name, '--Hottest July mean temp. was', max(july_temps), 'deg K')\n",
    "        print(pretty_name, '--Coolest July mean temp. was', min(july_temps), 'deg K')\n",
    "        \n",
    "        \n",
    "if __name__ == '__main__':\n",
    "    main()\n",
    "```"
   ]
  },
  {
   "cell_type": "markdown",
   "metadata": {},
   "source": [
    "We can run this script on the command line by typing the following:\n",
    "\n",
    "```sh\n",
    "$ python3 temp_extremes.py .\n",
    "```\n",
    "\n",
    "Remember that the single dot, `.` represents the current working directory, which is where all of our temperature CSV files are located."
   ]
  },
  {
   "cell_type": "markdown",
   "metadata": {},
   "source": [
    "## Our First Python Script"
   ]
  },
  {
   "cell_type": "markdown",
   "metadata": {},
   "source": [
    "**Let's investigate this command-line program, line-by-line. We'll start to write this in our own text editor, calling the file `myscript.py` for now.**"
   ]
  },
  {
   "cell_type": "markdown",
   "metadata": {},
   "source": [
    "**The docstring.** Every Python scripts, in fact any `*.py` file, ought to have a docstring at the top. The Python interpreter will accept a stand-alone, literal string at the top of the file without breaking your code; it is basically ignored, like a comment. As a multi-line string, we can type as many lines of text as we want in order to fully describe the purpose of the Python script.\n",
    "\n",
    "```py\n",
    "'''\n",
    "Reports the min and max July temperatures for each file\n",
    "that matches the given filename pattern.\n",
    "'''\n",
    "```"
   ]
  },
  {
   "cell_type": "markdown",
   "metadata": {},
   "source": [
    "**Module imports.** The next few lines are where we import any necessary modules or objects from other Python files. These `import` statements should always be at the top of the script, as we see here. That way, we can tell at a glance what modules need to be installed in order to run this script.\n",
    "\n",
    "```py\n",
    "import csv\n",
    "import os\n",
    "import sys\n",
    "import glob\n",
    "```"
   ]
  },
  {
   "cell_type": "markdown",
   "metadata": {},
   "source": [
    "**Now for the business part of our script. We first want to get the name of the directory where our program should look for temperature CSV files to process.**\n",
    "\n",
    "How can a Python script take an argument from the command line? Recall how we can use the `print()` function to print things to the command line.\n",
    "\n",
    "```py\n",
    "print('Python version:', sys.version)\n",
    "```\n",
    "\n",
    "The `sys` module has an attribute `argv`, which stands for \"argument variables.\" Whenever Python runs a program, it takes all of the values given on the command line and puts them in the list `sys.argv` so that the program can determine what they were.\n",
    "\n",
    "```py\n",
    "print('sys.argv is:', sys.argv)\n",
    "```\n",
    "\n",
    "If we run this program with no arguments, we see that the first item in the list is simply the name of the Python script that was executed:\n",
    "\n",
    "```sh\n",
    "$ python myscript.py\n",
    "```\n",
    "\n",
    "Try calling this script with multiple, different, made-up command-line arguments, e.g.:\n",
    "\n",
    "```sh\n",
    "$ python myscript.py first second third\n",
    "```\n",
    "\n",
    "**So, how can we use this to get the name of the directory we need?**\n",
    "\n",
    "```py\n",
    "# Get the user-specified directory\n",
    "directory = sys.argv[1]\n",
    "files = os.listdir(directory)\n",
    "print(files)\n",
    "```"
   ]
  },
  {
   "cell_type": "markdown",
   "metadata": {},
   "source": [
    "**Next, we want to search this directory's files for temperature CSV files.** We can use the `glob` module to search for files that match GLOB regular expressions, the same file-matching patterns that we used in the Unix shell lesson.\n",
    "\n",
    "We use the `os.path` module's `join()` function to concatenate strings that represent file paths. We could use simple string concatenaion here, but the `join()` function has some additional business logic that checks to make sure we end up with a valid file path, so it's best to use this function always for this purpose.\n",
    "\n",
    "```py\n",
    "# Pattern to use in searching for files\n",
    "filename_pattern = os.path.join(directory, '*temperature.csv')\n",
    "files = glob.glob(filename_pattern)\n",
    "print(files)\n",
    "```"
   ]
  },
  {
   "cell_type": "markdown",
   "metadata": {},
   "source": [
    "### Encapsulating to Keep the Namespace Clean"
   ]
  },
  {
   "cell_type": "markdown",
   "metadata": {},
   "source": [
    "What do we have so far?\n",
    "\n",
    "```py\n",
    "import csv\n",
    "import os\n",
    "import sys\n",
    "import glob\n",
    "\n",
    "# Get the user-specified directory\n",
    "directory = sys.argv[1]\n",
    "\n",
    "# Pattern to use in searching for files\n",
    "filename_pattern = os.path.join(directory, '*temperature.csv')\n",
    "files = glob.glob(filename_pattern)\n",
    "print(files)\n",
    "```\n",
    "\n",
    "This works great but could benefit from some Python best practices. First, we need to observe that every Python script is itself a module to be imported into Python. We can demonstrate this by starting an interactive session:\n",
    "\n",
    "```sh\n",
    "$ python3\n",
    "```\n",
    "\n",
    "And then:\n",
    "\n",
    "```py\n",
    ">>> import myscript\n",
    "```\n",
    "\n",
    "We get an error, but it's only because we are trying to index the `sys.argv` list's second element and it only has one element total (because we didn't call this script from the command line). If we change `sys.argv[1]` to a dot '.' and run it again...\n",
    "\n",
    "```py\n",
    ">>> import myscript\n",
    "```\n",
    "\n",
    "Note that everything in the script we wrote was executed in this session! Even the `print()` function was executed and its output displayed here.\n",
    "\n",
    "**Can you see how this could be problematic?** To avoid this problem, we need to distinguish between objects in our *namespace* that we want to make available to other Python programs and those we want to keep private. In general, if our Python script has one principal purpose, we should create a Python function that fulfills that purpose and hide all the \"sausage-making\" details within.\n",
    "\n",
    "```py\n",
    "import csv\n",
    "import os\n",
    "import sys\n",
    "import glob\n",
    "\n",
    "def main():\n",
    "    # Get the user-specified directory\n",
    "    directory = sys.argv[1]\n",
    "\n",
    "    # Pattern to use in searching for files\n",
    "    filename_pattern = os.path.join(directory, '*temperature.csv')\n",
    "    files = glob.glob(filename_pattern)\n",
    "    print(files)\n",
    "```\n",
    "\n",
    "Now let's run this script again.\n",
    "\n",
    "```sh\n",
    "$ python3 myscript.py .\n",
    "```\n",
    "\n",
    "**What happened?** Nothing. Why? This script merely defines a function, `main()`. There is no place where that function is called.\n",
    "\n",
    "Python has a special syntax that we use in a script for determining when the script is called from the command line.\n",
    "\n",
    "```py\n",
    "if __name__ == '__main__':\n",
    "    main()\n",
    "```\n",
    "\n",
    "**Why does this work? Let's enter an interactive session again.**"
   ]
  },
  {
   "cell_type": "code",
   "execution_count": null,
   "metadata": {
    "collapsed": false
   },
   "outputs": [],
   "source": [
    "__name__"
   ]
  },
  {
   "cell_type": "code",
   "execution_count": null,
   "metadata": {
    "collapsed": false
   },
   "outputs": [],
   "source": [
    "import os\n",
    "os.__name__"
   ]
  },
  {
   "cell_type": "code",
   "execution_count": null,
   "metadata": {
    "collapsed": false
   },
   "outputs": [],
   "source": [
    "import os as something\n",
    "something.__name__"
   ]
  },
  {
   "cell_type": "markdown",
   "metadata": {},
   "source": [
    "So, `__name__` is a special attribute of a module, including the *global environment,* that identifies it. When we execute code in a Python session, rather than as part of a module, it gets the special name `'__main__'`."
   ]
  },
  {
   "cell_type": "markdown",
   "metadata": {},
   "source": [
    "## Alternative Command-Line Tools"
   ]
  },
  {
   "cell_type": "markdown",
   "metadata": {},
   "source": [
    "`sys.argv` is a rather crude tool for processing command-line arguments. There are a couple of alternatives I suggest you look into if you are going to be writing command-line programs in Python:\n",
    "\n",
    "- `argparse`, another built-in library, that handles common cases in a systematic way. Check out [this tutorial](http://docs.python.org/dev/howto/argparse.html).\n",
    "- `Fire`, [a very new Python module from Google](https://opensource.googleblog.com/2017/03/python-fire-command-line.html), which can turn any Python object (function, class, etc.) into a command-line API."
   ]
  },
  {
   "cell_type": "markdown",
   "metadata": {},
   "source": [
    "### Optional: Try out Python Fire"
   ]
  },
  {
   "cell_type": "markdown",
   "metadata": {},
   "source": [
    "[Installation instructions and source code here.](https://github.com/google/python-fire)"
   ]
  },
  {
   "cell_type": "markdown",
   "metadata": {},
   "source": [
    "## Modularization"
   ]
  },
  {
   "cell_type": "markdown",
   "metadata": {},
   "source": [
    "As I indicated earlier, any Python script can be imported like a module. You may have noticed that, as some Python libraries get very large, it's helpful to have *submodules.* For instance, we've seen:\n",
    "\n",
    "```py\n",
    "import matplotlib.pyplot as pyplot\n",
    "import statsmodels.api as sm\n",
    "```\n",
    "\n",
    "At some point you may want to organize all of your related Python code as a module, but you may still want to keep separate Python scripts. A good model for organizing your code is:\n",
    "\n",
    "```\n",
    "package_name/\n",
    "    __init__.py\n",
    "    module1.py\n",
    "    subpackage/\n",
    "        __init__.py\n",
    "        module2.py\n",
    "```\n",
    "\n",
    "Which could be used as:\n",
    "\n",
    "```py\n",
    "import package_name.module1\n",
    "from package_name.module1 import some_function\n",
    "from package_name.subpackage import module2\n",
    "from package_name.subpackage.module2 import another_function\n",
    "```"
   ]
  },
  {
   "cell_type": "markdown",
   "metadata": {},
   "source": [
    "In these examples, a text file titled `__init__.py` is *required* in each directory. This file, which could be blank, indicates to the Python intepreter that the directory containing it should be considered as a Python module."
   ]
  },
  {
   "cell_type": "markdown",
   "metadata": {},
   "source": [
    "### Installing Your Project as a Module"
   ]
  },
  {
   "cell_type": "markdown",
   "metadata": {},
   "source": [
    "We haven't covered installing new Python modules, but when the time is right for you to package your code together as a single module (e.g., as `package_name`, in the example above), [consider installing your module \"in development mode\" first.](https://packaging.python.org/tutorials/distributing-packages/#working-in-development-mode)"
   ]
  },
  {
   "cell_type": "markdown",
   "metadata": {},
   "source": [
    "# Understanding and Handling Errors"
   ]
  },
  {
   "cell_type": "markdown",
   "metadata": {},
   "source": [
    "Every programmer encounters errors;\n",
    "\n",
    "- Both those who are just beginning,\n",
    "- And those who have been programming for years.\n",
    "\n",
    "Encountering errors and exceptions can be very frustrating at times, and can make coding feel like a hopeless endeavour. However, understanding what the different types of errors are and when you are likely to encounter them can help a lot. Once you know why you get certain types of errors, they become much easier to fix.\n",
    "\n",
    "Errors in Python have a very specific form, called a **traceback.** Let’s examine one:"
   ]
  },
  {
   "cell_type": "code",
   "execution_count": null,
   "metadata": {
    "collapsed": false
   },
   "outputs": [],
   "source": [
    "import statsmodels.api as sm\n",
    "\n",
    "def calc_best_fit_line(y_data, x_data = np.arange(1948, 2016)):\n",
    "    '''\n",
    "    Calculates a line of best fit through the `y_data` based\n",
    "    on the provided `x_data`.\n",
    "    '''\n",
    "\n",
    "    # Add a constant (the intercept term)\n",
    "    x_data = sm.add_constant(x_data)\n",
    "\n",
    "    # Fit the temperature anomalies to a simple time series\n",
    "    results = sm.OLS(y_data, x_data).fit()\n",
    "    \n",
    "    return results.params\n",
    "\n",
    "\n",
    "# Load the data\n",
    "data = np.loadtxt('wvu.temperature.csv', delimiter = ',')\n",
    "\n",
    "calc_best_fit_line(temperature_anomaly(data))"
   ]
  },
  {
   "cell_type": "markdown",
   "metadata": {},
   "source": [
    "**This is really long! And intimidating, at first. Let's break it down.**\n",
    "\n",
    "- You can see there are multiple groups in this traceback; each is associated with a different Python file. These are the Python files that have code that was run as part of the code we executed. **It's important to realize that most Python programs depend on a lot of other Python code! This is why we're able to do such complex things so quickly in Python--because a lot of the foundational work has already been done.** However, this also means that tracebacks can get quite long.\n",
    "- In the first line of the traceback, Python tells us the type of error (a `ValueError`) and it reminds us that the \"most recent call [is listed] last.\" This means that the traceback is sorted in the order by which Python functions were called. Each time a Python function calls another Python function, we get a new line in the traceback.\n",
    "- Because the \"most recent call [is listed] last,\" we can see the code that we just wrote at the top, displayed first. **The arrow shows the specific line that started the cascade of functions that led to the error.**\n",
    "- In the last line of the traceback, Python helpfully tells us the category or type of error (in this case, it is an `ValueError`) and a more detailed error message (`'endog and exog matrices are different sizes'`).\n",
    "\n",
    "**To debug this error:** \n",
    "\n",
    "- We have to first understand the error message. \n",
    "- We know `statsmodels` is involved, because that's the codebase that the last line of the traceback is in (according to the filename).\n",
    "- The second line of the traceback shows our call to the `sm.OLS()` function. We might include the name of the `OLS` function in an online search, along with the error message itself.\n",
    "\n",
    "Ultimately, we have to know that `endog` and `exog` are the names of arguments to the `OLS()` function in `statsmodels`. As it turns out, the array we specified for the `x_data` argument in our new function is not the right size. We need to provide `np.arange(1948, 2017)`; recall that in `np.arange()`, the range goes *up to but not including* the second number."
   ]
  },
  {
   "cell_type": "markdown",
   "metadata": {},
   "source": [
    "# Defensive Programming"
   ]
  },
  {
   "cell_type": "markdown",
   "metadata": {},
   "source": [
    "Up to this point, we've introduced the basic tools of programming:\n",
    "\n",
    "- Variables and lists,\n",
    "- File input and output,\n",
    "- Loops,\n",
    "- Conditionals, and\n",
    "- Functions."
   ]
  },
  {
   "cell_type": "markdown",
   "metadata": {},
   "source": [
    "**But how can we tell whether a program is giving us the right answer? How can we tell if it's *still* giving us the right answer after we've made changes to it?**\n",
    "\n",
    "To achieve that, we need to:\n",
    "\n",
    "- Write programs that check their own operation;\n",
    "- Write and run tests for widely-used functions;\n",
    "- And make sure we know what \"correct\" actually means.\n",
    "\n",
    "The good news is that doing all of these things will actually improve our productivity, not slow us down."
   ]
  },
  {
   "cell_type": "markdown",
   "metadata": {},
   "source": [
    "## Assertions"
   ]
  },
  {
   "cell_type": "markdown",
   "metadata": {},
   "source": [
    "The first step toward getting the right answers from our programs is to assume that mistakes *will* happen and to guard against them. This is called **defensive programming,** and the most common way to do it is to add **assertions** to our code so that it checks itself as it runs.\n",
    "\n",
    "For example, let's suppose that one of the first things we do when we acquire new temperature data is to produce a series of temperature anomaly plots."
   ]
  },
  {
   "cell_type": "code",
   "execution_count": 39,
   "metadata": {
    "collapsed": false
   },
   "outputs": [
    {
     "data": {
      "image/png": "[encoded data removed]",
      "text/plain": [
       "<matplotlib.figure.Figure at 0x7f5fe9e6e978>"
      ]
     },
     "metadata": {},
     "output_type": "display_data"
    }
   ],
   "source": [
    "import matplotlib.pyplot as pyplot\n",
    "%matplotlib inline\n",
    "\n",
    "data = np.loadtxt('./barrow.temperature.csv', delimiter = ',')\n",
    "\n",
    "def plot_temperature_anomaly(temp_array):\n",
    "    pyplot.plot(temp_array.mean(axis = 1) - temp_array.mean())\n",
    "    pyplot.show()\n",
    "    \n",
    "plot_temperature_anomaly(data)"
   ]
  },
  {
   "cell_type": "markdown",
   "metadata": {},
   "source": [
    "**Because we're going to compare these temperature anomaly plots to others we've made in the past, using the same function, we expect the temperature data to be in a certain format and with certain units of measure.**\n",
    "\n",
    "What if someone provided data that were not in the correct units, e.g., degrees F instead of degrees C?"
   ]
  },
  {
   "cell_type": "code",
   "execution_count": null,
   "metadata": {
    "collapsed": false
   },
   "outputs": [],
   "source": [
    "plot_temperature_anomaly(kelvin_to_fahr(data))"
   ]
  },
  {
   "cell_type": "markdown",
   "metadata": {},
   "source": [
    "Our temperature anomaly plot has the same shape but the numbers are very different; it looks like the anomalies are more extreme than they really are.\n",
    "\n",
    "**We'd like to add a test to our plotting function to ensure against data with the wrong units being provided.**\n",
    "The `np.all()` function is a useful function that returns `True` *only* if all the elements of an array are True."
   ]
  },
  {
   "cell_type": "code",
   "execution_count": null,
   "metadata": {
    "collapsed": false
   },
   "outputs": [],
   "source": [
    "data_in_f = kelvin_to_fahr(data)\n",
    "\n",
    "# Are all values greater than zero?\n",
    "np.all(data_in_f > 0)"
   ]
  },
  {
   "cell_type": "markdown",
   "metadata": {},
   "source": [
    "This is a good test for regions that experience freezing temperatures, but regions that never experience such temperatures would still pass this test when the units are in Fahrenheit. We may have to add additional tests to absolutely guard against temperature data in the wrong units, but this is a good start."
   ]
  },
  {
   "cell_type": "code",
   "execution_count": null,
   "metadata": {
    "collapsed": false
   },
   "outputs": [],
   "source": [
    "def plot_temperature_anomaly(temp_array):\n",
    "    assert np.all(temp_array > 0), 'Temperature values (in degrees Kelvin) should be greater than zero'\n",
    "    pyplot.plot(temp_array.mean(axis = 1) - temp_array.mean())\n",
    "    pyplot.show()\n",
    "    \n",
    "plot_temperature_anomaly(data)"
   ]
  },
  {
   "cell_type": "code",
   "execution_count": null,
   "metadata": {
    "collapsed": false
   },
   "outputs": [],
   "source": [
    "plot_temperature_anomaly(kelvin_to_fahr(data))"
   ]
  },
  {
   "cell_type": "markdown",
   "metadata": {},
   "source": [
    "Most software programs that you use are full of assertions. In the Firefox web browser, for instance, among versions, 10-20% of the code is there to check that the other 80-90% is working correctly.\n",
    "\n",
    "Broadly speaking, assertions fall into three categories:\n",
    "\n",
    "- A *precondition* is something that must be true at the start of the function in order for it to work correctly.\n",
    "- A *postcondition* is something that the function guarantees is true when it finishes.\n",
    "- An *invariant* is something that is always true at a particular point inside a piece of code.\n",
    "\n",
    "Assertions can be thought of as quality control or quality assurance for software. **Can you think of examples from your work where you would benefit from preconditions, postconditions, or invariants?**"
   ]
  },
  {
   "cell_type": "markdown",
   "metadata": {},
   "source": [
    "Most people who develop software fail to follow two rules when adding assertions to their code: \n",
    "\n",
    "- **Fail early, fail often:** The more time that elapses between when an error occurs and when it is first noticed, the greater the potential damage (e.g., to your analysis, to the outputs of your software) and the harder it will be to debug (because the software has grown to be more complicated and interdependent). Good code catches mistakes as early as possible.\n",
    "- **Turn bugs into assertions or tests:** Whenever you fix a bug, write an assertion that catches the mistake should you make it again. The odds are good that you have made similar mistakes nearby or will make the same or a similar mistake the next time you change this part of this code."
   ]
  },
  {
   "cell_type": "markdown",
   "metadata": {},
   "source": [
    "### Assertations Regarding Type (Optional)"
   ]
  },
  {
   "cell_type": "markdown",
   "metadata": {},
   "source": [
    "When we were creating functions for re-use, we often required one or more function arguments; inputs to the function that were used in the logic of the function body. We made assumptions about what kind of Python object a user provided for each argument. Recall our working example below."
   ]
  },
  {
   "cell_type": "code",
   "execution_count": 27,
   "metadata": {
    "collapsed": true
   },
   "outputs": [],
   "source": [
    "def plot_temperature_anomaly(temp_array):\n",
    "    pyplot.plot(temp_array.mean(axis = 1) - temp_array.mean())\n",
    "    pyplot.show()"
   ]
  },
  {
   "cell_type": "markdown",
   "metadata": {},
   "source": [
    "Here, we assume that the `temp_array` argument is a NumPy array. After all, we need to be able to call the `mean()` method on whatever object receives the `temp_array` name when the function is executed."
   ]
  },
  {
   "cell_type": "code",
   "execution_count": 28,
   "metadata": {
    "collapsed": false
   },
   "outputs": [
    {
     "ename": "AttributeError",
     "evalue": "'list' object has no attribute 'mean'",
     "output_type": "error",
     "traceback": [
      "\u001b[0;31m---------------------------------------------------------------------------\u001b[0m",
      "\u001b[0;31mAttributeError\u001b[0m                            Traceback (most recent call last)",
      "\u001b[0;32m<ipython-input-28-f96a3b7b4bcd>\u001b[0m in \u001b[0;36m<module>\u001b[0;34m()\u001b[0m\n\u001b[0;32m----> 1\u001b[0;31m \u001b[0mplot_temperature_anomaly\u001b[0m\u001b[0;34m(\u001b[0m\u001b[0;34m[\u001b[0m\u001b[0;36m0.5\u001b[0m\u001b[0;34m,\u001b[0m \u001b[0;36m1.0\u001b[0m\u001b[0;34m,\u001b[0m \u001b[0;36m1.5\u001b[0m\u001b[0;34m]\u001b[0m\u001b[0;34m)\u001b[0m\u001b[0;34m\u001b[0m\u001b[0m\n\u001b[0m",
      "\u001b[0;32m<ipython-input-27-2cc532187f56>\u001b[0m in \u001b[0;36mplot_temperature_anomaly\u001b[0;34m(temp_array)\u001b[0m\n\u001b[1;32m      1\u001b[0m \u001b[0;32mdef\u001b[0m \u001b[0mplot_temperature_anomaly\u001b[0m\u001b[0;34m(\u001b[0m\u001b[0mtemp_array\u001b[0m\u001b[0;34m)\u001b[0m\u001b[0;34m:\u001b[0m\u001b[0;34m\u001b[0m\u001b[0m\n\u001b[0;32m----> 2\u001b[0;31m     \u001b[0mpyplot\u001b[0m\u001b[0;34m.\u001b[0m\u001b[0mplot\u001b[0m\u001b[0;34m(\u001b[0m\u001b[0mtemp_array\u001b[0m\u001b[0;34m.\u001b[0m\u001b[0mmean\u001b[0m\u001b[0;34m(\u001b[0m\u001b[0maxis\u001b[0m \u001b[0;34m=\u001b[0m \u001b[0;36m1\u001b[0m\u001b[0;34m)\u001b[0m \u001b[0;34m-\u001b[0m \u001b[0mtemp_array\u001b[0m\u001b[0;34m.\u001b[0m\u001b[0mmean\u001b[0m\u001b[0;34m(\u001b[0m\u001b[0;34m)\u001b[0m\u001b[0;34m)\u001b[0m\u001b[0;34m\u001b[0m\u001b[0m\n\u001b[0m\u001b[1;32m      3\u001b[0m     \u001b[0mpyplot\u001b[0m\u001b[0;34m.\u001b[0m\u001b[0mshow\u001b[0m\u001b[0;34m(\u001b[0m\u001b[0;34m)\u001b[0m\u001b[0;34m\u001b[0m\u001b[0m\n",
      "\u001b[0;31mAttributeError\u001b[0m: 'list' object has no attribute 'mean'"
     ]
    }
   ],
   "source": [
    "plot_temperature_anomaly([0.5, 1.0, 1.5])"
   ]
  },
  {
   "cell_type": "markdown",
   "metadata": {},
   "source": [
    "When we provide the wrong kind of argument to this function, a `list` instead of a NumPy array, the Python interpreter attempts to call the `mean()` method on a `list`. However, a `list` has no method called `mean()`, and so our code breaks.\n",
    "\n",
    "**How can we guard against this type of user error, particularly if we suspect the users of our code will not understand the `AttributeError` above?** In Python, we have functions to check the *type* or class of an object; we can combine this with the `assert` statement that we've already seen."
   ]
  },
  {
   "cell_type": "code",
   "execution_count": 32,
   "metadata": {
    "collapsed": false
   },
   "outputs": [
    {
     "data": {
      "text/plain": [
       "list"
      ]
     },
     "execution_count": 32,
     "metadata": {},
     "output_type": "execute_result"
    }
   ],
   "source": [
    "a_list = [0.5, 1.0, 1.5]\n",
    "type(a_list)"
   ]
  },
  {
   "cell_type": "code",
   "execution_count": 33,
   "metadata": {
    "collapsed": false
   },
   "outputs": [
    {
     "data": {
      "text/plain": [
       "str"
      ]
     },
     "execution_count": 33,
     "metadata": {},
     "output_type": "execute_result"
    }
   ],
   "source": [
    "a_string = 'a string'\n",
    "type(a_string)"
   ]
  },
  {
   "cell_type": "markdown",
   "metadata": {},
   "source": [
    "How does the `type()` function work?"
   ]
  },
  {
   "cell_type": "code",
   "execution_count": 37,
   "metadata": {
    "collapsed": false
   },
   "outputs": [
    {
     "data": {
      "text/plain": [
       "True"
      ]
     },
     "execution_count": 37,
     "metadata": {},
     "output_type": "execute_result"
    }
   ],
   "source": [
    "type(a_string) == str"
   ]
  },
  {
   "cell_type": "markdown",
   "metadata": {},
   "source": [
    "How can we use the `type()` function to guard against a user providing the wrong kind of object?"
   ]
  },
  {
   "cell_type": "code",
   "execution_count": 41,
   "metadata": {
    "collapsed": false
   },
   "outputs": [
    {
     "data": {
      "text/plain": [
       "numpy.ndarray"
      ]
     },
     "execution_count": 41,
     "metadata": {},
     "output_type": "execute_result"
    }
   ],
   "source": [
    "type(data)"
   ]
  },
  {
   "cell_type": "markdown",
   "metadata": {},
   "source": [
    "Recall that we imported the `numpy` library with the alias `np` using:\n",
    "```py\n",
    "import numpy as np\n",
    "```\n",
    "\n",
    "Consequently, when we check for type, we can use either the alias or the original name."
   ]
  },
  {
   "cell_type": "code",
   "execution_count": 44,
   "metadata": {
    "collapsed": false
   },
   "outputs": [
    {
     "data": {
      "text/plain": [
       "True"
      ]
     },
     "execution_count": 44,
     "metadata": {},
     "output_type": "execute_result"
    }
   ],
   "source": [
    "type(data) == np.ndarray == numpy.ndarray"
   ]
  },
  {
   "cell_type": "code",
   "execution_count": 47,
   "metadata": {
    "collapsed": false
   },
   "outputs": [
    {
     "ename": "AssertionError",
     "evalue": "Expected temp_array to be a numpy.ndarray",
     "output_type": "error",
     "traceback": [
      "\u001b[0;31m---------------------------------------------------------------------------\u001b[0m",
      "\u001b[0;31mAssertionError\u001b[0m                            Traceback (most recent call last)",
      "\u001b[0;32m<ipython-input-47-18bfd0716193>\u001b[0m in \u001b[0;36m<module>\u001b[0;34m()\u001b[0m\n\u001b[1;32m      4\u001b[0m     \u001b[0mpyplot\u001b[0m\u001b[0;34m.\u001b[0m\u001b[0mshow\u001b[0m\u001b[0;34m(\u001b[0m\u001b[0;34m)\u001b[0m\u001b[0;34m\u001b[0m\u001b[0m\n\u001b[1;32m      5\u001b[0m \u001b[0;34m\u001b[0m\u001b[0m\n\u001b[0;32m----> 6\u001b[0;31m \u001b[0mplot_temperature_anomaly\u001b[0m\u001b[0;34m(\u001b[0m\u001b[0;34m[\u001b[0m\u001b[0;36m0.5\u001b[0m\u001b[0;34m,\u001b[0m \u001b[0;36m1.0\u001b[0m\u001b[0;34m,\u001b[0m \u001b[0;36m1.5\u001b[0m\u001b[0;34m]\u001b[0m\u001b[0;34m)\u001b[0m\u001b[0;34m\u001b[0m\u001b[0m\n\u001b[0m",
      "\u001b[0;32m<ipython-input-47-18bfd0716193>\u001b[0m in \u001b[0;36mplot_temperature_anomaly\u001b[0;34m(temp_array)\u001b[0m\n\u001b[1;32m      1\u001b[0m \u001b[0;32mdef\u001b[0m \u001b[0mplot_temperature_anomaly\u001b[0m\u001b[0;34m(\u001b[0m\u001b[0mtemp_array\u001b[0m\u001b[0;34m)\u001b[0m\u001b[0;34m:\u001b[0m\u001b[0;34m\u001b[0m\u001b[0m\n\u001b[0;32m----> 2\u001b[0;31m     \u001b[0;32massert\u001b[0m \u001b[0mtype\u001b[0m\u001b[0;34m(\u001b[0m\u001b[0mtemp_array\u001b[0m\u001b[0;34m)\u001b[0m \u001b[0;34m==\u001b[0m \u001b[0mnumpy\u001b[0m\u001b[0;34m.\u001b[0m\u001b[0mndarray\u001b[0m\u001b[0;34m,\u001b[0m \u001b[0;34m'Expected temp_array to be a numpy.ndarray'\u001b[0m\u001b[0;34m\u001b[0m\u001b[0m\n\u001b[0m\u001b[1;32m      3\u001b[0m     \u001b[0mpyplot\u001b[0m\u001b[0;34m.\u001b[0m\u001b[0mplot\u001b[0m\u001b[0;34m(\u001b[0m\u001b[0mtemp_array\u001b[0m\u001b[0;34m.\u001b[0m\u001b[0mmean\u001b[0m\u001b[0;34m(\u001b[0m\u001b[0maxis\u001b[0m \u001b[0;34m=\u001b[0m \u001b[0;36m1\u001b[0m\u001b[0;34m)\u001b[0m \u001b[0;34m-\u001b[0m \u001b[0mtemp_array\u001b[0m\u001b[0;34m.\u001b[0m\u001b[0mmean\u001b[0m\u001b[0;34m(\u001b[0m\u001b[0;34m)\u001b[0m\u001b[0;34m)\u001b[0m\u001b[0;34m\u001b[0m\u001b[0m\n\u001b[1;32m      4\u001b[0m     \u001b[0mpyplot\u001b[0m\u001b[0;34m.\u001b[0m\u001b[0mshow\u001b[0m\u001b[0;34m(\u001b[0m\u001b[0;34m)\u001b[0m\u001b[0;34m\u001b[0m\u001b[0m\n\u001b[1;32m      5\u001b[0m \u001b[0;34m\u001b[0m\u001b[0m\n",
      "\u001b[0;31mAssertionError\u001b[0m: Expected temp_array to be a numpy.ndarray"
     ]
    }
   ],
   "source": [
    "def plot_temperature_anomaly(temp_array):\n",
    "    assert type(temp_array) == numpy.ndarray, 'Expected temp_array to be a numpy.ndarray'\n",
    "    pyplot.plot(temp_array.mean(axis = 1) - temp_array.mean())\n",
    "    pyplot.show()\n",
    "    \n",
    "plot_temperature_anomaly([0.5, 1.0, 1.5])"
   ]
  },
  {
   "cell_type": "markdown",
   "metadata": {},
   "source": [
    "### Challenge: Asserting Type in a Function"
   ]
  },
  {
   "cell_type": "markdown",
   "metadata": {},
   "source": [
    "Recall the `celsius_to_fahr()` function we saw earlier. Implement a type-checking assertion that produces an `AssertionError` when the `temp_c` argument is not a number. Remember that there are two types of numbers we've see in Python so far:\n",
    "\n",
    "- `float`\n",
    "- `int`\n",
    "\n",
    "You can decide whether the `celsius_to_fahr()` function should accept one or both of these types as inputs. **Don't forget to provide a helpful message as part of the `AssertionError`.**"
   ]
  },
  {
   "cell_type": "code",
   "execution_count": null,
   "metadata": {
    "collapsed": true
   },
   "outputs": [],
   "source": [
    "def celsius_to_fahr(temp_c):\n",
    "    return (temp_c * (9/5)) + 32"
   ]
  },
  {
   "cell_type": "markdown",
   "metadata": {},
   "source": [
    "### Assertions Regarding Inherited Type (Optional)"
   ]
  },
  {
   "cell_type": "markdown",
   "metadata": {},
   "source": [
    "Assertions on the `type` of an object are extremely useful when we want to test that a particular Python object is a specific type. However, there are many situations where testing the `type` of an object is not ideal.\n",
    "\n",
    "We won't go into too much detail regarding Python classes, subclasses, and inheritance. **Suffice to say, in Python, some kinds of objects are very similar to other kinds of objects but have distinct types.**\n",
    "\n",
    "As a quick toy example, suppose that we have a simple function that reports on the *metadata* related to our temperature data."
   ]
  },
  {
   "cell_type": "code",
   "execution_count": 68,
   "metadata": {
    "collapsed": true
   },
   "outputs": [],
   "source": [
    "my_metadata = {'date': '2018-05-10', 'units': 'Celsius'}\n",
    "def check_metadata(metadata):\n",
    "    assert type(metadata) == dict, 'Expected a Python dictionary'\n",
    "    print(list(metadata.keys()))"
   ]
  },
  {
   "cell_type": "code",
   "execution_count": 69,
   "metadata": {
    "collapsed": false
   },
   "outputs": [
    {
     "name": "stdout",
     "output_type": "stream",
     "text": [
      "['units', 'date']\n"
     ]
    }
   ],
   "source": [
    "check_metadata(my_metadata)"
   ]
  },
  {
   "cell_type": "markdown",
   "metadata": {},
   "source": [
    "This function takes a Python dictionary, or `dict`, which, as we've discussed, is a way of representing key-value pairs. Recall that Python dictionaries are inherently unordered: the key-value pairs have no intrinsic ordering. However, there is a similar built-in data type, called an ordered dictionary, or `OrderedDict`, which does allow the key-value pairs to maintain an order."
   ]
  },
  {
   "cell_type": "code",
   "execution_count": 70,
   "metadata": {
    "collapsed": false
   },
   "outputs": [
    {
     "data": {
      "text/plain": [
       "OrderedDict([('units', 'Celsius'), ('date', '2018-05-10')])"
      ]
     },
     "execution_count": 70,
     "metadata": {},
     "output_type": "execute_result"
    }
   ],
   "source": [
    "from collections import OrderedDict\n",
    "OrderedDict(my_metadata)"
   ]
  },
  {
   "cell_type": "code",
   "execution_count": 71,
   "metadata": {
    "collapsed": false
   },
   "outputs": [
    {
     "data": {
      "text/plain": [
       "odict_keys(['units', 'date'])"
      ]
     },
     "execution_count": 71,
     "metadata": {},
     "output_type": "execute_result"
    }
   ],
   "source": [
    "my_ordered_metadata = OrderedDict(my_metadata)\n",
    "my_ordered_metadata.keys()"
   ]
  },
  {
   "cell_type": "markdown",
   "metadata": {},
   "source": [
    "**What if we used `OrderedDict` to represent our metadata?**"
   ]
  },
  {
   "cell_type": "code",
   "execution_count": 74,
   "metadata": {
    "collapsed": false
   },
   "outputs": [
    {
     "ename": "AssertionError",
     "evalue": "Expected a Python dictionary",
     "output_type": "error",
     "traceback": [
      "\u001b[0;31m---------------------------------------------------------------------------\u001b[0m",
      "\u001b[0;31mAssertionError\u001b[0m                            Traceback (most recent call last)",
      "\u001b[0;32m<ipython-input-74-ef74ee740266>\u001b[0m in \u001b[0;36m<module>\u001b[0;34m()\u001b[0m\n\u001b[0;32m----> 1\u001b[0;31m \u001b[0mcheck_metadata\u001b[0m\u001b[0;34m(\u001b[0m\u001b[0mmy_ordered_metadata\u001b[0m\u001b[0;34m)\u001b[0m\u001b[0;34m\u001b[0m\u001b[0m\n\u001b[0m",
      "\u001b[0;32m<ipython-input-68-1899d02982e8>\u001b[0m in \u001b[0;36mcheck_metadata\u001b[0;34m(metadata)\u001b[0m\n\u001b[1;32m      1\u001b[0m \u001b[0mmy_metadata\u001b[0m \u001b[0;34m=\u001b[0m \u001b[0;34m{\u001b[0m\u001b[0;34m'date'\u001b[0m\u001b[0;34m:\u001b[0m \u001b[0;34m'2018-05-10'\u001b[0m\u001b[0;34m,\u001b[0m \u001b[0;34m'units'\u001b[0m\u001b[0;34m:\u001b[0m \u001b[0;34m'Celsius'\u001b[0m\u001b[0;34m}\u001b[0m\u001b[0;34m\u001b[0m\u001b[0m\n\u001b[1;32m      2\u001b[0m \u001b[0;32mdef\u001b[0m \u001b[0mcheck_metadata\u001b[0m\u001b[0;34m(\u001b[0m\u001b[0mmetadata\u001b[0m\u001b[0;34m)\u001b[0m\u001b[0;34m:\u001b[0m\u001b[0;34m\u001b[0m\u001b[0m\n\u001b[0;32m----> 3\u001b[0;31m     \u001b[0;32massert\u001b[0m \u001b[0mtype\u001b[0m\u001b[0;34m(\u001b[0m\u001b[0mmetadata\u001b[0m\u001b[0;34m)\u001b[0m \u001b[0;34m==\u001b[0m \u001b[0mdict\u001b[0m\u001b[0;34m,\u001b[0m \u001b[0;34m'Expected a Python dictionary'\u001b[0m\u001b[0;34m\u001b[0m\u001b[0m\n\u001b[0m\u001b[1;32m      4\u001b[0m     \u001b[0mprint\u001b[0m\u001b[0;34m(\u001b[0m\u001b[0mlist\u001b[0m\u001b[0;34m(\u001b[0m\u001b[0mmetadata\u001b[0m\u001b[0;34m.\u001b[0m\u001b[0mkeys\u001b[0m\u001b[0;34m(\u001b[0m\u001b[0;34m)\u001b[0m\u001b[0;34m)\u001b[0m\u001b[0;34m)\u001b[0m\u001b[0;34m\u001b[0m\u001b[0m\n",
      "\u001b[0;31mAssertionError\u001b[0m: Expected a Python dictionary"
     ]
    }
   ],
   "source": [
    "check_metadata(my_ordered_metadata)"
   ]
  },
  {
   "cell_type": "markdown",
   "metadata": {},
   "source": [
    "Our assertion is working just as we expected. `OrderedDict` has a different `type` from the regular `dict` type."
   ]
  },
  {
   "cell_type": "code",
   "execution_count": 75,
   "metadata": {
    "collapsed": false
   },
   "outputs": [
    {
     "data": {
      "text/plain": [
       "collections.OrderedDict"
      ]
     },
     "execution_count": 75,
     "metadata": {},
     "output_type": "execute_result"
    }
   ],
   "source": [
    "type(my_ordered_metadata)"
   ]
  },
  {
   "cell_type": "markdown",
   "metadata": {},
   "source": [
    "But an `OrderedDict` isn't all that different from a `dict`. They both store key-value pairs. Can't we re-write this assertion so that our function accepts both `dict` and `OrderedDict` types?\n",
    "\n",
    "**There is another way to check the *class* of an object in Python that acknowledges that some Python objects are descended from others.** Again, we won't go into too much detail about this, but it turns out that the `OrderedDict` class is descended from, or *inherits* from the `dict` class. They both have a `keys()` method, which is all that really matters for the purposes of our `check_metadata()` function. "
   ]
  },
  {
   "cell_type": "code",
   "execution_count": 78,
   "metadata": {
    "collapsed": false
   },
   "outputs": [
    {
     "data": {
      "text/plain": [
       "True"
      ]
     },
     "execution_count": 78,
     "metadata": {},
     "output_type": "execute_result"
    }
   ],
   "source": [
    "isinstance(my_metadata, dict)"
   ]
  },
  {
   "cell_type": "code",
   "execution_count": 79,
   "metadata": {
    "collapsed": false
   },
   "outputs": [
    {
     "data": {
      "text/plain": [
       "True"
      ]
     },
     "execution_count": 79,
     "metadata": {},
     "output_type": "execute_result"
    }
   ],
   "source": [
    "isinstance(my_ordered_metadata, dict)"
   ]
  },
  {
   "cell_type": "code",
   "execution_count": 81,
   "metadata": {
    "collapsed": false
   },
   "outputs": [
    {
     "name": "stdout",
     "output_type": "stream",
     "text": [
      "['units', 'date']\n"
     ]
    }
   ],
   "source": [
    "def check_metadata(metadata):\n",
    "    assert isinstance(metadata, dict), 'Expected something like a Python dictionary'\n",
    "    print(list(metadata.keys()))\n",
    "    \n",
    "check_metadata(my_ordered_metadata)"
   ]
  },
  {
   "cell_type": "markdown",
   "metadata": {},
   "source": [
    "### Duck Typing (Optional)"
   ]
  },
  {
   "cell_type": "markdown",
   "metadata": {},
   "source": [
    "We've seen two ways of verifying the type or class of an object in Python.\n",
    "\n",
    "- `type()`\n",
    "- `isinstance()`\n",
    "\n",
    "The major limitation with both of these approaches, however, is that they don't actually verify what we're most interested in: whether or not the Python object in question has the *attributes* we really care about.\n",
    "\n",
    "- In the temperature anomaly example, we didn't really care that the user's input was a NumPy array; we just wanted  something that holds a series of values and possesses a `mean()` method.\n",
    "- In the `check_metadata()` example, we didn't really care whether the user's input was a `dict` or an `OrderedDict`; we just wanted something that holds key-values pairs and possess a `keys()` method.\n",
    "\n",
    "Today, most software engineers argue that, instead of testing the `type` or `class` of an object, you should test that an object has the properties you are interested in. **This approach is called *duck typing,* as in the old maxim:**\n",
    "\n",
    "> If it looks like a duck, swims like a duck, and quacks like a duck, then it probably is a duck.\n",
    "\n",
    "That is, if we want to test whether a Python object is a duck, we shouldn't bother with:\n",
    "\n",
    "```py\n",
    "type(maybe_duck, duck)\n",
    "isinstance(maybe_duck, duck)\n",
    "```\n",
    "\n",
    "Instead, we should test whether duck looks, swims, or quacks like a duck."
   ]
  },
  {
   "cell_type": "code",
   "execution_count": 86,
   "metadata": {
    "collapsed": false
   },
   "outputs": [
    {
     "data": {
      "text/plain": [
       "True"
      ]
     },
     "execution_count": 86,
     "metadata": {},
     "output_type": "execute_result"
    }
   ],
   "source": [
    "hasattr(data, 'mean')"
   ]
  },
  {
   "cell_type": "code",
   "execution_count": 85,
   "metadata": {
    "collapsed": false
   },
   "outputs": [
    {
     "ename": "AssertionError",
     "evalue": "Expected temp_array to have a mean() method, like numpy.ndarray",
     "output_type": "error",
     "traceback": [
      "\u001b[0;31m---------------------------------------------------------------------------\u001b[0m",
      "\u001b[0;31mAssertionError\u001b[0m                            Traceback (most recent call last)",
      "\u001b[0;32m<ipython-input-85-1991761ebbd0>\u001b[0m in \u001b[0;36m<module>\u001b[0;34m()\u001b[0m\n\u001b[1;32m      4\u001b[0m     \u001b[0mpyplot\u001b[0m\u001b[0;34m.\u001b[0m\u001b[0mshow\u001b[0m\u001b[0;34m(\u001b[0m\u001b[0;34m)\u001b[0m\u001b[0;34m\u001b[0m\u001b[0m\n\u001b[1;32m      5\u001b[0m \u001b[0;34m\u001b[0m\u001b[0m\n\u001b[0;32m----> 6\u001b[0;31m \u001b[0mplot_temperature_anomaly\u001b[0m\u001b[0;34m(\u001b[0m\u001b[0;34m[\u001b[0m\u001b[0;36m0.5\u001b[0m\u001b[0;34m,\u001b[0m \u001b[0;36m1.0\u001b[0m\u001b[0;34m,\u001b[0m \u001b[0;36m1.5\u001b[0m\u001b[0;34m]\u001b[0m\u001b[0;34m)\u001b[0m\u001b[0;34m\u001b[0m\u001b[0m\n\u001b[0m",
      "\u001b[0;32m<ipython-input-85-1991761ebbd0>\u001b[0m in \u001b[0;36mplot_temperature_anomaly\u001b[0;34m(temp_array)\u001b[0m\n\u001b[1;32m      1\u001b[0m \u001b[0;32mdef\u001b[0m \u001b[0mplot_temperature_anomaly\u001b[0m\u001b[0;34m(\u001b[0m\u001b[0mtemp_array\u001b[0m\u001b[0;34m)\u001b[0m\u001b[0;34m:\u001b[0m\u001b[0;34m\u001b[0m\u001b[0m\n\u001b[0;32m----> 2\u001b[0;31m     \u001b[0;32massert\u001b[0m \u001b[0mhasattr\u001b[0m\u001b[0;34m(\u001b[0m\u001b[0mtemp_array\u001b[0m\u001b[0;34m,\u001b[0m \u001b[0;34m'mean'\u001b[0m\u001b[0;34m)\u001b[0m\u001b[0;34m,\u001b[0m \u001b[0;34m'Expected temp_array to have a mean() method, like numpy.ndarray'\u001b[0m\u001b[0;34m\u001b[0m\u001b[0m\n\u001b[0m\u001b[1;32m      3\u001b[0m     \u001b[0mpyplot\u001b[0m\u001b[0;34m.\u001b[0m\u001b[0mplot\u001b[0m\u001b[0;34m(\u001b[0m\u001b[0mtemp_array\u001b[0m\u001b[0;34m.\u001b[0m\u001b[0mmean\u001b[0m\u001b[0;34m(\u001b[0m\u001b[0maxis\u001b[0m \u001b[0;34m=\u001b[0m \u001b[0;36m1\u001b[0m\u001b[0;34m)\u001b[0m \u001b[0;34m-\u001b[0m \u001b[0mtemp_array\u001b[0m\u001b[0;34m.\u001b[0m\u001b[0mmean\u001b[0m\u001b[0;34m(\u001b[0m\u001b[0;34m)\u001b[0m\u001b[0;34m)\u001b[0m\u001b[0;34m\u001b[0m\u001b[0m\n\u001b[1;32m      4\u001b[0m     \u001b[0mpyplot\u001b[0m\u001b[0;34m.\u001b[0m\u001b[0mshow\u001b[0m\u001b[0;34m(\u001b[0m\u001b[0;34m)\u001b[0m\u001b[0;34m\u001b[0m\u001b[0m\n\u001b[1;32m      5\u001b[0m \u001b[0;34m\u001b[0m\u001b[0m\n",
      "\u001b[0;31mAssertionError\u001b[0m: Expected temp_array to have a mean() method, like numpy.ndarray"
     ]
    }
   ],
   "source": [
    "def plot_temperature_anomaly(temp_array):\n",
    "    assert hasattr(temp_array, 'mean'), 'Expected temp_array to have a mean() method, like numpy.ndarray'\n",
    "    pyplot.plot(temp_array.mean(axis = 1) - temp_array.mean())\n",
    "    pyplot.show()\n",
    "    \n",
    "plot_temperature_anomaly([0.5, 1.0, 1.5])"
   ]
  },
  {
   "cell_type": "markdown",
   "metadata": {},
   "source": [
    "**For more information about types, classes, and how Python represents objects, see:**\n",
    "\n",
    "- [Python 3 Documentation: The Python Data Model](https://docs.python.org/3/reference/datamodel.html#)"
   ]
  },
  {
   "cell_type": "markdown",
   "metadata": {},
   "source": [
    "## Test-Driven Development"
   ]
  },
  {
   "cell_type": "markdown",
   "metadata": {},
   "source": [
    "An assertion checks that something is true at a particular point in the program. The next step is to check the overall behavior or a piece of code, i.e., to make sure that it produces the right output when it's given a particular input."
   ]
  },
  {
   "cell_type": "markdown",
   "metadata": {},
   "source": [
    "For example, suppose we need to find where two or more time series overlap. The range of each time series is represented as a pair of numbers, which are the time the interval started and ended. The output is the largest range that they all include.\n",
    "\n",
    "![](./python-overlapping-ranges.svg)"
   ]
  },
  {
   "cell_type": "markdown",
   "metadata": {},
   "source": [
    "**Most novice programmers would solve the problem like this:**\n",
    "\n",
    "1. Write a function called `range_overlap()`;\n",
    "2. Call it interactively on two or three different inputs;\n",
    "3. If it produces the wrong answer, fix the function and re-run that test.\n",
    "\n",
    "This clearly works, but there's a better way:\n",
    "\n",
    "1. Write a short function for each test that your solution should satisfy if it were to work;\n",
    "2. Write a `range_overlap()` function that should pass those tests;\n",
    "3. If `range_overlap()` produces any wrong answers, fix it and re-run the test functions.\n",
    "\n",
    "**Writing the tests *before* writing the function they exercise is called test-driven development.**"
   ]
  },
  {
   "cell_type": "markdown",
   "metadata": {},
   "source": [
    "Here are three test functions for `range_overlap()`.\n",
    "\n",
    "```py\n",
    "assert range_overlap([ (0.0, 1.0) ]) == (0.0, 1.0)\n",
    "assert range_overlap([ (2.0, 3.0), (2.0, 4.0) ]) == (2.0, 3.0)\n",
    "assert range_overlap([ (0.0, 1.0), (0.0, 2.0), (-1.0, 1.0) ]) == (0.0, 1.0)\n",
    "```"
   ]
  },
  {
   "cell_type": "markdown",
   "metadata": {},
   "source": [
    "As part of writing these tests, we've implicitly defined what our input and output look like: we expect a list of pairs as input and produce a single pair as output."
   ]
  },
  {
   "cell_type": "markdown",
   "metadata": {},
   "source": [
    "We're missing a test case, however; what should happen when the ranges don't overlap at all? Or if they share a boundary?\n",
    "\n",
    "```py\n",
    "assert range_overlap([ (0.0, 1.0), (5.0, 6.0) ]) == ???\n",
    "assert range_overlap([ (0.0, 1.0), (1.0, 2.0) ]) == ???\n",
    "```"
   ]
  },
  {
   "cell_type": "markdown",
   "metadata": {},
   "source": [
    "What should `range_overlap()` do in the first case? Fail with an error message? Return a special value?\n",
    "\n",
    "And in the second case... Does the pair of ranges overlap? Mathematicians would generally say \"yes,\" while engineers would generally say \"no.\"\n",
    "\n",
    "Any actual implementation of the function will come down on one side or the other of these issues; writing the test *first* helps us figure out which is best *before* we're invested in whatever we happened to write before we realized there was an issue."
   ]
  },
  {
   "cell_type": "markdown",
   "metadata": {},
   "source": [
    "**Since we're planning to use the `range_overlap()` function to generate a time series for the horizontal axis in a plot, we'll decide:**\n",
    "\n",
    "- Every overlap has to have non-zero width, and,\n",
    "- We will return the special value `None` when there's no overlap.\n",
    "\n",
    "`None` is built into Python and means \"nothing here.\"\n",
    "\n",
    "```py\n",
    "assert range_overlap([ (0.0, 1.0), (5.0, 6.0) ]) == None\n",
    "assert range_overlap([ (0.0, 1.0), (1.0, 2.0) ]) == None\n",
    "```"
   ]
  },
  {
   "cell_type": "markdown",
   "metadata": {},
   "source": [
    "### A Potential Solution"
   ]
  },
  {
   "cell_type": "code",
   "execution_count": null,
   "metadata": {
    "collapsed": true
   },
   "outputs": [],
   "source": [
    "def range_overlap(ranges):\n",
    "    '''Return common overlap among a set of [low, high] ranges.'''\n",
    "    lowest = 0.0\n",
    "    highest = 1.0\n",
    "    for (low, high) in ranges:\n",
    "        lowest = max(lowest, low)\n",
    "        highest = min(highest, high)\n",
    "        \n",
    "    return (lowest, highest)"
   ]
  },
  {
   "cell_type": "markdown",
   "metadata": {},
   "source": [
    "Let's see if this does the trick. We can write a single function that encompasses all of our tests to make development and future testing that much easier."
   ]
  },
  {
   "cell_type": "code",
   "execution_count": null,
   "metadata": {
    "collapsed": false
   },
   "outputs": [],
   "source": [
    "def test_range_overlap():\n",
    "    assert range_overlap([ (0.0, 1.0), (5.0, 6.0) ]) == None\n",
    "    assert range_overlap([ (0.0, 1.0), (1.0, 2.0) ]) == None\n",
    "    assert range_overlap([ (0.0, 1.0) ]) == (0.0, 1.0)\n",
    "    assert range_overlap([ (2.0, 3.0), (2.0, 4.0) ]) == (2.0, 3.0)\n",
    "    assert range_overlap([ (0.0, 1.0), (0.0, 2.0), (-1.0, 1.0) ]) == (0.0, 1.0)\n",
    "    \n",
    "test_range_overlap()"
   ]
  },
  {
   "cell_type": "markdown",
   "metadata": {},
   "source": [
    "**The first test was supposed to produce `None`, so we know that something is wrong with our function.** We *don't* know whether the other tests passed or failed because Python halted the program as soon as it spotted the first error.\n",
    "\n",
    "It turns out that the problem is that we initialized `lowest` and `highest` to 0.0 and 1.0, respectively, regardless of the input values. **In general, we should always initialize from the data.**\n",
    "\n",
    "There's another problem with our testing framework. When a test fails, we don't know why. We can add a message to any Python assertion that will provide some information about what was expected to happen but didn't."
   ]
  },
  {
   "cell_type": "code",
   "execution_count": null,
   "metadata": {
    "collapsed": false
   },
   "outputs": [],
   "source": [
    "def test_range_overlap():\n",
    "    assert range_overlap([ (0.0, 1.0), (5.0, 6.0) ]) == None, 'Should return None for ranges that do not intersect'\n",
    "    assert range_overlap([ (0.0, 1.0), (1.0, 2.0) ]) == None, 'Should return None for ranges that do not intersect'\n",
    "    assert range_overlap([ (0.0, 1.0) ]) == (0.0, 1.0), 'Should return same input when single pair is provided'\n",
    "    assert range_overlap([ (2.0, 3.0), (2.0, 4.0) ]) == (2.0, 3.0)\n",
    "    assert range_overlap([ (0.0, 1.0), (0.0, 2.0), (-1.0, 1.0) ]) == (0.0, 1.0)\n",
    "    \n",
    "test_range_overlap()"
   ]
  },
  {
   "cell_type": "markdown",
   "metadata": {},
   "source": [
    "### Challenge: Fix the Range Overlap Function"
   ]
  },
  {
   "cell_type": "markdown",
   "metadata": {},
   "source": [
    "Fix `range_overlap()`; re-run `test_range_overlap()` after each change you make."
   ]
  },
  {
   "cell_type": "code",
   "execution_count": null,
   "metadata": {
    "collapsed": false
   },
   "outputs": [],
   "source": [
    "def range_overlap(ranges):\n",
    "    '''Return common overlap among a set of [low, high] ranges.'''\n",
    "    for i, (low, high) in enumerate(ranges):\n",
    "        if i == 0:\n",
    "            lowest, highest = low, high\n",
    "            continue\n",
    "            \n",
    "        lowest = max(lowest, low)\n",
    "        highest = min(highest, high)\n",
    "        \n",
    "    if lowest >= highest:\n",
    "        return None\n",
    "        \n",
    "    return (lowest, highest)\n",
    "\n",
    "test_range_overlap()"
   ]
  },
  {
   "cell_type": "markdown",
   "metadata": {},
   "source": [
    "## When in Doubt..."
   ]
  },
  {
   "cell_type": "code",
   "execution_count": null,
   "metadata": {
    "collapsed": false
   },
   "outputs": [],
   "source": [
    "import this"
   ]
  },
  {
   "cell_type": "markdown",
   "metadata": {},
   "source": [
    "## Testing for Quality Control"
   ]
  },
  {
   "cell_type": "markdown",
   "metadata": {},
   "source": [
    "In scientific computing in particular, testing is used not only to make sure our software continues to work in an expected way but to make sure that the scientific results we derive with our software are consistent and accurate. Often, we build scientific computing workflows to analyze large volumes of data, whether they are large text document collections, high-resolution images, or large genome datasets.\n",
    "\n",
    "**How can we encode expected values into our tests for very large data without reproducing (and storing) excessively large files?** For instance, if we want to test code that takes an input gigabyte-scale file and transforms it into a similarly large file, how can we test that the function works correctly?\n",
    "\n",
    "One approach is obviously to make a sample dataset that is very small but also representative. Another would be to procedurally generate synthetic data. However, if we have reference datasets that we want to run tests on, and we want to ensure that we get the same output every time, the easiest solution is to calculate a *checksum.*\n",
    "\n",
    "**You may have encountered checksums before, say, as a means of verifying that a downloaded or decompressed file is uncorrupted.** A checksum is just a fancy mathematical function that takes in an arbitrarily long byte sequence and returns a short, *unique* alpha-numeric string.\n",
    "\n",
    "As an example, consider our temperature data. We want to convert it from Kevlin to Celsius and test that the output file contains exactly what we expected."
   ]
  },
  {
   "cell_type": "code",
   "execution_count": null,
   "metadata": {
    "collapsed": false
   },
   "outputs": [],
   "source": [
    "data = np.loadtxt('./barrow.temperature.csv', delimiter = ',')\n",
    "\n",
    "# Convert to Celsius\n",
    "data_c = np.apply_along_axis(kelvin_to_celsius, 0, data)\n",
    "data_c"
   ]
  },
  {
   "cell_type": "markdown",
   "metadata": {},
   "source": [
    "We can save our converted array to a CSV file, similar to the one we read in."
   ]
  },
  {
   "cell_type": "code",
   "execution_count": null,
   "metadata": {
    "collapsed": true
   },
   "outputs": [],
   "source": [
    "np.savetxt('./barrow.temperature.Celsius.csv', data_c, delimiter = ',')"
   ]
  },
  {
   "cell_type": "markdown",
   "metadata": {},
   "source": [
    "We can perform a checksum over the contents of this file using the built-in Python library of hash functions. **Recall that a checksum or hash function returns a unique string for any unique input byte sequence.**"
   ]
  },
  {
   "cell_type": "code",
   "execution_count": null,
   "metadata": {
    "collapsed": false
   },
   "outputs": [],
   "source": [
    "import hashlib\n",
    "hash_func = hashlib.sha256()\n",
    "\n",
    "# We have to encode any text strings as bytes\n",
    "hash_func.update(b'Some important scientific data')\n",
    "hash_func.digest()"
   ]
  },
  {
   "cell_type": "markdown",
   "metadata": {},
   "source": [
    "Whenever we call `update()`, the effect is to concatenate the inputs. Thus, after an `update()`, the input has changed and we therefore expect the hexadecimal digest to be different."
   ]
  },
  {
   "cell_type": "code",
   "execution_count": null,
   "metadata": {
    "collapsed": false
   },
   "outputs": [],
   "source": [
    "hash_func.update(b'Some additional scientific data, different from before')\n",
    "hash_func.digest()"
   ]
  },
  {
   "cell_type": "markdown",
   "metadata": {},
   "source": [
    "**How can we use this to verify that a file is unchanged?** We can read the file in as a Python byte array and then hash it."
   ]
  },
  {
   "cell_type": "code",
   "execution_count": null,
   "metadata": {
    "collapsed": false
   },
   "outputs": [],
   "source": [
    "# Re-initialize our hash function to clear any prior inputs\n",
    "hash_func = hashlib.sha256()\n",
    "\n",
    "# Note that the mode must include 'b' for \"binary\"\n",
    "file_stream = open('./barrow.temperature.Celsius.csv', mode = 'rb')\n",
    "hash_func.update(file_stream.read())\n",
    "hash_func.digest()"
   ]
  },
  {
   "cell_type": "markdown",
   "metadata": {},
   "source": [
    "Any time we use `open()` in Python, we need to make sure we close the connection to the file."
   ]
  },
  {
   "cell_type": "code",
   "execution_count": null,
   "metadata": {
    "collapsed": true
   },
   "outputs": [],
   "source": [
    "file_stream.close()"
   ]
  },
  {
   "cell_type": "markdown",
   "metadata": {},
   "source": [
    "A more concise way of doing the same thing, while also testing that the file's contents match a certain checksum, is to use the Python `with` statement."
   ]
  },
  {
   "cell_type": "code",
   "execution_count": null,
   "metadata": {
    "collapsed": false
   },
   "outputs": [],
   "source": [
    "hash_func = hashlib.sha256()\n",
    "\n",
    "with open('./barrow.temperature.Celsius.csv', mode = 'rb') as file_stream:\n",
    "    hash_func.update(file_stream.read())\n",
    "    \n",
    "assert hash_func.digest() == b'}\\x00\\x00U\\xfb\\xaf\\xd2\\xc6\\x11\\xbe\\xc8Rl\\x9b\\xacd\\xa4D9\\x99\"\\xde\\x02A\\xf5dR\\xdd\\x94k\\xaa\\xf6'"
   ]
  },
  {
   "cell_type": "markdown",
   "metadata": {},
   "source": [
    "The Python `with` statement creates a *context,* a part of our code where certain variables are available for use:\n",
    "\n",
    "- When a `with` context is used to `open()` a file, as in the above example, we use `as` to declare a variable. The variable in this case, `file_stream` is available throughout the code block that follows.\n",
    "- Outside of the `with` context (outside of the code block), the `file_stream` variable is no longer available.\n",
    "- When `with` is used to open a file, the file is also automatically closed after the `with` statement's code block is executed. This saves us the trouble of having to call `close()` on the `file_stream` object.\n",
    "\n",
    "Now, if something changed about the file--for instance, if the file's contents were not converted from Kelvin to Celsius, we would detect it as a change in the checksum."
   ]
  },
  {
   "cell_type": "code",
   "execution_count": null,
   "metadata": {
    "collapsed": false
   },
   "outputs": [],
   "source": [
    "hash_func = hashlib.sha256()\n",
    "\n",
    "with open('./barrow.temperature.csv', mode = 'rb') as file_stream:\n",
    "    hash_func.update(file_stream.read())\n",
    "    \n",
    "assert hash_func.digest() == b'}\\x00\\x00U\\xfb\\xaf\\xd2\\xc6\\x11\\xbe\\xc8Rl\\x9b\\xacd\\xa4D9\\x99\"\\xde\\x02A\\xf5dR\\xdd\\x94k\\xaa\\xf6'"
   ]
  },
  {
   "cell_type": "markdown",
   "metadata": {},
   "source": [
    "## Unit Testing"
   ]
  },
  {
   "cell_type": "markdown",
   "metadata": {},
   "source": [
    "**A good test is one that verifies that a *small* and *specific* part of your code is working.** If a test is written too generally, then we don't actually know went wrong when the test fails. In general, when we test a specific part of a larger code base, we are *unit testing.*\n",
    "\n",
    "Python has a built-in unit testing module. Let's try it out.\n",
    "\n",
    "```py\n",
    "import unittest\n",
    "\n",
    "class Main(unittest.TestCase):\n",
    "    \n",
    "    def test_range_overlap_with_disjoint_ranges(self):\n",
    "        'Should return None for ranges that do not intersect'\n",
    "        self.assertEqual(range_overlap([ (0.0, 1.0), (5.0, 6.0) ]), None)\n",
    "        self.assertEqual(range_overlap([ (0.0, 1.0), (1.0, 2.0) ]), None)\n",
    "        \n",
    "    def test_range_overlap_with_single_range(self):\n",
    "        'Should return same input when single range is provided'\n",
    "        self.assertEqual(range_overlap([ (0.0, 1.0) ]), (0.0, 1.0))\n",
    "        \n",
    "        \n",
    "if __name___ == '__main__':\n",
    "    unittest.main()\n",
    "```"
   ]
  },
  {
   "cell_type": "markdown",
   "metadata": {},
   "source": [
    "# Analyzing and Optimizing Performance"
   ]
  },
  {
   "cell_type": "markdown",
   "metadata": {},
   "source": [
    "This workshop on Python has largely been framed as offering a way to improve your productivity. If we are able to get the same job done faster by using Python and other computational tools to automate our workflow, we're definitely going to get the job done faster. But how does Python software typically compare to software written in other languages? How can we measure the performance of a Python program and think critically about its effects on our productivity?\n",
    "\n",
    "Whenever we think about a new programming task and how to implement it, there are choices to be made, first and foremost as to which programming language to use. **We talked about *compiled* languages like C, C++, and Java earlier.** A software program written in a compiled language will almost always take less time to complete the same task than a program written in an interpreted language, like Python. There are several reasons for this, most beyond the scope of this discussion.\n",
    "\n",
    "Importantly, however, we have to consider the differences between languages like C, C++, or Java and a language like Python. While compiled programs, once written, run faster, they take longer to write than a program in Python because Python offers higher-level tools and constructs for getting work done, automatically handling things like file input/ output, memory management, and data types. **Thus, it will almost always take you, the programmer, less time to create the equivalent program in Python than in other languages.** The time it takes to write has to be considered as part of the total \"running time\" of any task you're considering.\n",
    "\n",
    "The time it takes to *re-write* any code should also be considered *before* attempting to change a program to make it run faster."
   ]
  },
  {
   "cell_type": "markdown",
   "metadata": {},
   "source": [
    "> \"Premature optimization is the root of all evil.\" - Sir Tony Hoare (later popularized by Donald Knuth)"
   ]
  },
  {
   "cell_type": "markdown",
   "metadata": {},
   "source": [
    "## Benchmarking"
   ]
  },
  {
   "cell_type": "markdown",
   "metadata": {},
   "source": [
    "A software program can be *benchmarked* in many ways: the time it takes to finish a task, the average framerate during a video game's animation, or the total amount of memory required.\n"
   ]
  },
  {
   "cell_type": "markdown",
   "metadata": {},
   "source": [
    "**An easy way to benchmark a Python program's *runtime,* is to use the Unix program `time`.**\n",
    "\n",
    "```sh\n",
    "$ time python3 myscript.py\n",
    "```\n",
    "\n",
    "The specific meaning of the three measurements provided are:\n",
    "\n",
    "- \"Real\" time is the actual time elapsed, from start to finish.\n",
    "- \"User\" time is the amount of **CPU time** spent outside of the kernel, during the Python process. This might include time Python spent doing other things, like garbage collection.\n",
    "- \"Sys\" time is the amount of **CPU time** spent inside the kernel. Since there are certain things that the Python process is not allowed to do, but might be required to complete the task, like allocating more memory."
   ]
  },
  {
   "cell_type": "markdown",
   "metadata": {},
   "source": [
    "\"Real\" time might be long just because there are other programs running on your system and the Python process had to wait. If you add the \"sys\" and \"user\" times together, this gives you the amount of time your CPU(s) spent running that process regardless of other programs running. Also, if their sum is much less than the \"real\" time, it is likely that most of the program's performance issues are related to input-ouput ([according to Huy Nguyen](https://www.huyng.com/posts/python-performance-analysis))."
   ]
  },
  {
   "cell_type": "markdown",
   "metadata": {},
   "source": [
    "**Another easy benchmark for small bits of Python code is provided through Python's `timeit` module.**\n",
    "\n",
    "```sh\n",
    "$ python3 -m timeit -n 10000 -r 3 \"[str(n) for n in range(100)]\"\n",
    "10000 loops, best of 3: 15.7 usec per loop\n",
    "\n",
    "$ python3 -m timeit -n 10000 -r 3 \"map(str, range(100))\"\n",
    "10000 loops, best of 3: 0.587 usec per loop\n",
    "```\n",
    "\n",
    "Here, the options:\n",
    "\n",
    "- `-n` indicates the number of times the statement should be executed; an average of all runtimes is taken.\n",
    "- `-r` indicates the number of times the suite should be repeated; for 3 times (the default), the statement is run (3 x N) times total, and the best mean time in each of the 3 suites is reported.\n",
    "\n",
    "If you need to run some setup code that you don't want counted against the time, such as importing a module, you can use the `-s` option."
   ]
  },
  {
   "cell_type": "markdown",
   "metadata": {},
   "source": [
    "## Line and Memory Profiling"
   ]
  },
  {
   "cell_type": "markdown",
   "metadata": {},
   "source": [
    "Line and memory profilers aren't available in the Anaconda installation I had you use, [but you can read all about this topic on this excellent blog post.](https://www.huyng.com/posts/python-performance-analysis)"
   ]
  },
  {
   "cell_type": "markdown",
   "metadata": {},
   "source": [
    "# Connecting to SQLite with Python"
   ]
  },
  {
   "cell_type": "markdown",
   "metadata": {},
   "source": [
    "As we've seen, SQL and databases together allow us to store and analyze our tabular data. Yet SQL has limited analytical tools and no visualization features.\n",
    "\n",
    "How can we take advantage of the consistency and the security that our database offers without sacrificing the advanced data analysis and visualization tools available in a language in Python?\n",
    "\n",
    "Here, we'll see how to connect to a relational database in Python. Ultimately, this gives us the option to store and maintain our data in a relational database but to perform analysis on it in Python in whole or in part.\n",
    "\n",
    "**First, we need to import the `sqlite3` module into Python.** This module tells Python how to talk to a SQLite database and interpret its responses."
   ]
  },
  {
   "cell_type": "code",
   "execution_count": null,
   "metadata": {
    "collapsed": true
   },
   "outputs": [],
   "source": [
    "import sqlite3"
   ]
  },
  {
   "cell_type": "markdown",
   "metadata": {},
   "source": [
    "Next, we create a connection to the database. Because our SQLite database is simply a file, we provide the file path as the argument to the `connect()` function."
   ]
  },
  {
   "cell_type": "code",
   "execution_count": null,
   "metadata": {
    "collapsed": true
   },
   "outputs": [],
   "source": [
    "connection = sqlite3.connect('/usr/local/dev/swc-workshop/sql-intro-ecology/survey.sqlite')"
   ]
  },
  {
   "cell_type": "markdown",
   "metadata": {},
   "source": [
    "We create a `cursor` object. Just like the cursor in an editor, its role is to keep track of where we are in the database."
   ]
  },
  {
   "cell_type": "code",
   "execution_count": null,
   "metadata": {
    "collapsed": true
   },
   "outputs": [],
   "source": [
    "cursor = connection.cursor()"
   ]
  },
  {
   "cell_type": "markdown",
   "metadata": {},
   "source": [
    "We use the cursor to send commands to the database manager, SQLite. In this example, we select all the rows and columns in the `species` table."
   ]
  },
  {
   "cell_type": "code",
   "execution_count": null,
   "metadata": {
    "collapsed": false
   },
   "outputs": [],
   "source": [
    "cursor.execute('SELECT * FROM species;')"
   ]
  },
  {
   "cell_type": "markdown",
   "metadata": {},
   "source": [
    "We get output from this function call, but we don't really care about it. The data that we want can actually be retrieved by the `fetchall()` method of the cursor."
   ]
  },
  {
   "cell_type": "code",
   "execution_count": null,
   "metadata": {
    "collapsed": false
   },
   "outputs": [],
   "source": [
    "results = cursor.fetchall()"
   ]
  },
  {
   "cell_type": "markdown",
   "metadata": {},
   "source": [
    "**What's contained in results?** What type of data structure is it?"
   ]
  },
  {
   "cell_type": "code",
   "execution_count": null,
   "metadata": {
    "collapsed": false
   },
   "outputs": [],
   "source": [
    "type(results)"
   ]
  },
  {
   "cell_type": "markdown",
   "metadata": {},
   "source": [
    "**What is one way we could access each row at a time?**"
   ]
  },
  {
   "cell_type": "code",
   "execution_count": null,
   "metadata": {
    "collapsed": false
   },
   "outputs": [],
   "source": [
    "for row in results:\n",
    "    print(row)"
   ]
  },
  {
   "cell_type": "markdown",
   "metadata": {},
   "source": [
    "**Note:** If you don't see any output, there is probably something wrong with the file path you specified in `sqlite3.connect()`. The SQLite API is finicky. Try providing a fully qualified path, i.e.:\n",
    "\n",
    "- On Windows, a path that starts with `C:\\` or another drive letter;\n",
    "- On Mac OSX or GNU/Linux, a path that starts with a forward slash, `/`; on Mac OSX, it probably starts like `/Users/username/Desktop/`."
   ]
  },
  {
   "cell_type": "markdown",
   "metadata": {},
   "source": [
    "**Importantly, once we have retrieved the data that we want from the database, we should remember to close both the cursor and the connection objects.**"
   ]
  },
  {
   "cell_type": "code",
   "execution_count": null,
   "metadata": {
    "collapsed": true
   },
   "outputs": [],
   "source": [
    "cursor.close()\n",
    "connection.close()"
   ]
  },
  {
   "cell_type": "markdown",
   "metadata": {},
   "source": [
    "## Best Practices with Database Connections"
   ]
  },
  {
   "cell_type": "markdown",
   "metadata": {},
   "source": [
    "Database connection APIs tend to be a little buggy. My advise is not to use them for submitting complex SQL queries to your database. Instead, if you want to do anything other than read an existing table as-is, you should create a View or a new Table that represents the data the way you want them for analysis. Then, connect to this table (or view) and retrieve the data.\n",
    "\n",
    "Some database APIs won't connect to views, only tables.\n",
    "\n",
    "In addition, if you're using Python as part of an application that's accessible on the web, you want to be careful when connecting to a database that contains sensitive or important information. It's possible for bad actors to slip in some malicious SQL commands to your database manager through your Python connection to the database. There are a number of robust database APIs available in Python that protect against this but they are all much more complicated than the simple API we've seen here. This is because submitting queries as raw strings to a database, as we've done here, is the main vulnerability for databases connected to the web.\n",
    "\n",
    "If you're interested in connecting your database to the web, or even if you're interested in web development in Python and you don't have a database, I would recommend you [check out Django](https://www.djangoproject.com/)."
   ]
  }
 ],
 "metadata": {
  "kernelspec": {
   "display_name": "py3",
   "language": "python",
   "name": "py3"
  },
  "language_info": {
   "codemirror_mode": {
    "name": "ipython",
    "version": 3
   },
   "file_extension": ".py",
   "mimetype": "text/x-python",
   "name": "python",
   "nbconvert_exporter": "python",
   "pygments_lexer": "ipython3",
   "version": "3.5.2"
  }
 },
 "nbformat": 4,
 "nbformat_minor": 0
}
