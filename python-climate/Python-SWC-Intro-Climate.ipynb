{
 "cells": [
  {
   "cell_type": "markdown",
   "metadata": {},
   "source": [
    "# Overview"
   ]
  },
  {
   "cell_type": "markdown",
   "metadata": {},
   "source": [
    "This lesson introduces Python as an environment for reproducible scientific data analysis and programming. The materials are based on the Software Carpentry [Programming with Python lesson](http://swcarpentry.github.io/python-novice-inflammation/).\n",
    "\n",
    "**At the end of this lesson, you will be able to:**\n",
    "\n",
    "- Read and write basic Python code;\n",
    "- Import and export tabular data with Python;\n",
    "- Subset and filter tabular data;\n",
    "- Understand different data types and data formats;\n",
    "- Understand pandas Data Frames and how they help organize tabular data;\n",
    "- Devise and intepret data processing workflows;\n",
    "- Automate your data cleaning and analysis with Python;\n",
    "- Visualize your data using matplotlib and pandas;\n",
    "- Connect to a SQLite database using Python.\n",
    "\n",
    "This lesson will introduce Python as a *general purpose programming language.* Python is a great programming language to use for a wide variety of applications, including:\n",
    "\n",
    "- Natural language processing or text analysis;\n",
    "- Web development and web publishing;\n",
    "- Web scraping or other unstructured data mining;\n",
    "- Image processing;\n",
    "- Spatial data analysis;\n",
    "- (And many others.)"
   ]
  },
  {
   "cell_type": "markdown",
   "metadata": {},
   "source": [
    "## License"
   ]
  },
  {
   "cell_type": "markdown",
   "metadata": {},
   "source": [
    "As with [the Software Carpentry lesson](http://swcarpentry.github.io/python-novice-inflammation/license/), this lesson is licensed for open use under the [CC BY 4.0 license](https://creativecommons.org/licenses/by/4.0/)."
   ]
  },
  {
   "cell_type": "markdown",
   "metadata": {},
   "source": [
    "### Contents\n",
    "\n",
    "- **Introduction to Python**\n",
    "  - The Python Interpreter\n",
    "  - First Steps with Python\n",
    "  - Importing Libraries\n",
    "  - About the Data\n",
    "  - Arrays and their Attributes\n",
    "  - Getting Help\n",
    "  - More on Arrays\n",
    "  - Basic Data Visualization\n",
    "- **Repeating Tasks with Loops**\n",
    "  - Sequences\n",
    "  - More Complex Loops\n",
    "- **Analyzing Data from Multiple Files**\n",
    "  - Looping over Files\n",
    "  - Generating a Plot\n",
    "  - Putting it All Together\n",
    "- **Conditional Evaluation**\n",
    "  - Conditional Expressions in Python\n",
    "  - Checking our Data\n",
    "- **Creating Functions for Reuse**\n",
    "  - Composing Multiple Functions\n",
    "  - Cleaning Up our Analysis Code\n",
    "  - Positional versus Keyword Arguments\n",
    "  - Documenting Functions\n",
    "- **Understanding and Handling Errors**\n",
    "- **Defensive Programming**\n",
    "  - Assertions\n",
    "  - Test-Driven Development\n",
    "- **Python at the Command Line**\n",
    "- **Analyzing and Optimizing Performance**\n",
    "  - Benchmarking\n",
    "- **Connecting to SQLite with Python**"
   ]
  },
  {
   "cell_type": "markdown",
   "metadata": {},
   "source": [
    "# Introduction to Python"
   ]
  },
  {
   "cell_type": "markdown",
   "metadata": {},
   "source": [
    "Python is a general purpose programming language that allows for the rapid development of scientific workflows. Python's main advantages are:\n",
    "\n",
    "- It is open-source software, supported by the [Python Software Foundation](https://www.python.org/psf/);\n",
    "- It is available on all platforms, including Windows, Mac OS X, and GNU/Linux;\n",
    "- It can be used to program any kind of task (it is a *general purpose* language);\n",
    "- It supports multiple *programming paradigms* (a fancy term computer scientists use to describe the different ways people like to design software);\n",
    "- **Most importantly, it has a large and diverse community of users who share Python code they've already written to do a wide variety of things.**"
   ]
  },
  {
   "cell_type": "markdown",
   "metadata": {},
   "source": [
    "## The Python Interpreter"
   ]
  },
  {
   "cell_type": "markdown",
   "metadata": {},
   "source": [
    "The only language that computers really understand is machine language, or binary: ones and zeros. Anything we tell computers to do has to be translated to binary for computers to execute.\n",
    "\n",
    "Python is what we call an *interpreted language.* This means that computers can translate Python to machine code as they are reading it. This distinguishes Python from languages like C, C++, or Java, which have to be *compiled* to machine code *before* they are run. The details aren't important to us; **what is important is that we can use Python in two ways:**\n",
    "\n",
    "- We can use the Python interpreter in **interactive mode;**\n",
    "- Or, we can use execute Python code that is stored in a text file, called a script."
   ]
  },
  {
   "cell_type": "markdown",
   "metadata": {},
   "source": [
    "### Jupyter Notebook"
   ]
  },
  {
   "cell_type": "markdown",
   "metadata": {},
   "source": [
    "For this lesson, we'll be using the Python interpreter that is embedded in Jupyter Notebook. Jupyter Notebook is a fancy, browser-based environment for **literate programming,** the combination of Python scripts with rich text for telling a story about the task you set out to do with Python. This is a powerful way for collecting the code, the analysis, the context, and the results in a single place.\n",
    "\n",
    "The Python interpreter we'll interact with in Jupyter Notebook is the same interpreter we could use from the command line. To launch Jupyter Notebook:\n",
    "\n",
    "- In GNU/Linux or Mac OS X, launch the Terminal and type: `jupyter notebook`; then press ENTER.\n",
    "- In Windows, launch the Command Prompt and type `jupyter notebook`; then press ENTER."
   ]
  },
  {
   "cell_type": "markdown",
   "metadata": {},
   "source": [
    "Let's try out the Python interpreter."
   ]
  },
  {
   "cell_type": "code",
   "execution_count": 1,
   "metadata": {
    "collapsed": false
   },
   "outputs": [
    {
     "name": "stdout",
     "output_type": "stream",
     "text": [
      "Hello, world!\n"
     ]
    }
   ],
   "source": [
    "print('Hello, world!')"
   ]
  },
  {
   "cell_type": "markdown",
   "metadata": {},
   "source": [
    "Alternatively, we could save that one line of Python code to a text file with a `*.py` extension and then execute that file. We'll see that towards the end of this lesson."
   ]
  },
  {
   "cell_type": "markdown",
   "metadata": {},
   "source": [
    "## First Steps with Python"
   ]
  },
  {
   "cell_type": "markdown",
   "metadata": {},
   "source": [
    "In *interactive mode,* the Python interpreter does three things for us, in order:\n",
    "\n",
    "1. Reads our input;\n",
    "2. Evaluates or executes the input command, if it can;\n",
    "3. Prints the output for us to see, then waits for the next input.\n",
    "\n",
    "This is called a **read, evaluate, print loop (REPL).** Let's try it out."
   ]
  },
  {
   "cell_type": "code",
   "execution_count": 7,
   "metadata": {
    "collapsed": false
   },
   "outputs": [
    {
     "data": {
      "text/plain": [
       "55"
      ]
     },
     "execution_count": 7,
     "metadata": {},
     "output_type": "execute_result"
    }
   ],
   "source": [
    "5 * 11"
   ]
  },
  {
   "cell_type": "markdown",
   "metadata": {},
   "source": [
    "We can use Python as a fancy calculator, like any programming language.\n",
    "\n",
    "When we perform calculations with Python, or run any Python statement that produces output, if we don't explicitly save that output somewhere, then we can't access it again. Python prints the output to the screen, but it doesn't keep a record of the output.\n",
    "\n",
    "**In order to save the output of an arbitrary Python statement, we have to assign that output to a variable. We do this using the equal sign operator:**"
   ]
  },
  {
   "cell_type": "code",
   "execution_count": 15,
   "metadata": {
    "collapsed": true
   },
   "outputs": [],
   "source": [
    "weight_kg = 5 * 11"
   ]
  },
  {
   "cell_type": "markdown",
   "metadata": {},
   "source": [
    "Notice there is no output associated with running this command. That's because the output we saw earlier has instead been saved to the *variable* named `number`.\n",
    "\n",
    "If we want to retrieve this output, we can ask Python for the value associated with the variable named `number`."
   ]
  },
  {
   "cell_type": "code",
   "execution_count": 16,
   "metadata": {
    "collapsed": false
   },
   "outputs": [
    {
     "data": {
      "text/plain": [
       "55"
      ]
     },
     "execution_count": 16,
     "metadata": {},
     "output_type": "execute_result"
    }
   ],
   "source": [
    "weight_kg"
   ]
  },
  {
   "cell_type": "markdown",
   "metadata": {},
   "source": [
    "As we saw earlier, we can also use the **function** `print()` to explicitly print the value to the screen."
   ]
  },
  {
   "cell_type": "code",
   "execution_count": 17,
   "metadata": {
    "collapsed": false
   },
   "outputs": [
    {
     "name": "stdout",
     "output_type": "stream",
     "text": [
      "Weight in pounds: 121.00000000000001\n"
     ]
    }
   ],
   "source": [
    "print('Weight in pounds:', 2.2 * weight_kg)"
   ]
  },
  {
   "cell_type": "markdown",
   "metadata": {},
   "source": [
    "A function like `print()` can take multiple **arguments,** or inputs to the function. In the example above, we've provided two arguments; two different things to print to the screen in a sequence.\n",
    "\n",
    "We can also change a variable's assigned value."
   ]
  },
  {
   "cell_type": "code",
   "execution_count": 20,
   "metadata": {
    "collapsed": false
   },
   "outputs": [
    {
     "name": "stdout",
     "output_type": "stream",
     "text": [
      "Weight in pounds: 126.50000000000001\n"
     ]
    }
   ],
   "source": [
    "weight_kg = 57.5\n",
    "print('Weight in pounds:', 2.2 * weight_kg)"
   ]
  },
  {
   "cell_type": "markdown",
   "metadata": {},
   "source": [
    "**If we imagine the variable as a sticky note with a name written on it, assignment is like putting the sticky note on a particular value.** [See this illustration](http://python.net/~goodger/projects/pycon/2007/idiomatic/handout.html#other-languages-have-variables).\n",
    "\n",
    "This means that assigning a value to one variable does *not* change the values of other variables. For example:"
   ]
  },
  {
   "cell_type": "code",
   "execution_count": 21,
   "metadata": {
    "collapsed": false
   },
   "outputs": [
    {
     "data": {
      "text/plain": [
       "126.50000000000001"
      ]
     },
     "execution_count": 21,
     "metadata": {},
     "output_type": "execute_result"
    }
   ],
   "source": [
    "weight_lb = 2.2 * weight_kg\n",
    "weight_lb"
   ]
  },
  {
   "cell_type": "code",
   "execution_count": 22,
   "metadata": {
    "collapsed": false
   },
   "outputs": [
    {
     "data": {
      "text/plain": [
       "126.50000000000001"
      ]
     },
     "execution_count": 22,
     "metadata": {},
     "output_type": "execute_result"
    }
   ],
   "source": [
    "weight_kg = 100.0\n",
    "weight_lb"
   ]
  },
  {
   "cell_type": "markdown",
   "metadata": {},
   "source": [
    "Since `weight_lb` doesn't depend on where its initial value came from, it isn't automatically updated when `weight_kg` changes. This is different from how, say, spreadsheets work."
   ]
  },
  {
   "cell_type": "markdown",
   "metadata": {},
   "source": [
    "## Importing Libraries"
   ]
  },
  {
   "cell_type": "markdown",
   "metadata": {},
   "source": [
    "What are some tasks you're hoping to complete with Python? Alternatively, what kinds of things have you done in other programming languages?\n",
    "\n",
    "**When you're thinking of starting a new computer-aided analysis or building a new software tool, there's always the possibility that someone else has created just the piece of software you need to get your job done faster.** Because Python is a popular, general-purpose, and open-source programming language with a long history, there's a wealth of completed software tools out there written in the Python for you to use. Each of these software *libraries* extends the basic functionality of Python to let you do new and better things.\n",
    "\n",
    "**The Python Package Index (PyPI),** is the place to start when you're looking for a piece of Python software to use. We'll talk about that later.\n",
    "\n",
    "For now, we'll load a Python package that is already available on our systems. **NumPy** is a numerical computing library that allows us to both represent sophisticated data structures and perform calculations on them."
   ]
  },
  {
   "cell_type": "code",
   "execution_count": 23,
   "metadata": {
    "collapsed": true
   },
   "outputs": [],
   "source": [
    "import numpy"
   ]
  },
  {
   "cell_type": "markdown",
   "metadata": {},
   "source": [
    "Now that we've imported `numpy`, we have access to new tools and functions that we didn't have before. For instance, we can use `numpy` to read in tabular data for us to work with."
   ]
  },
  {
   "cell_type": "code",
   "execution_count": null,
   "metadata": {
    "collapsed": false
   },
   "outputs": [],
   "source": [
    "numpy.loadtxt('barrow.temperature.csv', delimiter = ',')"
   ]
  },
  {
   "cell_type": "markdown",
   "metadata": {},
   "source": [
    "The expression `numpy.loadtxt()` is a **function call** that asks Python to run the function `loadtxt()` which belongs to the `numpy` library. Here, the word `numpy` is the **namespace** to which a function belongs. **This dotted notation is used everywhere in Python to refer to the parts of things as `thing.component`.**\n",
    "\n",
    "Because the `loadtxt()` function and others belong to the `numpy` library, to access them we will always have to type `numpy.` in front of the function name. This can get tedious, especially in interactive mode, so Python allows us to come up with a new namespace as an alias."
   ]
  },
  {
   "cell_type": "code",
   "execution_count": 27,
   "metadata": {
    "collapsed": true
   },
   "outputs": [],
   "source": [
    "import numpy as np"
   ]
  },
  {
   "cell_type": "markdown",
   "metadata": {},
   "source": [
    "The `np` alias for the `numpy` library is a very common alias; so common, in fact, that you can get help for NumPy functions by looking up `np` and the function name in a search engine.\n",
    "\n",
    "With this alias, the `loadtxt()` function is now called as:"
   ]
  },
  {
   "cell_type": "code",
   "execution_count": null,
   "metadata": {
    "collapsed": false
   },
   "outputs": [],
   "source": [
    "np.loadtxt('barrow.temperature.csv', delimiter = ',')"
   ]
  },
  {
   "cell_type": "markdown",
   "metadata": {},
   "source": [
    "`np.loadtxt()` has two arguments: the name of the file we want to read, and the delimiter that separates values on a line. These both need to be character strings (or strings for short), so we put them in quotes.\n",
    "\n",
    "Finally, note that we haven't stored the Barrow temperature data because we haven't assigned it to a variable. Let's fix that."
   ]
  },
  {
   "cell_type": "code",
   "execution_count": 2,
   "metadata": {
    "collapsed": false
   },
   "outputs": [],
   "source": [
    "barrow = np.loadtxt('barrow.temperature.csv', delimiter = ',')"
   ]
  },
  {
   "cell_type": "markdown",
   "metadata": {},
   "source": [
    "## About the Data"
   ]
  },
  {
   "cell_type": "markdown",
   "metadata": {},
   "source": [
    "The data we're using for this lesson are **monthly averages of surface air temperatures** from 1948 to 2016 for five different locations. They are derived from the NOAA NCEP CPC Monthly Global Surface Air Temperature Data Set, which has a 0.5 degree spatial resolution.\n",
    "\n",
    "**What is the unit for air temperature used in this dataset?** Recall that when we assign a value to a variable, we don't see any output on the screen. To see our Barrow temperature data, we can use the `print()` function again."
   ]
  },
  {
   "cell_type": "code",
   "execution_count": null,
   "metadata": {
    "collapsed": false
   },
   "outputs": [],
   "source": [
    "print(barrow)"
   ]
  },
  {
   "cell_type": "markdown",
   "metadata": {},
   "source": [
    "The data are formatted such that:\n",
    "\n",
    "- Each column is the monthly mean, January (1) through December (12)\n",
    "- Each row is a year, starting from January 1948 (1) through December 2016 (69)\n",
    "\n",
    "[More information on the data can be found here.](http://iridl.ldeo.columbia.edu/SOURCES/.NOAA/.NCEP/.CPC/.GHCN_CAMS/.gridded/.deg0p5/.temp/)"
   ]
  },
  {
   "cell_type": "markdown",
   "metadata": {},
   "source": [
    "## Arrays and their Attributes"
   ]
  },
  {
   "cell_type": "markdown",
   "metadata": {},
   "source": [
    "Now that our data are stored in memory, we can start asking substantial questions about it. First, let's ask how Python represents the value stored in the `barrow` variable."
   ]
  },
  {
   "cell_type": "code",
   "execution_count": 34,
   "metadata": {
    "collapsed": false
   },
   "outputs": [
    {
     "data": {
      "text/plain": [
       "numpy.ndarray"
      ]
     },
     "execution_count": 34,
     "metadata": {},
     "output_type": "execute_result"
    }
   ],
   "source": [
    "type(barrow)"
   ]
  },
  {
   "cell_type": "markdown",
   "metadata": {},
   "source": [
    "This output indicates that `barrow` currently refers to an N-dimensional array created by the NumPy library.\n",
    "\n",
    "**A NumPy array contains one or more elements of the same data type.** The `type()` function only tells us that we have a NumPy array. We can find out the type of data contained in the array by asking for the *data type* of the array."
   ]
  },
  {
   "cell_type": "code",
   "execution_count": 35,
   "metadata": {
    "collapsed": false
   },
   "outputs": [
    {
     "data": {
      "text/plain": [
       "dtype('float64')"
      ]
     },
     "execution_count": 35,
     "metadata": {},
     "output_type": "execute_result"
    }
   ],
   "source": [
    "barrow.dtype"
   ]
  },
  {
   "cell_type": "markdown",
   "metadata": {},
   "source": [
    "This tells us that the NumPy array's elements are 64-bit *floating point,* or decimal numbers.\n",
    "\n",
    "**In the last example,** we accessed an **attribute** of the `barrow` array called `dtype`. Because `dtype` is not a function, we don't call it using a pair of parentheses. We'll talk more about this later but, for now, it's sufficient to distinguish between these examples:\n",
    "\n",
    "- `np.loadtxt()` - A function that takes arguments, which go inside the parentheses\n",
    "- `barrow.dtype` - An attribute of the `barrow` array; the `dtype` of an array doesn't depend on anything, so `dtype` is not a function and it does not take arguments"
   ]
  },
  {
   "cell_type": "markdown",
   "metadata": {},
   "source": [
    "**How many rows and columns are there in the `barrow` array?**"
   ]
  },
  {
   "cell_type": "code",
   "execution_count": 36,
   "metadata": {
    "collapsed": false
   },
   "outputs": [
    {
     "data": {
      "text/plain": [
       "(69, 12)"
      ]
     },
     "execution_count": 36,
     "metadata": {},
     "output_type": "execute_result"
    }
   ],
   "source": [
    "barrow.shape"
   ]
  },
  {
   "cell_type": "markdown",
   "metadata": {},
   "source": [
    "We see there are 64 rows and 12 columns.\n",
    "\n",
    "The `shape` attribute, like the `dtype`, is a piece of information that was generated and stored when we first created the `barrow` array. This extra information, `shape` and `dtype`, describe `barrow` in the same way an adjective describes a noun. **We use the same dotted notation here as we did with the `loadtxt()` function because they have the same part-and-whole relationship.**\n",
    "\n",
    "**To access the elements of the `barrow` array, we use square-brackets as follows.**"
   ]
  },
  {
   "cell_type": "code",
   "execution_count": 38,
   "metadata": {
    "collapsed": false
   },
   "outputs": [
    {
     "data": {
      "text/plain": [
       "245.66"
      ]
     },
     "execution_count": 38,
     "metadata": {},
     "output_type": "execute_result"
    }
   ],
   "source": [
    "barrow[0, 0]"
   ]
  },
  {
   "cell_type": "markdown",
   "metadata": {},
   "source": [
    "The `0, 0` element is the element in the first row and the first column. Python starts counting from zero, not from one, just like other languages in the C family (including C++, Java, and Perl).\n",
    "\n",
    "**With this bracket notation, remember that rows are counted first, then columns.** For instance, this is the value in the first row and second column of the array:"
   ]
  },
  {
   "cell_type": "code",
   "execution_count": 39,
   "metadata": {
    "collapsed": false
   },
   "outputs": [
    {
     "data": {
      "text/plain": [
       "247.52000000000001"
      ]
     },
     "execution_count": 39,
     "metadata": {},
     "output_type": "execute_result"
    }
   ],
   "source": [
    "barrow[0, 1]"
   ]
  },
  {
   "cell_type": "markdown",
   "metadata": {},
   "source": [
    "**Challenge: What do each of the following code samples do?**\n",
    "\n",
    "```py\n",
    "barrow[0]\n",
    "barrow[0,]\n",
    "barrow[-1]\n",
    "barrow[-3:-1]\n",
    "```"
   ]
  },
  {
   "cell_type": "markdown",
   "metadata": {},
   "source": [
    "### Slicing NumPy Arrays"
   ]
  },
  {
   "cell_type": "markdown",
   "metadata": {},
   "source": [
    "We can make a larger selection with **slicing.** For instance, **here is the first year of monthly average temperatures, all 12 of them, for Barrow:**"
   ]
  },
  {
   "cell_type": "code",
   "execution_count": 42,
   "metadata": {
    "collapsed": false
   },
   "outputs": [
    {
     "data": {
      "text/plain": [
       "array([ 245.66,  247.52,  245.28,  256.32,  262.9 ,  272.46,  278.06,\n",
       "        275.51,  269.34,  261.68,  251.35,  242.52])"
      ]
     },
     "execution_count": 42,
     "metadata": {},
     "output_type": "execute_result"
    }
   ],
   "source": [
    "barrow[0, 0:12]"
   ]
  },
  {
   "cell_type": "markdown",
   "metadata": {},
   "source": [
    "The notation `0:12` can be read, \"Start at index 0 and go up to, *but not including,* index 12.\" The up-to-but-not-including is important; we have 12 values in the array but, since we started counting at zero, there isn't a value at index 12."
   ]
  },
  {
   "cell_type": "code",
   "execution_count": 43,
   "metadata": {
    "collapsed": false
   },
   "outputs": [
    {
     "ename": "IndexError",
     "evalue": "index 12 is out of bounds for axis 1 with size 12",
     "output_type": "error",
     "traceback": [
      "\u001b[0;31m---------------------------------------------------------------------------\u001b[0m",
      "\u001b[0;31mIndexError\u001b[0m                                Traceback (most recent call last)",
      "\u001b[0;32m<ipython-input-43-a5a1605091fb>\u001b[0m in \u001b[0;36m<module>\u001b[0;34m()\u001b[0m\n\u001b[0;32m----> 1\u001b[0;31m \u001b[0mbarrow\u001b[0m\u001b[0;34m[\u001b[0m\u001b[0;36m0\u001b[0m\u001b[0;34m,\u001b[0m \u001b[0;36m12\u001b[0m\u001b[0;34m]\u001b[0m\u001b[0;34m\u001b[0m\u001b[0m\n\u001b[0m",
      "\u001b[0;31mIndexError\u001b[0m: index 12 is out of bounds for axis 1 with size 12"
     ]
    }
   ],
   "source": [
    "barrow[0, 12]"
   ]
  },
  {
   "cell_type": "markdown",
   "metadata": {},
   "source": [
    "Slices don't have to start at zero and they also don't have to include the upper or lower bound, if we want to simply take all the ending or beginning values, respectively.\n",
    "\n",
    "Here's the last six monthly averages of the first three years, written two different ways:"
   ]
  },
  {
   "cell_type": "code",
   "execution_count": 47,
   "metadata": {
    "collapsed": false
   },
   "outputs": [
    {
     "data": {
      "text/plain": [
       "array([[ 278.06,  275.51,  269.34,  261.68,  251.35,  242.52],\n",
       "       [ 277.45,  278.92,  274.4 ,  266.77,  258.69,  248.2 ],\n",
       "       [ 278.87,  278.26,  273.36,  265.77,  261.22,  248.8 ]])"
      ]
     },
     "execution_count": 47,
     "metadata": {},
     "output_type": "execute_result"
    }
   ],
   "source": [
    "barrow[0:3, 6:12]"
   ]
  },
  {
   "cell_type": "code",
   "execution_count": 48,
   "metadata": {
    "collapsed": false
   },
   "outputs": [
    {
     "data": {
      "text/plain": [
       "array([[ 278.06,  275.51,  269.34,  261.68,  251.35,  242.52],\n",
       "       [ 277.45,  278.92,  274.4 ,  266.77,  258.69,  248.2 ],\n",
       "       [ 278.87,  278.26,  273.36,  265.77,  261.22,  248.8 ]])"
      ]
     },
     "execution_count": 48,
     "metadata": {},
     "output_type": "execute_result"
    }
   ],
   "source": [
    "barrow[:3, 6:]"
   ]
  },
  {
   "cell_type": "markdown",
   "metadata": {},
   "source": [
    "If we don't include a number at all, then the `:` symbol indicates \"take everying.\""
   ]
  },
  {
   "cell_type": "code",
   "execution_count": 50,
   "metadata": {
    "collapsed": false
   },
   "outputs": [
    {
     "data": {
      "text/plain": [
       "array([ 245.66,  247.52,  245.28,  256.32,  262.9 ,  272.46,  278.06,\n",
       "        275.51,  269.34,  261.68,  251.35,  242.52])"
      ]
     },
     "execution_count": 50,
     "metadata": {},
     "output_type": "execute_result"
    }
   ],
   "source": [
    "barrow[0, :]"
   ]
  },
  {
   "cell_type": "markdown",
   "metadata": {},
   "source": [
    "**Challenge: What's the mean monthly temperature in August of 2016? Converted to degrees Fahrenheit?**\n",
    "\n",
    "Degrees F can be calculated from degrees K by the formula:"
   ]
  },
  {
   "cell_type": "markdown",
   "metadata": {},
   "source": [
    "$$\n",
    "T_F = \\left(T_K \\times \\frac{9}{5}\\right) - 459.67\n",
    "$$"
   ]
  },
  {
   "cell_type": "markdown",
   "metadata": {},
   "source": [
    "### Calculating on NumPy Arrays"
   ]
  },
  {
   "cell_type": "markdown",
   "metadata": {},
   "source": [
    "Arrays know how to perform common mathematical operations on their values. This allows us to treat them like pure numbers, as we did earlier."
   ]
  },
  {
   "cell_type": "markdown",
   "metadata": {},
   "source": [
    "**Convert the first year of Barrow air temperatures from degrees Kelvin to degrees Celsius.**"
   ]
  },
  {
   "cell_type": "code",
   "execution_count": 53,
   "metadata": {
    "collapsed": false
   },
   "outputs": [
    {
     "data": {
      "text/plain": [
       "array([-27.49, -25.63, -27.87, -16.83, -10.25,  -0.69,   4.91,   2.36,\n",
       "        -3.81, -11.47, -21.8 , -30.63])"
      ]
     },
     "execution_count": 53,
     "metadata": {},
     "output_type": "execute_result"
    }
   ],
   "source": [
    "barrow[0,:] - 273.15"
   ]
  },
  {
   "cell_type": "markdown",
   "metadata": {},
   "source": [
    "We can also perform calculations that have only matrices as operands."
   ]
  },
  {
   "cell_type": "markdown",
   "metadata": {},
   "source": [
    "**Calculate the monthly average of the first two years of air temperatures in Barrow.** (Consider this the average of the monthly averages.) Then convert to Celsius."
   ]
  },
  {
   "cell_type": "code",
   "execution_count": 58,
   "metadata": {
    "collapsed": false
   },
   "outputs": [
    {
     "data": {
      "text/plain": [
       "array([-26.26 , -28.07 , -24.49 , -20.685, -10.28 ,  -0.955,   4.605,\n",
       "         4.065,  -1.28 ,  -8.925, -18.13 , -27.79 ])"
      ]
     },
     "execution_count": 58,
     "metadata": {},
     "output_type": "execute_result"
    }
   ],
   "source": [
    "two_year_sum = barrow[0,:] + barrow[1,:]\n",
    "(two_year_sum / 2) - 273.15"
   ]
  },
  {
   "cell_type": "markdown",
   "metadata": {},
   "source": [
    "Quite often, we want to do more than add, subtract, multiply, and divide values of data. NumPy knows how to do more complex operations on arrays, including statistical summaries of the data."
   ]
  },
  {
   "cell_type": "markdown",
   "metadata": {},
   "source": [
    "**What is the overall mean temperature in any month in Barrow between 1948 and 2016 in degrees C?**"
   ]
  },
  {
   "cell_type": "code",
   "execution_count": 62,
   "metadata": {
    "collapsed": false
   },
   "outputs": [
    {
     "data": {
      "text/plain": [
       "-12.06542246376813"
      ]
     },
     "execution_count": 62,
     "metadata": {},
     "output_type": "execute_result"
    }
   ],
   "source": [
    "barrow.mean() - 273.15"
   ]
  },
  {
   "cell_type": "markdown",
   "metadata": {},
   "source": [
    "Here, note that the `mean()` function is an attribute of the `barrow` array. **When the attribute of a Python object is a function, we usually call it a method.** Methods are functions that belong to Python objects. Here, the `barrow` array owns a method called `mean()`. When we call the `mean()` method of `barrow`, the array knows how to calculate its overall mean.\n",
    "\n",
    "**Note, also, that `barrow.mean()` is an example of a function that doesn't have to take any input.** In this example, no input is needed because the overall mean is not dependent on any external information."
   ]
  },
  {
   "cell_type": "markdown",
   "metadata": {},
   "source": [
    "**How cold was the coldest February in Barrow, by monthly mean temperatures, in degrees C?**"
   ]
  },
  {
   "cell_type": "code",
   "execution_count": 69,
   "metadata": {
    "collapsed": false
   },
   "outputs": [
    {
     "data": {
      "text/plain": [
       "-37.449999999999989"
      ]
     },
     "execution_count": 69,
     "metadata": {},
     "output_type": "execute_result"
    }
   ],
   "source": [
    "barrow[:,1].min() - 273.15"
   ]
  },
  {
   "cell_type": "markdown",
   "metadata": {},
   "source": [
    "**Challenge: What's the minimum, maximum, and mean monthly temperature for August in Barrow, in degrees C?**"
   ]
  },
  {
   "cell_type": "markdown",
   "metadata": {},
   "source": [
    "## Getting Help"
   ]
  },
  {
   "cell_type": "markdown",
   "metadata": {},
   "source": [
    "How did we find out what methods the array has for us to use?"
   ]
  },
  {
   "cell_type": "markdown",
   "metadata": {},
   "source": [
    "While in Jupyter Notebook, we can use the handy shortcut:"
   ]
  },
  {
   "cell_type": "code",
   "execution_count": 76,
   "metadata": {
    "collapsed": true
   },
   "outputs": [],
   "source": [
    "barrow?"
   ]
  },
  {
   "cell_type": "markdown",
   "metadata": {},
   "source": [
    "In general, Python provides two helper functions, `help()` and `dir()`."
   ]
  },
  {
   "cell_type": "code",
   "execution_count": null,
   "metadata": {
    "collapsed": false,
    "scrolled": false
   },
   "outputs": [],
   "source": [
    "help(barrow)"
   ]
  },
  {
   "cell_type": "code",
   "execution_count": null,
   "metadata": {
    "collapsed": false,
    "scrolled": false
   },
   "outputs": [],
   "source": [
    "dir(barrow)"
   ]
  },
  {
   "cell_type": "markdown",
   "metadata": {},
   "source": [
    "## More on Arrays"
   ]
  },
  {
   "cell_type": "markdown",
   "metadata": {},
   "source": [
    "Before, we saw how the built-in statistical summary methods like `mean()` could be used to calculate an overall statistical summary for the `barrow` array or a subset of the array. **More often, we want to look at partial statistics, such as the mean temperature in each year or the maximum temperature in each month.**\n",
    "\n",
    "One way to do this is to take what we saw earlier and apply it to each row or column."
   ]
  },
  {
   "cell_type": "markdown",
   "metadata": {},
   "source": [
    "**What is the mean temperature in 1948? In 1949? And so on...**"
   ]
  },
  {
   "cell_type": "code",
   "execution_count": 78,
   "metadata": {
    "collapsed": false
   },
   "outputs": [
    {
     "data": {
      "text/plain": [
       "259.05000000000001"
      ]
     },
     "execution_count": 78,
     "metadata": {},
     "output_type": "execute_result"
    }
   ],
   "source": [
    "barrow[0,:].mean()"
   ]
  },
  {
   "cell_type": "code",
   "execution_count": 79,
   "metadata": {
    "collapsed": false
   },
   "outputs": [
    {
     "data": {
      "text/plain": [
       "260.88416666666666"
      ]
     },
     "execution_count": 79,
     "metadata": {},
     "output_type": "execute_result"
    }
   ],
   "source": [
    "barrow[1,:].mean()"
   ]
  },
  {
   "cell_type": "markdown",
   "metadata": {},
   "source": [
    "But this gets tedious very quickly. **Instead, we can calculate a statisical summary over a particular axis of the array: along its rows or along its columns.**"
   ]
  },
  {
   "cell_type": "code",
   "execution_count": 82,
   "metadata": {
    "collapsed": false
   },
   "outputs": [
    {
     "data": {
      "text/plain": [
       "261.08457753623185"
      ]
     },
     "execution_count": 82,
     "metadata": {},
     "output_type": "execute_result"
    }
   ],
   "source": [
    "barrow.mean()"
   ]
  },
  {
   "cell_type": "code",
   "execution_count": 81,
   "metadata": {
    "collapsed": false
   },
   "outputs": [
    {
     "data": {
      "text/plain": [
       "array([ 259.05      ,  260.88416667,  261.96      ,  260.74916667,\n",
       "        259.73916667,  259.68833333,  260.70416667,  258.61583333,\n",
       "        258.90583333,  261.19583333,  261.40583333,  259.52916667,\n",
       "        260.31416667,  259.6       ,  261.96833333,  261.07      ,\n",
       "        258.39833333,  260.215     ,  259.76166667,  261.14666667,\n",
       "        260.62333333,  260.64083333,  259.56333333,  259.11666667,\n",
       "        260.36      ,  260.93083333,  258.61416667,  258.835     ,\n",
       "        260.31416667,  261.25583333,  261.54416667,  261.921675  ,\n",
       "        260.47833333,  261.7475    ,  260.015     ,  259.61333333,\n",
       "        258.33333333,  260.47583333,  261.04583333,  260.72833333,\n",
       "        260.13166667,  262.11416667,  260.76416667,  260.295     ,\n",
       "        260.68333333,  262.68083333,  260.40916667,  261.71666667,\n",
       "        261.38916667,  261.9275    ,  263.8425    ,  260.90583333,\n",
       "        261.49666667,  261.58833333,  263.11583333,  262.69333333,\n",
       "        262.5675    ,  262.84333333,  262.40833333,  263.411675  ,\n",
       "        262.11333333,  262.38666667,  262.9425    ,  262.69666667,\n",
       "        261.76      ,  262.83      ,  263.89416667,  263.33333333,  264.835     ])"
      ]
     },
     "execution_count": 81,
     "metadata": {},
     "output_type": "execute_result"
    }
   ],
   "source": [
    "barrow.mean(axis = 1)"
   ]
  },
  {
   "cell_type": "markdown",
   "metadata": {},
   "source": [
    "Recall that in our square bracket notation, we number the rows first, then the columns. Also, recall that Python starts counting at zero. Therefore, the \"1\" axis refers to the columns. **To calculate a mean across the column axis, that is, the mean temperature in each year, we use the `axis = 1` argument in the function call.**\n",
    "\n",
    "As a quick check, we can confirm that there are 69 values in the output, one for each of the 69 years between 1948 and 2016, inclusive."
   ]
  },
  {
   "cell_type": "code",
   "execution_count": 86,
   "metadata": {
    "collapsed": false
   },
   "outputs": [
    {
     "data": {
      "text/plain": [
       "(69,)"
      ]
     },
     "execution_count": 86,
     "metadata": {},
     "output_type": "execute_result"
    }
   ],
   "source": [
    "barrow.mean(axis = 1).shape"
   ]
  },
  {
   "cell_type": "markdown",
   "metadata": {},
   "source": [
    "**What, then, does the following function call give us?**"
   ]
  },
  {
   "cell_type": "code",
   "execution_count": 83,
   "metadata": {
    "collapsed": false
   },
   "outputs": [
    {
     "data": {
      "text/plain": [
       "array([ 247.42144928,  245.85797101,  247.13028986,  255.12594203,\n",
       "        266.5042029 ,  274.81261014,  277.97144928,  276.98753768,\n",
       "        272.85855072,  264.11362319,  255.12043478,  249.11086957])"
      ]
     },
     "execution_count": 83,
     "metadata": {},
     "output_type": "execute_result"
    }
   ],
   "source": [
    "barrow.mean(axis = 0)"
   ]
  },
  {
   "cell_type": "markdown",
   "metadata": {},
   "source": [
    "Remembering the difference between `axis = 0` and `axis = 1` is tricky, even for experienced Python programmers. Here are some helpful, visual reminders:\n",
    "\n",
    "- [Integrating across rows or columns (StackOverflow)](https://stackoverflow.com/questions/25773245/ambiguity-in-pandas-dataframe-numpy-array-axis-definition/25774395#25774395)\n",
    "- [Another way of visualizing the same thing (Site44)](http://using-python-in-research.site44.com/_images/axis.png)"
   ]
  },
  {
   "cell_type": "markdown",
   "metadata": {},
   "source": [
    "## Basic Data Visualization"
   ]
  },
  {
   "cell_type": "markdown",
   "metadata": {},
   "source": [
    "Visualization, as line plots, bar charts, and other kinds, can often help us to better interpret data, particularly when we have a large set of numbers. Here, we'll look at some basic data visualization tools available in Python.\n",
    "\n",
    "While there is no \"official\" plotting library in Python, the most often used is a library called `matplotlib`. First, we'll import the `pyplot` module from `matplotlib` and use two of its functions to create and display a heatmap of our data."
   ]
  },
  {
   "cell_type": "code",
   "execution_count": 95,
   "metadata": {
    "collapsed": true
   },
   "outputs": [],
   "source": [
    "import matplotlib.pyplot as pyplot\n",
    "%matplotlib inline"
   ]
  },
  {
   "cell_type": "markdown",
   "metadata": {},
   "source": [
    "**We also used a Jupyter Notebook \"magic\" command to make `matplotlib` figures display inside our notebook, instead of a separate window.** Commands with percent signs in front of them, as in the above example, are particular to Jupyter Notebook and won't work in a basic Python intepreter or command-line."
   ]
  },
  {
   "cell_type": "code",
   "execution_count": 96,
   "metadata": {
    "collapsed": false
   },
   "outputs": [
    {
     "data": {
      "image/png": "[encoded data removed]",
      "text/plain": [
       "<matplotlib.figure.Figure at 0x7fab24aa4630>"
      ]
     },
     "metadata": {},
     "output_type": "display_data"
    }
   ],
   "source": [
    "image = pyplot.imshow(barrow, aspect = 1/3)\n",
    "pyplot.show()"
   ]
  },
  {
   "cell_type": "markdown",
   "metadata": {},
   "source": [
    "Let's look at the average temperature over the years."
   ]
  },
  {
   "cell_type": "code",
   "execution_count": 97,
   "metadata": {
    "collapsed": false
   },
   "outputs": [
    {
     "data": {
      "image/png": "[encoded data removed]",
      "text/plain": [
       "<matplotlib.figure.Figure at 0x7fab24a4aba8>"
      ]
     },
     "metadata": {},
     "output_type": "display_data"
    }
   ],
   "source": [
    "avg_temp = barrow.mean(axis = 1)\n",
    "avg_temp_plot = pyplot.plot(avg_temp)\n",
    "pyplot.show()"
   ]
  },
  {
   "cell_type": "markdown",
   "metadata": {},
   "source": [
    "# Repeating Tasks with Loops"
   ]
  },
  {
   "cell_type": "markdown",
   "metadata": {},
   "source": [
    "Let's review what we've just learned.\n",
    "\n",
    "- How to import a library into Python using `import library_name`;\n",
    "- How to use the NumPy library for working with arrays;\n",
    "- Variable assignment, `variable = value`;\n",
    "- An array's shape can be retrieved with `my_array.shape`;\n",
    "- An array's data type can be retrieved with `my_array.dtype`;\n",
    "- Use `array[x, y]` to select the element in row X, column Y from an array;\n",
    "- Python starts counting at zero, so array indices start at 0, not 1;\n",
    "- Use `a:b` to specify a slice that includes indices from A to B;\n",
    "- How to calculate statistical summaries on NumPy arrays;\n",
    "- How to create basic line plots and heat maps using `matplotlib`;\n",
    "\n",
    "We saw how to do these things for just one CSV file we loaded into Python. But what if we're interested in more places than just Barrow, Alaska? We could execute the same code for each place we're interested in, each CSV file... \n",
    "\n",
    "- But that's tedious, and tedium is what we're trying to avoid by using computers in the first place!\n",
    "- It's also error-prone; humans are likely to make a mistake as they try to type the same things over and over again.\n",
    "- Finally, it's more difficult and takes more space, more lines of code, to show someone else what we've done or in coming back to it after a long break.\n",
    "\n",
    "In this next lesson, **we'll learn how to instruct Python to do the same thing multiple times without mistake.**"
   ]
  },
  {
   "cell_type": "markdown",
   "metadata": {},
   "source": [
    "## Sequences"
   ]
  },
  {
   "cell_type": "markdown",
   "metadata": {},
   "source": [
    "Before we discuss how Python can execute repetitive tasks, we need to discuss sequences. **Sequences are a very powerful and flexible class of data structures in Python.**\n",
    "\n",
    "The simplest example of a sequence is a character string."
   ]
  },
  {
   "cell_type": "code",
   "execution_count": 216,
   "metadata": {
    "collapsed": false
   },
   "outputs": [
    {
     "data": {
      "text/plain": [
       "'Hello, world!'"
      ]
     },
     "execution_count": 216,
     "metadata": {},
     "output_type": "execute_result"
    }
   ],
   "source": [
    "'Hello, world!'"
   ]
  },
  {
   "cell_type": "markdown",
   "metadata": {},
   "source": [
    "### Character Strings"
   ]
  },
  {
   "cell_type": "markdown",
   "metadata": {},
   "source": [
    "Character strings can be created with either single or double quotes; it doesn't matter which. If you want to include quotes *inside* a string you have some options..."
   ]
  },
  {
   "cell_type": "code",
   "execution_count": 214,
   "metadata": {
    "collapsed": false
   },
   "outputs": [
    {
     "name": "stdout",
     "output_type": "stream",
     "text": [
      "My mother's cousin\n"
     ]
    }
   ],
   "source": [
    "print(\"My mother's cousin\")"
   ]
  },
  {
   "cell_type": "code",
   "execution_count": 213,
   "metadata": {
    "collapsed": false
   },
   "outputs": [
    {
     "name": "stdout",
     "output_type": "stream",
     "text": [
      "My mother's cousin said, \"Behave.\"\n"
     ]
    }
   ],
   "source": [
    "print('My mother\\'s cousin said, \"Behave.\"')"
   ]
  },
  {
   "cell_type": "markdown",
   "metadata": {},
   "source": [
    "**Every character string is a sequence of letters.**"
   ]
  },
  {
   "cell_type": "code",
   "execution_count": 128,
   "metadata": {
    "collapsed": true
   },
   "outputs": [],
   "source": [
    "word = 'bird'"
   ]
  },
  {
   "cell_type": "markdown",
   "metadata": {},
   "source": [
    "We can access each letter in this *sequence* of letters using the index notation we saw earlier."
   ]
  },
  {
   "cell_type": "code",
   "execution_count": 130,
   "metadata": {
    "collapsed": false
   },
   "outputs": [
    {
     "name": "stdout",
     "output_type": "stream",
     "text": [
      "b\n",
      "i\n",
      "r\n",
      "d\n"
     ]
    }
   ],
   "source": [
    "print(word[0])\n",
    "print(word[1])\n",
    "print(word[2])\n",
    "print(word[3])"
   ]
  },
  {
   "cell_type": "markdown",
   "metadata": {},
   "source": [
    "This is a bad approach, though, for multiple reasons.\n",
    "\n",
    "- This approach **doesn't scale;** if we want to print the characters in a string that is hundreds of letters long, we have to type quite a lot of indices!\n",
    "- It's also **fragile;** if we have a longer string, it prints only part of the data and, for a shorter string, it produces an error because we're indexing a part of the sequence that doesn't exist.\n",
    "\n",
    "Here's a better approach."
   ]
  },
  {
   "cell_type": "code",
   "execution_count": 131,
   "metadata": {
    "collapsed": false
   },
   "outputs": [
    {
     "name": "stdout",
     "output_type": "stream",
     "text": [
      "b\n",
      "i\n",
      "r\n",
      "d\n"
     ]
    }
   ],
   "source": [
    "for letter in word:\n",
    "    print(letter)"
   ]
  },
  {
   "cell_type": "markdown",
   "metadata": {},
   "source": [
    "This is much shorter! And we can quickly see how it scales much better."
   ]
  },
  {
   "cell_type": "code",
   "execution_count": 132,
   "metadata": {
    "collapsed": false
   },
   "outputs": [
    {
     "name": "stdout",
     "output_type": "stream",
     "text": [
      "c\n",
      "o\n",
      "c\n",
      "k\n",
      "a\n",
      "t\n",
      "o\n",
      "o\n"
     ]
    }
   ],
   "source": [
    "word = 'cockatoo'\n",
    "for letter in word:\n",
    "    print(letter)"
   ]
  },
  {
   "cell_type": "markdown",
   "metadata": {},
   "source": [
    "**Some things to note about this example:**\n",
    "\n",
    "- The Python keyword `for` is what gives this technique its name; it's a **for loop.**\n",
    "- We can read the first line almost line English: \"For (each) letter in (the sequence) word...\"\n",
    "- The second line, then, is what we want Python to do \"for each\" of those things.\n",
    "- The second line is executed once for every element in the `word` sequence.\n",
    "- **(How many times is this?)** Four.\n",
    "- In each iteration of the `for` loop, the variable `letter` takes on a new value.\n",
    "- **(What is the value of `letter` in the first iteration? The second?)**\n",
    "\n",
    "**Most importantly, the second line is indented by four spaces.** In Python, code blocks are structured by indentation. When a group of Python lines belong to a `for` loop, in this example, those lines are indented one level more than the line with the `for` statement. It doesn't matter whether we use tabs or spaces, or how many we use, as long as we're consistent throughout the Python program.\n",
    "\n",
    "**You'll note that Jupyter Notebook indented the second line automatically for you and that it uses four spaces.** Jupyter Notebook follows [the Python Enhancement Proposal 8, or PEP-8,](https://www.python.org/dev/peps/pep-0008/) which is a style guide for Python. It is therefore strongly recommended that you [use four (4) spaces for indentation](https://www.python.org/dev/peps/pep-0008/#indentation) in your own Python code, wherever you're writing it."
   ]
  },
  {
   "cell_type": "markdown",
   "metadata": {},
   "source": [
    "### Lists and Tuples"
   ]
  },
  {
   "cell_type": "markdown",
   "metadata": {},
   "source": [
    "Another type of sequence in Python that is more general and more useful than a character string is the **list.** Lists are formed by putting comma-separated values inside square brackets."
   ]
  },
  {
   "cell_type": "code",
   "execution_count": 1,
   "metadata": {
    "collapsed": false
   },
   "outputs": [
    {
     "name": "stdout",
     "output_type": "stream",
     "text": [
      "Visit beautiful Barrow !\n",
      "Visit beautiful Veracruz !\n",
      "Visit beautiful Chennai !\n"
     ]
    }
   ],
   "source": [
    "cities = ['Barrow', 'Veracruz', 'Chennai']\n",
    "for city in cities:\n",
    "    print('Visit beautiful', city, '!')"
   ]
  },
  {
   "cell_type": "markdown",
   "metadata": {},
   "source": [
    "Lists can be indexed and sequenced just as we say with character strings (another sequence) and NumPy arrays."
   ]
  },
  {
   "cell_type": "code",
   "execution_count": 188,
   "metadata": {
    "collapsed": false
   },
   "outputs": [
    {
     "data": {
      "text/plain": [
       "'Barrow'"
      ]
     },
     "execution_count": 188,
     "metadata": {},
     "output_type": "execute_result"
    }
   ],
   "source": [
    "cities[0]"
   ]
  },
  {
   "cell_type": "code",
   "execution_count": 189,
   "metadata": {
    "collapsed": false
   },
   "outputs": [
    {
     "data": {
      "text/plain": [
       "['Barrow']"
      ]
     },
     "execution_count": 189,
     "metadata": {},
     "output_type": "execute_result"
    }
   ],
   "source": [
    "cities[0:1]"
   ]
  },
  {
   "cell_type": "code",
   "execution_count": 190,
   "metadata": {
    "collapsed": false
   },
   "outputs": [
    {
     "data": {
      "text/plain": [
       "['Barrow', 'Veracruz']"
      ]
     },
     "execution_count": 190,
     "metadata": {},
     "output_type": "execute_result"
    }
   ],
   "source": [
    "cities[0:2]"
   ]
  },
  {
   "cell_type": "code",
   "execution_count": 217,
   "metadata": {
    "collapsed": false
   },
   "outputs": [
    {
     "data": {
      "text/plain": [
       "'Chennai'"
      ]
     },
     "execution_count": 217,
     "metadata": {},
     "output_type": "execute_result"
    }
   ],
   "source": [
    "cities[-1]"
   ]
  },
  {
   "cell_type": "markdown",
   "metadata": {},
   "source": [
    "What really distinguishes lists is that they can hold different types of data in a single instance, including other lists!"
   ]
  },
  {
   "cell_type": "code",
   "execution_count": 139,
   "metadata": {
    "collapsed": false
   },
   "outputs": [
    {
     "name": "stdout",
     "output_type": "stream",
     "text": [
      "100\n",
      "oranges\n",
      "[1, 2, 3]\n"
     ]
    }
   ],
   "source": [
    "things = [100, 'oranges', [1,2,3]]\n",
    "for thing in things:\n",
    "    print(thing)"
   ]
  },
  {
   "cell_type": "markdown",
   "metadata": {},
   "source": [
    "Just as we saw with NumPy arrays, lists also have a number of useful built-in methods."
   ]
  },
  {
   "cell_type": "markdown",
   "metadata": {},
   "source": [
    "**How many times is the value `\"Barrow\"` found in the `cities` list?** Exactly once."
   ]
  },
  {
   "cell_type": "code",
   "execution_count": 172,
   "metadata": {
    "collapsed": false
   },
   "outputs": [
    {
     "data": {
      "text/plain": [
       "1"
      ]
     },
     "execution_count": 172,
     "metadata": {},
     "output_type": "execute_result"
    }
   ],
   "source": [
    "cities.count('Barrow')"
   ]
  },
  {
   "cell_type": "markdown",
   "metadata": {},
   "source": [
    "Some of the methods change the array **in-place,** meaning that they change the underlying list without returning a new list. Since there is no output from these methods, to confirm that something changed with `cities`, we have to examine its value again."
   ]
  },
  {
   "cell_type": "code",
   "execution_count": 173,
   "metadata": {
    "collapsed": false
   },
   "outputs": [
    {
     "data": {
      "text/plain": [
       "['Chennai', 'Veracruz', 'Barrow']"
      ]
     },
     "execution_count": 173,
     "metadata": {},
     "output_type": "execute_result"
    }
   ],
   "source": [
    "cities.reverse()\n",
    "cities"
   ]
  },
  {
   "cell_type": "markdown",
   "metadata": {},
   "source": [
    "**Also, try running the above code block multiple times over.**"
   ]
  },
  {
   "cell_type": "markdown",
   "metadata": {},
   "source": [
    "A **tuple** is a lot like a list in that it can take multiple types of data. **However, once it is created, a tuple cannot be changed.**"
   ]
  },
  {
   "cell_type": "code",
   "execution_count": 174,
   "metadata": {
    "collapsed": false
   },
   "outputs": [
    {
     "data": {
      "text/plain": [
       "['Chennai', 'Veracruz', 'Barrow']"
      ]
     },
     "execution_count": 174,
     "metadata": {},
     "output_type": "execute_result"
    }
   ],
   "source": [
    "cities"
   ]
  },
  {
   "cell_type": "code",
   "execution_count": 175,
   "metadata": {
    "collapsed": false
   },
   "outputs": [
    {
     "data": {
      "text/plain": [
       "('Chennai', 'Veracruz', 'Barrow')"
      ]
     },
     "execution_count": 175,
     "metadata": {},
     "output_type": "execute_result"
    }
   ],
   "source": [
    "cities_tuple = tuple(cities)\n",
    "cities_tuple"
   ]
  },
  {
   "cell_type": "code",
   "execution_count": 176,
   "metadata": {
    "collapsed": false
   },
   "outputs": [
    {
     "data": {
      "text/plain": [
       "['Chennai', 'Veracruz', 'Accra']"
      ]
     },
     "execution_count": 176,
     "metadata": {},
     "output_type": "execute_result"
    }
   ],
   "source": [
    "cities[2] = 'Accra'\n",
    "cities"
   ]
  },
  {
   "cell_type": "code",
   "execution_count": 177,
   "metadata": {
    "collapsed": false
   },
   "outputs": [
    {
     "ename": "TypeError",
     "evalue": "'tuple' object does not support item assignment",
     "output_type": "error",
     "traceback": [
      "\u001b[0;31m---------------------------------------------------------------------------\u001b[0m",
      "\u001b[0;31mTypeError\u001b[0m                                 Traceback (most recent call last)",
      "\u001b[0;32m<ipython-input-177-35a016f642d4>\u001b[0m in \u001b[0;36m<module>\u001b[0;34m()\u001b[0m\n\u001b[0;32m----> 1\u001b[0;31m \u001b[0mcities_tuple\u001b[0m\u001b[0;34m[\u001b[0m\u001b[0;36m2\u001b[0m\u001b[0;34m]\u001b[0m \u001b[0;34m=\u001b[0m \u001b[0;34m'Accra'\u001b[0m\u001b[0;34m\u001b[0m\u001b[0m\n\u001b[0m",
      "\u001b[0;31mTypeError\u001b[0m: 'tuple' object does not support item assignment"
     ]
    }
   ],
   "source": [
    "cities_tuple[2] = 'Accra'"
   ]
  },
  {
   "cell_type": "markdown",
   "metadata": {},
   "source": [
    "And, therefore, tuples also don't have the useful functions that lists have."
   ]
  },
  {
   "cell_type": "code",
   "execution_count": 178,
   "metadata": {
    "collapsed": false
   },
   "outputs": [
    {
     "data": {
      "text/plain": [
       "['Chennai', 'Veracruz', 'Accra', 'Paris']"
      ]
     },
     "execution_count": 178,
     "metadata": {},
     "output_type": "execute_result"
    }
   ],
   "source": [
    "cities.append('Paris')\n",
    "cities"
   ]
  },
  {
   "cell_type": "code",
   "execution_count": 179,
   "metadata": {
    "collapsed": false
   },
   "outputs": [
    {
     "ename": "AttributeError",
     "evalue": "'tuple' object has no attribute 'append'",
     "output_type": "error",
     "traceback": [
      "\u001b[0;31m---------------------------------------------------------------------------\u001b[0m",
      "\u001b[0;31mAttributeError\u001b[0m                            Traceback (most recent call last)",
      "\u001b[0;32m<ipython-input-179-e14101c61845>\u001b[0m in \u001b[0;36m<module>\u001b[0;34m()\u001b[0m\n\u001b[0;32m----> 1\u001b[0;31m \u001b[0mcities_tuple\u001b[0m\u001b[0;34m.\u001b[0m\u001b[0mappend\u001b[0m\u001b[0;34m(\u001b[0m\u001b[0;34m'Paris'\u001b[0m\u001b[0;34m)\u001b[0m\u001b[0;34m\u001b[0m\u001b[0m\n\u001b[0m",
      "\u001b[0;31mAttributeError\u001b[0m: 'tuple' object has no attribute 'append'"
     ]
    }
   ],
   "source": [
    "cities_tuple.append('Paris')"
   ]
  },
  {
   "cell_type": "markdown",
   "metadata": {},
   "source": [
    "Tuples are advantageous when you have sequence data that you want to make sure doesn't get changed. Partly because they can't be changed, tuples are also slightly faster in computations where the sequence is very large."
   ]
  },
  {
   "cell_type": "markdown",
   "metadata": {},
   "source": [
    "Lists and tuples also allow us to quickly exchange values between variables and the elements of a sequence."
   ]
  },
  {
   "cell_type": "code",
   "execution_count": 195,
   "metadata": {
    "collapsed": false
   },
   "outputs": [
    {
     "name": "stdout",
     "output_type": "stream",
     "text": [
      "Option 1 is: Chocolate\n",
      "Option 2 is: Strawberry\n"
     ]
    }
   ],
   "source": [
    "option1, option2 = ('Chocolate', 'Strawberry')\n",
    "\n",
    "print('Option 1 is:', option1)\n",
    "print('Option 2 is:', option2)"
   ]
  },
  {
   "cell_type": "markdown",
   "metadata": {},
   "source": [
    "### Performing Calculations with Lists"
   ]
  },
  {
   "cell_type": "markdown",
   "metadata": {},
   "source": [
    "Performing calculations with lists is different from with NumPy arrays."
   ]
  },
  {
   "cell_type": "code",
   "execution_count": 200,
   "metadata": {
    "collapsed": false
   },
   "outputs": [
    {
     "data": {
      "text/plain": [
       "[1, 1, 2, 3, 5, 8, 1, 1, 2, 3, 5, 8]"
      ]
     },
     "execution_count": 200,
     "metadata": {},
     "output_type": "execute_result"
    }
   ],
   "source": [
    "numbers = [1, 1, 2, 3, 5, 8]\n",
    "numbers * 2"
   ]
  },
  {
   "cell_type": "code",
   "execution_count": 201,
   "metadata": {
    "collapsed": false
   },
   "outputs": [
    {
     "ename": "TypeError",
     "evalue": "can only concatenate list (not \"int\") to list",
     "output_type": "error",
     "traceback": [
      "\u001b[0;31m---------------------------------------------------------------------------\u001b[0m",
      "\u001b[0;31mTypeError\u001b[0m                                 Traceback (most recent call last)",
      "\u001b[0;32m<ipython-input-201-59cb69fa1d76>\u001b[0m in \u001b[0;36m<module>\u001b[0;34m()\u001b[0m\n\u001b[0;32m----> 1\u001b[0;31m \u001b[0mnumbers\u001b[0m \u001b[0;34m+\u001b[0m \u001b[0;36m1\u001b[0m\u001b[0;34m\u001b[0m\u001b[0m\n\u001b[0m",
      "\u001b[0;31mTypeError\u001b[0m: can only concatenate list (not \"int\") to list"
     ]
    }
   ],
   "source": [
    "numbers + 1"
   ]
  },
  {
   "cell_type": "code",
   "execution_count": 202,
   "metadata": {
    "collapsed": false
   },
   "outputs": [
    {
     "data": {
      "text/plain": [
       "[1, 1, 2, 3, 5, 8, 13]"
      ]
     },
     "execution_count": 202,
     "metadata": {},
     "output_type": "execute_result"
    }
   ],
   "source": [
    "numbers + [13]"
   ]
  },
  {
   "cell_type": "markdown",
   "metadata": {},
   "source": [
    "So, with lists, the addition operator `+` means **to concatenate** while the multiplication operator `*` means **to compound.** This is the same for strings:"
   ]
  },
  {
   "cell_type": "code",
   "execution_count": 203,
   "metadata": {
    "collapsed": false
   },
   "outputs": [
    {
     "data": {
      "text/plain": [
       "'butterfly'"
      ]
     },
     "execution_count": 203,
     "metadata": {},
     "output_type": "execute_result"
    }
   ],
   "source": [
    "'butter' + 'fly'"
   ]
  },
  {
   "cell_type": "code",
   "execution_count": 206,
   "metadata": {
    "collapsed": false
   },
   "outputs": [
    {
     "data": {
      "text/plain": [
       "'Cats! Cats! Cats! Cats! Cats! '"
      ]
     },
     "execution_count": 206,
     "metadata": {},
     "output_type": "execute_result"
    }
   ],
   "source": [
    "'Cats! ' * 5"
   ]
  },
  {
   "cell_type": "markdown",
   "metadata": {},
   "source": [
    "## More Complex Loops"
   ]
  },
  {
   "cell_type": "markdown",
   "metadata": {},
   "source": [
    "We can execute any arbitrary Python code inside a loop. That includes changing the value of an assigned variable within a loop."
   ]
  },
  {
   "cell_type": "code",
   "execution_count": 180,
   "metadata": {
    "collapsed": false
   },
   "outputs": [
    {
     "data": {
      "text/plain": [
       "9"
      ]
     },
     "execution_count": 180,
     "metadata": {},
     "output_type": "execute_result"
    }
   ],
   "source": [
    "length = 0\n",
    "for letter in 'Bangalore':\n",
    "    length = length + 1\n",
    "    \n",
    "length"
   ]
  },
  {
   "cell_type": "markdown",
   "metadata": {},
   "source": [
    "Note that a loop variable is just a variable that’s being used to record progress in a loop. It still exists after the loop is over, and we can re-use variables previously defined as loop variables as well."
   ]
  },
  {
   "cell_type": "code",
   "execution_count": 181,
   "metadata": {
    "collapsed": false
   },
   "outputs": [
    {
     "data": {
      "text/plain": [
       "'e'"
      ]
     },
     "execution_count": 181,
     "metadata": {},
     "output_type": "execute_result"
    }
   ],
   "source": [
    "letter"
   ]
  },
  {
   "cell_type": "markdown",
   "metadata": {},
   "source": [
    "Also, in the last exercise, we used a loop to count the number of letters in the string `'Bangalore'`. Python has a built-in function to count the number of elements in any sequence."
   ]
  },
  {
   "cell_type": "code",
   "execution_count": 182,
   "metadata": {
    "collapsed": false
   },
   "outputs": [
    {
     "data": {
      "text/plain": [
       "9"
      ]
     },
     "execution_count": 182,
     "metadata": {},
     "output_type": "execute_result"
    }
   ],
   "source": [
    "len('Bangalore')"
   ]
  },
  {
   "cell_type": "code",
   "execution_count": 184,
   "metadata": {
    "collapsed": false
   },
   "outputs": [
    {
     "data": {
      "text/plain": [
       "['Chennai', 'Veracruz', 'Accra', 'Paris']"
      ]
     },
     "execution_count": 184,
     "metadata": {},
     "output_type": "execute_result"
    }
   ],
   "source": [
    "cities"
   ]
  },
  {
   "cell_type": "code",
   "execution_count": 183,
   "metadata": {
    "collapsed": false,
    "scrolled": true
   },
   "outputs": [
    {
     "data": {
      "text/plain": [
       "4"
      ]
     },
     "execution_count": 183,
     "metadata": {},
     "output_type": "execute_result"
    }
   ],
   "source": [
    "len(cities)"
   ]
  },
  {
   "cell_type": "markdown",
   "metadata": {},
   "source": [
    "### Challenge: Looping over Sequences"
   ]
  },
  {
   "cell_type": "markdown",
   "metadata": {},
   "source": [
    "**Write a `for` loop that iterates through the letters of your favorite city, putting each letter inside a list. The result should be a list with an element for each letter.**\n",
    "\n",
    "Hint: You can create an empty list like this:\n",
    "\n",
    "```py\n",
    "letters = []\n",
    "```\n",
    "\n",
    "Hint: You can confirm you have the right result by comparing it to:\n",
    "\n",
    "```py\n",
    "list(\"my favorite city\")\n",
    "```"
   ]
  },
  {
   "cell_type": "markdown",
   "metadata": {},
   "source": [
    "### Challenge: Sequences and Mutability"
   ]
  },
  {
   "cell_type": "markdown",
   "metadata": {},
   "source": [
    "**Which of the sequences we've learned about are immutable (i.e., they can't be changed)?**\n",
    "\n",
    "- Strings are (immutable / mutable)?\n",
    "- Lists are (immutable / mutable)?\n",
    "- Tuples are (immutable / mutable)?\n",
    "\n",
    "**And what does this mean for working with each data type?**\n",
    "\n",
    "```py\n",
    "\"birds\".upper()\n",
    "\n",
    "[1, 2, 3].append(4)\n",
    "\n",
    "(1, 2, 3)\n",
    "```\n"
   ]
  },
  {
   "cell_type": "markdown",
   "metadata": {},
   "source": [
    "## Iterators and Generators"
   ]
  },
  {
   "cell_type": "markdown",
   "metadata": {},
   "source": [
    "Earlier, we saw that lists in Python have a built-in function to reverse the elements."
   ]
  },
  {
   "cell_type": "code",
   "execution_count": 3,
   "metadata": {
    "collapsed": false
   },
   "outputs": [
    {
     "data": {
      "text/plain": [
       "['Barrow', 'Veracruz', 'Chennai']"
      ]
     },
     "execution_count": 3,
     "metadata": {},
     "output_type": "execute_result"
    }
   ],
   "source": [
    "cities.reverse()\n",
    "cities"
   ]
  },
  {
   "cell_type": "markdown",
   "metadata": {},
   "source": [
    "There's also a built-in global function, `reversed()`, that returns a reversed version of a sequence."
   ]
  },
  {
   "cell_type": "code",
   "execution_count": 4,
   "metadata": {
    "collapsed": false
   },
   "outputs": [
    {
     "data": {
      "text/plain": [
       "<list_reverseiterator at 0x7f6e6d76a2e8>"
      ]
     },
     "execution_count": 4,
     "metadata": {},
     "output_type": "execute_result"
    }
   ],
   "source": [
    "reversed(cities)"
   ]
  },
  {
   "cell_type": "markdown",
   "metadata": {},
   "source": [
    "But, whoa, what is this? Why didn't we get a reversed version of the `cities` list?"
   ]
  },
  {
   "cell_type": "code",
   "execution_count": 6,
   "metadata": {
    "collapsed": false
   },
   "outputs": [
    {
     "name": "stdout",
     "output_type": "stream",
     "text": [
      "<list_reverseiterator object at 0x7f6e6d76a390>\n"
     ]
    }
   ],
   "source": [
    "print(reversed(cities))"
   ]
  },
  {
   "cell_type": "markdown",
   "metadata": {},
   "source": [
    "**What we got from `reversed()` is called an iterator.** A Python iterator is any object that iteratively produces a value as part of a loop.\n",
    "\n",
    "Remember that everything in Python is an object. Objects that are also iterators have a special built-in behavior where they \"give up\" a value when they're used inside a `for` loop, `while` loop, or similar iterative procedure. Put another way, iterators only produce new values *on demand.* By returning an iterator instead of a reversed copy of the list, the `reversed()` function is saving memory and computing time."
   ]
  },
  {
   "cell_type": "code",
   "execution_count": 7,
   "metadata": {
    "collapsed": false
   },
   "outputs": [
    {
     "name": "stdout",
     "output_type": "stream",
     "text": [
      "Chennai\n",
      "Veracruz\n",
      "Barrow\n"
     ]
    }
   ],
   "source": [
    "for each in reversed(cities):\n",
    "    print(each)"
   ]
  },
  {
   "cell_type": "markdown",
   "metadata": {},
   "source": [
    "# Analyzing Data from Multiple Files"
   ]
  },
  {
   "cell_type": "markdown",
   "metadata": {},
   "source": [
    "We have almost all of the tools we need to process all of our data files. The last thing we need is a tool for navigating our file system and finding the files that we're interested in."
   ]
  },
  {
   "cell_type": "code",
   "execution_count": 3,
   "metadata": {
    "collapsed": true
   },
   "outputs": [],
   "source": [
    "import glob"
   ]
  },
  {
   "cell_type": "markdown",
   "metadata": {},
   "source": [
    "The `glob` library contains a function, also called `glob`, that finds files and directories whose names match a pattern. The pattern is referred to as a \"glob regular expression,\" hence the name of this Python module and its chief function.\n",
    "\n",
    "`glob` patterns have two wildcards:\n",
    "\n",
    "- The `*` character matches zero or more characters;\n",
    "- The `?` character matches any one character.\n",
    "\n",
    "We can use this to get the names of all the CSV files in the current directory:"
   ]
  },
  {
   "cell_type": "code",
   "execution_count": 6,
   "metadata": {
    "collapsed": false
   },
   "outputs": [
    {
     "data": {
      "text/plain": [
       "['land_o_lakes.temperature.csv',\n",
       " 'wvu.temperature.csv',\n",
       " 'reston.temperature.csv',\n",
       " 'barrow.temperature.csv',\n",
       " 'key_west.temperature.csv']"
      ]
     },
     "execution_count": 6,
     "metadata": {},
     "output_type": "execute_result"
    }
   ],
   "source": [
    "glob.glob('*.csv')"
   ]
  },
  {
   "cell_type": "markdown",
   "metadata": {},
   "source": [
    "As you can see, `glob` returns a list of the matching files as a list. This means that we can loop over the list of filenames, doing something with each filename in turn.\n",
    "\n",
    "In our case, we want to generate a set of plots for each file in our temperature dataset."
   ]
  },
  {
   "cell_type": "markdown",
   "metadata": {},
   "source": [
    "## First Step: Looping over Files"
   ]
  },
  {
   "cell_type": "markdown",
   "metadata": {},
   "source": [
    "First, let's confirm that we can loop over filenames and load in each file."
   ]
  },
  {
   "cell_type": "code",
   "execution_count": 8,
   "metadata": {
    "collapsed": false
   },
   "outputs": [
    {
     "name": "stdout",
     "output_type": "stream",
     "text": [
      "Working on land_o_lakes.temperature.csv ...\n",
      "Working on wvu.temperature.csv ...\n",
      "Working on reston.temperature.csv ...\n",
      "Working on barrow.temperature.csv ...\n",
      "Working on key_west.temperature.csv ...\n"
     ]
    }
   ],
   "source": [
    "filenames = glob.glob('*.csv')\n",
    "\n",
    "for fname in filenames:\n",
    "    print('Working on', fname, '...')\n",
    "    data = np.loadtxt(fname, delimiter = ',')"
   ]
  },
  {
   "cell_type": "markdown",
   "metadata": {},
   "source": [
    "## Second Step: Generating a Plot"
   ]
  },
  {
   "cell_type": "markdown",
   "metadata": {},
   "source": [
    "Let's use the variables created in the last iteration of the loop to test that we can create the `matplotlib` figure that we want. **Recall that after a `for` loop has finished, the looping variable retains the value of the last element accessed in the loop.**"
   ]
  },
  {
   "cell_type": "code",
   "execution_count": 9,
   "metadata": {
    "collapsed": false
   },
   "outputs": [
    {
     "data": {
      "text/plain": [
       "'key_west.temperature.csv'"
      ]
     },
     "execution_count": 9,
     "metadata": {},
     "output_type": "execute_result"
    }
   ],
   "source": [
    "fname"
   ]
  },
  {
   "cell_type": "code",
   "execution_count": 17,
   "metadata": {
    "collapsed": false
   },
   "outputs": [
    {
     "data": {
      "image/png": "[encoded data removed]",
      "text/plain": [
       "<matplotlib.figure.Figure at 0x7f40ec066a58>"
      ]
     },
     "metadata": {},
     "output_type": "display_data"
    }
   ],
   "source": [
    "fig = pyplot.figure(figsize = (10.0, 3.0))\n",
    "axes1 = fig.add_subplot(1, 3, 1)\n",
    "axes2 = fig.add_subplot(1, 3, 2)\n",
    "axes3 = fig.add_subplot(1, 3, 3)\n",
    "\n",
    "axes1.set_ylabel('Average (deg K)')\n",
    "axes1.plot(data.mean(axis = 1))\n",
    "\n",
    "axes2.set_ylabel('Minimum (deg K)')\n",
    "axes2.plot(data.min(axis = 1))\n",
    "\n",
    "axes3.set_ylabel('Maximum (deg K)')\n",
    "axes3.plot(data.max(axis = 1))\n",
    "\n",
    "fig.tight_layout()\n",
    "pyplot.show()"
   ]
  },
  {
   "cell_type": "markdown",
   "metadata": {},
   "source": [
    "## Third Step: Putting It All Together"
   ]
  },
  {
   "cell_type": "markdown",
   "metadata": {},
   "source": [
    "Now we need to combine the code we've written so far so that we create these images for each file."
   ]
  },
  {
   "cell_type": "code",
   "execution_count": 36,
   "metadata": {
    "collapsed": false
   },
   "outputs": [
    {
     "name": "stdout",
     "output_type": "stream",
     "text": [
      "Working on barrow.temperature.csv ...\n"
     ]
    },
    {
     "data": {
      "image/png": "[encoded data removed]",
      "text/plain": [
       "<matplotlib.figure.Figure at 0x7f1826a3b2e8>"
      ]
     },
     "metadata": {},
     "output_type": "display_data"
    },
    {
     "name": "stdout",
     "output_type": "stream",
     "text": [
      "Working on reston.temperature.csv ...\n"
     ]
    },
    {
     "data": {
      "image/png": "[encoded data removed]",
      "text/plain": [
       "<matplotlib.figure.Figure at 0x7f18248ae908>"
      ]
     },
     "metadata": {},
     "output_type": "display_data"
    },
    {
     "name": "stdout",
     "output_type": "stream",
     "text": [
      "Working on land_o_lakes.temperature.csv ...\n"
     ]
    },
    {
     "data": {
      "image/png": "[encoded data removed]",
      "text/plain": [
       "<matplotlib.figure.Figure at 0x7f182481bfd0>"
      ]
     },
     "metadata": {},
     "output_type": "display_data"
    },
    {
     "name": "stdout",
     "output_type": "stream",
     "text": [
      "Working on key_west.temperature.csv ...\n"
     ]
    },
    {
     "data": {
      "image/png": "[encoded data removed]",
      "text/plain": [
       "<matplotlib.figure.Figure at 0x7f18247c3b38>"
      ]
     },
     "metadata": {},
     "output_type": "display_data"
    },
    {
     "name": "stdout",
     "output_type": "stream",
     "text": [
      "Working on wvu.temperature.csv ...\n"
     ]
    },
    {
     "data": {
      "image/png": "[encoded data removed]",
      "text/plain": [
       "<matplotlib.figure.Figure at 0x7f18245a5a90>"
      ]
     },
     "metadata": {},
     "output_type": "display_data"
    }
   ],
   "source": [
    "import glob\n",
    "import numpy as np\n",
    "import matplotlib.pyplot as pyplot\n",
    "%matplotlib inline\n",
    "\n",
    "# Get a list of the filenames we're interested in\n",
    "filenames = glob.glob('*.csv')\n",
    "\n",
    "for fname in filenames:\n",
    "    print('Working on', fname, '...')\n",
    "    \n",
    "    # Load the data\n",
    "    data = np.loadtxt(fname, delimiter = ',')\n",
    "    \n",
    "    # Create a 1 x 3 figure\n",
    "    fig = pyplot.figure(figsize = (10.0, 3.0))\n",
    "    axes1 = fig.add_subplot(1, 3, 1)\n",
    "    axes2 = fig.add_subplot(1, 3, 2)\n",
    "    axes3 = fig.add_subplot(1, 3, 3)\n",
    "\n",
    "    axes1.set_ylabel('Average (deg K)')\n",
    "    axes1.plot(data.mean(axis = 1))\n",
    "\n",
    "    axes2.set_ylabel('Minimum (deg K)')\n",
    "    axes2.plot(data.min(axis = 1))\n",
    "\n",
    "    axes3.set_ylabel('Maximum (deg K)')\n",
    "    axes3.plot(data.max(axis = 1))\n",
    "\n",
    "    fig.tight_layout()\n",
    "    pyplot.show()"
   ]
  },
  {
   "cell_type": "markdown",
   "metadata": {},
   "source": [
    "**Note that I've introduced comments into my code using the hash character, `#`.** Anything that comes after this symbol, on the same line, we'll be ignored by the Python interpreter. This is a really useful way of reminding yourself, as well as communicating to others, what certain parts of your code are doing."
   ]
  },
  {
   "cell_type": "markdown",
   "metadata": {},
   "source": [
    "### Challenge: Integrating over Multiple File Datasets"
   ]
  },
  {
   "cell_type": "markdown",
   "metadata": {},
   "source": [
    "**For each location (each file), plot the difference between that location's mean temperature and the mean across all locations.**\n",
    "\n",
    "Hint: One way to calculate the mean across five (5) files is by adding the 5 arrays together, then dividing by 5. You can add arrays together in a loop like this:\n",
    "\n",
    "```py\n",
    "# Start with an array full of zeros that is 69-elements long\n",
    "running_total = np.zeros((69))\n",
    "\n",
    "for fname in filenames:\n",
    "    data = np.loadtxt(fname, delimiter = ',')\n",
    "    running_total = running_total + data.mean(axis = 1)\n",
    "```\n",
    "\n",
    "Hint: How do you difference two arrays? Remember how the plus, `+`, and minus, `-`, operators work on arrays?"
   ]
  },
  {
   "cell_type": "code",
   "execution_count": 61,
   "metadata": {
    "collapsed": false
   },
   "outputs": [
    {
     "data": {
      "image/png": "[encoded data removed]",
      "text/plain": [
       "<matplotlib.figure.Figure at 0x7f7655e1c080>"
      ]
     },
     "metadata": {},
     "output_type": "display_data"
    },
    {
     "data": {
      "image/png": "[encoded data removed]",
      "text/plain": [
       "<matplotlib.figure.Figure at 0x7f7655cf6320>"
      ]
     },
     "metadata": {},
     "output_type": "display_data"
    },
    {
     "data": {
      "image/png": "[encoded data removed]",
      "text/plain": [
       "<matplotlib.figure.Figure at 0x7f764986ceb8>"
      ]
     },
     "metadata": {},
     "output_type": "display_data"
    },
    {
     "data": {
      "image/png": "[encoded data removed]",
      "text/plain": [
       "<matplotlib.figure.Figure at 0x7f7649838860>"
      ]
     },
     "metadata": {},
     "output_type": "display_data"
    },
    {
     "data": {
      "image/png": "[encoded data removed]",
      "text/plain": [
       "<matplotlib.figure.Figure at 0x7f7649952b70>"
      ]
     },
     "metadata": {},
     "output_type": "display_data"
    }
   ],
   "source": [
    "filenames = glob.glob('*.csv')\n",
    "\n",
    "running_total = np.zeros((69))\n",
    "\n",
    "for fname in filenames:\n",
    "    data = np.loadtxt(fname, delimiter = ',')\n",
    "    running_total = running_total + data.mean(axis = 1)\n",
    "    \n",
    "overall_mean = running_total / len(filenames)\n",
    "\n",
    "for fname in filenames:\n",
    "    data = np.loadtxt(fname, delimiter = ',')\n",
    "    fig = pyplot.figure(figsize = (10.0, 3.0))\n",
    "    axis1 = fig.add_subplot(1, 1, 1)\n",
    "    axis1.plot((data.mean(axis = 1) - overall_mean))\n",
    "    axis1.set_title(fname)\n",
    "    pyplot.show()"
   ]
  },
  {
   "cell_type": "markdown",
   "metadata": {},
   "source": [
    "# Conditional Evaluation"
   ]
  },
  {
   "cell_type": "markdown",
   "metadata": {},
   "source": [
    "As humans, we often face choices in our work and daily lives. Given some information about the world, we make a decision to do one thing or another.\n",
    "\n",
    "It should be obvious that our computer programs need to do this as well. **So far, we've written Python code that does the exact same thing with whatever input it receives.** This is a great benefit, of course, for our productivity; we can reliably perform analyses the same way on multiple datasets.\n",
    "\n",
    "Now, we need to learn how Python can detect certain **conditions** and act accordingly.\n",
    "\n",
    "**Conditional evaluation** in Python is performed using what are called **conditional statements.**"
   ]
  },
  {
   "cell_type": "code",
   "execution_count": 5,
   "metadata": {
    "collapsed": false
   },
   "outputs": [
    {
     "name": "stdout",
     "output_type": "stream",
     "text": [
      "Not greater\n",
      "Done\n"
     ]
    }
   ],
   "source": [
    "a_number = 42\n",
    "\n",
    "if a_number > 100:\n",
    "    print('Greater')\n",
    "    \n",
    "else:\n",
    "    print('Not greater')\n",
    "    \n",
    "print('Done')"
   ]
  },
  {
   "cell_type": "markdown",
   "metadata": {},
   "source": [
    "This code can be represented by the following workflow.\n",
    "\n",
    "![](./python-flowchart-conditional.png)"
   ]
  },
  {
   "cell_type": "markdown",
   "metadata": {},
   "source": [
    "The `if` statement in Python is a conditional statement; it contains a conditional expression, which evaluates to `True` or `False`."
   ]
  },
  {
   "cell_type": "code",
   "execution_count": 6,
   "metadata": {
    "collapsed": false
   },
   "outputs": [
    {
     "data": {
      "text/plain": [
       "False"
      ]
     },
     "execution_count": 6,
     "metadata": {},
     "output_type": "execute_result"
    }
   ],
   "source": [
    "a_number > 100"
   ]
  },
  {
   "cell_type": "markdown",
   "metadata": {},
   "source": [
    "Thus, when the conditional expression following the `if` statement evaluates to `False`, the codes skips to the `else` statement. Note that it is the indented code blocks below the `if` and `else` statements that is **conditionally executed.**\n",
    "\n",
    "`True` and `False` are special values in Python and the first letter is always capitalized.\n",
    "\n",
    "Conditional statements don't have to include the `else` statement. If there is `else` statement, Python simply does nothing when the test is `False`."
   ]
  },
  {
   "cell_type": "code",
   "execution_count": 7,
   "metadata": {
    "collapsed": true
   },
   "outputs": [],
   "source": [
    "if a_number > 100:\n",
    "    print(a_number, 'is greater than 100')"
   ]
  },
  {
   "cell_type": "markdown",
   "metadata": {},
   "source": [
    "Note that there is no output associated with this code."
   ]
  },
  {
   "cell_type": "markdown",
   "metadata": {},
   "source": [
    "### Challenge: Conditional Expressions"
   ]
  },
  {
   "cell_type": "markdown",
   "metadata": {},
   "source": [
    "**How can you make this code print \"Greater\" by changing only one line?**\n",
    "\n",
    "```py\n",
    "a_number = 42\n",
    "\n",
    "if a_number > 100:\n",
    "    print('Greater')\n",
    "    \n",
    "else:\n",
    "    print('Not greater')\n",
    "    \n",
    "print('Done')\n",
    "```\n",
    "\n",
    "**There are two (2) one-line changes you could make. Can you find them both?**"
   ]
  },
  {
   "cell_type": "markdown",
   "metadata": {},
   "source": [
    "## Conditional Expressions in Python"
   ]
  },
  {
   "cell_type": "markdown",
   "metadata": {},
   "source": [
    "As we've seen, conditional expressions evaluate to either `True` or `False`. These two, special values are called **logical** or **Boolean** values. Let's get more familiar with Booleans."
   ]
  },
  {
   "cell_type": "code",
   "execution_count": 8,
   "metadata": {
    "collapsed": false
   },
   "outputs": [
    {
     "data": {
      "text/plain": [
       "True"
      ]
     },
     "execution_count": 8,
     "metadata": {},
     "output_type": "execute_result"
    }
   ],
   "source": [
    "True and True"
   ]
  },
  {
   "cell_type": "code",
   "execution_count": 11,
   "metadata": {
    "collapsed": false
   },
   "outputs": [
    {
     "data": {
      "text/plain": [
       "True"
      ]
     },
     "execution_count": 11,
     "metadata": {},
     "output_type": "execute_result"
    }
   ],
   "source": [
    "True or False"
   ]
  },
  {
   "cell_type": "code",
   "execution_count": 85,
   "metadata": {
    "collapsed": false
   },
   "outputs": [
    {
     "data": {
      "text/plain": [
       "True"
      ]
     },
     "execution_count": 85,
     "metadata": {},
     "output_type": "execute_result"
    }
   ],
   "source": [
    "True or not True"
   ]
  },
  {
   "cell_type": "code",
   "execution_count": 84,
   "metadata": {
    "collapsed": false
   },
   "outputs": [
    {
     "data": {
      "text/plain": [
       "False"
      ]
     },
     "execution_count": 84,
     "metadata": {},
     "output_type": "execute_result"
    }
   ],
   "source": [
    "not True"
   ]
  },
  {
   "cell_type": "markdown",
   "metadata": {},
   "source": [
    "Here, `and` and `or` are two comparison operators. We've seen \"greater than\" already and there are a couple more."
   ]
  },
  {
   "cell_type": "markdown",
   "metadata": {},
   "source": [
    "**What do each of the following evaluate to, `True` or `False`?**\n",
    "\n",
    "```py\n",
    "1 < 2\n",
    "1 <= 1\n",
    "3 == 3\n",
    "2 != 3\n",
    "```"
   ]
  },
  {
   "cell_type": "markdown",
   "metadata": {},
   "source": [
    "**We can combine multiple comparison operators to create complex tests in our code.**"
   ]
  },
  {
   "cell_type": "code",
   "execution_count": 12,
   "metadata": {
    "collapsed": false
   },
   "outputs": [
    {
     "name": "stdout",
     "output_type": "stream",
     "text": [
      "At least one part is false\n"
     ]
    }
   ],
   "source": [
    "if (1 > 0) and (-1 > 0):\n",
    "    print('Both parts are true')\n",
    "    \n",
    "else:\n",
    "    print('At least one part is false')"
   ]
  },
  {
   "cell_type": "markdown",
   "metadata": {},
   "source": [
    "What happens if we change the `and` to an `or`?"
   ]
  },
  {
   "cell_type": "code",
   "execution_count": 15,
   "metadata": {
    "collapsed": false
   },
   "outputs": [
    {
     "name": "stdout",
     "output_type": "stream",
     "text": [
      "At least one part is true\n"
     ]
    }
   ],
   "source": [
    "if (1 > 0) or (-1 > 0):\n",
    "    print('At least one part is true')"
   ]
  },
  {
   "cell_type": "markdown",
   "metadata": {},
   "source": [
    "Finally, we can chain conditional expressions together using `elif`, which stands for \"else if\" and follows an initial `if` statement."
   ]
  },
  {
   "cell_type": "code",
   "execution_count": 22,
   "metadata": {
    "collapsed": false
   },
   "outputs": [
    {
     "name": "stdout",
     "output_type": "stream",
     "text": [
      "Negative\n"
     ]
    }
   ],
   "source": [
    "number = -3\n",
    "\n",
    "if number > 0:\n",
    "    print('Positive')\n",
    "    \n",
    "elif number == 0:\n",
    "    print('Is Zero')\n",
    "    \n",
    "else:\n",
    "    print('Negative')"
   ]
  },
  {
   "cell_type": "markdown",
   "metadata": {},
   "source": [
    "Whereas each `if` statement has only one `else`, it can have as many `elif` statements as you need."
   ]
  },
  {
   "cell_type": "markdown",
   "metadata": {},
   "source": [
    "## Checking our Data"
   ]
  },
  {
   "cell_type": "markdown",
   "metadata": {},
   "source": [
    "How can we put conditional evaluation to work in analyzing our temperature data? Let's say we're interested in temperature anomalies; that is, the year-to-year deviation in temperature from a long-term mean.\n",
    "\n",
    "Let's also say we want to fit a straight line to the anomalies. **We can use another Python library, `statsmodels`, to fit an ordinary-least squares (OLS) regression to our temperature anomaly.**"
   ]
  },
  {
   "cell_type": "code",
   "execution_count": 66,
   "metadata": {
    "collapsed": false
   },
   "outputs": [
    {
     "data": {
      "text/html": [
       "<table class=\"simpletable\">\n",
       "<caption>OLS Regression Results</caption>\n",
       "<tr>\n",
       "  <th>Dep. Variable:</th>            <td>y</td>        <th>  R-squared:         </th> <td>   0.082</td>\n",
       "</tr>\n",
       "<tr>\n",
       "  <th>Model:</th>                   <td>OLS</td>       <th>  Adj. R-squared:    </th> <td>   0.069</td>\n",
       "</tr>\n",
       "<tr>\n",
       "  <th>Method:</th>             <td>Least Squares</td>  <th>  F-statistic:       </th> <td>   6.002</td>\n",
       "</tr>\n",
       "<tr>\n",
       "  <th>Date:</th>             <td>Tue, 16 May 2017</td> <th>  Prob (F-statistic):</th>  <td>0.0169</td> \n",
       "</tr>\n",
       "<tr>\n",
       "  <th>Time:</th>                 <td>09:34:34</td>     <th>  Log-Likelihood:    </th> <td> -67.864</td>\n",
       "</tr>\n",
       "<tr>\n",
       "  <th>No. Observations:</th>      <td>    69</td>      <th>  AIC:               </th> <td>   139.7</td>\n",
       "</tr>\n",
       "<tr>\n",
       "  <th>Df Residuals:</th>          <td>    67</td>      <th>  BIC:               </th> <td>   144.2</td>\n",
       "</tr>\n",
       "<tr>\n",
       "  <th>Df Model:</th>              <td>     1</td>      <th>                     </th>     <td> </td>   \n",
       "</tr>\n",
       "<tr>\n",
       "  <th>Covariance Type:</th>      <td>nonrobust</td>    <th>                     </th>     <td> </td>   \n",
       "</tr>\n",
       "</table>\n",
       "<table class=\"simpletable\">\n",
       "<tr>\n",
       "    <td></td>       <th>coef</th>     <th>std err</th>      <th>t</th>      <th>P>|t|</th> <th>[95.0% Conf. Int.]</th> \n",
       "</tr>\n",
       "<tr>\n",
       "  <th>const</th> <td>  -19.2705</td> <td>    7.867</td> <td>   -2.450</td> <td> 0.017</td> <td>  -34.972    -3.569</td>\n",
       "</tr>\n",
       "<tr>\n",
       "  <th>x1</th>    <td>    0.0097</td> <td>    0.004</td> <td>    2.450</td> <td> 0.017</td> <td>    0.002     0.018</td>\n",
       "</tr>\n",
       "</table>\n",
       "<table class=\"simpletable\">\n",
       "<tr>\n",
       "  <th>Omnibus:</th>       <td> 1.480</td> <th>  Durbin-Watson:     </th> <td>   1.447</td>\n",
       "</tr>\n",
       "<tr>\n",
       "  <th>Prob(Omnibus):</th> <td> 0.477</td> <th>  Jarque-Bera (JB):  </th> <td>   1.394</td>\n",
       "</tr>\n",
       "<tr>\n",
       "  <th>Skew:</th>          <td> 0.228</td> <th>  Prob(JB):          </th> <td>   0.498</td>\n",
       "</tr>\n",
       "<tr>\n",
       "  <th>Kurtosis:</th>      <td> 2.473</td> <th>  Cond. No.          </th> <td>1.97e+05</td>\n",
       "</tr>\n",
       "</table>"
      ],
      "text/plain": [
       "<class 'statsmodels.iolib.summary.Summary'>\n",
       "\"\"\"\n",
       "                            OLS Regression Results                            \n",
       "==============================================================================\n",
       "Dep. Variable:                      y   R-squared:                       0.082\n",
       "Model:                            OLS   Adj. R-squared:                  0.069\n",
       "Method:                 Least Squares   F-statistic:                     6.002\n",
       "Date:                Tue, 16 May 2017   Prob (F-statistic):             0.0169\n",
       "Time:                        09:34:34   Log-Likelihood:                -67.864\n",
       "No. Observations:                  69   AIC:                             139.7\n",
       "Df Residuals:                      67   BIC:                             144.2\n",
       "Df Model:                           1                                         \n",
       "Covariance Type:            nonrobust                                         \n",
       "==============================================================================\n",
       "                 coef    std err          t      P>|t|      [95.0% Conf. Int.]\n",
       "------------------------------------------------------------------------------\n",
       "const        -19.2705      7.867     -2.450      0.017       -34.972    -3.569\n",
       "x1             0.0097      0.004      2.450      0.017         0.002     0.018\n",
       "==============================================================================\n",
       "Omnibus:                        1.480   Durbin-Watson:                   1.447\n",
       "Prob(Omnibus):                  0.477   Jarque-Bera (JB):                1.394\n",
       "Skew:                           0.228   Prob(JB):                        0.498\n",
       "Kurtosis:                       2.473   Cond. No.                     1.97e+05\n",
       "==============================================================================\n",
       "\n",
       "Warnings:\n",
       "[1] Standard Errors assume that the covariance matrix of the errors is correctly specified.\n",
       "[2] The condition number is large, 1.97e+05. This might indicate that there are\n",
       "strong multicollinearity or other numerical problems.\n",
       "\"\"\""
      ]
     },
     "execution_count": 66,
     "metadata": {},
     "output_type": "execute_result"
    }
   ],
   "source": [
    "import statsmodels.api as sm\n",
    "\n",
    "data = np.loadtxt('wvu.temperature.csv', delimiter = ',')\n",
    "\n",
    "# Subtract the location's long-term mean\n",
    "y_data = data.mean(axis = 1) - data.mean()\n",
    "\n",
    "# Create an array of numbers 1948, 1949, ..., 2016\n",
    "x_data = np.arange(1948, 2017)\n",
    "\n",
    "# Add a constant (the intercept term)\n",
    "x_data = sm.add_constant(x_data)\n",
    "\n",
    "# Fit the temperature anomalies to a simple time series\n",
    "results = sm.OLS(y_data, x_data).fit()\n",
    "results.summary()"
   ]
  },
  {
   "cell_type": "code",
   "execution_count": 79,
   "metadata": {
    "collapsed": false
   },
   "outputs": [
    {
     "data": {
      "image/png": "[encoded data removed]",
      "text/plain": [
       "<matplotlib.figure.Figure at 0x7f764972ab70>"
      ]
     },
     "metadata": {},
     "output_type": "display_data"
    }
   ],
   "source": [
    "b0, b1 = results.params\n",
    "\n",
    "# Calculate a line of best fit\n",
    "fit_line = b0 + (b1 * x_data[:,1])\n",
    "\n",
    "fig = pyplot.figure(figsize = (10.0, 3.0))\n",
    "axis1 = fig.add_subplot(1, 1, 1)\n",
    "axis1.plot(x_data, y_data, 'k')\n",
    "axis1.plot(x_data, fit_line, 'r')\n",
    "axis1.set_xlim(1948, 2016)\n",
    "axis1.set_title(fname)\n",
    "pyplot.show()"
   ]
  },
  {
   "cell_type": "markdown",
   "metadata": {},
   "source": [
    "**What if we wanted to detect the direction of this fit line automatically?** It could be tedious to have a human being tally up how many are trending upwards versus downwards... Let's have the computer do it."
   ]
  },
  {
   "cell_type": "markdown",
   "metadata": {},
   "source": [
    "### Challenge: Fitting a Line over Multiple File Datasets"
   ]
  },
  {
   "cell_type": "markdown",
   "metadata": {},
   "source": [
    "**Write a `for` loop, with an `if` statement inside, that calculates a line of best fit for each dataset's temperature anomalies and prints out a message as to whether that trend line is positive or negative.**\n",
    "\n",
    "Hint: What we want to know about each trend line is whether, for:\n",
    "\n",
    "```py\n",
    "results = sm.OLS(y_data, x_data).fit()\n",
    "b0, b1 = results.params\n",
    "```\n",
    "\n",
    "If `b1`, the slope of the line, is positive or negative."
   ]
  },
  {
   "cell_type": "code",
   "execution_count": 82,
   "metadata": {
    "collapsed": false
   },
   "outputs": [
    {
     "name": "stdout",
     "output_type": "stream",
     "text": [
      "barrow.temperature.csv -- Long-term trend is positive\n",
      "reston.temperature.csv -- Long-term trend is positive\n",
      "land_o_lakes.temperature.csv -- Long-term trend is positive\n",
      "key_west.temperature.csv -- Long-term trend is positive\n",
      "wvu.temperature.csv -- Long-term trend is positive\n"
     ]
    }
   ],
   "source": [
    "filenames = glob.glob('*.csv')\n",
    "\n",
    "# I can do these things outside of the loop\n",
    "#  because the X data are the same for each dataset\n",
    "x_data = np.arange(1948, 2017)\n",
    "x_data = sm.add_constant(x_data) # Add the intercept term)\n",
    "\n",
    "for fname in filenames:\n",
    "    data = np.loadtxt(fname, delimiter = ',')\n",
    "    \n",
    "    # Subtract the location's long-term mean\n",
    "    y_data = data.mean(axis = 1) - data.mean()\n",
    "\n",
    "    # Fit the temperature anomalies to a simple time series\n",
    "    results = sm.OLS(y_data, x_data).fit()\n",
    "    \n",
    "    b0, b1 = results.params\n",
    "\n",
    "    if b1 > 0:\n",
    "        print(fname, '-- Long-term trend is positive')\n",
    "        \n",
    "    else:\n",
    "        print(fname, '-- Long-term trend is negative')"
   ]
  },
  {
   "cell_type": "markdown",
   "metadata": {},
   "source": [
    "# Creating Functions for Reuse"
   ]
  },
  {
   "cell_type": "markdown",
   "metadata": {},
   "source": [
    "At this point, what have we learned?\n",
    "\n",
    "- What sequences are and how to create them;\n",
    "- A list is created by comma-separated values inside square brackets;\n",
    "- A tuple is created by comma-separated values inside parentheses;\n",
    "- Lists are mutable--their elements can be changed;\n",
    "- Strings and tuples are immutable--the letters or other elements in these sequences cannot be changed;\n",
    "- How to use `glob.glob()` to create a list of files whose names match a given pattern;\n",
    "- How to use `if` statements to test a condition;\n",
    "- How to use `elif` and `else` statements to test alternative conditions;\n",
    "- Conditional operators including `==`, `>=`, `<=`, `and`, and `or`;\n",
    "- `X and Y` is only true if both X and Y are true;\n",
    "- `X or Y` is true if either X, Y, or both are true;\n",
    "- How to implement a test over multiple inputs using an `if` statement inside a `for` loop."
   ]
  },
  {
   "cell_type": "markdown",
   "metadata": {},
   "source": [
    "At this point, we've done a lot of interesting things with our temperature dataset. But our code is getting kind of long. The interesting parts that we've figured out together could be useful to us in the future or to other people. **Is there a way for us to package this code for later re-use?**\n",
    "\n",
    "In Python, we can do just that be creating our own custom functions. We'll start by defining a function that converts temperatures from Kelvin to Celsius."
   ]
  },
  {
   "cell_type": "code",
   "execution_count": 38,
   "metadata": {
    "collapsed": true
   },
   "outputs": [],
   "source": [
    "def kelvin_to_celsius(temp_k):\n",
    "    return temp_k - 273.15"
   ]
  },
  {
   "cell_type": "markdown",
   "metadata": {},
   "source": [
    "How do we know this function works? We can devise tests where we know what output should correspond with a given input."
   ]
  },
  {
   "cell_type": "code",
   "execution_count": 88,
   "metadata": {
    "collapsed": false
   },
   "outputs": [
    {
     "name": "stdout",
     "output_type": "stream",
     "text": [
      "Passed\n",
      "Passed\n"
     ]
    }
   ],
   "source": [
    "if kelvin_to_celsius(273.15) == 0:\n",
    "    print('Passed')\n",
    "    \n",
    "if kelvin_to_celsius(373.15) == 100:\n",
    "    print('Passed')"
   ]
  },
  {
   "cell_type": "markdown",
   "metadata": {},
   "source": [
    "**Let's break down this function definition.**"
   ]
  },
  {
   "cell_type": "markdown",
   "metadata": {},
   "source": [
    "- The `def` keyword indicates to Python that we are defining a function; the name of the function we want to define comes next.\n",
    "- In parentheses after the function name are any **arguments** that function takes. Remember that a function doesn't have to take any arguments. In that case, we still need the parentheses, but there is nothing inside them.\n",
    "- Just as with `for` loops and `if` statements, after the colon, `:`, we indent 4 spaces and then write the **body** of the function. This is what the function actually does when it is called. Inside the body, any arguments provided are available as variables with the name of the argument as we wrote it in the function definition."
   ]
  },
  {
   "cell_type": "markdown",
   "metadata": {},
   "source": [
    "**What happens if we remove the keyword `return` from this function? Make this change and call the function again.**"
   ]
  },
  {
   "cell_type": "markdown",
   "metadata": {},
   "source": [
    "## Composing Multiple Functions"
   ]
  },
  {
   "cell_type": "markdown",
   "metadata": {},
   "source": [
    "Now that we've created a function that converts temperatures in degrees Kelvin to degrees Celsius, let's see if we can write a function that converts from degrees Celsius to degrees Fahrenheit.\n",
    "\n",
    "$$\n",
    "T_F = \\left(T_C \\times \\frac{9}{5}\\right) + 32\n",
    "$$"
   ]
  },
  {
   "cell_type": "code",
   "execution_count": 39,
   "metadata": {
    "collapsed": true
   },
   "outputs": [],
   "source": [
    "def celsius_to_fahr(temp_c):\n",
    "    return (temp_c * (9/5)) + 32"
   ]
  },
  {
   "cell_type": "code",
   "execution_count": 90,
   "metadata": {
    "collapsed": false
   },
   "outputs": [
    {
     "name": "stdout",
     "output_type": "stream",
     "text": [
      "Passed\n",
      "Passed\n"
     ]
    }
   ],
   "source": [
    "if celsius_to_fahr(0) == 32:\n",
    "    print('Passed')\n",
    "    \n",
    "if celsius_to_fahr(-40) == -40:\n",
    "    print('Passed')"
   ]
  },
  {
   "cell_type": "markdown",
   "metadata": {},
   "source": [
    "**Now, what if we want to convert temperatures in degrees to Kelvin to degrees Fahrenheit?**"
   ]
  },
  {
   "cell_type": "code",
   "execution_count": 40,
   "metadata": {
    "collapsed": true
   },
   "outputs": [],
   "source": [
    "def kelvin_to_fahr(temp_k):\n",
    "    temp_c = kelvin_to_celsius(temp_k)\n",
    "    return celsius_to_fahr(temp_c)"
   ]
  },
  {
   "cell_type": "code",
   "execution_count": 94,
   "metadata": {
    "collapsed": false
   },
   "outputs": [
    {
     "data": {
      "text/plain": [
       "80.33000000000004"
      ]
     },
     "execution_count": 94,
     "metadata": {},
     "output_type": "execute_result"
    }
   ],
   "source": [
    "kelvin_to_fahr(300)"
   ]
  },
  {
   "cell_type": "markdown",
   "metadata": {},
   "source": [
    "Another way to do this is to chain multiple function calls."
   ]
  },
  {
   "cell_type": "code",
   "execution_count": 95,
   "metadata": {
    "collapsed": false
   },
   "outputs": [
    {
     "data": {
      "text/plain": [
       "80.33000000000004"
      ]
     },
     "execution_count": 95,
     "metadata": {},
     "output_type": "execute_result"
    }
   ],
   "source": [
    "celsius_to_fahr(kelvin_to_celsius(300))"
   ]
  },
  {
   "cell_type": "code",
   "execution_count": 99,
   "metadata": {
    "collapsed": false
   },
   "outputs": [
    {
     "name": "stdout",
     "output_type": "stream",
     "text": [
      "wvu.temperature.csv\n"
     ]
    },
    {
     "data": {
      "text/plain": [
       "array([ 29.432     ,  31.75321739,  40.46991304,  50.81626087,\n",
       "        59.77791304,  67.75035565,  71.61695652,  70.44017652,\n",
       "        63.82113043,  52.56747826,  42.42095652,  33.51643478])"
      ]
     },
     "execution_count": 99,
     "metadata": {},
     "output_type": "execute_result"
    }
   ],
   "source": [
    "print(fname)\n",
    "kelvin_to_fahr(data.mean(axis = 0))"
   ]
  },
  {
   "cell_type": "markdown",
   "metadata": {},
   "source": [
    "## Cleaning Up our Analysis Code"
   ]
  },
  {
   "cell_type": "markdown",
   "metadata": {},
   "source": [
    "Now that we understand functions in Python we can begin to clean up the codebase we've established so far.\n",
    "\n",
    "For starters, let's create a function that calculates temperature anomalies."
   ]
  },
  {
   "cell_type": "code",
   "execution_count": 103,
   "metadata": {
    "collapsed": false
   },
   "outputs": [
    {
     "data": {
      "text/plain": [
       "array([ 0.08412995,  1.17246329, -0.21003671,  0.26162995,  0.60996329,\n",
       "        1.05080495,  0.41496329,  0.00829662, -0.21753671,  0.11912995,\n",
       "       -1.52170338,  0.27996329, -1.06087005, -0.52753671, -0.79087005,\n",
       "       -1.29337005, -0.08087005, -0.12170338, -0.87253671, -0.56503671,\n",
       "       -0.77586171, -0.79003671,  0.03412995, -0.05087005, -0.47837005,\n",
       "        0.55329662, -0.02837005,  0.32996329, -0.99087005, -0.33087005,\n",
       "       -1.13170338, -0.81503671, -0.74003671, -0.88753671,  0.03746329,\n",
       "       -0.20670338,  0.10162995,  0.09329662,  0.45246329,  0.50329662,\n",
       "       -0.27420338, -0.52420338,  1.19412995,  1.19746329, -0.32002838,\n",
       "        0.11329662,  0.03246329, -0.05253671, -0.55587005, -0.48670338,\n",
       "        1.43412995,  0.62412995, -0.12420338,  0.47912995,  0.77746329,\n",
       "       -0.30670338,  0.29829662,  0.55997162,  0.66829662,  0.55079662,\n",
       "       -0.07003671, -0.24753671, -0.06920338,  0.84579662,  1.44079662,\n",
       "       -0.06670338, -0.78837005,  0.64329662,  1.40829662])"
      ]
     },
     "execution_count": 103,
     "metadata": {},
     "output_type": "execute_result"
    }
   ],
   "source": [
    "def temperature_anomaly(temp_array):\n",
    "    return temp_array.mean(axis = 1) - temp_array.mean()\n",
    "\n",
    "temperature_anomaly(data)"
   ]
  },
  {
   "cell_type": "markdown",
   "metadata": {},
   "source": [
    "This works great! Now, suppose I suspect the long-term mean is a little biased; maybe I want a different measure of central tendency to use in calculating anomalies. Say, maybe I want to subtract the median temperature value instead of the mean.\n",
    "\n",
    "In Python, I can just add another argument to provide this flexibility."
   ]
  },
  {
   "cell_type": "code",
   "execution_count": 105,
   "metadata": {
    "collapsed": false
   },
   "outputs": [
    {
     "data": {
      "text/plain": [
       "array([ -2.15000000e-01,   8.73333333e-01,  -5.09166667e-01,\n",
       "        -3.75000000e-02,   3.10833333e-01,   7.51675000e-01,\n",
       "         1.15833333e-01,  -2.90833333e-01,  -5.16666667e-01,\n",
       "        -1.80000000e-01,  -1.82083333e+00,  -1.91666667e-02,\n",
       "        -1.36000000e+00,  -8.26666667e-01,  -1.09000000e+00,\n",
       "        -1.59250000e+00,  -3.80000000e-01,  -4.20833333e-01,\n",
       "        -1.17166667e+00,  -8.64166667e-01,  -1.07499167e+00,\n",
       "        -1.08916667e+00,  -2.65000000e-01,  -3.50000000e-01,\n",
       "        -7.77500000e-01,   2.54166667e-01,  -3.27500000e-01,\n",
       "         3.08333333e-02,  -1.29000000e+00,  -6.30000000e-01,\n",
       "        -1.43083333e+00,  -1.11416667e+00,  -1.03916667e+00,\n",
       "        -1.18666667e+00,  -2.61666667e-01,  -5.05833333e-01,\n",
       "        -1.97500000e-01,  -2.05833333e-01,   1.53333333e-01,\n",
       "         2.04166667e-01,  -5.73333333e-01,  -8.23333333e-01,\n",
       "         8.95000000e-01,   8.98333333e-01,  -6.19158333e-01,\n",
       "        -1.85833333e-01,  -2.66666667e-01,  -3.51666667e-01,\n",
       "        -8.55000000e-01,  -7.85833333e-01,   1.13500000e+00,\n",
       "         3.25000000e-01,  -4.23333333e-01,   1.80000000e-01,\n",
       "         4.78333333e-01,  -6.05833333e-01,  -8.33333333e-04,\n",
       "         2.60841667e-01,   3.69166667e-01,   2.51666667e-01,\n",
       "        -3.69166667e-01,  -5.46666667e-01,  -3.68333333e-01,\n",
       "         5.46666667e-01,   1.14166667e+00,  -3.65833333e-01,\n",
       "        -1.08750000e+00,   3.44166667e-01,   1.10916667e+00])"
      ]
     },
     "execution_count": 105,
     "metadata": {},
     "output_type": "execute_result"
    }
   ],
   "source": [
    "def temperature_anomaly(temp_array, long_term_avg):\n",
    "    return temp_array.mean(axis = 1) - long_term_avg\n",
    "\n",
    "temperature_anomaly(data, np.median(data))"
   ]
  },
  {
   "cell_type": "markdown",
   "metadata": {},
   "source": [
    "This function is more flexible, but I also have to type more. Suppose that I want a function that allows me to use the median value but will default to the mean value, because the mean value is what most people who will use this function want.\n",
    "\n",
    "In Python, functions can take **default arguments;** these are arguments that could be provided when the function is called, but aren't required."
   ]
  },
  {
   "cell_type": "code",
   "execution_count": 119,
   "metadata": {
    "collapsed": false
   },
   "outputs": [
    {
     "data": {
      "image/png": "[encoded data removed]",
      "text/plain": [
       "<matplotlib.figure.Figure at 0x7f764993a710>"
      ]
     },
     "metadata": {},
     "output_type": "display_data"
    }
   ],
   "source": [
    "def temperature_anomaly(temp_array, long_term_avg = None):\n",
    "    if long_term_avg:\n",
    "        return temp_array.mean(axis = 1) - long_term_avg\n",
    "    \n",
    "    else:\n",
    "        return temp_array.mean(axis = 1) - temp_array.mean()\n",
    "    \n",
    "pyplot.plot(temperature_anomaly(data))\n",
    "pyplot.show()"
   ]
  },
  {
   "cell_type": "code",
   "execution_count": 120,
   "metadata": {
    "collapsed": false
   },
   "outputs": [
    {
     "data": {
      "image/png": "[encoded data removed]",
      "text/plain": [
       "<matplotlib.figure.Figure at 0x7f7648b5efd0>"
      ]
     },
     "metadata": {},
     "output_type": "display_data"
    }
   ],
   "source": [
    "pyplot.plot(temperature_anomaly(data, np.median(data)))\n",
    "pyplot.show()"
   ]
  },
  {
   "cell_type": "markdown",
   "metadata": {},
   "source": [
    "**`None` is a special value in Python.** It means just that: nothing. It is similar to \"null\" in other programming languages. Like `True` and `False`, the first letter is always capitalized.\n",
    "\n",
    "Because `None` has a \"False-y\" value, we can treat it like the Python `False`."
   ]
  },
  {
   "cell_type": "code",
   "execution_count": 115,
   "metadata": {
    "collapsed": false
   },
   "outputs": [
    {
     "data": {
      "text/plain": [
       "True"
      ]
     },
     "execution_count": 115,
     "metadata": {},
     "output_type": "execute_result"
    }
   ],
   "source": [
    "not None"
   ]
  },
  {
   "cell_type": "markdown",
   "metadata": {},
   "source": [
    "However, for various reasons, we usually want to distinguish values that are False-y and values that are `None`. Let's make two changes to our function:\n",
    "\n",
    "- Explicitly test for `None`;\n",
    "- Remove the `else` statement, which is unnecessary;"
   ]
  },
  {
   "cell_type": "code",
   "execution_count": 118,
   "metadata": {
    "collapsed": false
   },
   "outputs": [
    {
     "data": {
      "image/png": "[encoded data removed]",
      "text/plain": [
       "<matplotlib.figure.Figure at 0x7f7649764748>"
      ]
     },
     "metadata": {},
     "output_type": "display_data"
    }
   ],
   "source": [
    "def temperature_anomaly(temp_array, long_term_avg = None):\n",
    "    if long_term_avg is not None:\n",
    "        return temp_array.mean(axis = 1) - long_term_avg\n",
    "    \n",
    "    return temp_array.mean(axis = 1) - temp_array.mean()\n",
    "\n",
    "pyplot.plot(temperature_anomaly(data))\n",
    "pyplot.show()"
   ]
  },
  {
   "cell_type": "markdown",
   "metadata": {},
   "source": [
    "## Positional versus Keyword Arguments"
   ]
  },
  {
   "cell_type": "markdown",
   "metadata": {},
   "source": [
    "In a Python function, there are two kinds of arguments: **positional arguments** and **keyword arguments.**\n",
    "\n",
    "**Positional arguments** are simpler and more common. In this example, Python knows that the value `1` we've provided is the first (and only) argument, so it assigns this value to the first argument in the corresponding function definition."
   ]
  },
  {
   "cell_type": "code",
   "execution_count": 122,
   "metadata": {
    "collapsed": false
   },
   "outputs": [
    {
     "data": {
      "text/plain": [
       "array([ 283.9       ,  284.98833333,  283.60583333,  284.0775    ,\n",
       "        284.42583333,  284.866675  ,  284.23083333,  283.82416667,\n",
       "        283.59833333,  283.935     ,  282.29416667,  284.09583333,\n",
       "        282.755     ,  283.28833333,  283.025     ,  282.5225    ,\n",
       "        283.735     ,  283.69416667,  282.94333333,  283.25083333,\n",
       "        283.04000833,  283.02583333,  283.85      ,  283.765     ,\n",
       "        283.3375    ,  284.36916667,  283.7875    ,  284.14583333,\n",
       "        282.825     ,  283.485     ,  282.68416667,  283.00083333,\n",
       "        283.07583333,  282.92833333,  283.85333333,  283.60916667,\n",
       "        283.9175    ,  283.90916667,  284.26833333,  284.31916667,\n",
       "        283.54166667,  283.29166667,  285.01      ,  285.01333333,\n",
       "        283.49584167,  283.92916667,  283.84833333,  283.76333333,\n",
       "        283.26      ,  283.32916667,  285.25      ,  284.44      ,\n",
       "        283.69166667,  284.295     ,  284.59333333,  283.50916667,\n",
       "        284.11416667,  284.37584167,  284.48416667,  284.36666667,\n",
       "        283.74583333,  283.56833333,  283.74666667,  284.66166667,\n",
       "        285.25666667,  283.74916667,  283.0275    ,  284.45916667,\n",
       "        285.22416667])"
      ]
     },
     "execution_count": 122,
     "metadata": {},
     "output_type": "execute_result"
    }
   ],
   "source": [
    "data.mean(1)"
   ]
  },
  {
   "cell_type": "code",
   "execution_count": 137,
   "metadata": {
    "collapsed": true
   },
   "outputs": [],
   "source": [
    "data.mean?"
   ]
  },
  {
   "cell_type": "markdown",
   "metadata": {},
   "source": [
    "We can call this same function more explicitly by providing the `axis`, 1, as a **keyword argument.**"
   ]
  },
  {
   "cell_type": "code",
   "execution_count": 124,
   "metadata": {
    "collapsed": false
   },
   "outputs": [
    {
     "data": {
      "text/plain": [
       "array([ 283.9       ,  284.98833333,  283.60583333,  284.0775    ,\n",
       "        284.42583333,  284.866675  ,  284.23083333,  283.82416667,\n",
       "        283.59833333,  283.935     ,  282.29416667,  284.09583333,\n",
       "        282.755     ,  283.28833333,  283.025     ,  282.5225    ,\n",
       "        283.735     ,  283.69416667,  282.94333333,  283.25083333,\n",
       "        283.04000833,  283.02583333,  283.85      ,  283.765     ,\n",
       "        283.3375    ,  284.36916667,  283.7875    ,  284.14583333,\n",
       "        282.825     ,  283.485     ,  282.68416667,  283.00083333,\n",
       "        283.07583333,  282.92833333,  283.85333333,  283.60916667,\n",
       "        283.9175    ,  283.90916667,  284.26833333,  284.31916667,\n",
       "        283.54166667,  283.29166667,  285.01      ,  285.01333333,\n",
       "        283.49584167,  283.92916667,  283.84833333,  283.76333333,\n",
       "        283.26      ,  283.32916667,  285.25      ,  284.44      ,\n",
       "        283.69166667,  284.295     ,  284.59333333,  283.50916667,\n",
       "        284.11416667,  284.37584167,  284.48416667,  284.36666667,\n",
       "        283.74583333,  283.56833333,  283.74666667,  284.66166667,\n",
       "        285.25666667,  283.74916667,  283.0275    ,  284.45916667,\n",
       "        285.22416667])"
      ]
     },
     "execution_count": 124,
     "metadata": {},
     "output_type": "execute_result"
    }
   ],
   "source": [
    "data.mean(axis = 1)"
   ]
  },
  {
   "cell_type": "markdown",
   "metadata": {},
   "source": [
    "Keyword arguments are provided as key-value pairs.\n",
    "\n",
    "Positional arguments have to be provided in the right order, otherwise Python doesn't know which value goes with which argument. When there's only one argument, it doesn't matter, but with multiple arguments, they have to come in order."
   ]
  },
  {
   "cell_type": "code",
   "execution_count": 138,
   "metadata": {
    "collapsed": false
   },
   "outputs": [],
   "source": [
    "np.zeros?"
   ]
  },
  {
   "cell_type": "code",
   "execution_count": 133,
   "metadata": {
    "collapsed": false
   },
   "outputs": [
    {
     "data": {
      "text/plain": [
       "array([0, 0, 0, 0, 0, 0, 0, 0, 0, 0])"
      ]
     },
     "execution_count": 133,
     "metadata": {},
     "output_type": "execute_result"
    }
   ],
   "source": [
    "np.zeros(10, np.int)"
   ]
  },
  {
   "cell_type": "code",
   "execution_count": 134,
   "metadata": {
    "collapsed": false
   },
   "outputs": [
    {
     "ename": "TypeError",
     "evalue": "expected sequence object with len >= 0 or a single integer",
     "output_type": "error",
     "traceback": [
      "\u001b[0;31m---------------------------------------------------------------------------\u001b[0m",
      "\u001b[0;31mTypeError\u001b[0m                                 Traceback (most recent call last)",
      "\u001b[0;32m<ipython-input-134-e48d568115ac>\u001b[0m in \u001b[0;36m<module>\u001b[0;34m()\u001b[0m\n\u001b[0;32m----> 1\u001b[0;31m \u001b[0mnp\u001b[0m\u001b[0;34m.\u001b[0m\u001b[0mzeros\u001b[0m\u001b[0;34m(\u001b[0m\u001b[0mnp\u001b[0m\u001b[0;34m.\u001b[0m\u001b[0mint\u001b[0m\u001b[0;34m,\u001b[0m \u001b[0;36m10\u001b[0m\u001b[0;34m)\u001b[0m\u001b[0;34m\u001b[0m\u001b[0m\n\u001b[0m",
      "\u001b[0;31mTypeError\u001b[0m: expected sequence object with len >= 0 or a single integer"
     ]
    }
   ],
   "source": [
    "np.zeros(np.int, 10)"
   ]
  },
  {
   "cell_type": "markdown",
   "metadata": {},
   "source": [
    "Keyword arguments, on the other hand, can be provided in any order."
   ]
  },
  {
   "cell_type": "code",
   "execution_count": 136,
   "metadata": {
    "collapsed": false
   },
   "outputs": [
    {
     "data": {
      "text/plain": [
       "array([0, 0, 0, 0, 0, 0, 0, 0, 0, 0])"
      ]
     },
     "execution_count": 136,
     "metadata": {},
     "output_type": "execute_result"
    }
   ],
   "source": [
    "np.zeros(dtype = np.int, shape = 10)"
   ]
  },
  {
   "cell_type": "markdown",
   "metadata": {},
   "source": [
    "## Documenting Functions"
   ]
  },
  {
   "cell_type": "markdown",
   "metadata": {},
   "source": [
    "As we saw earlier, comments help clarify to others and our future selves what our intentions are and how our code works. This kind of documentation is critical for creating software that other people want to use and that we will be able to make sense of later.\n",
    "\n",
    "Functions, in particular, should be documented well using both in-line comments and also **docstrings.**"
   ]
  },
  {
   "cell_type": "code",
   "execution_count": 35,
   "metadata": {
    "collapsed": true
   },
   "outputs": [],
   "source": [
    "def temperature_anomaly(temp_array, long_term_avg = None):\n",
    "    '''\n",
    "    Calculates the inter-annual temperature anomalies. Subtracts the\n",
    "    long-term mean by default but another long-term average can\n",
    "    be provided as the `long_term_avg` argument.\n",
    "    '''\n",
    "    if long_term_avg is not None:\n",
    "        return temp_array.mean(axis = 1) - long_term_avg\n",
    "    \n",
    "    # If no long-term average is provided, use the overall mean\n",
    "    return temp_array.mean(axis = 1) - temp_array.mean()"
   ]
  },
  {
   "cell_type": "markdown",
   "metadata": {},
   "source": [
    "### Challenge: Functions"
   ]
  },
  {
   "cell_type": "markdown",
   "metadata": {},
   "source": [
    "**Create one (or both, for an extra challenge) of the following functions...**\n",
    "\n",
    "- A function called `fences` that takes an input character string and surrounds it on both sides with another string, e.g., \"pasture\" becomes \"|pasture|\" or \"@pasture@\" if either \"|\" or \"@\" are provided.\n",
    "- A function called `rescale` that takes an array and returns a corresponding array of values scaled to lie in the range 0.0 to 1.0.\n",
    "\n",
    "Hint: Strings can be concatenated with the plus operator.\n",
    "\n",
    "```py\n",
    "'cat' + 's'\n",
    "```\n",
    "\n",
    "Hint: If $x_0$ and $x_1$ are the lowest and highest values in an array, respectively, then the replacement value for any element $x$, scaled to between 0.0 and 1.0, should be:\n",
    "\n",
    "$$\n",
    "\\frac{x - x_0}{x_1 - x_0}\n",
    "$$"
   ]
  },
  {
   "cell_type": "markdown",
   "metadata": {},
   "source": [
    "# Understanding and Handling Errors"
   ]
  },
  {
   "cell_type": "markdown",
   "metadata": {},
   "source": [
    "Every programmer encounters errors;\n",
    "\n",
    "- Both those who are just beginning,\n",
    "- And those who have been programming for years.\n",
    "\n",
    "Encountering errors and exceptions can be very frustrating at times, and can make coding feel like a hopeless endeavour. However, understanding what the different types of errors are and when you are likely to encounter them can help a lot. Once you know why you get certain types of errors, they become much easier to fix.\n",
    "\n",
    "Errors in Python have a very specific form, called a **traceback.** Let’s examine one:"
   ]
  },
  {
   "cell_type": "code",
   "execution_count": 38,
   "metadata": {
    "collapsed": false
   },
   "outputs": [
    {
     "ename": "ValueError",
     "evalue": "endog and exog matrices are different sizes",
     "output_type": "error",
     "traceback": [
      "\u001b[0;31m---------------------------------------------------------------------------\u001b[0m",
      "\u001b[0;31mValueError\u001b[0m                                Traceback (most recent call last)",
      "\u001b[0;32m<ipython-input-38-06fe6ac604f0>\u001b[0m in \u001b[0;36m<module>\u001b[0;34m()\u001b[0m\n\u001b[1;32m     19\u001b[0m \u001b[0mdata\u001b[0m \u001b[0;34m=\u001b[0m \u001b[0mnp\u001b[0m\u001b[0;34m.\u001b[0m\u001b[0mloadtxt\u001b[0m\u001b[0;34m(\u001b[0m\u001b[0;34m'wvu.temperature.csv'\u001b[0m\u001b[0;34m,\u001b[0m \u001b[0mdelimiter\u001b[0m \u001b[0;34m=\u001b[0m \u001b[0;34m','\u001b[0m\u001b[0;34m)\u001b[0m\u001b[0;34m\u001b[0m\u001b[0m\n\u001b[1;32m     20\u001b[0m \u001b[0;34m\u001b[0m\u001b[0m\n\u001b[0;32m---> 21\u001b[0;31m \u001b[0mcalc_best_fit_line\u001b[0m\u001b[0;34m(\u001b[0m\u001b[0mtemperature_anomaly\u001b[0m\u001b[0;34m(\u001b[0m\u001b[0mdata\u001b[0m\u001b[0;34m)\u001b[0m\u001b[0;34m)\u001b[0m\u001b[0;34m\u001b[0m\u001b[0m\n\u001b[0m",
      "\u001b[0;32m<ipython-input-38-06fe6ac604f0>\u001b[0m in \u001b[0;36mcalc_best_fit_line\u001b[0;34m(y_data, x_data)\u001b[0m\n\u001b[1;32m     11\u001b[0m \u001b[0;34m\u001b[0m\u001b[0m\n\u001b[1;32m     12\u001b[0m     \u001b[0;31m# Fit the temperature anomalies to a simple time series\u001b[0m\u001b[0;34m\u001b[0m\u001b[0;34m\u001b[0m\u001b[0m\n\u001b[0;32m---> 13\u001b[0;31m     \u001b[0mresults\u001b[0m \u001b[0;34m=\u001b[0m \u001b[0msm\u001b[0m\u001b[0;34m.\u001b[0m\u001b[0mOLS\u001b[0m\u001b[0;34m(\u001b[0m\u001b[0my_data\u001b[0m\u001b[0;34m,\u001b[0m \u001b[0mx_data\u001b[0m\u001b[0;34m)\u001b[0m\u001b[0;34m.\u001b[0m\u001b[0mfit\u001b[0m\u001b[0;34m(\u001b[0m\u001b[0;34m)\u001b[0m\u001b[0;34m\u001b[0m\u001b[0m\n\u001b[0m\u001b[1;32m     14\u001b[0m \u001b[0;34m\u001b[0m\u001b[0m\n\u001b[1;32m     15\u001b[0m     \u001b[0;32mreturn\u001b[0m \u001b[0mresults\u001b[0m\u001b[0;34m.\u001b[0m\u001b[0mparams\u001b[0m\u001b[0;34m\u001b[0m\u001b[0m\n",
      "\u001b[0;32m/usr/local/lib/python3.5/dist-packages/statsmodels/regression/linear_model.py\u001b[0m in \u001b[0;36m__init__\u001b[0;34m(self, endog, exog, missing, hasconst, **kwargs)\u001b[0m\n\u001b[1;32m    689\u001b[0m                  **kwargs):\n\u001b[1;32m    690\u001b[0m         super(OLS, self).__init__(endog, exog, missing=missing,\n\u001b[0;32m--> 691\u001b[0;31m                                   hasconst=hasconst, **kwargs)\n\u001b[0m\u001b[1;32m    692\u001b[0m         \u001b[0;32mif\u001b[0m \u001b[0;34m\"weights\"\u001b[0m \u001b[0;32min\u001b[0m \u001b[0mself\u001b[0m\u001b[0;34m.\u001b[0m\u001b[0m_init_keys\u001b[0m\u001b[0;34m:\u001b[0m\u001b[0;34m\u001b[0m\u001b[0m\n\u001b[1;32m    693\u001b[0m             \u001b[0mself\u001b[0m\u001b[0;34m.\u001b[0m\u001b[0m_init_keys\u001b[0m\u001b[0;34m.\u001b[0m\u001b[0mremove\u001b[0m\u001b[0;34m(\u001b[0m\u001b[0;34m\"weights\"\u001b[0m\u001b[0;34m)\u001b[0m\u001b[0;34m\u001b[0m\u001b[0m\n",
      "\u001b[0;32m/usr/local/lib/python3.5/dist-packages/statsmodels/regression/linear_model.py\u001b[0m in \u001b[0;36m__init__\u001b[0;34m(self, endog, exog, weights, missing, hasconst, **kwargs)\u001b[0m\n\u001b[1;32m    584\u001b[0m             \u001b[0mweights\u001b[0m \u001b[0;34m=\u001b[0m \u001b[0mweights\u001b[0m\u001b[0;34m.\u001b[0m\u001b[0msqueeze\u001b[0m\u001b[0;34m(\u001b[0m\u001b[0;34m)\u001b[0m\u001b[0;34m\u001b[0m\u001b[0m\n\u001b[1;32m    585\u001b[0m         super(WLS, self).__init__(endog, exog, missing=missing,\n\u001b[0;32m--> 586\u001b[0;31m                                   weights=weights, hasconst=hasconst, **kwargs)\n\u001b[0m\u001b[1;32m    587\u001b[0m         \u001b[0mnobs\u001b[0m \u001b[0;34m=\u001b[0m \u001b[0mself\u001b[0m\u001b[0;34m.\u001b[0m\u001b[0mexog\u001b[0m\u001b[0;34m.\u001b[0m\u001b[0mshape\u001b[0m\u001b[0;34m[\u001b[0m\u001b[0;36m0\u001b[0m\u001b[0;34m]\u001b[0m\u001b[0;34m\u001b[0m\u001b[0m\n\u001b[1;32m    588\u001b[0m         \u001b[0mweights\u001b[0m \u001b[0;34m=\u001b[0m \u001b[0mself\u001b[0m\u001b[0;34m.\u001b[0m\u001b[0mweights\u001b[0m\u001b[0;34m\u001b[0m\u001b[0m\n",
      "\u001b[0;32m/usr/local/lib/python3.5/dist-packages/statsmodels/regression/linear_model.py\u001b[0m in \u001b[0;36m__init__\u001b[0;34m(self, endog, exog, **kwargs)\u001b[0m\n\u001b[1;32m     89\u001b[0m     \"\"\"\n\u001b[1;32m     90\u001b[0m     \u001b[0;32mdef\u001b[0m \u001b[0m__init__\u001b[0m\u001b[0;34m(\u001b[0m\u001b[0mself\u001b[0m\u001b[0;34m,\u001b[0m \u001b[0mendog\u001b[0m\u001b[0;34m,\u001b[0m \u001b[0mexog\u001b[0m\u001b[0;34m,\u001b[0m \u001b[0;34m**\u001b[0m\u001b[0mkwargs\u001b[0m\u001b[0;34m)\u001b[0m\u001b[0;34m:\u001b[0m\u001b[0;34m\u001b[0m\u001b[0m\n\u001b[0;32m---> 91\u001b[0;31m         \u001b[0msuper\u001b[0m\u001b[0;34m(\u001b[0m\u001b[0mRegressionModel\u001b[0m\u001b[0;34m,\u001b[0m \u001b[0mself\u001b[0m\u001b[0;34m)\u001b[0m\u001b[0;34m.\u001b[0m\u001b[0m__init__\u001b[0m\u001b[0;34m(\u001b[0m\u001b[0mendog\u001b[0m\u001b[0;34m,\u001b[0m \u001b[0mexog\u001b[0m\u001b[0;34m,\u001b[0m \u001b[0;34m**\u001b[0m\u001b[0mkwargs\u001b[0m\u001b[0;34m)\u001b[0m\u001b[0;34m\u001b[0m\u001b[0m\n\u001b[0m\u001b[1;32m     92\u001b[0m         \u001b[0mself\u001b[0m\u001b[0;34m.\u001b[0m\u001b[0m_data_attr\u001b[0m\u001b[0;34m.\u001b[0m\u001b[0mextend\u001b[0m\u001b[0;34m(\u001b[0m\u001b[0;34m[\u001b[0m\u001b[0;34m'pinv_wexog'\u001b[0m\u001b[0;34m,\u001b[0m \u001b[0;34m'wendog'\u001b[0m\u001b[0;34m,\u001b[0m \u001b[0;34m'wexog'\u001b[0m\u001b[0;34m,\u001b[0m \u001b[0;34m'weights'\u001b[0m\u001b[0;34m]\u001b[0m\u001b[0;34m)\u001b[0m\u001b[0;34m\u001b[0m\u001b[0m\n\u001b[1;32m     93\u001b[0m \u001b[0;34m\u001b[0m\u001b[0m\n",
      "\u001b[0;32m/usr/local/lib/python3.5/dist-packages/statsmodels/base/model.py\u001b[0m in \u001b[0;36m__init__\u001b[0;34m(self, endog, exog, **kwargs)\u001b[0m\n\u001b[1;32m    184\u001b[0m \u001b[0;34m\u001b[0m\u001b[0m\n\u001b[1;32m    185\u001b[0m     \u001b[0;32mdef\u001b[0m \u001b[0m__init__\u001b[0m\u001b[0;34m(\u001b[0m\u001b[0mself\u001b[0m\u001b[0;34m,\u001b[0m \u001b[0mendog\u001b[0m\u001b[0;34m,\u001b[0m \u001b[0mexog\u001b[0m\u001b[0;34m=\u001b[0m\u001b[0;32mNone\u001b[0m\u001b[0;34m,\u001b[0m \u001b[0;34m**\u001b[0m\u001b[0mkwargs\u001b[0m\u001b[0;34m)\u001b[0m\u001b[0;34m:\u001b[0m\u001b[0;34m\u001b[0m\u001b[0m\n\u001b[0;32m--> 186\u001b[0;31m         \u001b[0msuper\u001b[0m\u001b[0;34m(\u001b[0m\u001b[0mLikelihoodModel\u001b[0m\u001b[0;34m,\u001b[0m \u001b[0mself\u001b[0m\u001b[0;34m)\u001b[0m\u001b[0;34m.\u001b[0m\u001b[0m__init__\u001b[0m\u001b[0;34m(\u001b[0m\u001b[0mendog\u001b[0m\u001b[0;34m,\u001b[0m \u001b[0mexog\u001b[0m\u001b[0;34m,\u001b[0m \u001b[0;34m**\u001b[0m\u001b[0mkwargs\u001b[0m\u001b[0;34m)\u001b[0m\u001b[0;34m\u001b[0m\u001b[0m\n\u001b[0m\u001b[1;32m    187\u001b[0m         \u001b[0mself\u001b[0m\u001b[0;34m.\u001b[0m\u001b[0minitialize\u001b[0m\u001b[0;34m(\u001b[0m\u001b[0;34m)\u001b[0m\u001b[0;34m\u001b[0m\u001b[0m\n\u001b[1;32m    188\u001b[0m \u001b[0;34m\u001b[0m\u001b[0m\n",
      "\u001b[0;32m/usr/local/lib/python3.5/dist-packages/statsmodels/base/model.py\u001b[0m in \u001b[0;36m__init__\u001b[0;34m(self, endog, exog, **kwargs)\u001b[0m\n\u001b[1;32m     58\u001b[0m         \u001b[0mhasconst\u001b[0m \u001b[0;34m=\u001b[0m \u001b[0mkwargs\u001b[0m\u001b[0;34m.\u001b[0m\u001b[0mpop\u001b[0m\u001b[0;34m(\u001b[0m\u001b[0;34m'hasconst'\u001b[0m\u001b[0;34m,\u001b[0m \u001b[0;32mNone\u001b[0m\u001b[0;34m)\u001b[0m\u001b[0;34m\u001b[0m\u001b[0m\n\u001b[1;32m     59\u001b[0m         self.data = self._handle_data(endog, exog, missing, hasconst,\n\u001b[0;32m---> 60\u001b[0;31m                                       **kwargs)\n\u001b[0m\u001b[1;32m     61\u001b[0m         \u001b[0mself\u001b[0m\u001b[0;34m.\u001b[0m\u001b[0mk_constant\u001b[0m \u001b[0;34m=\u001b[0m \u001b[0mself\u001b[0m\u001b[0;34m.\u001b[0m\u001b[0mdata\u001b[0m\u001b[0;34m.\u001b[0m\u001b[0mk_constant\u001b[0m\u001b[0;34m\u001b[0m\u001b[0m\n\u001b[1;32m     62\u001b[0m         \u001b[0mself\u001b[0m\u001b[0;34m.\u001b[0m\u001b[0mexog\u001b[0m \u001b[0;34m=\u001b[0m \u001b[0mself\u001b[0m\u001b[0;34m.\u001b[0m\u001b[0mdata\u001b[0m\u001b[0;34m.\u001b[0m\u001b[0mexog\u001b[0m\u001b[0;34m\u001b[0m\u001b[0m\n",
      "\u001b[0;32m/usr/local/lib/python3.5/dist-packages/statsmodels/base/model.py\u001b[0m in \u001b[0;36m_handle_data\u001b[0;34m(self, endog, exog, missing, hasconst, **kwargs)\u001b[0m\n\u001b[1;32m     82\u001b[0m \u001b[0;34m\u001b[0m\u001b[0m\n\u001b[1;32m     83\u001b[0m     \u001b[0;32mdef\u001b[0m \u001b[0m_handle_data\u001b[0m\u001b[0;34m(\u001b[0m\u001b[0mself\u001b[0m\u001b[0;34m,\u001b[0m \u001b[0mendog\u001b[0m\u001b[0;34m,\u001b[0m \u001b[0mexog\u001b[0m\u001b[0;34m,\u001b[0m \u001b[0mmissing\u001b[0m\u001b[0;34m,\u001b[0m \u001b[0mhasconst\u001b[0m\u001b[0;34m,\u001b[0m \u001b[0;34m**\u001b[0m\u001b[0mkwargs\u001b[0m\u001b[0;34m)\u001b[0m\u001b[0;34m:\u001b[0m\u001b[0;34m\u001b[0m\u001b[0m\n\u001b[0;32m---> 84\u001b[0;31m         \u001b[0mdata\u001b[0m \u001b[0;34m=\u001b[0m \u001b[0mhandle_data\u001b[0m\u001b[0;34m(\u001b[0m\u001b[0mendog\u001b[0m\u001b[0;34m,\u001b[0m \u001b[0mexog\u001b[0m\u001b[0;34m,\u001b[0m \u001b[0mmissing\u001b[0m\u001b[0;34m,\u001b[0m \u001b[0mhasconst\u001b[0m\u001b[0;34m,\u001b[0m \u001b[0;34m**\u001b[0m\u001b[0mkwargs\u001b[0m\u001b[0;34m)\u001b[0m\u001b[0;34m\u001b[0m\u001b[0m\n\u001b[0m\u001b[1;32m     85\u001b[0m         \u001b[0;31m# kwargs arrays could have changed, easier to just attach here\u001b[0m\u001b[0;34m\u001b[0m\u001b[0;34m\u001b[0m\u001b[0m\n\u001b[1;32m     86\u001b[0m         \u001b[0;32mfor\u001b[0m \u001b[0mkey\u001b[0m \u001b[0;32min\u001b[0m \u001b[0mkwargs\u001b[0m\u001b[0;34m:\u001b[0m\u001b[0;34m\u001b[0m\u001b[0m\n",
      "\u001b[0;32m/usr/local/lib/python3.5/dist-packages/statsmodels/base/data.py\u001b[0m in \u001b[0;36mhandle_data\u001b[0;34m(endog, exog, missing, hasconst, **kwargs)\u001b[0m\n\u001b[1;32m    564\u001b[0m     \u001b[0mklass\u001b[0m \u001b[0;34m=\u001b[0m \u001b[0mhandle_data_class_factory\u001b[0m\u001b[0;34m(\u001b[0m\u001b[0mendog\u001b[0m\u001b[0;34m,\u001b[0m \u001b[0mexog\u001b[0m\u001b[0;34m)\u001b[0m\u001b[0;34m\u001b[0m\u001b[0m\n\u001b[1;32m    565\u001b[0m     return klass(endog, exog=exog, missing=missing, hasconst=hasconst,\n\u001b[0;32m--> 566\u001b[0;31m                  **kwargs)\n\u001b[0m",
      "\u001b[0;32m/usr/local/lib/python3.5/dist-packages/statsmodels/base/data.py\u001b[0m in \u001b[0;36m__init__\u001b[0;34m(self, endog, exog, missing, hasconst, **kwargs)\u001b[0m\n\u001b[1;32m     74\u001b[0m         \u001b[0;31m# this has side-effects, attaches k_constant and const_idx\u001b[0m\u001b[0;34m\u001b[0m\u001b[0;34m\u001b[0m\u001b[0m\n\u001b[1;32m     75\u001b[0m         \u001b[0mself\u001b[0m\u001b[0;34m.\u001b[0m\u001b[0m_handle_constant\u001b[0m\u001b[0;34m(\u001b[0m\u001b[0mhasconst\u001b[0m\u001b[0;34m)\u001b[0m\u001b[0;34m\u001b[0m\u001b[0m\n\u001b[0;32m---> 76\u001b[0;31m         \u001b[0mself\u001b[0m\u001b[0;34m.\u001b[0m\u001b[0m_check_integrity\u001b[0m\u001b[0;34m(\u001b[0m\u001b[0;34m)\u001b[0m\u001b[0;34m\u001b[0m\u001b[0m\n\u001b[0m\u001b[1;32m     77\u001b[0m         \u001b[0mself\u001b[0m\u001b[0;34m.\u001b[0m\u001b[0m_cache\u001b[0m \u001b[0;34m=\u001b[0m \u001b[0mresettable_cache\u001b[0m\u001b[0;34m(\u001b[0m\u001b[0;34m)\u001b[0m\u001b[0;34m\u001b[0m\u001b[0m\n\u001b[1;32m     78\u001b[0m \u001b[0;34m\u001b[0m\u001b[0m\n",
      "\u001b[0;32m/usr/local/lib/python3.5/dist-packages/statsmodels/base/data.py\u001b[0m in \u001b[0;36m_check_integrity\u001b[0;34m(self)\u001b[0m\n\u001b[1;32m    363\u001b[0m         \u001b[0;32mif\u001b[0m \u001b[0mself\u001b[0m\u001b[0;34m.\u001b[0m\u001b[0mexog\u001b[0m \u001b[0;32mis\u001b[0m \u001b[0;32mnot\u001b[0m \u001b[0;32mNone\u001b[0m\u001b[0;34m:\u001b[0m\u001b[0;34m\u001b[0m\u001b[0m\n\u001b[1;32m    364\u001b[0m             \u001b[0;32mif\u001b[0m \u001b[0mlen\u001b[0m\u001b[0;34m(\u001b[0m\u001b[0mself\u001b[0m\u001b[0;34m.\u001b[0m\u001b[0mexog\u001b[0m\u001b[0;34m)\u001b[0m \u001b[0;34m!=\u001b[0m \u001b[0mlen\u001b[0m\u001b[0;34m(\u001b[0m\u001b[0mself\u001b[0m\u001b[0;34m.\u001b[0m\u001b[0mendog\u001b[0m\u001b[0;34m)\u001b[0m\u001b[0;34m:\u001b[0m\u001b[0;34m\u001b[0m\u001b[0m\n\u001b[0;32m--> 365\u001b[0;31m                 \u001b[0;32mraise\u001b[0m \u001b[0mValueError\u001b[0m\u001b[0;34m(\u001b[0m\u001b[0;34m\"endog and exog matrices are different sizes\"\u001b[0m\u001b[0;34m)\u001b[0m\u001b[0;34m\u001b[0m\u001b[0m\n\u001b[0m\u001b[1;32m    366\u001b[0m \u001b[0;34m\u001b[0m\u001b[0m\n\u001b[1;32m    367\u001b[0m     \u001b[0;32mdef\u001b[0m \u001b[0mwrap_output\u001b[0m\u001b[0;34m(\u001b[0m\u001b[0mself\u001b[0m\u001b[0;34m,\u001b[0m \u001b[0mobj\u001b[0m\u001b[0;34m,\u001b[0m \u001b[0mhow\u001b[0m\u001b[0;34m=\u001b[0m\u001b[0;34m'columns'\u001b[0m\u001b[0;34m,\u001b[0m \u001b[0mnames\u001b[0m\u001b[0;34m=\u001b[0m\u001b[0;32mNone\u001b[0m\u001b[0;34m)\u001b[0m\u001b[0;34m:\u001b[0m\u001b[0;34m\u001b[0m\u001b[0m\n",
      "\u001b[0;31mValueError\u001b[0m: endog and exog matrices are different sizes"
     ]
    }
   ],
   "source": [
    "import statsmodels.api as sm\n",
    "\n",
    "def calc_best_fit_line(y_data, x_data = np.arange(1948, 2016)):\n",
    "    '''\n",
    "    Calculates a line of best fit through the `y_data` based\n",
    "    on the provided `x_data`.\n",
    "    '''\n",
    "\n",
    "    # Add a constant (the intercept term)\n",
    "    x_data = sm.add_constant(x_data)\n",
    "\n",
    "    # Fit the temperature anomalies to a simple time series\n",
    "    results = sm.OLS(y_data, x_data).fit()\n",
    "    \n",
    "    return results.params\n",
    "\n",
    "\n",
    "# Load the data\n",
    "data = np.loadtxt('wvu.temperature.csv', delimiter = ',')\n",
    "\n",
    "calc_best_fit_line(temperature_anomaly(data))"
   ]
  },
  {
   "cell_type": "markdown",
   "metadata": {},
   "source": [
    "**This is really long! And intimidating, at first. Let's break it down.**\n",
    "\n",
    "- You can see there are multiple groups in this traceback; each is associated with a different Python file. These are the Python files that have code that was run as part of the code we executed. **It's important to realize that most Python programs depend on a lot of other Python code! This is why we're able to do such complex things so quickly in Python--because a lot of the foundational work has already been done.** However, this also means that tracebacks can get quite long.\n",
    "- In the first line of the traceback, Python tells us the type of error (a `ValueError`) and it reminds us that the \"most recent call [is listed] last.\" This means that the traceback is sorted in the order by which Python functions were called. Each time a Python function calls another Python function, we get a new line in the traceback.\n",
    "- Because the \"most recent call [is listed] last,\" we can see the code that we just wrote at the top, displayed first. **The arrow shows the specific line that started the cascade of functions that led to the error.**\n",
    "- In the last line of the traceback, Python helpfully tells us the category or type of error (in this case, it is an `ValueError`) and a more detailed error message (`'endog and exog matrices are different sizes'`).\n",
    "\n",
    "**To debug this error:** \n",
    "\n",
    "- We have to first understand the error message. \n",
    "- We know `statsmodels` is involved, because that's the codebase that the last line of the traceback is in (according to the filename).\n",
    "- The second line of the traceback shows our call to the `sm.OLS()` function. We might include the name of the `OLS` function in an online search, along with the error message itself.\n",
    "\n",
    "Ultimately, we have to know that `endog` and `exog` are the names of arguments to the `OLS()` function in `statsmodels`. As it turns out, the array we specified for the `x_data` argument in our new function is not the right size. We need to provide `np.arange(1948, 2017)`; recall that in `np.arange()`, the range goes *up to but not including* the second number."
   ]
  },
  {
   "cell_type": "markdown",
   "metadata": {},
   "source": [
    "# Defensive Programming"
   ]
  },
  {
   "cell_type": "markdown",
   "metadata": {},
   "source": [
    "Up to this point, we've introduced the basic tools of programming:\n",
    "\n",
    "- Variables and lists,\n",
    "- File input and output,\n",
    "- Loops,\n",
    "- Conditionals, and\n",
    "- Functions."
   ]
  },
  {
   "cell_type": "markdown",
   "metadata": {},
   "source": [
    "**But how can we tell whether a program is giving us the right answer? How can we tell if it's *still* giving us the right answer after we've made changes to it?**\n",
    "\n",
    "To achieve that, we need to:\n",
    "\n",
    "- Write programs that check their own operation;\n",
    "- Write and run tests for widely-used functions;\n",
    "- And make sure we know what \"correct\" actually means.\n",
    "\n",
    "The good news is that doing all of these things will actually improve our productivity, not slow us down."
   ]
  },
  {
   "cell_type": "markdown",
   "metadata": {},
   "source": [
    "## Assertions"
   ]
  },
  {
   "cell_type": "markdown",
   "metadata": {},
   "source": [
    "The first step toward getting the right answers from our programs is to assume that mistakes *will* happen and to guard against them. This is called **defensive programming,** and the most common way to do it is to add **assertions** to our code so that it checks itself as it runs.\n",
    "\n",
    "For example, let's suppose that one of the first things we do when we acquire new temperature data is to produce a series of temperature anomaly plots."
   ]
  },
  {
   "cell_type": "code",
   "execution_count": 37,
   "metadata": {
    "collapsed": false
   },
   "outputs": [
    {
     "data": {
      "image/png": "[encoded data removed]",
      "text/plain": [
       "<matplotlib.figure.Figure at 0x7fb000a01668>"
      ]
     },
     "metadata": {},
     "output_type": "display_data"
    }
   ],
   "source": [
    "import matplotlib.pyplot as pyplot\n",
    "%matplotlib inline\n",
    "\n",
    "data = np.loadtxt('./barrow.temperature.csv', delimiter = ',')\n",
    "\n",
    "def plot_temperature_anomaly(temp_array):\n",
    "    pyplot.plot(temp_array.mean(axis = 1) - temp_array.mean())\n",
    "    pyplot.show()\n",
    "    \n",
    "plot_temperature_anomaly(data)"
   ]
  },
  {
   "cell_type": "markdown",
   "metadata": {},
   "source": [
    "**Because we're going to compare these temperature anomaly plots to others we've made in the past, using the same function, we expect the temperature data to be in a certain format and with certain units of measure.**\n",
    "\n",
    "What if someone provided data that were not in the correct units, e.g., degrees F instead of degrees C?"
   ]
  },
  {
   "cell_type": "code",
   "execution_count": 44,
   "metadata": {
    "collapsed": false
   },
   "outputs": [
    {
     "data": {
      "image/png": "[encoded data removed]",
      "text/plain": [
       "<matplotlib.figure.Figure at 0x7fb000925cc0>"
      ]
     },
     "metadata": {},
     "output_type": "display_data"
    }
   ],
   "source": [
    "plot_temperature_anomaly(kelvin_to_fahr(data))"
   ]
  },
  {
   "cell_type": "markdown",
   "metadata": {},
   "source": [
    "Our temperature anomaly plot has the same shape but the numbers are very different; it looks like the anomalies are more extreme than they really are.\n",
    "\n",
    "**We'd like to add a test to our plotting function to ensure against data with the wrong units being provided.**\n",
    "The `np.all()` function is a useful function that returns `True` *only* if all the elements of an array are True."
   ]
  },
  {
   "cell_type": "code",
   "execution_count": 67,
   "metadata": {
    "collapsed": false
   },
   "outputs": [
    {
     "data": {
      "text/plain": [
       "False"
      ]
     },
     "execution_count": 67,
     "metadata": {},
     "output_type": "execute_result"
    }
   ],
   "source": [
    "data_in_f = kelvin_to_fahr(data)\n",
    "\n",
    "# Are all values greater than zero?\n",
    "np.all(data_in_f > 0)"
   ]
  },
  {
   "cell_type": "markdown",
   "metadata": {},
   "source": [
    "This is a good test for regions that experience freezing temperatures, but regions that never experience such temperatures would still pass this test when the units are in Fahrenheit. We may have to add additional tests to absolutely guard against temperature data in the wrong units, but this is a good start."
   ]
  },
  {
   "cell_type": "code",
   "execution_count": 65,
   "metadata": {
    "collapsed": false
   },
   "outputs": [
    {
     "data": {
      "image/png": "[encoded data removed]",
      "text/plain": [
       "<matplotlib.figure.Figure at 0x7fb000bafe10>"
      ]
     },
     "metadata": {},
     "output_type": "display_data"
    }
   ],
   "source": [
    "def plot_temperature_anomaly(temp_array):\n",
    "    assert np.all(temp_array > 0), 'Temperature values (in degrees Kelvin) should be greater than zero'\n",
    "    pyplot.plot(temp_array.mean(axis = 1) - temp_array.mean())\n",
    "    pyplot.show()\n",
    "    \n",
    "plot_temperature_anomaly(data)"
   ]
  },
  {
   "cell_type": "code",
   "execution_count": 68,
   "metadata": {
    "collapsed": false
   },
   "outputs": [
    {
     "ename": "AssertionError",
     "evalue": "Temperature values (in degrees Kelvin) should be greater than zero",
     "output_type": "error",
     "traceback": [
      "\u001b[0;31m---------------------------------------------------------------------------\u001b[0m",
      "\u001b[0;31mAssertionError\u001b[0m                            Traceback (most recent call last)",
      "\u001b[0;32m<ipython-input-68-78942a425c7a>\u001b[0m in \u001b[0;36m<module>\u001b[0;34m()\u001b[0m\n\u001b[0;32m----> 1\u001b[0;31m \u001b[0mplot_temperature_anomaly\u001b[0m\u001b[0;34m(\u001b[0m\u001b[0mkelvin_to_fahr\u001b[0m\u001b[0;34m(\u001b[0m\u001b[0mdata\u001b[0m\u001b[0;34m)\u001b[0m\u001b[0;34m)\u001b[0m\u001b[0;34m\u001b[0m\u001b[0m\n\u001b[0m",
      "\u001b[0;32m<ipython-input-65-2f3f0f9ffd20>\u001b[0m in \u001b[0;36mplot_temperature_anomaly\u001b[0;34m(temp_array)\u001b[0m\n\u001b[1;32m      1\u001b[0m \u001b[0;32mdef\u001b[0m \u001b[0mplot_temperature_anomaly\u001b[0m\u001b[0;34m(\u001b[0m\u001b[0mtemp_array\u001b[0m\u001b[0;34m)\u001b[0m\u001b[0;34m:\u001b[0m\u001b[0;34m\u001b[0m\u001b[0m\n\u001b[0;32m----> 2\u001b[0;31m     \u001b[0;32massert\u001b[0m \u001b[0mnp\u001b[0m\u001b[0;34m.\u001b[0m\u001b[0mall\u001b[0m\u001b[0;34m(\u001b[0m\u001b[0mtemp_array\u001b[0m \u001b[0;34m>\u001b[0m \u001b[0;36m0\u001b[0m\u001b[0;34m)\u001b[0m\u001b[0;34m,\u001b[0m \u001b[0;34m'Temperature values (in degrees Kelvin) should be greater than zero'\u001b[0m\u001b[0;34m\u001b[0m\u001b[0m\n\u001b[0m\u001b[1;32m      3\u001b[0m     \u001b[0mpyplot\u001b[0m\u001b[0;34m.\u001b[0m\u001b[0mplot\u001b[0m\u001b[0;34m(\u001b[0m\u001b[0mtemp_array\u001b[0m\u001b[0;34m.\u001b[0m\u001b[0mmean\u001b[0m\u001b[0;34m(\u001b[0m\u001b[0maxis\u001b[0m \u001b[0;34m=\u001b[0m \u001b[0;36m1\u001b[0m\u001b[0;34m)\u001b[0m \u001b[0;34m-\u001b[0m \u001b[0mtemp_array\u001b[0m\u001b[0;34m.\u001b[0m\u001b[0mmean\u001b[0m\u001b[0;34m(\u001b[0m\u001b[0;34m)\u001b[0m\u001b[0;34m)\u001b[0m\u001b[0;34m\u001b[0m\u001b[0m\n\u001b[1;32m      4\u001b[0m     \u001b[0mpyplot\u001b[0m\u001b[0;34m.\u001b[0m\u001b[0mshow\u001b[0m\u001b[0;34m(\u001b[0m\u001b[0;34m)\u001b[0m\u001b[0;34m\u001b[0m\u001b[0m\n\u001b[1;32m      5\u001b[0m \u001b[0;34m\u001b[0m\u001b[0m\n",
      "\u001b[0;31mAssertionError\u001b[0m: Temperature values (in degrees Kelvin) should be greater than zero"
     ]
    }
   ],
   "source": [
    "plot_temperature_anomaly(kelvin_to_fahr(data))"
   ]
  },
  {
   "cell_type": "markdown",
   "metadata": {},
   "source": [
    "Most software programs that you use are full of assertions. In the Firefox web browser, for instance, among versions, 10-20% of the code is there to check that the other 80-90% is working correctly.\n",
    "\n",
    "Broadly speaking, assertions fall into three categories:\n",
    "\n",
    "- A *precondition* is something that must be true at the start of the function in order for it to work correctly.\n",
    "- A *postcondition* is something that the function guarantees is true when it finishes.\n",
    "- An *invariant* is something that is always true at a particular point inside a piece of code.\n",
    "\n",
    "Assertions can be thought of as quality control or quality assurance for software. **Can you think of examples from your work where you would benefit from preconditions, postconditions, or invariants?**"
   ]
  },
  {
   "cell_type": "markdown",
   "metadata": {},
   "source": [
    "Most people who develop software fail to follow two rules when adding assertions to their code: \n",
    "\n",
    "- **Fail early, fail often:** The more time that elapses between when an error occurs and when it is first noticed, the greater the potential damage (e.g., to your analysis, to the outputs of your software) and the harder it will be to debug (because the software has grown to be more complicated and interdependent). Good code catches mistakes as early as possible.\n",
    "- **Turn bugs into assertions or tests:** Whenever you fix a bug, write an assertion that catches the mistake should you make it again. The odds are good that you have made similar mistakes nearby or will make the same or a similar mistake the next time you change this part of this code."
   ]
  },
  {
   "cell_type": "markdown",
   "metadata": {},
   "source": [
    "## Test-Driven Development"
   ]
  },
  {
   "cell_type": "markdown",
   "metadata": {},
   "source": [
    "An assertion checks that something is true at a particular point in the program. The next step is to check the overall behavior or a piece of code, i.e., to make sure that it produces the right output when it's given a particular input."
   ]
  },
  {
   "cell_type": "markdown",
   "metadata": {},
   "source": [
    "For example, suppose we need to find where two or more time series overlap. The range of each time series is represented as a pair of numbers, which are the time the interval started and ended. The output is the largest range that they all include.\n",
    "\n",
    "![](./python-overlapping-ranges.svg)"
   ]
  },
  {
   "cell_type": "markdown",
   "metadata": {},
   "source": [
    "**Most novice programmers would solve the problem like this:**\n",
    "\n",
    "1. Write a function called `range_overlap()`;\n",
    "2. Call it interactively on two or three different inputs;\n",
    "3. If it produces the wrong answer, fix the function and re-run that test.\n",
    "\n",
    "This clearly works, but there's a better way:\n",
    "\n",
    "1. Write a short function for each test that your solution should satisfy if it were to work;\n",
    "2. Write a `range_overlap()` function that should pass those tests;\n",
    "3. If `range_overlap()` produces any wrong answers, fix it and re-run the test functions.\n",
    "\n",
    "**Writing the tests *before* writing the function they exercise is called test-driven development.**"
   ]
  },
  {
   "cell_type": "markdown",
   "metadata": {},
   "source": [
    "Here are three test functions for `range_overlap()`.\n",
    "\n",
    "```py\n",
    "assert range_overlap([ (0.0, 1.0) ]) == (0.0, 1.0)\n",
    "assert range_overlap([ (2.0, 3.0), (2.0, 4.0) ]) == (2.0, 3.0)\n",
    "assert range_overlap([ (0.0, 1.0), (0.0, 2.0), (-1.0, 1.0) ]) == (0.0, 1.0)\n",
    "```"
   ]
  },
  {
   "cell_type": "markdown",
   "metadata": {},
   "source": [
    "As part of writing these tests, we've implicitly defined what our input and output look like: we expect a list of pairs as input and produce a single pair as output."
   ]
  },
  {
   "cell_type": "markdown",
   "metadata": {},
   "source": [
    "We're missing a test case, however; what should happen when the ranges don't overlap at all? Or if they share a boundary?\n",
    "\n",
    "```py\n",
    "assert range_overlap([ (0.0, 1.0), (5.0, 6.0) ]) == ???\n",
    "assert range_overlap([ (0.0, 1.0), (1.0, 2.0) ]) == ???\n",
    "```"
   ]
  },
  {
   "cell_type": "markdown",
   "metadata": {},
   "source": [
    "What should `range_overlap()` do in the first case? Fail with an error message? Return a special value?\n",
    "\n",
    "And in the second case... Does the pair of ranges overlap? Mathematicians would generally say \"yes,\" while engineers would generally say \"no.\"\n",
    "\n",
    "Any actual implementation of the function will come down on one side or the other of these issues; writing the test *first* helps us figure out which is best *before* we're invested in whatever we happened to write before we realized there was an issue."
   ]
  },
  {
   "cell_type": "markdown",
   "metadata": {},
   "source": [
    "**Since we're planning to use the `range_overlap()` function to generate a time series for the horizontal axis in a plot, we'll decide:**\n",
    "\n",
    "- Every overlap has to have non-zero width, and,\n",
    "- We will return the special value `None` when there's no overlap.\n",
    "\n",
    "`None` is built into Python and means \"nothing here.\"\n",
    "\n",
    "```py\n",
    "assert range_overlap([ (0.0, 1.0), (5.0, 6.0) ]) == None\n",
    "assert range_overlap([ (0.0, 1.0), (1.0, 2.0) ]) == None\n",
    "```"
   ]
  },
  {
   "cell_type": "markdown",
   "metadata": {},
   "source": [
    "### A Potential Solution"
   ]
  },
  {
   "cell_type": "code",
   "execution_count": 27,
   "metadata": {
    "collapsed": true
   },
   "outputs": [],
   "source": [
    "def range_overlap(ranges):\n",
    "    '''Return common overlap among a set of [low, high] ranges.'''\n",
    "    lowest = 0.0\n",
    "    highest = 1.0\n",
    "    for (low, high) in ranges:\n",
    "        lowest = max(lowest, low)\n",
    "        highest = min(highest, high)\n",
    "        \n",
    "    return (lowest, highest)"
   ]
  },
  {
   "cell_type": "markdown",
   "metadata": {},
   "source": [
    "Let's see if this does the trick. We can write a single function that encompasses all of our tests to make development and future testing that much easier."
   ]
  },
  {
   "cell_type": "code",
   "execution_count": 7,
   "metadata": {
    "collapsed": false
   },
   "outputs": [
    {
     "ename": "AssertionError",
     "evalue": "",
     "output_type": "error",
     "traceback": [
      "\u001b[0;31m---------------------------------------------------------------------------\u001b[0m",
      "\u001b[0;31mAssertionError\u001b[0m                            Traceback (most recent call last)",
      "\u001b[0;32m<ipython-input-7-598098f7da86>\u001b[0m in \u001b[0;36m<module>\u001b[0;34m()\u001b[0m\n\u001b[1;32m      6\u001b[0m     \u001b[0;32massert\u001b[0m \u001b[0mrange_overlap\u001b[0m\u001b[0;34m(\u001b[0m\u001b[0;34m[\u001b[0m \u001b[0;34m(\u001b[0m\u001b[0;36m0.0\u001b[0m\u001b[0;34m,\u001b[0m \u001b[0;36m1.0\u001b[0m\u001b[0;34m)\u001b[0m\u001b[0;34m,\u001b[0m \u001b[0;34m(\u001b[0m\u001b[0;36m0.0\u001b[0m\u001b[0;34m,\u001b[0m \u001b[0;36m2.0\u001b[0m\u001b[0;34m)\u001b[0m\u001b[0;34m,\u001b[0m \u001b[0;34m(\u001b[0m\u001b[0;34m-\u001b[0m\u001b[0;36m1.0\u001b[0m\u001b[0;34m,\u001b[0m \u001b[0;36m1.0\u001b[0m\u001b[0;34m)\u001b[0m \u001b[0;34m]\u001b[0m\u001b[0;34m)\u001b[0m \u001b[0;34m==\u001b[0m \u001b[0;34m(\u001b[0m\u001b[0;36m0.0\u001b[0m\u001b[0;34m,\u001b[0m \u001b[0;36m1.0\u001b[0m\u001b[0;34m)\u001b[0m\u001b[0;34m\u001b[0m\u001b[0m\n\u001b[1;32m      7\u001b[0m \u001b[0;34m\u001b[0m\u001b[0m\n\u001b[0;32m----> 8\u001b[0;31m \u001b[0mtest_range_overlap\u001b[0m\u001b[0;34m(\u001b[0m\u001b[0;34m)\u001b[0m\u001b[0;34m\u001b[0m\u001b[0m\n\u001b[0m",
      "\u001b[0;32m<ipython-input-7-598098f7da86>\u001b[0m in \u001b[0;36mtest_range_overlap\u001b[0;34m()\u001b[0m\n\u001b[1;32m      1\u001b[0m \u001b[0;32mdef\u001b[0m \u001b[0mtest_range_overlap\u001b[0m\u001b[0;34m(\u001b[0m\u001b[0;34m)\u001b[0m\u001b[0;34m:\u001b[0m\u001b[0;34m\u001b[0m\u001b[0m\n\u001b[0;32m----> 2\u001b[0;31m     \u001b[0;32massert\u001b[0m \u001b[0mrange_overlap\u001b[0m\u001b[0;34m(\u001b[0m\u001b[0;34m[\u001b[0m \u001b[0;34m(\u001b[0m\u001b[0;36m0.0\u001b[0m\u001b[0;34m,\u001b[0m \u001b[0;36m1.0\u001b[0m\u001b[0;34m)\u001b[0m\u001b[0;34m,\u001b[0m \u001b[0;34m(\u001b[0m\u001b[0;36m5.0\u001b[0m\u001b[0;34m,\u001b[0m \u001b[0;36m6.0\u001b[0m\u001b[0;34m)\u001b[0m \u001b[0;34m]\u001b[0m\u001b[0;34m)\u001b[0m \u001b[0;34m==\u001b[0m \u001b[0;32mNone\u001b[0m\u001b[0;34m\u001b[0m\u001b[0m\n\u001b[0m\u001b[1;32m      3\u001b[0m     \u001b[0;32massert\u001b[0m \u001b[0mrange_overlap\u001b[0m\u001b[0;34m(\u001b[0m\u001b[0;34m[\u001b[0m \u001b[0;34m(\u001b[0m\u001b[0;36m0.0\u001b[0m\u001b[0;34m,\u001b[0m \u001b[0;36m1.0\u001b[0m\u001b[0;34m)\u001b[0m\u001b[0;34m,\u001b[0m \u001b[0;34m(\u001b[0m\u001b[0;36m1.0\u001b[0m\u001b[0;34m,\u001b[0m \u001b[0;36m2.0\u001b[0m\u001b[0;34m)\u001b[0m \u001b[0;34m]\u001b[0m\u001b[0;34m)\u001b[0m \u001b[0;34m==\u001b[0m \u001b[0;32mNone\u001b[0m\u001b[0;34m\u001b[0m\u001b[0m\n\u001b[1;32m      4\u001b[0m     \u001b[0;32massert\u001b[0m \u001b[0mrange_overlap\u001b[0m\u001b[0;34m(\u001b[0m\u001b[0;34m[\u001b[0m \u001b[0;34m(\u001b[0m\u001b[0;36m0.0\u001b[0m\u001b[0;34m,\u001b[0m \u001b[0;36m1.0\u001b[0m\u001b[0;34m)\u001b[0m \u001b[0;34m]\u001b[0m\u001b[0;34m)\u001b[0m \u001b[0;34m==\u001b[0m \u001b[0;34m(\u001b[0m\u001b[0;36m0.0\u001b[0m\u001b[0;34m,\u001b[0m \u001b[0;36m1.0\u001b[0m\u001b[0;34m)\u001b[0m\u001b[0;34m\u001b[0m\u001b[0m\n\u001b[1;32m      5\u001b[0m     \u001b[0;32massert\u001b[0m \u001b[0mrange_overlap\u001b[0m\u001b[0;34m(\u001b[0m\u001b[0;34m[\u001b[0m \u001b[0;34m(\u001b[0m\u001b[0;36m2.0\u001b[0m\u001b[0;34m,\u001b[0m \u001b[0;36m3.0\u001b[0m\u001b[0;34m)\u001b[0m\u001b[0;34m,\u001b[0m \u001b[0;34m(\u001b[0m\u001b[0;36m2.0\u001b[0m\u001b[0;34m,\u001b[0m \u001b[0;36m4.0\u001b[0m\u001b[0;34m)\u001b[0m \u001b[0;34m]\u001b[0m\u001b[0;34m)\u001b[0m \u001b[0;34m==\u001b[0m \u001b[0;34m(\u001b[0m\u001b[0;36m2.0\u001b[0m\u001b[0;34m,\u001b[0m \u001b[0;36m3.0\u001b[0m\u001b[0;34m)\u001b[0m\u001b[0;34m\u001b[0m\u001b[0m\n",
      "\u001b[0;31mAssertionError\u001b[0m: "
     ]
    }
   ],
   "source": [
    "def test_range_overlap():\n",
    "    assert range_overlap([ (0.0, 1.0), (5.0, 6.0) ]) == None\n",
    "    assert range_overlap([ (0.0, 1.0), (1.0, 2.0) ]) == None\n",
    "    assert range_overlap([ (0.0, 1.0) ]) == (0.0, 1.0)\n",
    "    assert range_overlap([ (2.0, 3.0), (2.0, 4.0) ]) == (2.0, 3.0)\n",
    "    assert range_overlap([ (0.0, 1.0), (0.0, 2.0), (-1.0, 1.0) ]) == (0.0, 1.0)\n",
    "    \n",
    "test_range_overlap()"
   ]
  },
  {
   "cell_type": "markdown",
   "metadata": {},
   "source": [
    "**The first test was supposed to produce `None`, so we know that something is wrong with our function.** We *don't* know whether the other tests passed or failed because Python halted the program as soon as it spotted the first error.\n",
    "\n",
    "It turns out that the problem is that we initialized `lowest` and `highest` to 0.0 and 1.0, respectively, regardless of the input values. **In general, we should always initialize from the data.**\n",
    "\n",
    "There's another problem with our testing framework. When a test fails, we don't know why. We can add a message to any Python assertion that will provide some information about what was expected to happen but didn't."
   ]
  },
  {
   "cell_type": "code",
   "execution_count": 28,
   "metadata": {
    "collapsed": false
   },
   "outputs": [
    {
     "ename": "AssertionError",
     "evalue": "Should return None for ranges that do not intersect",
     "output_type": "error",
     "traceback": [
      "\u001b[0;31m---------------------------------------------------------------------------\u001b[0m",
      "\u001b[0;31mAssertionError\u001b[0m                            Traceback (most recent call last)",
      "\u001b[0;32m<ipython-input-28-3bddda93ca25>\u001b[0m in \u001b[0;36m<module>\u001b[0;34m()\u001b[0m\n\u001b[1;32m      6\u001b[0m     \u001b[0;32massert\u001b[0m \u001b[0mrange_overlap\u001b[0m\u001b[0;34m(\u001b[0m\u001b[0;34m[\u001b[0m \u001b[0;34m(\u001b[0m\u001b[0;36m0.0\u001b[0m\u001b[0;34m,\u001b[0m \u001b[0;36m1.0\u001b[0m\u001b[0;34m)\u001b[0m\u001b[0;34m,\u001b[0m \u001b[0;34m(\u001b[0m\u001b[0;36m0.0\u001b[0m\u001b[0;34m,\u001b[0m \u001b[0;36m2.0\u001b[0m\u001b[0;34m)\u001b[0m\u001b[0;34m,\u001b[0m \u001b[0;34m(\u001b[0m\u001b[0;34m-\u001b[0m\u001b[0;36m1.0\u001b[0m\u001b[0;34m,\u001b[0m \u001b[0;36m1.0\u001b[0m\u001b[0;34m)\u001b[0m \u001b[0;34m]\u001b[0m\u001b[0;34m)\u001b[0m \u001b[0;34m==\u001b[0m \u001b[0;34m(\u001b[0m\u001b[0;36m0.0\u001b[0m\u001b[0;34m,\u001b[0m \u001b[0;36m1.0\u001b[0m\u001b[0;34m)\u001b[0m\u001b[0;34m\u001b[0m\u001b[0m\n\u001b[1;32m      7\u001b[0m \u001b[0;34m\u001b[0m\u001b[0m\n\u001b[0;32m----> 8\u001b[0;31m \u001b[0mtest_range_overlap\u001b[0m\u001b[0;34m(\u001b[0m\u001b[0;34m)\u001b[0m\u001b[0;34m\u001b[0m\u001b[0m\n\u001b[0m",
      "\u001b[0;32m<ipython-input-28-3bddda93ca25>\u001b[0m in \u001b[0;36mtest_range_overlap\u001b[0;34m()\u001b[0m\n\u001b[1;32m      1\u001b[0m \u001b[0;32mdef\u001b[0m \u001b[0mtest_range_overlap\u001b[0m\u001b[0;34m(\u001b[0m\u001b[0;34m)\u001b[0m\u001b[0;34m:\u001b[0m\u001b[0;34m\u001b[0m\u001b[0m\n\u001b[0;32m----> 2\u001b[0;31m     \u001b[0;32massert\u001b[0m \u001b[0mrange_overlap\u001b[0m\u001b[0;34m(\u001b[0m\u001b[0;34m[\u001b[0m \u001b[0;34m(\u001b[0m\u001b[0;36m0.0\u001b[0m\u001b[0;34m,\u001b[0m \u001b[0;36m1.0\u001b[0m\u001b[0;34m)\u001b[0m\u001b[0;34m,\u001b[0m \u001b[0;34m(\u001b[0m\u001b[0;36m5.0\u001b[0m\u001b[0;34m,\u001b[0m \u001b[0;36m6.0\u001b[0m\u001b[0;34m)\u001b[0m \u001b[0;34m]\u001b[0m\u001b[0;34m)\u001b[0m \u001b[0;34m==\u001b[0m \u001b[0;32mNone\u001b[0m\u001b[0;34m,\u001b[0m \u001b[0;34m'Should return None for ranges that do not intersect'\u001b[0m\u001b[0;34m\u001b[0m\u001b[0m\n\u001b[0m\u001b[1;32m      3\u001b[0m     \u001b[0;32massert\u001b[0m \u001b[0mrange_overlap\u001b[0m\u001b[0;34m(\u001b[0m\u001b[0;34m[\u001b[0m \u001b[0;34m(\u001b[0m\u001b[0;36m0.0\u001b[0m\u001b[0;34m,\u001b[0m \u001b[0;36m1.0\u001b[0m\u001b[0;34m)\u001b[0m\u001b[0;34m,\u001b[0m \u001b[0;34m(\u001b[0m\u001b[0;36m1.0\u001b[0m\u001b[0;34m,\u001b[0m \u001b[0;36m2.0\u001b[0m\u001b[0;34m)\u001b[0m \u001b[0;34m]\u001b[0m\u001b[0;34m)\u001b[0m \u001b[0;34m==\u001b[0m \u001b[0;32mNone\u001b[0m\u001b[0;34m,\u001b[0m \u001b[0;34m'Should return None for ranges that do not intersect'\u001b[0m\u001b[0;34m\u001b[0m\u001b[0m\n\u001b[1;32m      4\u001b[0m     \u001b[0;32massert\u001b[0m \u001b[0mrange_overlap\u001b[0m\u001b[0;34m(\u001b[0m\u001b[0;34m[\u001b[0m \u001b[0;34m(\u001b[0m\u001b[0;36m0.0\u001b[0m\u001b[0;34m,\u001b[0m \u001b[0;36m1.0\u001b[0m\u001b[0;34m)\u001b[0m \u001b[0;34m]\u001b[0m\u001b[0;34m)\u001b[0m \u001b[0;34m==\u001b[0m \u001b[0;34m(\u001b[0m\u001b[0;36m0.0\u001b[0m\u001b[0;34m,\u001b[0m \u001b[0;36m1.0\u001b[0m\u001b[0;34m)\u001b[0m\u001b[0;34m,\u001b[0m \u001b[0;34m'Should return same input when single pair is provided'\u001b[0m\u001b[0;34m\u001b[0m\u001b[0m\n\u001b[1;32m      5\u001b[0m     \u001b[0;32massert\u001b[0m \u001b[0mrange_overlap\u001b[0m\u001b[0;34m(\u001b[0m\u001b[0;34m[\u001b[0m \u001b[0;34m(\u001b[0m\u001b[0;36m2.0\u001b[0m\u001b[0;34m,\u001b[0m \u001b[0;36m3.0\u001b[0m\u001b[0;34m)\u001b[0m\u001b[0;34m,\u001b[0m \u001b[0;34m(\u001b[0m\u001b[0;36m2.0\u001b[0m\u001b[0;34m,\u001b[0m \u001b[0;36m4.0\u001b[0m\u001b[0;34m)\u001b[0m \u001b[0;34m]\u001b[0m\u001b[0;34m)\u001b[0m \u001b[0;34m==\u001b[0m \u001b[0;34m(\u001b[0m\u001b[0;36m2.0\u001b[0m\u001b[0;34m,\u001b[0m \u001b[0;36m3.0\u001b[0m\u001b[0;34m)\u001b[0m\u001b[0;34m\u001b[0m\u001b[0m\n",
      "\u001b[0;31mAssertionError\u001b[0m: Should return None for ranges that do not intersect"
     ]
    }
   ],
   "source": [
    "def test_range_overlap():\n",
    "    assert range_overlap([ (0.0, 1.0), (5.0, 6.0) ]) == None, 'Should return None for ranges that do not intersect'\n",
    "    assert range_overlap([ (0.0, 1.0), (1.0, 2.0) ]) == None, 'Should return None for ranges that do not intersect'\n",
    "    assert range_overlap([ (0.0, 1.0) ]) == (0.0, 1.0), 'Should return same input when single pair is provided'\n",
    "    assert range_overlap([ (2.0, 3.0), (2.0, 4.0) ]) == (2.0, 3.0)\n",
    "    assert range_overlap([ (0.0, 1.0), (0.0, 2.0), (-1.0, 1.0) ]) == (0.0, 1.0)\n",
    "    \n",
    "test_range_overlap()"
   ]
  },
  {
   "cell_type": "markdown",
   "metadata": {},
   "source": [
    "### Challenge: Fix the Range Overlap Function"
   ]
  },
  {
   "cell_type": "markdown",
   "metadata": {},
   "source": [
    "Fix `range_overlap()`; re-run `test_range_overlap()` after each change you make."
   ]
  },
  {
   "cell_type": "code",
   "execution_count": 31,
   "metadata": {
    "collapsed": false
   },
   "outputs": [],
   "source": [
    "def range_overlap(ranges):\n",
    "    '''Return common overlap among a set of [low, high] ranges.'''\n",
    "    for i, (low, high) in enumerate(ranges):\n",
    "        if i == 0:\n",
    "            lowest, highest = low, high\n",
    "            continue\n",
    "            \n",
    "        lowest = max(lowest, low)\n",
    "        highest = min(highest, high)\n",
    "        \n",
    "    if lowest >= highest:\n",
    "        return None\n",
    "        \n",
    "    return (lowest, highest)\n",
    "\n",
    "test_range_overlap()"
   ]
  },
  {
   "cell_type": "markdown",
   "metadata": {},
   "source": [
    "## When in Doubt..."
   ]
  },
  {
   "cell_type": "code",
   "execution_count": 73,
   "metadata": {
    "collapsed": false
   },
   "outputs": [
    {
     "name": "stdout",
     "output_type": "stream",
     "text": [
      "The Zen of Python, by Tim Peters\n",
      "\n",
      "Beautiful is better than ugly.\n",
      "Explicit is better than implicit.\n",
      "Simple is better than complex.\n",
      "Complex is better than complicated.\n",
      "Flat is better than nested.\n",
      "Sparse is better than dense.\n",
      "Readability counts.\n",
      "Special cases aren't special enough to break the rules.\n",
      "Although practicality beats purity.\n",
      "Errors should never pass silently.\n",
      "Unless explicitly silenced.\n",
      "In the face of ambiguity, refuse the temptation to guess.\n",
      "There should be one-- and preferably only one --obvious way to do it.\n",
      "Although that way may not be obvious at first unless you're Dutch.\n",
      "Now is better than never.\n",
      "Although never is often better than *right* now.\n",
      "If the implementation is hard to explain, it's a bad idea.\n",
      "If the implementation is easy to explain, it may be a good idea.\n",
      "Namespaces are one honking great idea -- let's do more of those!\n"
     ]
    }
   ],
   "source": [
    "import this"
   ]
  },
  {
   "cell_type": "markdown",
   "metadata": {},
   "source": [
    "## Testing for Quality Control"
   ]
  },
  {
   "cell_type": "markdown",
   "metadata": {},
   "source": [
    "In scientific computing in particular, testing is used not only to make sure our software continues to work in an expected way but to make sure that the scientific results we derive with our software are consistent and accurate. Often, we build scientific computing workflows to analyze large volumes of data, whether they are large text document collections, high-resolution images, or large genome datasets.\n",
    "\n",
    "**How can we encode expected values into our tests for very large data without reproducing (and storing) excessively large files?** For instance, if we want to test code that takes an input gigabyte-scale file and transforms it into a similarly large file, how can we test that the function works correctly?\n",
    "\n",
    "One approach is obviously to make a sample dataset that is very small but also representative. Another would be to procedurally generate synthetic data. However, if we have reference datasets that we want to run tests on, and we want to ensure that we get the same output every time, the easiest solution is to calculate a *checksum.*\n",
    "\n",
    "**You may have encountered checksums before, say, as a means of verifying that a downloaded or decompressed file is uncorrupted.** A checksum is just a fancy mathematical function that takes in an arbitrarily long byte sequence and returns a short, *unique* alpha-numeric string.\n",
    "\n",
    "As an example, consider our temperature data. We want to convert it from Kevlin to Celsius and test that the output file contains exactly what we expected."
   ]
  },
  {
   "cell_type": "code",
   "execution_count": 54,
   "metadata": {
    "collapsed": false
   },
   "outputs": [
    {
     "data": {
      "text/plain": [
       "array([[-27.49  , -25.63  , -27.87  , -16.83  , -10.25  ,  -0.69  ,\n",
       "          4.91  ,   2.36  ,  -3.81  , -11.47  , -21.8   , -30.63  ],\n",
       "       [-25.03  , -30.51  , -21.11  , -24.54  , -10.31  ,  -1.22  ,\n",
       "          4.3   ,   5.77  ,   1.25  ,  -6.38  , -14.46  , -24.95  ],\n",
       "       [-20.85  , -32.76  , -24.49  , -17.74  ,  -7.31  ,   1.49  ,\n",
       "          5.72  ,   5.11  ,   0.21  ,  -7.38  , -11.93  , -24.35  ],\n",
       "       [-33.63  , -30.99  , -29.5   , -16.94  ,  -7.15  ,   1.49  ,\n",
       "          6.51  ,   6.02  ,   0.08  ,  -8.26  , -12.68  , -23.76  ],\n",
       "       [-28.2   , -32.13  , -28.4   , -21.64  , -10.9   ,  -0.3   ,\n",
       "          5.63  ,   3.87  ,  -2.31  ,  -8.28  , -14.01  , -24.26  ],\n",
       "       [-29.11  , -30.19  , -27.98  , -17.23  ,  -7.21  ,   2.43  ,\n",
       "          4.35  ,   2.35  ,  -0.56  , -11.79  , -18.61  , -27.99  ],\n",
       "       [-28.    , -31.8   , -23.86  , -18.13  ,  -9.03  ,   0.68  ,\n",
       "          4.77  ,   6.45  ,   0.77  ,  -6.61  , -16.27  , -28.32  ],\n",
       "       [-24.26  , -32.88  , -27.55  , -19.74  ,  -8.71  ,  -0.19  ,\n",
       "          3.94  ,   1.11  ,  -1.95  , -12.41  , -24.73  , -27.04  ],\n",
       "       [-28.72  , -32.66  , -26.33  , -17.76  ,  -6.52  ,  -0.25  ,\n",
       "          4.1   ,   1.05  ,  -0.67  , -12.72  , -23.87  , -26.58  ],\n",
       "       [-20.36  , -30.52  , -25.67  , -14.8   ,  -7.12  ,   1.56  ,\n",
       "          4.01  ,   5.4   ,  -1.35  ,  -7.37  , -17.94  , -29.29  ],\n",
       "       [-26.03  , -27.32  , -23.92  , -17.45  ,  -8.12  ,   1.82  ,\n",
       "          4.36  ,   5.2   ,   0.81  ,  -9.71  , -17.51  , -23.06  ],\n",
       "       [-27.56  , -22.4   , -33.03  , -19.89  ,  -7.26  ,   1.12  ,\n",
       "          2.1   ,   2.82  ,  -1.21  ,  -9.41  , -19.53  , -29.2   ],\n",
       "       [-28.86  , -23.17  , -24.79  , -20.87  ,  -6.01  ,   0.3   ,\n",
       "          3.48  ,   2.    ,  -3.26  , -10.43  , -22.09  , -20.33  ],\n",
       "       [-22.83  , -31.87  , -29.99  , -21.78  ,  -5.99  ,   1.14  ,\n",
       "          3.39  ,   2.34  ,   0.39  , -10.2   , -18.54  , -28.66  ],\n",
       "       [-20.92  , -21.73  , -25.78  , -18.82  ,  -9.02  ,   1.12  ,\n",
       "          4.76  ,   5.24  ,  -1.49  ,  -8.1   , -16.66  , -22.78  ],\n",
       "       [-22.14  , -26.66  , -28.67  , -16.36  ,  -4.67  ,   0.33  ,\n",
       "          3.02  ,   2.81  ,  -0.8   , -10.73  , -21.66  , -19.43  ],\n",
       "       [-28.38  , -32.14  , -30.94  , -22.92  ,  -8.93  ,   0.15  ,\n",
       "          3.46  ,   2.48  ,  -1.75  ,  -9.3   , -18.23  , -30.52  ],\n",
       "       [-28.53  , -33.03  , -21.5   , -16.89  ,  -8.98  ,  -0.6   ,\n",
       "          3.23  ,   2.82  ,  -0.8   , -12.89  , -12.69  , -25.36  ],\n",
       "       [-27.95  , -29.7   , -30.52  , -20.82  ,  -8.89  ,   1.51  ,\n",
       "          3.52  ,   2.02  ,  -0.14  ,  -8.68  , -15.9   , -25.11  ],\n",
       "       [-25.05  , -27.54  , -23.28  , -15.37  ,  -6.25  ,   1.1   ,\n",
       "          3.24  ,   2.61  ,  -2.28  , -10.46  , -18.35  , -22.41  ],\n",
       "       [-23.89  , -31.1   , -24.18  , -20.39  ,  -6.79  ,   0.5   ,\n",
       "          5.55  ,   4.87  ,  -0.66  ,  -9.23  , -19.35  , -25.65  ],\n",
       "       [-26.26  , -28.79  , -24.98  , -16.22  ,  -6.13  ,   1.36  ,\n",
       "          2.14  ,  -0.06  ,  -0.56  ,  -7.55  , -22.69  , -20.37  ],\n",
       "       [-26.7   , -26.12  , -26.52  , -19.14  ,  -7.3   ,   0.34  ,\n",
       "          3.26  ,   2.26  ,  -3.66  , -15.92  , -18.89  , -24.65  ],\n",
       "       [-31.02  , -32.52  , -29.4   , -20.67  ,  -8.29  ,   2.    ,\n",
       "          4.55  ,   1.44  ,  -0.65  , -10.36  , -18.93  , -24.55  ],\n",
       "       [-28.05  , -29.77  , -30.38  , -21.46  ,  -7.83  ,   0.42  ,\n",
       "          5.69  ,   4.76  ,  -1.16  ,  -7.16  , -17.54  , -21.    ],\n",
       "       [-27.02  , -25.81  , -29.32  , -19.07  ,  -7.11  ,   0.65  ,\n",
       "          3.79  ,   3.43  ,   0.64  ,  -8.5   , -16.67  , -21.64  ],\n",
       "       [-25.41  , -34.09  , -28.77  , -21.11  ,  -7.42  ,  -0.68  ,\n",
       "          3.83  ,   5.08  ,   0.72  , -13.47  , -21.74  , -31.37  ],\n",
       "       [-31.55  , -26.44  , -23.22  , -20.31  ,  -7.13  ,   0.73  ,\n",
       "          3.63  ,   2.26  ,  -3.35  , -13.22  , -23.97  , -29.21  ],\n",
       "       [-27.56  , -31.27  , -26.56  , -18.5   ,  -7.79  ,   0.86  ,\n",
       "          3.84  ,   4.02  ,   0.55  , -10.01  , -15.3   , -26.31  ],\n",
       "       [-20.82  , -25.03  , -30.29  , -20.89  ,  -6.89  ,   1.47  ,\n",
       "          4.36  ,   6.59  ,   1.34  ,  -7.51  , -21.24  , -23.82  ],\n",
       "       [-20.65  , -25.56  , -24.33  , -17.25  ,  -8.06  ,   0.27  ,\n",
       "          4.59  ,   3.19  ,   0.86  , -12.95  , -15.09  , -24.29  ],\n",
       "       [-20.3   , -31.09  , -26.87  , -18.39  ,  -6.44  ,   0.43  ,\n",
       "          5.55  ,   6.5301,   1.47  ,  -7.08  , -12.3   , -26.25  ],\n",
       "       [-26.33  , -22.88  , -24.34  , -19.2   ,  -7.33  ,   2.32  ,\n",
       "          2.98  ,   1.84  ,  -3.36  ,  -8.81  , -18.87  , -28.08  ],\n",
       "       [-18.01  , -27.36  , -24.4   , -17.93  ,  -4.21  ,   2.01  ,\n",
       "          4.89  ,   1.92  ,  -2.6   ,  -8.9   , -18.48  , -23.76  ],\n",
       "       [-25.74  , -22.95  , -25.89  , -19.33  ,  -8.87  ,   1.11  ,\n",
       "          4.07  ,   3.08  ,  -1.26  , -13.51  , -23.87  , -24.46  ],\n",
       "       [-30.15  , -27.89  , -27.84  , -18.18  ,  -9.94  ,   0.74  ,\n",
       "          3.6   ,   2.27  ,  -3.55  , -14.27  , -17.92  , -19.31  ],\n",
       "       [-27.25  , -37.45  , -28.71  , -25.2   ,  -9.8   ,   1.77  ,\n",
       "          4.52  ,   3.24  ,   0.67  ,  -8.84  , -23.62  , -27.13  ],\n",
       "       [-22.49  , -28.57  , -26.35  , -24.54  ,  -6.56  ,   1.41  ,\n",
       "          4.1   ,   3.12  ,  -1.8   , -12.4   , -16.13  , -21.88  ],\n",
       "       [-27.68  , -22.05  , -28.22  , -22.55  ,  -7.79  ,   1.67  ,\n",
       "          6.12  ,   4.08  ,   2.16  ,  -9.8   , -18.97  , -22.22  ],\n",
       "       [-25.09  , -27.8   , -25.38  , -22.25  ,  -6.95  ,   1.41  ,\n",
       "          4.55  ,   4.6   ,  -1.83  ,  -5.58  , -21.04  , -23.7   ],\n",
       "       [-23.52  , -26.47  , -25.66  , -17.84  ,  -7.61  ,   0.87  ,\n",
       "          4.58  ,   2.69  ,  -1.53  , -14.81  , -24.59  , -22.33  ],\n",
       "       [-31.53  , -15.67  , -25.19  , -14.93  ,  -7.76  ,   2.27  ,\n",
       "          6.96  ,   7.03  ,   1.54  ,  -8.34  , -24.41  , -22.4   ],\n",
       "       [-30.03  , -33.15  , -23.58  , -13.76  ,  -3.42  ,   3.    ,\n",
       "          6.02  ,   3.82  ,  -0.43  ,  -8.68  , -22.    , -26.42  ],\n",
       "       [-25.87  , -29.55  , -27.85  , -17.05  ,  -3.48  ,   3.48  ,\n",
       "          4.35  ,   3.    ,  -0.55  ,  -8.64  , -23.07  , -29.03  ],\n",
       "       [-28.84  , -27.89  , -21.88  , -14.95  ,  -3.92  ,   4.13  ,\n",
       "          4.94  ,   1.13  ,  -4.26  , -13.97  , -20.14  , -23.95  ],\n",
       "       [-25.1   , -24.63  , -24.9   , -15.84  ,  -6.37  ,   3.33  ,\n",
       "          8.61  ,   3.63  ,  -0.18  ,  -5.12  , -15.82  , -23.24  ],\n",
       "       [-25.01  , -24.93  , -28.76  , -14.79  ,  -4.03  ,   3.14  ,\n",
       "          6.03  ,   3.46  ,  -1.78  , -16.13  , -23.9   , -26.19  ],\n",
       "       [-25.34  , -26.77  , -27.7   , -14.75  ,  -3.74  ,   3.12  ,\n",
       "          6.21  ,   3.85  ,   2.4   , -10.32  , -19.83  , -24.33  ],\n",
       "       [-24.77  , -27.5   , -21.16  , -19.13  ,  -1.41  ,   4.08  ,\n",
       "          4.5   ,   0.3   ,  -2.05  , -15.39  , -16.75  , -21.85  ],\n",
       "       [-28.24  , -25.92  , -27.13  , -16.27  ,  -6.86  ,   2.86  ,\n",
       "          6.01  ,   6.19  ,   1.92  ,  -8.68  , -13.09  , -25.46  ],\n",
       "       [-27.96  , -27.61  , -19.88  , -11.71  ,  -4.89  ,   3.8   ,\n",
       "          8.05  ,   5.78  ,   2.65  ,  -5.53  , -13.95  , -20.44  ],\n",
       "       [-29.3   , -28.93  , -27.63  , -19.44  ,  -2.66  ,   3.73  ,\n",
       "          6.19  ,   5.21  ,   0.84  ,  -8.63  , -18.79  , -27.52  ],\n",
       "       [-26.29  , -24.48  , -25.96  , -18.71  ,  -9.99  ,   3.66  ,\n",
       "          5.28  ,   3.8   ,  -0.16  ,  -8.64  , -17.    , -21.35  ],\n",
       "       [-22.28  , -20.33  , -25.96  , -16.63  , -10.53  ,   2.05  ,\n",
       "          4.25  ,   2.85  ,   0.64  , -11.32  , -17.59  , -23.89  ],\n",
       "       [-25.79  , -27.12  , -20.29  , -17.57  ,  -4.41  ,   1.46  ,\n",
       "          4.58  ,   3.05  ,   1.93  ,  -4.86  , -12.76  , -18.63  ],\n",
       "       [-23.64  , -24.77  , -24.39  , -13.99  ,  -5.87  ,   2.17  ,\n",
       "          5.14  ,   3.05  ,  -0.06  ,  -4.49  , -15.97  , -22.66  ],\n",
       "       [-24.34  , -28.79  , -26.29  , -16.19  ,  -4.47  ,   4.39  ,\n",
       "          6.71  ,   6.82  ,  -0.09  ,  -6.08  , -16.    , -22.66  ],\n",
       "       [-23.12  , -25.38  , -21.92  , -16.92  ,  -4.56  ,   2.    ,\n",
       "          4.57  ,   5.79  ,   1.27  ,  -6.01  , -19.4   , -20.    ],\n",
       "       [-26.99  , -22.29  , -27.28  , -19.84  ,  -4.64  ,   2.69  ,\n",
       "          4.37  ,   3.04  ,   2.53  ,  -3.86  , -16.53  , -20.1   ],\n",
       "       [-25.89  , -24.48  , -27.94  , -13.44  ,  -7.3   ,   2.5901,\n",
       "          6.84  ,   6.67  ,   2.74  ,  -6.24  , -11.16  , -19.25  ],\n",
       "       [-26.87  , -26.94  , -26.27  , -14.82  ,  -5.3   ,   2.49  ,\n",
       "          4.7   ,   3.24  ,   0.97  ,  -7.76  , -16.3   , -19.58  ],\n",
       "       [-26.06  , -26.71  , -26.93  , -16.89  ,  -4.19  ,   1.88  ,\n",
       "          6.47  ,   4.77  ,   1.34  ,  -4.6   , -18.49  , -19.75  ],\n",
       "       [-27.62  , -23.64  , -24.17  , -14.22  ,  -5.8   ,   1.76  ,\n",
       "          5.37  ,   5.81  ,   2.4   ,  -5.72  , -12.39  , -24.27  ],\n",
       "       [-23.33  , -22.95  , -22.57  , -18.29  ,  -5.2   ,   2.    ,\n",
       "          5.25  ,   4.83  ,   2.16  ,  -5.54  , -19.17  , -22.63  ],\n",
       "       [-30.96  , -24.19  , -29.99  , -15.55  ,  -6.22  ,   2.71  ,\n",
       "          6.01  ,   6.17  ,   1.08  ,  -4.61  , -16.64  , -24.49  ],\n",
       "       [-22.98  , -27.72  , -23.44  , -18.59  ,  -6.42  ,   4.03  ,\n",
       "          6.43  ,   4.54  ,  -0.39  ,  -3.97  , -14.84  , -20.49  ],\n",
       "       [-16.89  , -24.12  , -22.19  , -14.99  ,  -5.53  ,   0.33  ,\n",
       "          3.64  ,   6.04  ,   0.7   ,  -7.51  , -12.97  , -17.58  ],\n",
       "       [-24.3   , -21.06  , -24.97  , -15.32  ,  -2.01  ,   3.46  ,\n",
       "          6.34  ,   3.42  ,  -1.42  ,  -5.47  , -13.72  , -22.75  ],\n",
       "       [-16.54  , -18.99  , -22.35  , -12.14  ,  -2.71  ,   3.46  ,\n",
       "          5.87  ,   6.46  ,   0.58  ,  -4.94  , -16.7   , -21.78  ]])"
      ]
     },
     "execution_count": 54,
     "metadata": {},
     "output_type": "execute_result"
    }
   ],
   "source": [
    "data = np.loadtxt('./barrow.temperature.csv', delimiter = ',')\n",
    "\n",
    "# Convert to Celsius\n",
    "data_c = np.apply_along_axis(kelvin_to_celsius, 0, data)\n",
    "data_c"
   ]
  },
  {
   "cell_type": "markdown",
   "metadata": {},
   "source": [
    "We can save our converted array to a CSV file, similar to the one we read in."
   ]
  },
  {
   "cell_type": "code",
   "execution_count": 55,
   "metadata": {
    "collapsed": true
   },
   "outputs": [],
   "source": [
    "np.savetxt('./barrow.temperature.Celsius.csv', data_c, delimiter = ',')"
   ]
  },
  {
   "cell_type": "markdown",
   "metadata": {},
   "source": [
    "We can perform a checksum over the contents of this file using the built-in Python library of hash functions. **Recall that a checksum or hash function returns a unique string for any unique input byte sequence.**"
   ]
  },
  {
   "cell_type": "code",
   "execution_count": 62,
   "metadata": {
    "collapsed": false
   },
   "outputs": [
    {
     "data": {
      "text/plain": [
       "b'\\xe4\\xbcT;\\xb4\\xf8d}b\\x1bX\\x98,\\x89\\x87?\\xeb\\x19\\xd5\\x0e\\xce\\xa4\\x9c\\x9a\\xf6\\xfb\\x8f\\x8aT\\x8b\\xc6y'"
      ]
     },
     "execution_count": 62,
     "metadata": {},
     "output_type": "execute_result"
    }
   ],
   "source": [
    "import hashlib\n",
    "hash_func = hashlib.sha256()\n",
    "\n",
    "# We have to encode any text strings as bytes\n",
    "hash_func.update(b'Some important scientific data')\n",
    "hash_func.digest()"
   ]
  },
  {
   "cell_type": "markdown",
   "metadata": {},
   "source": [
    "Whenever we call `update()`, the effect is to concatenate the inputs. Thus, after an `update()`, the input has changed and we therefore expect the hexadecimal digest to be different."
   ]
  },
  {
   "cell_type": "code",
   "execution_count": 63,
   "metadata": {
    "collapsed": false
   },
   "outputs": [
    {
     "data": {
      "text/plain": [
       "b'A\\xe3\\x9f\\xb9\\xf4\\xc4\\xb9A\\xda\\x90D\\xfdK\\x8b\\xc1~\\xa5_F\\xa0n\\xac\\xc7(7\\x7f#t\\x10\\xa1\\x07O'"
      ]
     },
     "execution_count": 63,
     "metadata": {},
     "output_type": "execute_result"
    }
   ],
   "source": [
    "hash_func.update(b'Some additional scientific data, different from before')\n",
    "hash_func.digest()"
   ]
  },
  {
   "cell_type": "markdown",
   "metadata": {},
   "source": [
    "**How can we use this to verify that a file is unchanged?** We can read the file in as a Python byte array and then hash it."
   ]
  },
  {
   "cell_type": "code",
   "execution_count": 72,
   "metadata": {
    "collapsed": false
   },
   "outputs": [
    {
     "data": {
      "text/plain": [
       "b'}\\x00\\x00U\\xfb\\xaf\\xd2\\xc6\\x11\\xbe\\xc8Rl\\x9b\\xacd\\xa4D9\\x99\"\\xde\\x02A\\xf5dR\\xdd\\x94k\\xaa\\xf6'"
      ]
     },
     "execution_count": 72,
     "metadata": {},
     "output_type": "execute_result"
    }
   ],
   "source": [
    "# Re-initialize our hash function to clear any prior inputs\n",
    "hash_func = hashlib.sha256()\n",
    "\n",
    "# Note that the mode must include 'b' for \"binary\"\n",
    "file_stream = open('./barrow.temperature.Celsius.csv', mode = 'rb')\n",
    "hash_func.update(file_stream.read())\n",
    "hash_func.digest()"
   ]
  },
  {
   "cell_type": "markdown",
   "metadata": {},
   "source": [
    "Any time we use `open()` in Python, we need to make sure we close the connection to the file."
   ]
  },
  {
   "cell_type": "code",
   "execution_count": null,
   "metadata": {
    "collapsed": true
   },
   "outputs": [],
   "source": [
    "file_stream.close()"
   ]
  },
  {
   "cell_type": "markdown",
   "metadata": {},
   "source": [
    "A more concise way of doing the same thing, while also testing that the file's contents match a certain checksum, is to use the Python `with` statement."
   ]
  },
  {
   "cell_type": "code",
   "execution_count": 70,
   "metadata": {
    "collapsed": false
   },
   "outputs": [],
   "source": [
    "hash_func = hashlib.sha256()\n",
    "\n",
    "with open('./barrow.temperature.Celsius.csv', mode = 'rb') as file_stream:\n",
    "    hash_func.update(file_stream.read())\n",
    "    \n",
    "assert hash_func.digest() == b'}\\x00\\x00U\\xfb\\xaf\\xd2\\xc6\\x11\\xbe\\xc8Rl\\x9b\\xacd\\xa4D9\\x99\"\\xde\\x02A\\xf5dR\\xdd\\x94k\\xaa\\xf6'"
   ]
  },
  {
   "cell_type": "markdown",
   "metadata": {},
   "source": [
    "The Python `with` statement creates a *context,* a part of our code where certain variables are available for use:\n",
    "\n",
    "- When a `with` context is used to `open()` a file, as in the above example, we use `as` to declare a variable. The variable in this case, `file_stream` is available throughout the code block that follows.\n",
    "- Outside of the `with` context (outside of the code block), the `file_stream` variable is no longer available.\n",
    "- When `with` is used to open a file, the file is also automatically closed after the `with` statement's code block is executed. This saves us the trouble of having to call `close()` on the `file_stream` object.\n",
    "\n",
    "Now, if something changed about the file--for instance, if the file's contents were not converted from Kelvin to Celsius, we would detect it as a change in the checksum."
   ]
  },
  {
   "cell_type": "code",
   "execution_count": 71,
   "metadata": {
    "collapsed": false
   },
   "outputs": [
    {
     "ename": "AssertionError",
     "evalue": "",
     "output_type": "error",
     "traceback": [
      "\u001b[0;31m---------------------------------------------------------------------------\u001b[0m",
      "\u001b[0;31mAssertionError\u001b[0m                            Traceback (most recent call last)",
      "\u001b[0;32m<ipython-input-71-2a6be7c7852e>\u001b[0m in \u001b[0;36m<module>\u001b[0;34m()\u001b[0m\n\u001b[1;32m      4\u001b[0m     \u001b[0mhash_func\u001b[0m\u001b[0;34m.\u001b[0m\u001b[0mupdate\u001b[0m\u001b[0;34m(\u001b[0m\u001b[0mfile_stream\u001b[0m\u001b[0;34m.\u001b[0m\u001b[0mread\u001b[0m\u001b[0;34m(\u001b[0m\u001b[0;34m)\u001b[0m\u001b[0;34m)\u001b[0m\u001b[0;34m\u001b[0m\u001b[0m\n\u001b[1;32m      5\u001b[0m \u001b[0;34m\u001b[0m\u001b[0m\n\u001b[0;32m----> 6\u001b[0;31m \u001b[0;32massert\u001b[0m \u001b[0mhash_func\u001b[0m\u001b[0;34m.\u001b[0m\u001b[0mdigest\u001b[0m\u001b[0;34m(\u001b[0m\u001b[0;34m)\u001b[0m \u001b[0;34m==\u001b[0m \u001b[0;34mb'}\\x00\\x00U\\xfb\\xaf\\xd2\\xc6\\x11\\xbe\\xc8Rl\\x9b\\xacd\\xa4D9\\x99\"\\xde\\x02A\\xf5dR\\xdd\\x94k\\xaa\\xf6'\u001b[0m\u001b[0;34m\u001b[0m\u001b[0m\n\u001b[0m",
      "\u001b[0;31mAssertionError\u001b[0m: "
     ]
    }
   ],
   "source": [
    "hash_func = hashlib.sha256()\n",
    "\n",
    "with open('./barrow.temperature.csv', mode = 'rb') as file_stream:\n",
    "    hash_func.update(file_stream.read())\n",
    "    \n",
    "assert hash_func.digest() == b'}\\x00\\x00U\\xfb\\xaf\\xd2\\xc6\\x11\\xbe\\xc8Rl\\x9b\\xacd\\xa4D9\\x99\"\\xde\\x02A\\xf5dR\\xdd\\x94k\\xaa\\xf6'"
   ]
  },
  {
   "cell_type": "markdown",
   "metadata": {},
   "source": [
    "# Python at the Command Line"
   ]
  },
  {
   "cell_type": "markdown",
   "metadata": {
    "collapsed": true
   },
   "source": [
    "We've seen a lot of tools and techniques for improving our productivity through reproducible Python code. So far, however, we've been working exclusively within Jupyter Notebook. Jupyter Notebook is great for interactive, exploratory work in Python and encourages literate programming, as we discussed earlier. A Notebook is a great place to demonstrate to your future self or your peers how some Python code works.\n",
    "\n",
    "But when it's time to scale-up your work and process data, you want to be on the command line, for all the reasons we saw when we discussed the Unix shell earlier.\n",
    "\n",
    "Let's explore Python programs at the command line using the following *Python script,* `temp_extremes.py`.\n",
    "\n",
    "```py\n",
    "'''\n",
    "Reports the min and max July temperatures for each file\n",
    "that matches the given filename pattern.\n",
    "'''\n",
    "\n",
    "import csv\n",
    "import os\n",
    "import sys\n",
    "import glob\n",
    "\n",
    "def main():\n",
    "    # Get the user-specified directory\n",
    "    directory = sys.argv[1]\n",
    "\n",
    "    # Pattern to use in searching for files\n",
    "    filename_pattern = os.path.join(directory, '*temperature.csv')\n",
    "\n",
    "    for filename in glob.glob(filename_pattern):\n",
    "        july_temps = []\n",
    "\n",
    "        # While the file is open...\n",
    "        with open(filename, 'r') as stream:\n",
    "            # Use a function to read the file\n",
    "            reader = csv.reader(stream)\n",
    "\n",
    "            # Each row is a year\n",
    "            for row in reader:\n",
    "                # Add this year's July temperature to the list\n",
    "                july_temps.append(row[6])\n",
    "\n",
    "        # A human-readable name for the file        \n",
    "        pretty_name = os.path.basename(filename)\n",
    "        print(pretty_name, '--Hottest July mean temp. was', max(july_temps), 'deg K')\n",
    "        print(pretty_name, '--Coolest July mean temp. was', min(july_temps), 'deg K')\n",
    "        \n",
    "        \n",
    "if __name__ == '__main__':\n",
    "    main()\n",
    "```"
   ]
  },
  {
   "cell_type": "markdown",
   "metadata": {},
   "source": [
    "We can run this script on the command line by typing the following:\n",
    "\n",
    "```sh\n",
    "$ python3 temp_extremes.py .\n",
    "```\n",
    "\n",
    "Remember that the single dot, `.` represents the current working directory, which is where all of our temperature CSV files are located."
   ]
  },
  {
   "cell_type": "markdown",
   "metadata": {},
   "source": [
    "## Our First Python Script"
   ]
  },
  {
   "cell_type": "markdown",
   "metadata": {},
   "source": [
    "**Let's investigate this command-line program, line-by-line. We'll start to write this in our own text editor, calling the file `myscript.py` for now.**"
   ]
  },
  {
   "cell_type": "markdown",
   "metadata": {},
   "source": [
    "**The docstring.** Every Python scripts, in fact any `*.py` file, ought to have a docstring at the top. The Python interpreter will accept a stand-alone, literal string at the top of the file without breaking your code; it is basically ignored, like a comment. As a multi-line string, we can type as many lines of text as we want in order to fully describe the purpose of the Python script.\n",
    "\n",
    "```py\n",
    "'''\n",
    "Reports the min and max July temperatures for each file\n",
    "that matches the given filename pattern.\n",
    "'''\n",
    "```"
   ]
  },
  {
   "cell_type": "markdown",
   "metadata": {},
   "source": [
    "**Module imports.** The next few lines are where we import any necessary modules or objects from other Python files. These `import` statements should always be at the top of the script, as we see here. That way, we can tell at a glance what modules need to be installed in order to run this script.\n",
    "\n",
    "```py\n",
    "import csv\n",
    "import os\n",
    "import sys\n",
    "import glob\n",
    "```"
   ]
  },
  {
   "cell_type": "markdown",
   "metadata": {},
   "source": [
    "**Now for the business part of our script. We first want to get the name of the directory where our program should look for temperature CSV files to process.**\n",
    "\n",
    "How can a Python script take an argument from the command line? Recall how we can use the `print()` function to print things to the command line.\n",
    "\n",
    "```py\n",
    "print('Python version:', sys.version)\n",
    "```\n",
    "\n",
    "The `sys` module has an attribute `argv`, which stands for \"argument variables.\" Whenever Python runs a program, it takes all of the values given on the command line and puts them in the list `sys.argv` so that the program can determine what they were.\n",
    "\n",
    "```py\n",
    "print('sys.argv is:', sys.argv)\n",
    "```\n",
    "\n",
    "If we run this program with no arguments, we see that the first item in the list is simply the name of the Python script that was executed:\n",
    "\n",
    "```sh\n",
    "$ python myscript.py\n",
    "```\n",
    "\n",
    "Try calling this script with multiple, different, made-up command-line arguments, e.g.:\n",
    "\n",
    "```sh\n",
    "$ python myscript.py first second third\n",
    "```\n",
    "\n",
    "**So, how can we use this to get the name of the directory we need?**\n",
    "\n",
    "```py\n",
    "# Get the user-specified directory\n",
    "directory = sys.argv[1]\n",
    "files = os.listdir(directory)\n",
    "print(files)\n",
    "```"
   ]
  },
  {
   "cell_type": "markdown",
   "metadata": {},
   "source": [
    "**Next, we want to search this directory's files for temperature CSV files.** We can use the `glob` module to search for files that match GLOB regular expressions, the same file-matching patterns that we used in the Unix shell lesson.\n",
    "\n",
    "We use the `os.path` module's `join()` function to concatenate strings that represent file paths. We could use simple string concatenaion here, but the `join()` function has some additional business logic that checks to make sure we end up with a valid file path, so it's best to use this function always for this purpose.\n",
    "\n",
    "```py\n",
    "# Pattern to use in searching for files\n",
    "filename_pattern = os.path.join(directory, '*temperature.csv')\n",
    "files = glob.glob(filename_pattern)\n",
    "print(files)\n",
    "```"
   ]
  },
  {
   "cell_type": "markdown",
   "metadata": {},
   "source": [
    "### Encapsulating to Keep the Namespace Clean"
   ]
  },
  {
   "cell_type": "markdown",
   "metadata": {},
   "source": [
    "What do we have so far?\n",
    "\n",
    "```py\n",
    "import csv\n",
    "import os\n",
    "import sys\n",
    "import glob\n",
    "\n",
    "# Get the user-specified directory\n",
    "directory = sys.argv[1]\n",
    "\n",
    "# Pattern to use in searching for files\n",
    "filename_pattern = os.path.join(directory, '*temperature.csv')\n",
    "files = glob.glob(filename_pattern)\n",
    "print(files)\n",
    "```\n",
    "\n",
    "This works great but could benefit from some Python best practices. First, we need to observe that every Python script is itself a module to be imported into Python. We can demonstrate this by starting an interactive session:\n",
    "\n",
    "```sh\n",
    "$ python3\n",
    "```\n",
    "\n",
    "And then:\n",
    "\n",
    "```py\n",
    ">>> import myscript\n",
    "```\n",
    "\n",
    "We get an error, but it's only because we are trying to index the `sys.argv` list's second element and it only has one element total (because we didn't call this script from the command line). If we change `sys.argv[1]` to a dot '.' and run it again...\n",
    "\n",
    "```py\n",
    ">>> import myscript\n",
    "```\n",
    "\n",
    "Note that everything in the script we wrote was executed in this session! Even the `print()` function was executed and its output displayed here.\n",
    "\n",
    "**Can you see how this could be problematic?** To avoid this problem, we need to distinguish between objects in our *namespace* that we want to make available to other Python programs and those we want to keep private. In general, if our Python script has one principal purpose, we should create a Python function that fulfills that purpose and hide all the \"sausage-making\" details within.\n",
    "\n",
    "```py\n",
    "import csv\n",
    "import os\n",
    "import sys\n",
    "import glob\n",
    "\n",
    "def main():\n",
    "    # Get the user-specified directory\n",
    "    directory = sys.argv[1]\n",
    "\n",
    "    # Pattern to use in searching for files\n",
    "    filename_pattern = os.path.join(directory, '*temperature.csv')\n",
    "    files = glob.glob(filename_pattern)\n",
    "    print(files)\n",
    "```\n",
    "\n",
    "Now let's run this script again.\n",
    "\n",
    "```sh\n",
    "$ python3 myscript.py .\n",
    "```\n",
    "\n",
    "**What happened?** Nothing. Why? This script merely defines a function, `main()`. There is no place where that function is called.\n",
    "\n",
    "Python has a special syntax that we use in a script for determining when the script is called from the command line.\n",
    "\n",
    "```py\n",
    "if __name__ == '__main__':\n",
    "    main()\n",
    "```\n",
    "\n",
    "**Why does this work? Let's enter an interactive session again.**"
   ]
  },
  {
   "cell_type": "code",
   "execution_count": 74,
   "metadata": {
    "collapsed": false
   },
   "outputs": [
    {
     "data": {
      "text/plain": [
       "'__main__'"
      ]
     },
     "execution_count": 74,
     "metadata": {},
     "output_type": "execute_result"
    }
   ],
   "source": [
    "__name__"
   ]
  },
  {
   "cell_type": "code",
   "execution_count": 75,
   "metadata": {
    "collapsed": false
   },
   "outputs": [
    {
     "data": {
      "text/plain": [
       "'os'"
      ]
     },
     "execution_count": 75,
     "metadata": {},
     "output_type": "execute_result"
    }
   ],
   "source": [
    "import os\n",
    "os.__name__"
   ]
  },
  {
   "cell_type": "code",
   "execution_count": 76,
   "metadata": {
    "collapsed": false
   },
   "outputs": [
    {
     "data": {
      "text/plain": [
       "'os'"
      ]
     },
     "execution_count": 76,
     "metadata": {},
     "output_type": "execute_result"
    }
   ],
   "source": [
    "import os as something\n",
    "something.__name__"
   ]
  },
  {
   "cell_type": "markdown",
   "metadata": {},
   "source": [
    "So, `__name__` is a special attribute of a module, including the *global environment,* that identifies it. When we execute code in a Python session, rather than as part of a module, it gets the special name `'__main__'`."
   ]
  },
  {
   "cell_type": "markdown",
   "metadata": {},
   "source": [
    "## Alternative Command-Line Tools"
   ]
  },
  {
   "cell_type": "markdown",
   "metadata": {},
   "source": [
    "`sys.argv` is a rather crude tool for processing command-line arguments. There are a couple of alternatives I suggest you look into if you are going to be writing command-line programs in Python:\n",
    "\n",
    "- `argparse`, another built-in library, that handles common cases in a systematic way. Check out [this tutorial](http://docs.python.org/dev/howto/argparse.html).\n",
    "- `Fire`, [a very new Python module from Google](https://opensource.googleblog.com/2017/03/python-fire-command-line.html), which can turn any Python object (function, class, etc.) into a command-line API."
   ]
  },
  {
   "cell_type": "markdown",
   "metadata": {},
   "source": [
    "### Optional: Try out Python Fire"
   ]
  },
  {
   "cell_type": "markdown",
   "metadata": {},
   "source": [
    "[Installation instructions and source code here.](https://github.com/google/python-fire)"
   ]
  },
  {
   "cell_type": "markdown",
   "metadata": {},
   "source": [
    "## Modularization"
   ]
  },
  {
   "cell_type": "markdown",
   "metadata": {},
   "source": [
    "As I indicated earlier, any Python script can be imported like a module. You may have noticed that, as some Python libraries get very large, it's helpful to have *submodules.* For instance, we've seen:\n",
    "\n",
    "```py\n",
    "import matplotlib.pyplot as pyplot\n",
    "import statsmodels.api as sm\n",
    "```\n",
    "\n",
    "At some point you may want to organize all of your related Python code as a module, but you may still want to keep separate Python scripts. A good model for organizing your code is:\n",
    "\n",
    "```\n",
    "package_name/\n",
    "    __init__.py\n",
    "    module1.py\n",
    "    subpackage/\n",
    "        __init__.py\n",
    "        module2.py\n",
    "```\n",
    "\n",
    "Which could be used as:\n",
    "\n",
    "```py\n",
    "import package_name.module1\n",
    "from package_name.module1 import some_function\n",
    "from package_name.subpackage import module2\n",
    "from package_name.subpackage.module2 import another_function\n",
    "```"
   ]
  },
  {
   "cell_type": "markdown",
   "metadata": {},
   "source": [
    "In these examples, a text file titled `__init__.py` is *required* in each directory. This file, which could be blank, indicates to the Python intepreter that the directory containing it should be considered as a Python module."
   ]
  },
  {
   "cell_type": "markdown",
   "metadata": {},
   "source": [
    "### Installing Your Project as a Module"
   ]
  },
  {
   "cell_type": "markdown",
   "metadata": {},
   "source": [
    "We haven't covered installing new Python modules, but when the time is right for you to package your code together as a single module (e.g., as `package_name`, in the example above), [consider installing your module \"in development mode\" first.](https://packaging.python.org/tutorials/distributing-packages/#working-in-development-mode)"
   ]
  },
  {
   "cell_type": "markdown",
   "metadata": {},
   "source": [
    "## Unit Testing"
   ]
  },
  {
   "cell_type": "markdown",
   "metadata": {},
   "source": [
    "**A good test is one that verifies that a *small* and *specific* part of your code is working.** If a test is written too generally, then we don't actually know went wrong when the test fails. In general, when we test a specific part of a larger code base, we are *unit testing.*\n",
    "\n",
    "Python has a built-in unit testing module. Let's try it out.\n",
    "\n",
    "```py\n",
    "import unittest\n",
    "\n",
    "class Main(unittest.TestCase):\n",
    "    \n",
    "    def test_range_overlap_with_disjoint_ranges(self):\n",
    "        'Should return None for ranges that do not intersect'\n",
    "        self.assertEqual(range_overlap([ (0.0, 1.0), (5.0, 6.0) ]), None)\n",
    "        self.assertEqual(range_overlap([ (0.0, 1.0), (1.0, 2.0) ]), None)\n",
    "        \n",
    "    def test_range_overlap_with_single_range(self):\n",
    "        'Should return same input when single range is provided'\n",
    "        self.assertEqual(range_overlap([ (0.0, 1.0) ]), (0.0, 1.0))\n",
    "        \n",
    "        \n",
    "if __name___ == '__main__':\n",
    "    unittest.main()\n",
    "```"
   ]
  },
  {
   "cell_type": "markdown",
   "metadata": {},
   "source": [
    "# Analyzing and Optimizing Performance"
   ]
  },
  {
   "cell_type": "markdown",
   "metadata": {},
   "source": [
    "This workshop on Python has largely been framed as offering a way to improve your productivity. If we are able to get the same job done faster by using Python and other computational tools to automate our workflow, we're definitely going to get the job done faster. But how does Python software typically compare to software written in other languages? How can we measure the performance of a Python program and think critically about its effects on our productivity?\n",
    "\n",
    "Whenever we think about a new programming task and how to implement it, there are choices to be made, first and foremost as to which programming language to use. **We talked about *compiled* languages like C, C++, and Java earlier.** A software program written in a compiled language will almost always take less time to complete the same task than a program written in an interpreted language, like Python. There are several reasons for this, most beyond the scope of this discussion.\n",
    "\n",
    "Importantly, however, we have to consider the differences between languages like C, C++, or Java and a language like Python. While compiled programs, once written, run faster, they take longer to write than a program in Python because Python offers higher-level tools and constructs for getting work done, automatically handling things like file input/ output, memory management, and data types. **Thus, it will almost always take you, the programmer, less time to create the equivalent program in Python than in other languages.** The time it takes to write has to be considered as part of the total \"running time\" of any task you're considering.\n",
    "\n",
    "The time it takes to *re-write* any code should also be considered *before* attempting to change a program to make it run faster."
   ]
  },
  {
   "cell_type": "markdown",
   "metadata": {},
   "source": [
    "> \"Premature optimization is the root of all evil.\" - Sir Tony Hoare (later popularized by Donald Knuth)"
   ]
  },
  {
   "cell_type": "markdown",
   "metadata": {},
   "source": [
    "## Benchmarking"
   ]
  },
  {
   "cell_type": "markdown",
   "metadata": {},
   "source": [
    "A software program can be *benchmarked* in many ways: the time it takes to finish a task, the average framerate during a video game's animation, or the total amount of memory required.\n"
   ]
  },
  {
   "cell_type": "markdown",
   "metadata": {},
   "source": [
    "**An easy way to benchmark a Python program's *runtime,* is to use the Unix program `time`.**\n",
    "\n",
    "```sh\n",
    "$ time python3 myscript.py\n",
    "```\n",
    "\n",
    "The specific meaning of the three measurements provided are:\n",
    "\n",
    "- \"Real\" time is the actual time elapsed, from start to finish.\n",
    "- \"User\" time is the amount of **CPU time** spent outside of the kernel, during the Python process. This might include time Python spent doing other things, like garbage collection.\n",
    "- \"Sys\" time is the amount of **CPU time** spent inside the kernel. Since there are certain things that the Python process is not allowed to do, but might be required to complete the task, like allocating more memory."
   ]
  },
  {
   "cell_type": "markdown",
   "metadata": {},
   "source": [
    "\"Real\" time might be long just because there are other programs running on your system and the Python process had to wait. If you add the \"sys\" and \"user\" times together, this gives you the amount of time your CPU(s) spent running that process regardless of other programs running. Also, if their sum is much less than the \"real\" time, it is likely that most of the program's performance issues are related to input-ouput ([according to Huy Nguyen](https://www.huyng.com/posts/python-performance-analysis))."
   ]
  },
  {
   "cell_type": "markdown",
   "metadata": {},
   "source": [
    "**Another easy benchmark for small bits of Python code is provided through Python's `timeit` module.**\n",
    "\n",
    "```sh\n",
    "$ python3 -m timeit -n 10000 -r 3 \"[str(n) for n in range(100)]\"\n",
    "10000 loops, best of 3: 15.7 usec per loop\n",
    "\n",
    "$ python3 -m timeit -n 10000 -r 3 \"map(str, range(100))\"\n",
    "10000 loops, best of 3: 0.587 usec per loop\n",
    "```\n",
    "\n",
    "Here, the options:\n",
    "\n",
    "- `-n` indicates the number of times the statement should be executed; an average of all runtimes is taken.\n",
    "- `-r` indicates the number of times the suite should be repeated; for 3 times (the default), the statement is run (3 x N) times total, and the best mean time in each of the 3 suites is reported.\n",
    "\n",
    "If you need to run some setup code that you don't want counted against the time, such as importing a module, you can use the `-s` option."
   ]
  },
  {
   "cell_type": "markdown",
   "metadata": {},
   "source": [
    "## Line and Memory Profiling"
   ]
  },
  {
   "cell_type": "markdown",
   "metadata": {},
   "source": [
    "Line and memory profilers aren't available in the Anaconda installation I had you use, [but you can read all about this topic on this excellent blog post.](https://www.huyng.com/posts/python-performance-analysis)"
   ]
  },
  {
   "cell_type": "markdown",
   "metadata": {},
   "source": [
    "# Connecting to SQLite with Python"
   ]
  },
  {
   "cell_type": "markdown",
   "metadata": {},
   "source": [
    "As we've seen, SQL and databases together allow us to store and analyze our tabular data. Yet SQL has limited analytical tools and no visualization features.\n",
    "\n",
    "How can we take advantage of the consistency and the security that our database offers without sacrificing the advanced data analysis and visualization tools available in a language in Python?\n",
    "\n",
    "Here, we'll see how to connect to a relational database in Python. Ultimately, this gives us the option to store and maintain our data in a relational database but to perform analysis on it in Python in whole or in part.\n",
    "\n",
    "**First, we need to import the `sqlite3` module into Python.** This module tells Python how to talk to a SQLite database and interpret its responses."
   ]
  },
  {
   "cell_type": "code",
   "execution_count": 5,
   "metadata": {
    "collapsed": true
   },
   "outputs": [],
   "source": [
    "import sqlite3"
   ]
  },
  {
   "cell_type": "markdown",
   "metadata": {},
   "source": [
    "Next, we create a connection to the database. Because our SQLite database is simply a file, we provide the file path as the argument to the `connect()` function."
   ]
  },
  {
   "cell_type": "code",
   "execution_count": 18,
   "metadata": {
    "collapsed": true
   },
   "outputs": [],
   "source": [
    "connection = sqlite3.connect('/usr/local/dev/swc-workshop/sql-intro-ecology/survey.sqlite')"
   ]
  },
  {
   "cell_type": "markdown",
   "metadata": {},
   "source": [
    "We create a `cursor` object. Just like the cursor in an editor, its role is to keep track of where we are in the database."
   ]
  },
  {
   "cell_type": "code",
   "execution_count": 19,
   "metadata": {
    "collapsed": true
   },
   "outputs": [],
   "source": [
    "cursor = connection.cursor()"
   ]
  },
  {
   "cell_type": "markdown",
   "metadata": {},
   "source": [
    "We use the cursor to send commands to the database manager, SQLite. In this example, we select all the rows and columns in the `species` table."
   ]
  },
  {
   "cell_type": "code",
   "execution_count": 29,
   "metadata": {
    "collapsed": false
   },
   "outputs": [
    {
     "data": {
      "text/plain": [
       "<sqlite3.Cursor at 0x7f1850089a40>"
      ]
     },
     "execution_count": 29,
     "metadata": {},
     "output_type": "execute_result"
    }
   ],
   "source": [
    "cursor.execute('SELECT * FROM species;')"
   ]
  },
  {
   "cell_type": "markdown",
   "metadata": {},
   "source": [
    "We get output from this function call, but we don't really care about it. The data that we want can actually be retrieved by the `fetchall()` method of the cursor."
   ]
  },
  {
   "cell_type": "code",
   "execution_count": 30,
   "metadata": {
    "collapsed": false
   },
   "outputs": [],
   "source": [
    "results = cursor.fetchall()"
   ]
  },
  {
   "cell_type": "markdown",
   "metadata": {},
   "source": [
    "**What's contained in results?** What type of data structure is it?"
   ]
  },
  {
   "cell_type": "code",
   "execution_count": 32,
   "metadata": {
    "collapsed": false
   },
   "outputs": [
    {
     "data": {
      "text/plain": [
       "list"
      ]
     },
     "execution_count": 32,
     "metadata": {},
     "output_type": "execute_result"
    }
   ],
   "source": [
    "type(results)"
   ]
  },
  {
   "cell_type": "markdown",
   "metadata": {},
   "source": [
    "**What is one way we could access each row at a time?**"
   ]
  },
  {
   "cell_type": "code",
   "execution_count": null,
   "metadata": {
    "collapsed": false
   },
   "outputs": [],
   "source": [
    "for row in results:\n",
    "    print(row)"
   ]
  },
  {
   "cell_type": "markdown",
   "metadata": {},
   "source": [
    "**Note:** If you don't see any output, there is probably something wrong with the file path you specified in `sqlite3.connect()`. The SQLite API is finicky. Try providing a fully qualified path, i.e.:\n",
    "\n",
    "- On Windows, a path that starts with `C:\\` or another drive letter;\n",
    "- On Mac OSX or GNU/Linux, a path that starts with a forward slash, `/`; on Mac OSX, it probably starts like `/Users/username/Desktop/`."
   ]
  },
  {
   "cell_type": "markdown",
   "metadata": {},
   "source": [
    "**Importantly, once we have retrieved the data that we want from the database, we should remember to close both the cursor and the connection objects.**"
   ]
  },
  {
   "cell_type": "code",
   "execution_count": 34,
   "metadata": {
    "collapsed": true
   },
   "outputs": [],
   "source": [
    "cursor.close()\n",
    "connection.close()"
   ]
  },
  {
   "cell_type": "markdown",
   "metadata": {},
   "source": [
    "## Best Practices with Database Connections"
   ]
  },
  {
   "cell_type": "markdown",
   "metadata": {},
   "source": [
    "Database connection APIs tend to be a little buggy. My advise is not to use them for submitting complex SQL queries to your database. Instead, if you want to do anything other than read an existing table as-is, you should create a View or a new Table that represents the data the way you want them for analysis. Then, connect to this table (or view) and retrieve the data.\n",
    "\n",
    "Some database APIs won't connect to views, only tables.\n",
    "\n",
    "In addition, if you're using Python as part of an application that's accessible on the web, you want to be careful when connecting to a database that contains sensitive or important information. It's possible for bad actors to slip in some malicious SQL commands to your database manager through your Python connection to the database. There are a number of robust database APIs available in Python that protect against this but they are all much more complicated than the simple API we've seen here. This is because submitting queries as raw strings to a database, as we've done here, is the main vulnerability for databases connected to the web.\n",
    "\n",
    "If you're interested in connecting your database to the web, or even if you're interested in web development in Python and you don't have a database, I would recommend you [check out Django](https://www.djangoproject.com/)."
   ]
  }
 ],
 "metadata": {
  "kernelspec": {
   "display_name": "py3",
   "language": "python",
   "name": "py3"
  },
  "language_info": {
   "codemirror_mode": {
    "name": "ipython",
    "version": 3
   },
   "file_extension": ".py",
   "mimetype": "text/x-python",
   "name": "python",
   "nbconvert_exporter": "python",
   "pygments_lexer": "ipython3",
   "version": "3.5.2"
  }
 },
 "nbformat": 4,
 "nbformat_minor": 0
}
