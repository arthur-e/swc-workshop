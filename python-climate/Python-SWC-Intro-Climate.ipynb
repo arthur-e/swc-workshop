{
 "cells": [
  {
   "cell_type": "markdown",
   "metadata": {},
   "source": [
    "# Overview"
   ]
  },
  {
   "cell_type": "markdown",
   "metadata": {},
   "source": [
    "This lesson introduces Python as an environment for reproducible scientific data analysis and programming. The materials are based on the Software Carpentry [Programming with Python lesson](http://swcarpentry.github.io/python-novice-inflammation/).\n",
    "\n",
    "**At the end of this lesson, you will be able to:**\n",
    "\n",
    "- Read and write basic Python code;\n",
    "- Import and export tabular data with Python;\n",
    "- Subset and filter tabular data;\n",
    "- Understand different data types and data formats;\n",
    "- Understand pandas Data Frames and how they help organize tabular data;\n",
    "- Devise and intepret data processing workflows;\n",
    "- Automate your data cleaning and analysis with Python;\n",
    "- Visualize your data using matplotlib and pandas;\n",
    "- Connect to a SQLite database using Python.\n",
    "\n",
    "This lesson will introduce Python as a *general purpose programming language.* Python is a great programming language to use for a wide variety of applications, including:\n",
    "\n",
    "- Natural language processing or text analysis;\n",
    "- Web development and web publishing;\n",
    "- Web scraping or other unstructured data mining;\n",
    "- Image processing;\n",
    "- Spatial data analysis;\n",
    "- (And many others.)"
   ]
  },
  {
   "cell_type": "markdown",
   "metadata": {},
   "source": [
    "## License"
   ]
  },
  {
   "cell_type": "markdown",
   "metadata": {},
   "source": [
    "As with [the Software Carpentry lesson](http://swcarpentry.github.io/python-novice-inflammation/license/), this lesson is licensed for open use under the [CC BY 4.0 license](https://creativecommons.org/licenses/by/4.0/)."
   ]
  },
  {
   "cell_type": "markdown",
   "metadata": {},
   "source": [
    "# Introduction to Python"
   ]
  },
  {
   "cell_type": "markdown",
   "metadata": {},
   "source": [
    "Python is a general purpose programming language that allows for the rapid development of scientific workflows. Python's main advantages are:\n",
    "\n",
    "- It is open-source software, supported by the [Python Software Foundation](https://www.python.org/psf/);\n",
    "- It is available on all platforms, including Windows, Mac OS X, and GNU/Linux;\n",
    "- It can be used to program any kind of task (it is a *general purpose* language);\n",
    "- It supports multiple *programming paradigms* (a fancy term computer scientists use to describe the different ways people like to design software);\n",
    "- **Most importantly, it has a large and diverse community of users who share Python code they've already written to do a wide variety of things.**"
   ]
  },
  {
   "cell_type": "markdown",
   "metadata": {},
   "source": [
    "## The Python Interpreter"
   ]
  },
  {
   "cell_type": "markdown",
   "metadata": {},
   "source": [
    "The only language that computers really understand is machine language, or binary: ones and zeros. Anything we tell computers to do has to be translated to binary for computers to execute.\n",
    "\n",
    "Python is what we call an *interpreted language.* This means that computers can translate Python to machine code as they are reading it. This distinguishes Python from languages like C, C++, or Java, which have to be *compiled* to machine code *before* they are run. The details aren't important to us; **what is important is that we can use Python in two ways:**\n",
    "\n",
    "- We can use the Python interpreter in **interactive mode;**\n",
    "- Or, we can use execute Python code that is stored in a text file, called a script."
   ]
  },
  {
   "cell_type": "markdown",
   "metadata": {},
   "source": [
    "### Jupyter Notebook"
   ]
  },
  {
   "cell_type": "markdown",
   "metadata": {},
   "source": [
    "For this lesson, we'll be using the Python interpreter that is embedded in Jupyter Notebook. Jupyter Notebook is a fancy, browser-based environment for **literate programming,** the combination of Python scripts with rich text for telling a story about the task you set out to do with Python. This is a powerful way for collecting the code, the analysis, the context, and the results in a single place.\n",
    "\n",
    "The Python interpreter we'll interact with in Jupyter Notebook is the same interpreter we could use from the command line. To launch Jupyter Notebook:\n",
    "\n",
    "- In GNU/Linux or Mac OS X, launch the Terminal and type: `jupyter notebook`; then press ENTER.\n",
    "- In Windows, launch the Command Prompt and type `jupyter notebook`; then press ENTER."
   ]
  },
  {
   "cell_type": "markdown",
   "metadata": {},
   "source": [
    "Let's try out the Python interpreter."
   ]
  },
  {
   "cell_type": "code",
   "execution_count": 1,
   "metadata": {
    "collapsed": false
   },
   "outputs": [
    {
     "name": "stdout",
     "output_type": "stream",
     "text": [
      "Hello, world!\n"
     ]
    }
   ],
   "source": [
    "print('Hello, world!')"
   ]
  },
  {
   "cell_type": "markdown",
   "metadata": {},
   "source": [
    "Alternatively, we could save that one line of Python code to a text file with a `*.py` extension and then execute that file. We'll see that towards the end of this lesson."
   ]
  },
  {
   "cell_type": "markdown",
   "metadata": {},
   "source": [
    "## First Steps with Python"
   ]
  },
  {
   "cell_type": "markdown",
   "metadata": {},
   "source": [
    "In *interactive mode,* the Python interpreter does three things for us, in order:\n",
    "\n",
    "1. Reads our input;\n",
    "2. Evaluates or executes the input command, if it can;\n",
    "3. Prints the output for us to see, then waits for the next input.\n",
    "\n",
    "This is called a **read, evaluate, print loop (REPL).** Let's try it out."
   ]
  },
  {
   "cell_type": "code",
   "execution_count": 7,
   "metadata": {
    "collapsed": false
   },
   "outputs": [
    {
     "data": {
      "text/plain": [
       "55"
      ]
     },
     "execution_count": 7,
     "metadata": {},
     "output_type": "execute_result"
    }
   ],
   "source": [
    "5 * 11"
   ]
  },
  {
   "cell_type": "markdown",
   "metadata": {},
   "source": [
    "We can use Python as a fancy calculator, like any programming language.\n",
    "\n",
    "When we perform calculations with Python, or run any Python statement that produces output, if we don't explicitly save that output somewhere, then we can't access it again. Python prints the output to the screen, but it doesn't keep a record of the output.\n",
    "\n",
    "**In order to save the output of an arbitrary Python statement, we have to assign that output to a variable. We do this using the equal sign operator:**"
   ]
  },
  {
   "cell_type": "code",
   "execution_count": 15,
   "metadata": {
    "collapsed": true
   },
   "outputs": [],
   "source": [
    "weight_kg = 5 * 11"
   ]
  },
  {
   "cell_type": "markdown",
   "metadata": {},
   "source": [
    "Notice there is no output associated with running this command. That's because the output we saw earlier has instead been saved to the *variable* named `number`.\n",
    "\n",
    "If we want to retrieve this output, we can ask Python for the value associated with the variable named `number`."
   ]
  },
  {
   "cell_type": "code",
   "execution_count": 16,
   "metadata": {
    "collapsed": false
   },
   "outputs": [
    {
     "data": {
      "text/plain": [
       "55"
      ]
     },
     "execution_count": 16,
     "metadata": {},
     "output_type": "execute_result"
    }
   ],
   "source": [
    "weight_kg"
   ]
  },
  {
   "cell_type": "markdown",
   "metadata": {},
   "source": [
    "As we saw earlier, we can also use the **function** `print()` to explicitly print the value to the screen."
   ]
  },
  {
   "cell_type": "code",
   "execution_count": 17,
   "metadata": {
    "collapsed": false
   },
   "outputs": [
    {
     "name": "stdout",
     "output_type": "stream",
     "text": [
      "Weight in pounds: 121.00000000000001\n"
     ]
    }
   ],
   "source": [
    "print('Weight in pounds:', 2.2 * weight_kg)"
   ]
  },
  {
   "cell_type": "markdown",
   "metadata": {},
   "source": [
    "A function like `print()` can take multiple **arguments,** or inputs to the function. In the example above, we've provided two arguments; two different things to print to the screen in a sequence.\n",
    "\n",
    "We can also change a variable's assigned value."
   ]
  },
  {
   "cell_type": "code",
   "execution_count": 20,
   "metadata": {
    "collapsed": false
   },
   "outputs": [
    {
     "name": "stdout",
     "output_type": "stream",
     "text": [
      "Weight in pounds: 126.50000000000001\n"
     ]
    }
   ],
   "source": [
    "weight_kg = 57.5\n",
    "print('Weight in pounds:', 2.2 * weight_kg)"
   ]
  },
  {
   "cell_type": "markdown",
   "metadata": {},
   "source": [
    "**If we imagine the variable as a sticky note with a name written on it, assignment is like putting the sticky note on a particular value.**\n",
    "\n",
    "This means that assigning a value to one variable does *not* change the values of other variables. For example:"
   ]
  },
  {
   "cell_type": "code",
   "execution_count": 21,
   "metadata": {
    "collapsed": false
   },
   "outputs": [
    {
     "data": {
      "text/plain": [
       "126.50000000000001"
      ]
     },
     "execution_count": 21,
     "metadata": {},
     "output_type": "execute_result"
    }
   ],
   "source": [
    "weight_lb = 2.2 * weight_kg\n",
    "weight_lb"
   ]
  },
  {
   "cell_type": "code",
   "execution_count": 22,
   "metadata": {
    "collapsed": false
   },
   "outputs": [
    {
     "data": {
      "text/plain": [
       "126.50000000000001"
      ]
     },
     "execution_count": 22,
     "metadata": {},
     "output_type": "execute_result"
    }
   ],
   "source": [
    "weight_kg = 100.0\n",
    "weight_lb"
   ]
  },
  {
   "cell_type": "markdown",
   "metadata": {},
   "source": [
    "Since `weight_lb` doesn't depend on where its initial value came from, it isn't automatically updated when `weight_kg` changes. This is different from how, say, spreadsheets work."
   ]
  },
  {
   "cell_type": "markdown",
   "metadata": {},
   "source": [
    "## Importing Libraries"
   ]
  },
  {
   "cell_type": "markdown",
   "metadata": {},
   "source": [
    "What are some tasks you're hoping to complete with Python? Alternatively, what kinds of things have you done in other programming languages?\n",
    "\n",
    "**When you're thinking of starting a new computer-aided analysis or building a new software tool, there's always the possibility that someone else has created just the piece of software you need to get your job done faster.** Because Python is a popular, general-purpose, and open-source programming language with a long history, there's a wealth of completed software tools out there written in the Python for you to use. Each of these software *libraries* extends the basic functionality of Python to let you do new and better things.\n",
    "\n",
    "**The Python Package Index (PyPI),** is the place to start when you're looking for a piece of Python software to use. We'll talk about that later.\n",
    "\n",
    "For now, we'll load a Python package that is already available on our systems. **NumPy** is a numerical computing library that allows us to both represent sophisticated data structures and perform calculations on them."
   ]
  },
  {
   "cell_type": "code",
   "execution_count": 23,
   "metadata": {
    "collapsed": true
   },
   "outputs": [],
   "source": [
    "import numpy"
   ]
  },
  {
   "cell_type": "markdown",
   "metadata": {},
   "source": [
    "Now that we've imported `numpy`, we have access to new tools and functions that we didn't have before. For instance, we can use `numpy` to read in tabular data for us to work with."
   ]
  },
  {
   "cell_type": "code",
   "execution_count": 26,
   "metadata": {
    "collapsed": false
   },
   "outputs": [
    {
     "data": {
      "text/plain": [
       "array([[ 245.66  ,  247.52  ,  245.28  ,  256.32  ,  262.9   ,  272.46  ,\n",
       "         278.06  ,  275.51  ,  269.34  ,  261.68  ,  251.35  ,  242.52  ],\n",
       "       [ 248.12  ,  242.64  ,  252.04  ,  248.61  ,  262.84  ,  271.93  ,\n",
       "         277.45  ,  278.92  ,  274.4   ,  266.77  ,  258.69  ,  248.2   ],\n",
       "       [ 252.3   ,  240.39  ,  248.66  ,  255.41  ,  265.84  ,  274.64  ,\n",
       "         278.87  ,  278.26  ,  273.36  ,  265.77  ,  261.22  ,  248.8   ],\n",
       "       [ 239.52  ,  242.16  ,  243.65  ,  256.21  ,  266.    ,  274.64  ,\n",
       "         279.66  ,  279.17  ,  273.23  ,  264.89  ,  260.47  ,  249.39  ],\n",
       "       [ 244.95  ,  241.02  ,  244.75  ,  251.51  ,  262.25  ,  272.85  ,\n",
       "         278.78  ,  277.02  ,  270.84  ,  264.87  ,  259.14  ,  248.89  ],\n",
       "       [ 244.04  ,  242.96  ,  245.17  ,  255.92  ,  265.94  ,  275.58  ,\n",
       "         277.5   ,  275.5   ,  272.59  ,  261.36  ,  254.54  ,  245.16  ],\n",
       "       [ 245.15  ,  241.35  ,  249.29  ,  255.02  ,  264.12  ,  273.83  ,\n",
       "         277.92  ,  279.6   ,  273.92  ,  266.54  ,  256.88  ,  244.83  ],\n",
       "       [ 248.89  ,  240.27  ,  245.6   ,  253.41  ,  264.44  ,  272.96  ,\n",
       "         277.09  ,  274.26  ,  271.2   ,  260.74  ,  248.42  ,  246.11  ],\n",
       "       [ 244.43  ,  240.49  ,  246.82  ,  255.39  ,  266.63  ,  272.9   ,\n",
       "         277.25  ,  274.2   ,  272.48  ,  260.43  ,  249.28  ,  246.57  ],\n",
       "       [ 252.79  ,  242.63  ,  247.48  ,  258.35  ,  266.03  ,  274.71  ,\n",
       "         277.16  ,  278.55  ,  271.8   ,  265.78  ,  255.21  ,  243.86  ],\n",
       "       [ 247.12  ,  245.83  ,  249.23  ,  255.7   ,  265.03  ,  274.97  ,\n",
       "         277.51  ,  278.35  ,  273.96  ,  263.44  ,  255.64  ,  250.09  ],\n",
       "       [ 245.59  ,  250.75  ,  240.12  ,  253.26  ,  265.89  ,  274.27  ,\n",
       "         275.25  ,  275.97  ,  271.94  ,  263.74  ,  253.62  ,  243.95  ],\n",
       "       [ 244.29  ,  249.98  ,  248.36  ,  252.28  ,  267.14  ,  273.45  ,\n",
       "         276.63  ,  275.15  ,  269.89  ,  262.72  ,  251.06  ,  252.82  ],\n",
       "       [ 250.32  ,  241.28  ,  243.16  ,  251.37  ,  267.16  ,  274.29  ,\n",
       "         276.54  ,  275.49  ,  273.54  ,  262.95  ,  254.61  ,  244.49  ],\n",
       "       [ 252.23  ,  251.42  ,  247.37  ,  254.33  ,  264.13  ,  274.27  ,\n",
       "         277.91  ,  278.39  ,  271.66  ,  265.05  ,  256.49  ,  250.37  ],\n",
       "       [ 251.01  ,  246.49  ,  244.48  ,  256.79  ,  268.48  ,  273.48  ,\n",
       "         276.17  ,  275.96  ,  272.35  ,  262.42  ,  251.49  ,  253.72  ],\n",
       "       [ 244.77  ,  241.01  ,  242.21  ,  250.23  ,  264.22  ,  273.3   ,\n",
       "         276.61  ,  275.63  ,  271.4   ,  263.85  ,  254.92  ,  242.63  ],\n",
       "       [ 244.62  ,  240.12  ,  251.65  ,  256.26  ,  264.17  ,  272.55  ,\n",
       "         276.38  ,  275.97  ,  272.35  ,  260.26  ,  260.46  ,  247.79  ],\n",
       "       [ 245.2   ,  243.45  ,  242.63  ,  252.33  ,  264.26  ,  274.66  ,\n",
       "         276.67  ,  275.17  ,  273.01  ,  264.47  ,  257.25  ,  248.04  ],\n",
       "       [ 248.1   ,  245.61  ,  249.87  ,  257.78  ,  266.9   ,  274.25  ,\n",
       "         276.39  ,  275.76  ,  270.87  ,  262.69  ,  254.8   ,  250.74  ],\n",
       "       [ 249.26  ,  242.05  ,  248.97  ,  252.76  ,  266.36  ,  273.65  ,\n",
       "         278.7   ,  278.02  ,  272.49  ,  263.92  ,  253.8   ,  247.5   ],\n",
       "       [ 246.89  ,  244.36  ,  248.17  ,  256.93  ,  267.02  ,  274.51  ,\n",
       "         275.29  ,  273.09  ,  272.59  ,  265.6   ,  250.46  ,  252.78  ],\n",
       "       [ 246.45  ,  247.03  ,  246.63  ,  254.01  ,  265.85  ,  273.49  ,\n",
       "         276.41  ,  275.41  ,  269.49  ,  257.23  ,  254.26  ,  248.5   ],\n",
       "       [ 242.13  ,  240.63  ,  243.75  ,  252.48  ,  264.86  ,  275.15  ,\n",
       "         277.7   ,  274.59  ,  272.5   ,  262.79  ,  254.22  ,  248.6   ],\n",
       "       [ 245.1   ,  243.38  ,  242.77  ,  251.69  ,  265.32  ,  273.57  ,\n",
       "         278.84  ,  277.91  ,  271.99  ,  265.99  ,  255.61  ,  252.15  ],\n",
       "       [ 246.13  ,  247.34  ,  243.83  ,  254.08  ,  266.04  ,  273.8   ,\n",
       "         276.94  ,  276.58  ,  273.79  ,  264.65  ,  256.48  ,  251.51  ],\n",
       "       [ 247.74  ,  239.06  ,  244.38  ,  252.04  ,  265.73  ,  272.47  ,\n",
       "         276.98  ,  278.23  ,  273.87  ,  259.68  ,  251.41  ,  241.78  ],\n",
       "       [ 241.6   ,  246.71  ,  249.93  ,  252.84  ,  266.02  ,  273.88  ,\n",
       "         276.78  ,  275.41  ,  269.8   ,  259.93  ,  249.18  ,  243.94  ],\n",
       "       [ 245.59  ,  241.88  ,  246.59  ,  254.65  ,  265.36  ,  274.01  ,\n",
       "         276.99  ,  277.17  ,  273.7   ,  263.14  ,  257.85  ,  246.84  ],\n",
       "       [ 252.33  ,  248.12  ,  242.86  ,  252.26  ,  266.26  ,  274.62  ,\n",
       "         277.51  ,  279.74  ,  274.49  ,  265.64  ,  251.91  ,  249.33  ],\n",
       "       [ 252.5   ,  247.59  ,  248.82  ,  255.9   ,  265.09  ,  273.42  ,\n",
       "         277.74  ,  276.34  ,  274.01  ,  260.2   ,  258.06  ,  248.86  ],\n",
       "       [ 252.85  ,  242.06  ,  246.28  ,  254.76  ,  266.71  ,  273.58  ,\n",
       "         278.7   ,  279.6801,  274.62  ,  266.07  ,  260.85  ,  246.9   ],\n",
       "       [ 246.82  ,  250.27  ,  248.81  ,  253.95  ,  265.82  ,  275.47  ,\n",
       "         276.13  ,  274.99  ,  269.79  ,  264.34  ,  254.28  ,  245.07  ],\n",
       "       [ 255.14  ,  245.79  ,  248.75  ,  255.22  ,  268.94  ,  275.16  ,\n",
       "         278.04  ,  275.07  ,  270.55  ,  264.25  ,  254.67  ,  249.39  ],\n",
       "       [ 247.41  ,  250.2   ,  247.26  ,  253.82  ,  264.28  ,  274.26  ,\n",
       "         277.22  ,  276.23  ,  271.89  ,  259.64  ,  249.28  ,  248.69  ],\n",
       "       [ 243.    ,  245.26  ,  245.31  ,  254.97  ,  263.21  ,  273.89  ,\n",
       "         276.75  ,  275.42  ,  269.6   ,  258.88  ,  255.23  ,  253.84  ],\n",
       "       [ 245.9   ,  235.7   ,  244.44  ,  247.95  ,  263.35  ,  274.92  ,\n",
       "         277.67  ,  276.39  ,  273.82  ,  264.31  ,  249.53  ,  246.02  ],\n",
       "       [ 250.66  ,  244.58  ,  246.8   ,  248.61  ,  266.59  ,  274.56  ,\n",
       "         277.25  ,  276.27  ,  271.35  ,  260.75  ,  257.02  ,  251.27  ],\n",
       "       [ 245.47  ,  251.1   ,  244.93  ,  250.6   ,  265.36  ,  274.82  ,\n",
       "         279.27  ,  277.23  ,  275.31  ,  263.35  ,  254.18  ,  250.93  ],\n",
       "       [ 248.06  ,  245.35  ,  247.77  ,  250.9   ,  266.2   ,  274.56  ,\n",
       "         277.7   ,  277.75  ,  271.32  ,  267.57  ,  252.11  ,  249.45  ],\n",
       "       [ 249.63  ,  246.68  ,  247.49  ,  255.31  ,  265.54  ,  274.02  ,\n",
       "         277.73  ,  275.84  ,  271.62  ,  258.34  ,  248.56  ,  250.82  ],\n",
       "       [ 241.62  ,  257.48  ,  247.96  ,  258.22  ,  265.39  ,  275.42  ,\n",
       "         280.11  ,  280.18  ,  274.69  ,  264.81  ,  248.74  ,  250.75  ],\n",
       "       [ 243.12  ,  240.    ,  249.57  ,  259.39  ,  269.73  ,  276.15  ,\n",
       "         279.17  ,  276.97  ,  272.72  ,  264.47  ,  251.15  ,  246.73  ],\n",
       "       [ 247.28  ,  243.6   ,  245.3   ,  256.1   ,  269.67  ,  276.63  ,\n",
       "         277.5   ,  276.15  ,  272.6   ,  264.51  ,  250.08  ,  244.12  ],\n",
       "       [ 244.31  ,  245.26  ,  251.27  ,  258.2   ,  269.23  ,  277.28  ,\n",
       "         278.09  ,  274.28  ,  268.89  ,  259.18  ,  253.01  ,  249.2   ],\n",
       "       [ 248.05  ,  248.52  ,  248.25  ,  257.31  ,  266.78  ,  276.48  ,\n",
       "         281.76  ,  276.78  ,  272.97  ,  268.03  ,  257.33  ,  249.91  ],\n",
       "       [ 248.14  ,  248.22  ,  244.39  ,  258.36  ,  269.12  ,  276.29  ,\n",
       "         279.18  ,  276.61  ,  271.37  ,  257.02  ,  249.25  ,  246.96  ],\n",
       "       [ 247.81  ,  246.38  ,  245.45  ,  258.4   ,  269.41  ,  276.27  ,\n",
       "         279.36  ,  277.    ,  275.55  ,  262.83  ,  253.32  ,  248.82  ],\n",
       "       [ 248.38  ,  245.65  ,  251.99  ,  254.02  ,  271.74  ,  277.23  ,\n",
       "         277.65  ,  273.45  ,  271.1   ,  257.76  ,  256.4   ,  251.3   ],\n",
       "       [ 244.91  ,  247.23  ,  246.02  ,  256.88  ,  266.29  ,  276.01  ,\n",
       "         279.16  ,  279.34  ,  275.07  ,  264.47  ,  260.06  ,  247.69  ],\n",
       "       [ 245.19  ,  245.54  ,  253.27  ,  261.44  ,  268.26  ,  276.95  ,\n",
       "         281.2   ,  278.93  ,  275.8   ,  267.62  ,  259.2   ,  252.71  ],\n",
       "       [ 243.85  ,  244.22  ,  245.52  ,  253.71  ,  270.49  ,  276.88  ,\n",
       "         279.34  ,  278.36  ,  273.99  ,  264.52  ,  254.36  ,  245.63  ],\n",
       "       [ 246.86  ,  248.67  ,  247.19  ,  254.44  ,  263.16  ,  276.81  ,\n",
       "         278.43  ,  276.95  ,  272.99  ,  264.51  ,  256.15  ,  251.8   ],\n",
       "       [ 250.87  ,  252.82  ,  247.19  ,  256.52  ,  262.62  ,  275.2   ,\n",
       "         277.4   ,  276.    ,  273.79  ,  261.83  ,  255.56  ,  249.26  ],\n",
       "       [ 247.36  ,  246.03  ,  252.86  ,  255.58  ,  268.74  ,  274.61  ,\n",
       "         277.73  ,  276.2   ,  275.08  ,  268.29  ,  260.39  ,  254.52  ],\n",
       "       [ 249.51  ,  248.38  ,  248.76  ,  259.16  ,  267.28  ,  275.32  ,\n",
       "         278.29  ,  276.2   ,  273.09  ,  268.66  ,  257.18  ,  250.49  ],\n",
       "       [ 248.81  ,  244.36  ,  246.86  ,  256.96  ,  268.68  ,  277.54  ,\n",
       "         279.86  ,  279.97  ,  273.06  ,  267.07  ,  257.15  ,  250.49  ],\n",
       "       [ 250.03  ,  247.77  ,  251.23  ,  256.23  ,  268.59  ,  275.15  ,\n",
       "         277.72  ,  278.94  ,  274.42  ,  267.14  ,  253.75  ,  253.15  ],\n",
       "       [ 246.16  ,  250.86  ,  245.87  ,  253.31  ,  268.51  ,  275.84  ,\n",
       "         277.52  ,  276.19  ,  275.68  ,  269.29  ,  256.62  ,  253.05  ],\n",
       "       [ 247.26  ,  248.67  ,  245.21  ,  259.71  ,  265.85  ,  275.7401,\n",
       "         279.99  ,  279.82  ,  275.89  ,  266.91  ,  261.99  ,  253.9   ],\n",
       "       [ 246.28  ,  246.21  ,  246.88  ,  258.33  ,  267.85  ,  275.64  ,\n",
       "         277.85  ,  276.39  ,  274.12  ,  265.39  ,  256.85  ,  253.57  ],\n",
       "       [ 247.09  ,  246.44  ,  246.22  ,  256.26  ,  268.96  ,  275.03  ,\n",
       "         279.62  ,  277.92  ,  274.49  ,  268.55  ,  254.66  ,  253.4   ],\n",
       "       [ 245.53  ,  249.51  ,  248.98  ,  258.93  ,  267.35  ,  274.91  ,\n",
       "         278.52  ,  278.96  ,  275.55  ,  267.43  ,  260.76  ,  248.88  ],\n",
       "       [ 249.82  ,  250.2   ,  250.58  ,  254.86  ,  267.95  ,  275.15  ,\n",
       "         278.4   ,  277.98  ,  275.31  ,  267.61  ,  253.98  ,  250.52  ],\n",
       "       [ 242.19  ,  248.96  ,  243.16  ,  257.6   ,  266.93  ,  275.86  ,\n",
       "         279.16  ,  279.32  ,  274.23  ,  268.54  ,  256.51  ,  248.66  ],\n",
       "       [ 250.17  ,  245.43  ,  249.71  ,  254.56  ,  266.73  ,  277.18  ,\n",
       "         279.58  ,  277.69  ,  272.76  ,  269.18  ,  258.31  ,  252.66  ],\n",
       "       [ 256.26  ,  249.03  ,  250.96  ,  258.16  ,  267.62  ,  273.48  ,\n",
       "         276.79  ,  279.19  ,  273.85  ,  265.64  ,  260.18  ,  255.57  ],\n",
       "       [ 248.85  ,  252.09  ,  248.18  ,  257.83  ,  271.14  ,  276.61  ,\n",
       "         279.49  ,  276.57  ,  271.73  ,  267.68  ,  259.43  ,  250.4   ],\n",
       "       [ 256.61  ,  254.16  ,  250.8   ,  261.01  ,  270.44  ,  276.61  ,\n",
       "         279.02  ,  279.61  ,  273.73  ,  268.21  ,  256.45  ,  251.37  ]])"
      ]
     },
     "execution_count": 26,
     "metadata": {},
     "output_type": "execute_result"
    }
   ],
   "source": [
    "numpy.loadtxt('barrow.temperature.csv', delimiter = ',')"
   ]
  },
  {
   "cell_type": "markdown",
   "metadata": {},
   "source": [
    "The expression `numpy.loadtxt()` is a **function call** that asks Python to run the function `loadtxt()` which belongs to the `numpy` library. Here, the word `numpy` is the **namespace** to which a function belongs. **This dotted notation is used everywhere in Python to refer to the parts of things as `thing.component`.**\n",
    "\n",
    "Because the `loadtxt()` function and others belong to the `numpy` library, to access them we will always have to type `numpy.` in front of the function name. This can get tedious, especially in interactive mode, so Python allows us to come up with a new namespace as an alias."
   ]
  },
  {
   "cell_type": "code",
   "execution_count": 27,
   "metadata": {
    "collapsed": true
   },
   "outputs": [],
   "source": [
    "import numpy as np"
   ]
  },
  {
   "cell_type": "markdown",
   "metadata": {},
   "source": [
    "The `np` alias for the `numpy` library is a very common alias; so common, in fact, that you can get help for NumPy functions by looking up `np` and the function name in a search engine.\n",
    "\n",
    "With this alias, the `loadtxt()` function is now called as:"
   ]
  },
  {
   "cell_type": "code",
   "execution_count": 28,
   "metadata": {
    "collapsed": false
   },
   "outputs": [
    {
     "data": {
      "text/plain": [
       "array([[ 245.66  ,  247.52  ,  245.28  ,  256.32  ,  262.9   ,  272.46  ,\n",
       "         278.06  ,  275.51  ,  269.34  ,  261.68  ,  251.35  ,  242.52  ],\n",
       "       [ 248.12  ,  242.64  ,  252.04  ,  248.61  ,  262.84  ,  271.93  ,\n",
       "         277.45  ,  278.92  ,  274.4   ,  266.77  ,  258.69  ,  248.2   ],\n",
       "       [ 252.3   ,  240.39  ,  248.66  ,  255.41  ,  265.84  ,  274.64  ,\n",
       "         278.87  ,  278.26  ,  273.36  ,  265.77  ,  261.22  ,  248.8   ],\n",
       "       [ 239.52  ,  242.16  ,  243.65  ,  256.21  ,  266.    ,  274.64  ,\n",
       "         279.66  ,  279.17  ,  273.23  ,  264.89  ,  260.47  ,  249.39  ],\n",
       "       [ 244.95  ,  241.02  ,  244.75  ,  251.51  ,  262.25  ,  272.85  ,\n",
       "         278.78  ,  277.02  ,  270.84  ,  264.87  ,  259.14  ,  248.89  ],\n",
       "       [ 244.04  ,  242.96  ,  245.17  ,  255.92  ,  265.94  ,  275.58  ,\n",
       "         277.5   ,  275.5   ,  272.59  ,  261.36  ,  254.54  ,  245.16  ],\n",
       "       [ 245.15  ,  241.35  ,  249.29  ,  255.02  ,  264.12  ,  273.83  ,\n",
       "         277.92  ,  279.6   ,  273.92  ,  266.54  ,  256.88  ,  244.83  ],\n",
       "       [ 248.89  ,  240.27  ,  245.6   ,  253.41  ,  264.44  ,  272.96  ,\n",
       "         277.09  ,  274.26  ,  271.2   ,  260.74  ,  248.42  ,  246.11  ],\n",
       "       [ 244.43  ,  240.49  ,  246.82  ,  255.39  ,  266.63  ,  272.9   ,\n",
       "         277.25  ,  274.2   ,  272.48  ,  260.43  ,  249.28  ,  246.57  ],\n",
       "       [ 252.79  ,  242.63  ,  247.48  ,  258.35  ,  266.03  ,  274.71  ,\n",
       "         277.16  ,  278.55  ,  271.8   ,  265.78  ,  255.21  ,  243.86  ],\n",
       "       [ 247.12  ,  245.83  ,  249.23  ,  255.7   ,  265.03  ,  274.97  ,\n",
       "         277.51  ,  278.35  ,  273.96  ,  263.44  ,  255.64  ,  250.09  ],\n",
       "       [ 245.59  ,  250.75  ,  240.12  ,  253.26  ,  265.89  ,  274.27  ,\n",
       "         275.25  ,  275.97  ,  271.94  ,  263.74  ,  253.62  ,  243.95  ],\n",
       "       [ 244.29  ,  249.98  ,  248.36  ,  252.28  ,  267.14  ,  273.45  ,\n",
       "         276.63  ,  275.15  ,  269.89  ,  262.72  ,  251.06  ,  252.82  ],\n",
       "       [ 250.32  ,  241.28  ,  243.16  ,  251.37  ,  267.16  ,  274.29  ,\n",
       "         276.54  ,  275.49  ,  273.54  ,  262.95  ,  254.61  ,  244.49  ],\n",
       "       [ 252.23  ,  251.42  ,  247.37  ,  254.33  ,  264.13  ,  274.27  ,\n",
       "         277.91  ,  278.39  ,  271.66  ,  265.05  ,  256.49  ,  250.37  ],\n",
       "       [ 251.01  ,  246.49  ,  244.48  ,  256.79  ,  268.48  ,  273.48  ,\n",
       "         276.17  ,  275.96  ,  272.35  ,  262.42  ,  251.49  ,  253.72  ],\n",
       "       [ 244.77  ,  241.01  ,  242.21  ,  250.23  ,  264.22  ,  273.3   ,\n",
       "         276.61  ,  275.63  ,  271.4   ,  263.85  ,  254.92  ,  242.63  ],\n",
       "       [ 244.62  ,  240.12  ,  251.65  ,  256.26  ,  264.17  ,  272.55  ,\n",
       "         276.38  ,  275.97  ,  272.35  ,  260.26  ,  260.46  ,  247.79  ],\n",
       "       [ 245.2   ,  243.45  ,  242.63  ,  252.33  ,  264.26  ,  274.66  ,\n",
       "         276.67  ,  275.17  ,  273.01  ,  264.47  ,  257.25  ,  248.04  ],\n",
       "       [ 248.1   ,  245.61  ,  249.87  ,  257.78  ,  266.9   ,  274.25  ,\n",
       "         276.39  ,  275.76  ,  270.87  ,  262.69  ,  254.8   ,  250.74  ],\n",
       "       [ 249.26  ,  242.05  ,  248.97  ,  252.76  ,  266.36  ,  273.65  ,\n",
       "         278.7   ,  278.02  ,  272.49  ,  263.92  ,  253.8   ,  247.5   ],\n",
       "       [ 246.89  ,  244.36  ,  248.17  ,  256.93  ,  267.02  ,  274.51  ,\n",
       "         275.29  ,  273.09  ,  272.59  ,  265.6   ,  250.46  ,  252.78  ],\n",
       "       [ 246.45  ,  247.03  ,  246.63  ,  254.01  ,  265.85  ,  273.49  ,\n",
       "         276.41  ,  275.41  ,  269.49  ,  257.23  ,  254.26  ,  248.5   ],\n",
       "       [ 242.13  ,  240.63  ,  243.75  ,  252.48  ,  264.86  ,  275.15  ,\n",
       "         277.7   ,  274.59  ,  272.5   ,  262.79  ,  254.22  ,  248.6   ],\n",
       "       [ 245.1   ,  243.38  ,  242.77  ,  251.69  ,  265.32  ,  273.57  ,\n",
       "         278.84  ,  277.91  ,  271.99  ,  265.99  ,  255.61  ,  252.15  ],\n",
       "       [ 246.13  ,  247.34  ,  243.83  ,  254.08  ,  266.04  ,  273.8   ,\n",
       "         276.94  ,  276.58  ,  273.79  ,  264.65  ,  256.48  ,  251.51  ],\n",
       "       [ 247.74  ,  239.06  ,  244.38  ,  252.04  ,  265.73  ,  272.47  ,\n",
       "         276.98  ,  278.23  ,  273.87  ,  259.68  ,  251.41  ,  241.78  ],\n",
       "       [ 241.6   ,  246.71  ,  249.93  ,  252.84  ,  266.02  ,  273.88  ,\n",
       "         276.78  ,  275.41  ,  269.8   ,  259.93  ,  249.18  ,  243.94  ],\n",
       "       [ 245.59  ,  241.88  ,  246.59  ,  254.65  ,  265.36  ,  274.01  ,\n",
       "         276.99  ,  277.17  ,  273.7   ,  263.14  ,  257.85  ,  246.84  ],\n",
       "       [ 252.33  ,  248.12  ,  242.86  ,  252.26  ,  266.26  ,  274.62  ,\n",
       "         277.51  ,  279.74  ,  274.49  ,  265.64  ,  251.91  ,  249.33  ],\n",
       "       [ 252.5   ,  247.59  ,  248.82  ,  255.9   ,  265.09  ,  273.42  ,\n",
       "         277.74  ,  276.34  ,  274.01  ,  260.2   ,  258.06  ,  248.86  ],\n",
       "       [ 252.85  ,  242.06  ,  246.28  ,  254.76  ,  266.71  ,  273.58  ,\n",
       "         278.7   ,  279.6801,  274.62  ,  266.07  ,  260.85  ,  246.9   ],\n",
       "       [ 246.82  ,  250.27  ,  248.81  ,  253.95  ,  265.82  ,  275.47  ,\n",
       "         276.13  ,  274.99  ,  269.79  ,  264.34  ,  254.28  ,  245.07  ],\n",
       "       [ 255.14  ,  245.79  ,  248.75  ,  255.22  ,  268.94  ,  275.16  ,\n",
       "         278.04  ,  275.07  ,  270.55  ,  264.25  ,  254.67  ,  249.39  ],\n",
       "       [ 247.41  ,  250.2   ,  247.26  ,  253.82  ,  264.28  ,  274.26  ,\n",
       "         277.22  ,  276.23  ,  271.89  ,  259.64  ,  249.28  ,  248.69  ],\n",
       "       [ 243.    ,  245.26  ,  245.31  ,  254.97  ,  263.21  ,  273.89  ,\n",
       "         276.75  ,  275.42  ,  269.6   ,  258.88  ,  255.23  ,  253.84  ],\n",
       "       [ 245.9   ,  235.7   ,  244.44  ,  247.95  ,  263.35  ,  274.92  ,\n",
       "         277.67  ,  276.39  ,  273.82  ,  264.31  ,  249.53  ,  246.02  ],\n",
       "       [ 250.66  ,  244.58  ,  246.8   ,  248.61  ,  266.59  ,  274.56  ,\n",
       "         277.25  ,  276.27  ,  271.35  ,  260.75  ,  257.02  ,  251.27  ],\n",
       "       [ 245.47  ,  251.1   ,  244.93  ,  250.6   ,  265.36  ,  274.82  ,\n",
       "         279.27  ,  277.23  ,  275.31  ,  263.35  ,  254.18  ,  250.93  ],\n",
       "       [ 248.06  ,  245.35  ,  247.77  ,  250.9   ,  266.2   ,  274.56  ,\n",
       "         277.7   ,  277.75  ,  271.32  ,  267.57  ,  252.11  ,  249.45  ],\n",
       "       [ 249.63  ,  246.68  ,  247.49  ,  255.31  ,  265.54  ,  274.02  ,\n",
       "         277.73  ,  275.84  ,  271.62  ,  258.34  ,  248.56  ,  250.82  ],\n",
       "       [ 241.62  ,  257.48  ,  247.96  ,  258.22  ,  265.39  ,  275.42  ,\n",
       "         280.11  ,  280.18  ,  274.69  ,  264.81  ,  248.74  ,  250.75  ],\n",
       "       [ 243.12  ,  240.    ,  249.57  ,  259.39  ,  269.73  ,  276.15  ,\n",
       "         279.17  ,  276.97  ,  272.72  ,  264.47  ,  251.15  ,  246.73  ],\n",
       "       [ 247.28  ,  243.6   ,  245.3   ,  256.1   ,  269.67  ,  276.63  ,\n",
       "         277.5   ,  276.15  ,  272.6   ,  264.51  ,  250.08  ,  244.12  ],\n",
       "       [ 244.31  ,  245.26  ,  251.27  ,  258.2   ,  269.23  ,  277.28  ,\n",
       "         278.09  ,  274.28  ,  268.89  ,  259.18  ,  253.01  ,  249.2   ],\n",
       "       [ 248.05  ,  248.52  ,  248.25  ,  257.31  ,  266.78  ,  276.48  ,\n",
       "         281.76  ,  276.78  ,  272.97  ,  268.03  ,  257.33  ,  249.91  ],\n",
       "       [ 248.14  ,  248.22  ,  244.39  ,  258.36  ,  269.12  ,  276.29  ,\n",
       "         279.18  ,  276.61  ,  271.37  ,  257.02  ,  249.25  ,  246.96  ],\n",
       "       [ 247.81  ,  246.38  ,  245.45  ,  258.4   ,  269.41  ,  276.27  ,\n",
       "         279.36  ,  277.    ,  275.55  ,  262.83  ,  253.32  ,  248.82  ],\n",
       "       [ 248.38  ,  245.65  ,  251.99  ,  254.02  ,  271.74  ,  277.23  ,\n",
       "         277.65  ,  273.45  ,  271.1   ,  257.76  ,  256.4   ,  251.3   ],\n",
       "       [ 244.91  ,  247.23  ,  246.02  ,  256.88  ,  266.29  ,  276.01  ,\n",
       "         279.16  ,  279.34  ,  275.07  ,  264.47  ,  260.06  ,  247.69  ],\n",
       "       [ 245.19  ,  245.54  ,  253.27  ,  261.44  ,  268.26  ,  276.95  ,\n",
       "         281.2   ,  278.93  ,  275.8   ,  267.62  ,  259.2   ,  252.71  ],\n",
       "       [ 243.85  ,  244.22  ,  245.52  ,  253.71  ,  270.49  ,  276.88  ,\n",
       "         279.34  ,  278.36  ,  273.99  ,  264.52  ,  254.36  ,  245.63  ],\n",
       "       [ 246.86  ,  248.67  ,  247.19  ,  254.44  ,  263.16  ,  276.81  ,\n",
       "         278.43  ,  276.95  ,  272.99  ,  264.51  ,  256.15  ,  251.8   ],\n",
       "       [ 250.87  ,  252.82  ,  247.19  ,  256.52  ,  262.62  ,  275.2   ,\n",
       "         277.4   ,  276.    ,  273.79  ,  261.83  ,  255.56  ,  249.26  ],\n",
       "       [ 247.36  ,  246.03  ,  252.86  ,  255.58  ,  268.74  ,  274.61  ,\n",
       "         277.73  ,  276.2   ,  275.08  ,  268.29  ,  260.39  ,  254.52  ],\n",
       "       [ 249.51  ,  248.38  ,  248.76  ,  259.16  ,  267.28  ,  275.32  ,\n",
       "         278.29  ,  276.2   ,  273.09  ,  268.66  ,  257.18  ,  250.49  ],\n",
       "       [ 248.81  ,  244.36  ,  246.86  ,  256.96  ,  268.68  ,  277.54  ,\n",
       "         279.86  ,  279.97  ,  273.06  ,  267.07  ,  257.15  ,  250.49  ],\n",
       "       [ 250.03  ,  247.77  ,  251.23  ,  256.23  ,  268.59  ,  275.15  ,\n",
       "         277.72  ,  278.94  ,  274.42  ,  267.14  ,  253.75  ,  253.15  ],\n",
       "       [ 246.16  ,  250.86  ,  245.87  ,  253.31  ,  268.51  ,  275.84  ,\n",
       "         277.52  ,  276.19  ,  275.68  ,  269.29  ,  256.62  ,  253.05  ],\n",
       "       [ 247.26  ,  248.67  ,  245.21  ,  259.71  ,  265.85  ,  275.7401,\n",
       "         279.99  ,  279.82  ,  275.89  ,  266.91  ,  261.99  ,  253.9   ],\n",
       "       [ 246.28  ,  246.21  ,  246.88  ,  258.33  ,  267.85  ,  275.64  ,\n",
       "         277.85  ,  276.39  ,  274.12  ,  265.39  ,  256.85  ,  253.57  ],\n",
       "       [ 247.09  ,  246.44  ,  246.22  ,  256.26  ,  268.96  ,  275.03  ,\n",
       "         279.62  ,  277.92  ,  274.49  ,  268.55  ,  254.66  ,  253.4   ],\n",
       "       [ 245.53  ,  249.51  ,  248.98  ,  258.93  ,  267.35  ,  274.91  ,\n",
       "         278.52  ,  278.96  ,  275.55  ,  267.43  ,  260.76  ,  248.88  ],\n",
       "       [ 249.82  ,  250.2   ,  250.58  ,  254.86  ,  267.95  ,  275.15  ,\n",
       "         278.4   ,  277.98  ,  275.31  ,  267.61  ,  253.98  ,  250.52  ],\n",
       "       [ 242.19  ,  248.96  ,  243.16  ,  257.6   ,  266.93  ,  275.86  ,\n",
       "         279.16  ,  279.32  ,  274.23  ,  268.54  ,  256.51  ,  248.66  ],\n",
       "       [ 250.17  ,  245.43  ,  249.71  ,  254.56  ,  266.73  ,  277.18  ,\n",
       "         279.58  ,  277.69  ,  272.76  ,  269.18  ,  258.31  ,  252.66  ],\n",
       "       [ 256.26  ,  249.03  ,  250.96  ,  258.16  ,  267.62  ,  273.48  ,\n",
       "         276.79  ,  279.19  ,  273.85  ,  265.64  ,  260.18  ,  255.57  ],\n",
       "       [ 248.85  ,  252.09  ,  248.18  ,  257.83  ,  271.14  ,  276.61  ,\n",
       "         279.49  ,  276.57  ,  271.73  ,  267.68  ,  259.43  ,  250.4   ],\n",
       "       [ 256.61  ,  254.16  ,  250.8   ,  261.01  ,  270.44  ,  276.61  ,\n",
       "         279.02  ,  279.61  ,  273.73  ,  268.21  ,  256.45  ,  251.37  ]])"
      ]
     },
     "execution_count": 28,
     "metadata": {},
     "output_type": "execute_result"
    }
   ],
   "source": [
    "np.loadtxt('barrow.temperature.csv', delimiter = ',')"
   ]
  },
  {
   "cell_type": "markdown",
   "metadata": {},
   "source": [
    "`np.loadtxt()` has two arguments: the name of the file we want to read, and the delimiter that separates values on a line. These both need to be character strings (or strings for short), so we put them in quotes.\n",
    "\n",
    "Finally, note that we haven't stored the Barrow temperature data because we haven't assigned it to a variable. Let's fix that."
   ]
  },
  {
   "cell_type": "code",
   "execution_count": 31,
   "metadata": {
    "collapsed": true
   },
   "outputs": [],
   "source": [
    "barrow = np.loadtxt('barrow.temperature.csv', delimiter = ',')"
   ]
  },
  {
   "cell_type": "markdown",
   "metadata": {},
   "source": [
    "## About the Data"
   ]
  },
  {
   "cell_type": "markdown",
   "metadata": {},
   "source": [
    "The data we're using for this lesson are **monthly averages of surface air temperatures** from 1948 to 2016 for five different locations. They are derived from the NOAA NCEP CPC Monthly Global Surface Air Temperature Data Set, which has a 0.5 degree spatial resolution.\n",
    "\n",
    "**What is the unit for air temperature used in this dataset?** Recall that when we assign a value to a variable, we don't see any output on the screen. To see our Barrow temperature data, we can use the `print()` function again."
   ]
  },
  {
   "cell_type": "code",
   "execution_count": 32,
   "metadata": {
    "collapsed": false
   },
   "outputs": [
    {
     "name": "stdout",
     "output_type": "stream",
     "text": [
      "[[ 245.66    247.52    245.28    256.32    262.9     272.46    278.06\n",
      "   275.51    269.34    261.68    251.35    242.52  ]\n",
      " [ 248.12    242.64    252.04    248.61    262.84    271.93    277.45\n",
      "   278.92    274.4     266.77    258.69    248.2   ]\n",
      " [ 252.3     240.39    248.66    255.41    265.84    274.64    278.87\n",
      "   278.26    273.36    265.77    261.22    248.8   ]\n",
      " [ 239.52    242.16    243.65    256.21    266.      274.64    279.66\n",
      "   279.17    273.23    264.89    260.47    249.39  ]\n",
      " [ 244.95    241.02    244.75    251.51    262.25    272.85    278.78\n",
      "   277.02    270.84    264.87    259.14    248.89  ]\n",
      " [ 244.04    242.96    245.17    255.92    265.94    275.58    277.5     275.5\n",
      "   272.59    261.36    254.54    245.16  ]\n",
      " [ 245.15    241.35    249.29    255.02    264.12    273.83    277.92\n",
      "   279.6     273.92    266.54    256.88    244.83  ]\n",
      " [ 248.89    240.27    245.6     253.41    264.44    272.96    277.09\n",
      "   274.26    271.2     260.74    248.42    246.11  ]\n",
      " [ 244.43    240.49    246.82    255.39    266.63    272.9     277.25\n",
      "   274.2     272.48    260.43    249.28    246.57  ]\n",
      " [ 252.79    242.63    247.48    258.35    266.03    274.71    277.16\n",
      "   278.55    271.8     265.78    255.21    243.86  ]\n",
      " [ 247.12    245.83    249.23    255.7     265.03    274.97    277.51\n",
      "   278.35    273.96    263.44    255.64    250.09  ]\n",
      " [ 245.59    250.75    240.12    253.26    265.89    274.27    275.25\n",
      "   275.97    271.94    263.74    253.62    243.95  ]\n",
      " [ 244.29    249.98    248.36    252.28    267.14    273.45    276.63\n",
      "   275.15    269.89    262.72    251.06    252.82  ]\n",
      " [ 250.32    241.28    243.16    251.37    267.16    274.29    276.54\n",
      "   275.49    273.54    262.95    254.61    244.49  ]\n",
      " [ 252.23    251.42    247.37    254.33    264.13    274.27    277.91\n",
      "   278.39    271.66    265.05    256.49    250.37  ]\n",
      " [ 251.01    246.49    244.48    256.79    268.48    273.48    276.17\n",
      "   275.96    272.35    262.42    251.49    253.72  ]\n",
      " [ 244.77    241.01    242.21    250.23    264.22    273.3     276.61\n",
      "   275.63    271.4     263.85    254.92    242.63  ]\n",
      " [ 244.62    240.12    251.65    256.26    264.17    272.55    276.38\n",
      "   275.97    272.35    260.26    260.46    247.79  ]\n",
      " [ 245.2     243.45    242.63    252.33    264.26    274.66    276.67\n",
      "   275.17    273.01    264.47    257.25    248.04  ]\n",
      " [ 248.1     245.61    249.87    257.78    266.9     274.25    276.39\n",
      "   275.76    270.87    262.69    254.8     250.74  ]\n",
      " [ 249.26    242.05    248.97    252.76    266.36    273.65    278.7\n",
      "   278.02    272.49    263.92    253.8     247.5   ]\n",
      " [ 246.89    244.36    248.17    256.93    267.02    274.51    275.29\n",
      "   273.09    272.59    265.6     250.46    252.78  ]\n",
      " [ 246.45    247.03    246.63    254.01    265.85    273.49    276.41\n",
      "   275.41    269.49    257.23    254.26    248.5   ]\n",
      " [ 242.13    240.63    243.75    252.48    264.86    275.15    277.7\n",
      "   274.59    272.5     262.79    254.22    248.6   ]\n",
      " [ 245.1     243.38    242.77    251.69    265.32    273.57    278.84\n",
      "   277.91    271.99    265.99    255.61    252.15  ]\n",
      " [ 246.13    247.34    243.83    254.08    266.04    273.8     276.94\n",
      "   276.58    273.79    264.65    256.48    251.51  ]\n",
      " [ 247.74    239.06    244.38    252.04    265.73    272.47    276.98\n",
      "   278.23    273.87    259.68    251.41    241.78  ]\n",
      " [ 241.6     246.71    249.93    252.84    266.02    273.88    276.78\n",
      "   275.41    269.8     259.93    249.18    243.94  ]\n",
      " [ 245.59    241.88    246.59    254.65    265.36    274.01    276.99\n",
      "   277.17    273.7     263.14    257.85    246.84  ]\n",
      " [ 252.33    248.12    242.86    252.26    266.26    274.62    277.51\n",
      "   279.74    274.49    265.64    251.91    249.33  ]\n",
      " [ 252.5     247.59    248.82    255.9     265.09    273.42    277.74\n",
      "   276.34    274.01    260.2     258.06    248.86  ]\n",
      " [ 252.85    242.06    246.28    254.76    266.71    273.58    278.7\n",
      "   279.6801  274.62    266.07    260.85    246.9   ]\n",
      " [ 246.82    250.27    248.81    253.95    265.82    275.47    276.13\n",
      "   274.99    269.79    264.34    254.28    245.07  ]\n",
      " [ 255.14    245.79    248.75    255.22    268.94    275.16    278.04\n",
      "   275.07    270.55    264.25    254.67    249.39  ]\n",
      " [ 247.41    250.2     247.26    253.82    264.28    274.26    277.22\n",
      "   276.23    271.89    259.64    249.28    248.69  ]\n",
      " [ 243.      245.26    245.31    254.97    263.21    273.89    276.75\n",
      "   275.42    269.6     258.88    255.23    253.84  ]\n",
      " [ 245.9     235.7     244.44    247.95    263.35    274.92    277.67\n",
      "   276.39    273.82    264.31    249.53    246.02  ]\n",
      " [ 250.66    244.58    246.8     248.61    266.59    274.56    277.25\n",
      "   276.27    271.35    260.75    257.02    251.27  ]\n",
      " [ 245.47    251.1     244.93    250.6     265.36    274.82    279.27\n",
      "   277.23    275.31    263.35    254.18    250.93  ]\n",
      " [ 248.06    245.35    247.77    250.9     266.2     274.56    277.7\n",
      "   277.75    271.32    267.57    252.11    249.45  ]\n",
      " [ 249.63    246.68    247.49    255.31    265.54    274.02    277.73\n",
      "   275.84    271.62    258.34    248.56    250.82  ]\n",
      " [ 241.62    257.48    247.96    258.22    265.39    275.42    280.11\n",
      "   280.18    274.69    264.81    248.74    250.75  ]\n",
      " [ 243.12    240.      249.57    259.39    269.73    276.15    279.17\n",
      "   276.97    272.72    264.47    251.15    246.73  ]\n",
      " [ 247.28    243.6     245.3     256.1     269.67    276.63    277.5\n",
      "   276.15    272.6     264.51    250.08    244.12  ]\n",
      " [ 244.31    245.26    251.27    258.2     269.23    277.28    278.09\n",
      "   274.28    268.89    259.18    253.01    249.2   ]\n",
      " [ 248.05    248.52    248.25    257.31    266.78    276.48    281.76\n",
      "   276.78    272.97    268.03    257.33    249.91  ]\n",
      " [ 248.14    248.22    244.39    258.36    269.12    276.29    279.18\n",
      "   276.61    271.37    257.02    249.25    246.96  ]\n",
      " [ 247.81    246.38    245.45    258.4     269.41    276.27    279.36    277.\n",
      "   275.55    262.83    253.32    248.82  ]\n",
      " [ 248.38    245.65    251.99    254.02    271.74    277.23    277.65\n",
      "   273.45    271.1     257.76    256.4     251.3   ]\n",
      " [ 244.91    247.23    246.02    256.88    266.29    276.01    279.16\n",
      "   279.34    275.07    264.47    260.06    247.69  ]\n",
      " [ 245.19    245.54    253.27    261.44    268.26    276.95    281.2\n",
      "   278.93    275.8     267.62    259.2     252.71  ]\n",
      " [ 243.85    244.22    245.52    253.71    270.49    276.88    279.34\n",
      "   278.36    273.99    264.52    254.36    245.63  ]\n",
      " [ 246.86    248.67    247.19    254.44    263.16    276.81    278.43\n",
      "   276.95    272.99    264.51    256.15    251.8   ]\n",
      " [ 250.87    252.82    247.19    256.52    262.62    275.2     277.4     276.\n",
      "   273.79    261.83    255.56    249.26  ]\n",
      " [ 247.36    246.03    252.86    255.58    268.74    274.61    277.73\n",
      "   276.2     275.08    268.29    260.39    254.52  ]\n",
      " [ 249.51    248.38    248.76    259.16    267.28    275.32    278.29\n",
      "   276.2     273.09    268.66    257.18    250.49  ]\n",
      " [ 248.81    244.36    246.86    256.96    268.68    277.54    279.86\n",
      "   279.97    273.06    267.07    257.15    250.49  ]\n",
      " [ 250.03    247.77    251.23    256.23    268.59    275.15    277.72\n",
      "   278.94    274.42    267.14    253.75    253.15  ]\n",
      " [ 246.16    250.86    245.87    253.31    268.51    275.84    277.52\n",
      "   276.19    275.68    269.29    256.62    253.05  ]\n",
      " [ 247.26    248.67    245.21    259.71    265.85    275.7401  279.99\n",
      "   279.82    275.89    266.91    261.99    253.9   ]\n",
      " [ 246.28    246.21    246.88    258.33    267.85    275.64    277.85\n",
      "   276.39    274.12    265.39    256.85    253.57  ]\n",
      " [ 247.09    246.44    246.22    256.26    268.96    275.03    279.62\n",
      "   277.92    274.49    268.55    254.66    253.4   ]\n",
      " [ 245.53    249.51    248.98    258.93    267.35    274.91    278.52\n",
      "   278.96    275.55    267.43    260.76    248.88  ]\n",
      " [ 249.82    250.2     250.58    254.86    267.95    275.15    278.4\n",
      "   277.98    275.31    267.61    253.98    250.52  ]\n",
      " [ 242.19    248.96    243.16    257.6     266.93    275.86    279.16\n",
      "   279.32    274.23    268.54    256.51    248.66  ]\n",
      " [ 250.17    245.43    249.71    254.56    266.73    277.18    279.58\n",
      "   277.69    272.76    269.18    258.31    252.66  ]\n",
      " [ 256.26    249.03    250.96    258.16    267.62    273.48    276.79\n",
      "   279.19    273.85    265.64    260.18    255.57  ]\n",
      " [ 248.85    252.09    248.18    257.83    271.14    276.61    279.49\n",
      "   276.57    271.73    267.68    259.43    250.4   ]\n",
      " [ 256.61    254.16    250.8     261.01    270.44    276.61    279.02\n",
      "   279.61    273.73    268.21    256.45    251.37  ]]\n"
     ]
    }
   ],
   "source": [
    "print(barrow)"
   ]
  },
  {
   "cell_type": "markdown",
   "metadata": {},
   "source": [
    "The data are formatted such that:\n",
    "\n",
    "- Each column is the monthly mean, January (1) through December (12)\n",
    "- Each row is a year, starting from January 1948 (1) through December 2016 (69)\n",
    "\n",
    "[More information on the data can be found here.](http://iridl.ldeo.columbia.edu/SOURCES/.NOAA/.NCEP/.CPC/.GHCN_CAMS/.gridded/.deg0p5/.temp/)"
   ]
  },
  {
   "cell_type": "markdown",
   "metadata": {},
   "source": [
    "## Arrays and their Attributes"
   ]
  },
  {
   "cell_type": "markdown",
   "metadata": {},
   "source": [
    "Now that our data are stored in memory, we can start asking substantial questions about it. First, let's ask how Python represents the value stored in the `barrow` variable."
   ]
  },
  {
   "cell_type": "code",
   "execution_count": 34,
   "metadata": {
    "collapsed": false
   },
   "outputs": [
    {
     "data": {
      "text/plain": [
       "numpy.ndarray"
      ]
     },
     "execution_count": 34,
     "metadata": {},
     "output_type": "execute_result"
    }
   ],
   "source": [
    "type(barrow)"
   ]
  },
  {
   "cell_type": "markdown",
   "metadata": {},
   "source": [
    "This output indicates that `barrow` currently refers to an N-dimensional array created by the NumPy library.\n",
    "\n",
    "**A NumPy array contains one or more elements of the same data type.** The `type()` function only tells us that we have a NumPy array. We can find out the type of data contained in the array by asking for the *data type* of the array."
   ]
  },
  {
   "cell_type": "code",
   "execution_count": 35,
   "metadata": {
    "collapsed": false
   },
   "outputs": [
    {
     "data": {
      "text/plain": [
       "dtype('float64')"
      ]
     },
     "execution_count": 35,
     "metadata": {},
     "output_type": "execute_result"
    }
   ],
   "source": [
    "barrow.dtype"
   ]
  },
  {
   "cell_type": "markdown",
   "metadata": {},
   "source": [
    "This tells us that the NumPy array's elements are 64-bit *floating point,* or decimal numbers.\n",
    "\n",
    "**In the last example,** we accessed an **attribute** of the `barrow` array called `dtype`. Because `dtype` is not a function, we don't call it using a pair of parentheses. We'll talk more about this later but, for now, it's sufficient to distinguish between these examples:\n",
    "\n",
    "- `np.loadtxt()` - A function that takes arguments, which go inside the parentheses\n",
    "- `barrow.dtype` - An attribute of the `barrow` array; the `dtype` of an array doesn't depend on anything, so `dtype` is not a function and it does not take arguments"
   ]
  },
  {
   "cell_type": "markdown",
   "metadata": {},
   "source": [
    "**How many rows and columns are there in the `barrow` array?**"
   ]
  },
  {
   "cell_type": "code",
   "execution_count": 36,
   "metadata": {
    "collapsed": false
   },
   "outputs": [
    {
     "data": {
      "text/plain": [
       "(69, 12)"
      ]
     },
     "execution_count": 36,
     "metadata": {},
     "output_type": "execute_result"
    }
   ],
   "source": [
    "barrow.shape"
   ]
  },
  {
   "cell_type": "markdown",
   "metadata": {},
   "source": [
    "We see there are 64 rows and 12 columns.\n",
    "\n",
    "The `shape` attribute, like the `dtype`, is a piece of information that was generated and stored when we first created the `barrow` array. This extra information, `shape` and `dtype`, describe `barrow` in the same way an adjective describes a noun. **We use the same dotted notation here as we did with the `loadtxt()` function because they have the same part-and-whole relationship.**\n",
    "\n",
    "**To access the elements of the `barrow` array, we use square-brackets as follows.**"
   ]
  },
  {
   "cell_type": "code",
   "execution_count": 38,
   "metadata": {
    "collapsed": false
   },
   "outputs": [
    {
     "data": {
      "text/plain": [
       "245.66"
      ]
     },
     "execution_count": 38,
     "metadata": {},
     "output_type": "execute_result"
    }
   ],
   "source": [
    "barrow[0, 0]"
   ]
  },
  {
   "cell_type": "markdown",
   "metadata": {},
   "source": [
    "The `0, 0` element is the element in the first row and the first column. Python starts counting from zero, not from one, just like other languages in the C family (including C++, Java, and Perl).\n",
    "\n",
    "**With this bracket notation, remember that rows are counted first, then columns.** For instance, this is the value in the first row and second column of the array:"
   ]
  },
  {
   "cell_type": "code",
   "execution_count": 39,
   "metadata": {
    "collapsed": false
   },
   "outputs": [
    {
     "data": {
      "text/plain": [
       "247.52000000000001"
      ]
     },
     "execution_count": 39,
     "metadata": {},
     "output_type": "execute_result"
    }
   ],
   "source": [
    "barrow[0, 1]"
   ]
  },
  {
   "cell_type": "markdown",
   "metadata": {},
   "source": [
    "We can make a larger selection with **slicing.** For instance, **here is the first year of monthly average temperatures, all 12 of them, for Barrow:**"
   ]
  },
  {
   "cell_type": "code",
   "execution_count": 42,
   "metadata": {
    "collapsed": false
   },
   "outputs": [
    {
     "data": {
      "text/plain": [
       "array([ 245.66,  247.52,  245.28,  256.32,  262.9 ,  272.46,  278.06,\n",
       "        275.51,  269.34,  261.68,  251.35,  242.52])"
      ]
     },
     "execution_count": 42,
     "metadata": {},
     "output_type": "execute_result"
    }
   ],
   "source": [
    "barrow[0, 0:12]"
   ]
  },
  {
   "cell_type": "markdown",
   "metadata": {},
   "source": [
    "The notation `0:12` can be read, \"Start at index 0 and go up to, *but not including,* index 12.\" The up-to-but-not-including is important; we have 12 values in the array but, since we started counting at zero, there isn't a value at index 12."
   ]
  },
  {
   "cell_type": "code",
   "execution_count": 43,
   "metadata": {
    "collapsed": false
   },
   "outputs": [
    {
     "ename": "IndexError",
     "evalue": "index 12 is out of bounds for axis 1 with size 12",
     "output_type": "error",
     "traceback": [
      "\u001b[0;31m---------------------------------------------------------------------------\u001b[0m",
      "\u001b[0;31mIndexError\u001b[0m                                Traceback (most recent call last)",
      "\u001b[0;32m<ipython-input-43-a5a1605091fb>\u001b[0m in \u001b[0;36m<module>\u001b[0;34m()\u001b[0m\n\u001b[0;32m----> 1\u001b[0;31m \u001b[0mbarrow\u001b[0m\u001b[0;34m[\u001b[0m\u001b[0;36m0\u001b[0m\u001b[0;34m,\u001b[0m \u001b[0;36m12\u001b[0m\u001b[0;34m]\u001b[0m\u001b[0;34m\u001b[0m\u001b[0m\n\u001b[0m",
      "\u001b[0;31mIndexError\u001b[0m: index 12 is out of bounds for axis 1 with size 12"
     ]
    }
   ],
   "source": [
    "barrow[0, 12]"
   ]
  },
  {
   "cell_type": "markdown",
   "metadata": {},
   "source": [
    "Slices don't have to start at zero and they also don't have to include the upper or lower bound, if we want to simply take all the ending or beginning values, respectively.\n",
    "\n",
    "Here's the last six monthly averages of the first three years, written two different ways:"
   ]
  },
  {
   "cell_type": "code",
   "execution_count": 47,
   "metadata": {
    "collapsed": false
   },
   "outputs": [
    {
     "data": {
      "text/plain": [
       "array([[ 278.06,  275.51,  269.34,  261.68,  251.35,  242.52],\n",
       "       [ 277.45,  278.92,  274.4 ,  266.77,  258.69,  248.2 ],\n",
       "       [ 278.87,  278.26,  273.36,  265.77,  261.22,  248.8 ]])"
      ]
     },
     "execution_count": 47,
     "metadata": {},
     "output_type": "execute_result"
    }
   ],
   "source": [
    "barrow[0:3, 6:12]"
   ]
  },
  {
   "cell_type": "code",
   "execution_count": 48,
   "metadata": {
    "collapsed": false
   },
   "outputs": [
    {
     "data": {
      "text/plain": [
       "array([[ 278.06,  275.51,  269.34,  261.68,  251.35,  242.52],\n",
       "       [ 277.45,  278.92,  274.4 ,  266.77,  258.69,  248.2 ],\n",
       "       [ 278.87,  278.26,  273.36,  265.77,  261.22,  248.8 ]])"
      ]
     },
     "execution_count": 48,
     "metadata": {},
     "output_type": "execute_result"
    }
   ],
   "source": [
    "barrow[:3, 6:]"
   ]
  },
  {
   "cell_type": "markdown",
   "metadata": {},
   "source": [
    "If we don't include a number at all, then the `:` symbol indicates \"take everying.\""
   ]
  },
  {
   "cell_type": "code",
   "execution_count": 50,
   "metadata": {
    "collapsed": false
   },
   "outputs": [
    {
     "data": {
      "text/plain": [
       "array([ 245.66,  247.52,  245.28,  256.32,  262.9 ,  272.46,  278.06,\n",
       "        275.51,  269.34,  261.68,  251.35,  242.52])"
      ]
     },
     "execution_count": 50,
     "metadata": {},
     "output_type": "execute_result"
    }
   ],
   "source": [
    "barrow[0, :]"
   ]
  }
 ],
 "metadata": {
  "kernelspec": {
   "display_name": "py3",
   "language": "python",
   "name": "py3"
  },
  "language_info": {
   "codemirror_mode": {
    "name": "ipython",
    "version": 3
   },
   "file_extension": ".py",
   "mimetype": "text/x-python",
   "name": "python",
   "nbconvert_exporter": "python",
   "pygments_lexer": "ipython3",
   "version": "3.5.2"
  }
 },
 "nbformat": 4,
 "nbformat_minor": 0
}
