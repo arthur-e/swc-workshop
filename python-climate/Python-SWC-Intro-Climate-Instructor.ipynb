{
 "cells": [
  {
   "cell_type": "markdown",
   "metadata": {},
   "source": [
    "# Overview"
   ]
  },
  {
   "cell_type": "markdown",
   "metadata": {},
   "source": [
    "## License"
   ]
  },
  {
   "cell_type": "markdown",
   "metadata": {},
   "source": [
    "As with [the Software Carpentry lesson](http://swcarpentry.github.io/python-novice-inflammation/license/), this lesson is licensed for open use under the [CC BY 4.0 license](https://creativecommons.org/licenses/by/4.0/)."
   ]
  },
  {
   "cell_type": "markdown",
   "metadata": {},
   "source": [
    "# Introduction to Python"
   ]
  },
  {
   "cell_type": "markdown",
   "metadata": {},
   "source": [
    "## The Python Interpreter"
   ]
  },
  {
   "cell_type": "markdown",
   "metadata": {},
   "source": [
    "### Jupyter Notebook"
   ]
  },
  {
   "cell_type": "markdown",
   "metadata": {},
   "source": [
    "## First Steps with Python"
   ]
  },
  {
   "cell_type": "markdown",
   "metadata": {},
   "source": [
    "## Importing Libraries"
   ]
  },
  {
   "cell_type": "markdown",
   "metadata": {},
   "source": [
    "## About the Data"
   ]
  },
  {
   "cell_type": "markdown",
   "metadata": {},
   "source": [
    "The data are formatted such that:\n",
    "\n",
    "- Each column is the monthly mean, January (1) through December (12)\n",
    "- Each row is a year, starting from January 1948 (1) through December 2016 (69)\n",
    "\n",
    "[More information on the data can be found here.](http://iridl.ldeo.columbia.edu/SOURCES/.NOAA/.NCEP/.CPC/.GHCN_CAMS/.gridded/.deg0p5/.temp/)"
   ]
  },
  {
   "cell_type": "markdown",
   "metadata": {},
   "source": [
    "## Arrays and their Attributes"
   ]
  },
  {
   "cell_type": "markdown",
   "metadata": {},
   "source": [
    "**Challenge: What do each of the following code samples do?**\n",
    "\n",
    "```py\n",
    "barrow[0]\n",
    "barrow[0,]\n",
    "barrow[-1]\n",
    "barrow[-3:-1]\n",
    "```"
   ]
  },
  {
   "cell_type": "markdown",
   "metadata": {},
   "source": [
    "### Slicing NumPy Arrays"
   ]
  },
  {
   "cell_type": "markdown",
   "metadata": {},
   "source": [
    "**Challenge: What's the mean monthly temperature in August of 2016? Converted to degrees Fahrenheit?**\n",
    "\n",
    "Degrees F can be calculated from degrees K by the formula:"
   ]
  },
  {
   "cell_type": "markdown",
   "metadata": {},
   "source": [
    "$$\n",
    "T_F = \\left(T_K \\times \\frac{9}{5}\\right) - 459.67\n",
    "$$"
   ]
  },
  {
   "cell_type": "markdown",
   "metadata": {},
   "source": [
    "### Calculating on NumPy Arrays"
   ]
  },
  {
   "cell_type": "markdown",
   "metadata": {},
   "source": [
    "**Challenge: What's the minimum, maximum, and mean monthly temperature for August in Barrow, in degrees C?**"
   ]
  },
  {
   "cell_type": "markdown",
   "metadata": {},
   "source": [
    "### Getting Help"
   ]
  },
  {
   "cell_type": "markdown",
   "metadata": {},
   "source": [
    "### Calculating Partial Statistics"
   ]
  },
  {
   "cell_type": "markdown",
   "metadata": {},
   "source": [
    "## Basic Data Visualization"
   ]
  },
  {
   "cell_type": "markdown",
   "metadata": {},
   "source": [
    "# Repeating Tasks with Loops"
   ]
  },
  {
   "cell_type": "markdown",
   "metadata": {},
   "source": [
    "## Sequences"
   ]
  },
  {
   "cell_type": "markdown",
   "metadata": {},
   "source": [
    "### Character Strings"
   ]
  },
  {
   "cell_type": "markdown",
   "metadata": {},
   "source": [
    "### Lists and Tuples"
   ]
  },
  {
   "cell_type": "markdown",
   "metadata": {},
   "source": [
    "### Performing Calculations with Lists"
   ]
  },
  {
   "cell_type": "markdown",
   "metadata": {},
   "source": [
    "## More Complex Loops"
   ]
  },
  {
   "cell_type": "markdown",
   "metadata": {},
   "source": [
    "**Challenge: Write a `for` loop that iterates through the letters of your favorite city, putting each letter inside a list. The result should be a list with an element for each letter.**\n",
    "\n",
    "Hint: You can create an empty list like this:\n",
    "\n",
    "```py\n",
    "letters = []\n",
    "```\n",
    "\n",
    "Hint: You can confirm you have the right result by comparing it to:\n",
    "\n",
    "```py\n",
    "list(\"my favorite city\")\n",
    "```"
   ]
  },
  {
   "cell_type": "markdown",
   "metadata": {},
   "source": [
    "## Sequences and Mutability"
   ]
  },
  {
   "cell_type": "markdown",
   "metadata": {},
   "source": [
    "**Which of the sequences we've learned about are immutable (i.e., they can't be changed)?**\n",
    "\n",
    "- Strings are (immutable / mutable)?\n",
    "- Lists are (immutable / mutable)?\n",
    "- Tuples are (immutable / mutable)?\n",
    "\n",
    "**And what does this mean for working with each data type?**\n",
    "\n",
    "```py\n",
    "\"birds\".upper()\n",
    "\n",
    "[1, 2, 3].append(4)\n",
    "\n",
    "(1, 2, 3)\n",
    "```\n"
   ]
  },
  {
   "cell_type": "markdown",
   "metadata": {},
   "source": [
    "# Analyzing Data from Multiple Files"
   ]
  },
  {
   "cell_type": "markdown",
   "metadata": {},
   "source": [
    "### First Step: Looping over Files"
   ]
  },
  {
   "cell_type": "markdown",
   "metadata": {},
   "source": [
    "### Second Step: Generating a Plot"
   ]
  },
  {
   "cell_type": "markdown",
   "metadata": {},
   "source": [
    "### Third Step: Putting It All Together"
   ]
  },
  {
   "cell_type": "markdown",
   "metadata": {},
   "source": [
    "**Challenge: For each location (each file), plot the difference between that location's mean temperature and the mean across all locations.**\n",
    "\n",
    "Hint: One way to calculate the mean across five (5) files is by adding the 5 arrays together, then dividing by 5. You can add arrays together in a loop like this:\n",
    "\n",
    "```py\n",
    "# Start with an array full of zeros that is 69-elements long\n",
    "running_total = np.zeros((69))\n",
    "\n",
    "for fname in filenames:\n",
    "    data = np.loadtxt(fname, delimiter = ',')\n",
    "    running_total = running_total + data.mean(axis = 1)\n",
    "```\n",
    "\n",
    "Hint: How do you difference two arrays? Remember how the plus, `+`, and minus, `-`, operators work on arrays?"
   ]
  },
  {
   "cell_type": "markdown",
   "metadata": {},
   "source": [
    "# Conditional Evaluation"
   ]
  },
  {
   "cell_type": "markdown",
   "metadata": {},
   "source": [
    "This code can be represented by the following workflow.\n",
    "\n",
    "![](./python-flowchart-conditional.png)"
   ]
  },
  {
   "cell_type": "markdown",
   "metadata": {},
   "source": [
    "**Challenge: How can you make this code print \"Greater\" by changing only one line?**\n",
    "\n",
    "```py\n",
    "a_number = 42\n",
    "\n",
    "if a_number > 100:\n",
    "    print('Greater')\n",
    "    \n",
    "else:\n",
    "    print('Not greater')\n",
    "    \n",
    "print('Done')\n",
    "```\n",
    "\n",
    "**There are two (2) one-line changes you could make. Can you find them both?**"
   ]
  },
  {
   "cell_type": "markdown",
   "metadata": {},
   "source": [
    "## Conditional Expressions in Python"
   ]
  },
  {
   "cell_type": "markdown",
   "metadata": {},
   "source": [
    "**What do each of the following evaluate to, `True` or `False`?**\n",
    "\n",
    "```py\n",
    "1 < 2\n",
    "1 <= 1\n",
    "3 == 3\n",
    "2 != 3\n",
    "```"
   ]
  },
  {
   "cell_type": "markdown",
   "metadata": {},
   "source": [
    "## Checking our Data"
   ]
  },
  {
   "cell_type": "markdown",
   "metadata": {},
   "source": [
    "**Challenge: Write a `for` loop, with an `if` statement inside, that calculates a line of best fit for each dataset's temperature anomalies and prints out a message as to whether that trend line is positive or negative.**\n",
    "\n",
    "Hint: What we want to know about each trend line is whether, for:\n",
    "\n",
    "```py\n",
    "results = sm.OLS(y_data, x_data).fit()\n",
    "b0, b1 = results.params\n",
    "```\n",
    "\n",
    "If `b1`, the slope of the line, is positive or negative."
   ]
  },
  {
   "cell_type": "markdown",
   "metadata": {},
   "source": [
    "# Creating Functions for Reuse"
   ]
  },
  {
   "cell_type": "markdown",
   "metadata": {},
   "source": [
    "## Composing Multiple Functions"
   ]
  },
  {
   "cell_type": "markdown",
   "metadata": {},
   "source": [
    "Now that we've created a function that converts temperatures in degrees Kelvin to degrees Celsius, let's see if we can write a function that converts from degrees Celsius to degrees Fahrenheit.\n",
    "\n",
    "$$\n",
    "T_F = \\left(T_C \\times \\frac{9}{5}\\right) + 32\n",
    "$$"
   ]
  },
  {
   "cell_type": "markdown",
   "metadata": {},
   "source": [
    "## Cleaning Up our Analysis Code"
   ]
  },
  {
   "cell_type": "markdown",
   "metadata": {},
   "source": [
    "## Positional versus Keyword Arguments"
   ]
  },
  {
   "cell_type": "markdown",
   "metadata": {},
   "source": [
    "## Documenting Functions"
   ]
  },
  {
   "cell_type": "markdown",
   "metadata": {},
   "source": [
    "**Challenge: Create one (or both, for an extra challenge) of the following functions...**\n",
    "\n",
    "- A function called `fences` that takes an input character string and surrounds it on both sides with another string, e.g., \"pasture\" becomes \"|pasture|\" or \"@pasture@\" if either \"|\" or \"@\" are provided.\n",
    "- A function called `rescale` that takes an array and returns a corresponding array of values scaled to lie in the range 0.0 to 1.0.\n",
    "\n",
    "Hint: Strings can be concatenated with the plus operator.\n",
    "\n",
    "```py\n",
    "'cat' + 's'\n",
    "```\n",
    "\n",
    "Hint: If $x_0$ and $x_1$ are the lowest and highest values in an array, respectively, then the replacement value for any element $x$, scaled to between 0.0 and 1.0, should be:\n",
    "\n",
    "$$\n",
    "\\frac{x - x_0}{x_1 - x_0}\n",
    "$$"
   ]
  },
  {
   "cell_type": "markdown",
   "metadata": {},
   "source": [
    "# Understanding and Handling Errors"
   ]
  },
  {
   "cell_type": "markdown",
   "metadata": {},
   "source": [
    "# Connecting to SQLite with Python"
   ]
  },
  {
   "cell_type": "markdown",
   "metadata": {},
   "source": [
    "## Best Practices with Database Connections"
   ]
  },
  {
   "cell_type": "markdown",
   "metadata": {},
   "source": [
    "# Python at the Command Line"
   ]
  },
  {
   "cell_type": "code",
   "execution_count": null,
   "metadata": {
    "collapsed": true
   },
   "outputs": [],
   "source": [
    "'''\n",
    "Reports the min and max July temperatures for each file\n",
    "that matches the given filename pattern.\n",
    "'''\n",
    "\n",
    "import csv\n",
    "import os\n",
    "import sys\n",
    "import glob\n",
    "\n",
    "# Get the user-specified directory\n",
    "directory = sys.argv[1]\n",
    "\n",
    "# Pattern to use in searching for files\n",
    "filename_pattern = os.path.join(directory, '*temperature.csv')\n",
    "\n",
    "for filename in glob.glob(filename_pattern):\n",
    "    july_temps = []\n",
    "    \n",
    "    # While the file is open...\n",
    "    with open(filename, 'r') as stream:\n",
    "        # Use a function to read the file\n",
    "        reader = csv.reader(stream)\n",
    "        \n",
    "        # Each row is a year\n",
    "        for row in reader:\n",
    "            # Add this year's July temperature to the list\n",
    "            july_temps.append(row[6])\n",
    "            \n",
    "    # A human-readable name for the file        \n",
    "    pretty_name = os.path.basename(filename)\n",
    "    print(pretty_name, '--Hottest July mean temp. was', max(july_temps), 'deg K')\n",
    "    print(pretty_name, '--Coolest July mean temp. was', min(july_temps), 'deg K')"
   ]
  }
 ],
 "metadata": {
  "kernelspec": {
   "display_name": "py3",
   "language": "python",
   "name": "py3"
  },
  "language_info": {
   "codemirror_mode": {
    "name": "ipython",
    "version": 3
   },
   "file_extension": ".py",
   "mimetype": "text/x-python",
   "name": "python",
   "nbconvert_exporter": "python",
   "pygments_lexer": "ipython3",
   "version": "3.5.2"
  }
 },
 "nbformat": 4,
 "nbformat_minor": 0
}
