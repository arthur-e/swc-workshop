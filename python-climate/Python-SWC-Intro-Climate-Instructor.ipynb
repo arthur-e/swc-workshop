{
 "cells": [
  {
   "cell_type": "markdown",
   "metadata": {},
   "source": [
    "# Overview"
   ]
  },
  {
   "cell_type": "markdown",
   "metadata": {},
   "source": [
    "### Contents\n",
    "\n",
    "- **Introduction to Python**\n",
    "  - The Python Interpreter\n",
    "  - First Steps with Python\n",
    "  - Importing Libraries\n",
    "  - About the Data\n",
    "  - Arrays and their Attributes\n",
    "  - Getting Help\n",
    "  - More on Arrays\n",
    "  - Basic Data Visualization\n",
    "- **Repeating Tasks with Loops**\n",
    "  - Sequences\n",
    "  - More Complex Loops\n",
    "- **Analyzing Data from Multiple Files**\n",
    "  - Looping over Files\n",
    "  - Generating a Plot\n",
    "  - Putting it All Together\n",
    "- **Conditional Evaluation**\n",
    "  - Conditional Expressions in Python\n",
    "  - Checking our Data\n",
    "- **Creating Functions for Reuse**\n",
    "  - Composing Multiple Functions\n",
    "  - Cleaning Up our Analysis Code\n",
    "  - Positional versus Keyword Arguments\n",
    "  - Documenting Functions\n",
    "- **Understanding and Handling Errors**\n",
    "- **Defensive Programming**\n",
    "  - Assertions\n",
    "  - Test-Driven Development\n",
    "- **Python at the Command Line**\n",
    "- **Analyzing and Optimizing Performance**\n",
    "  - Benchmarking\n",
    "- **Connecting to SQLite with Python**"
   ]
  },
  {
   "cell_type": "markdown",
   "metadata": {},
   "source": [
    "# Introduction to Python"
   ]
  },
  {
   "cell_type": "markdown",
   "metadata": {},
   "source": [
    "## The Python Interpreter"
   ]
  },
  {
   "cell_type": "markdown",
   "metadata": {},
   "source": [
    "### Jupyter Notebook"
   ]
  },
  {
   "cell_type": "markdown",
   "metadata": {},
   "source": [
    "The Python interpreter we'll interact with in Jupyter Notebook is the same interpreter we could use from the command line. To launch Jupyter Notebook:\n",
    "\n",
    "- In GNU/Linux or Mac OS X, launch the Terminal and type: `jupyter notebook`; then press ENTER.\n",
    "- In Windows, launch the Command Prompt and type `jupyter notebook`; then press ENTER."
   ]
  },
  {
   "cell_type": "markdown",
   "metadata": {},
   "source": [
    "## First Steps with Python"
   ]
  },
  {
   "cell_type": "markdown",
   "metadata": {},
   "source": [
    "## Importing Libraries"
   ]
  },
  {
   "cell_type": "markdown",
   "metadata": {},
   "source": [
    "## About the Data"
   ]
  },
  {
   "cell_type": "markdown",
   "metadata": {},
   "source": [
    "The data we're using for this lesson are **monthly averages of surface air temperatures** from 1948 to 2016 for five different locations. They are derived from the NOAA NCEP CPC Monthly Global Surface Air Temperature Data Set, which has a 0.5 degree spatial resolution.\n",
    "\n",
    "**What is the unit for air temperature used in this dataset?** Recall that when we assign a value to a variable, we don't see any output on the screen. To see our Barrow temperature data, we can use the `print()` function again."
   ]
  },
  {
   "cell_type": "code",
   "execution_count": null,
   "metadata": {
    "collapsed": false
   },
   "outputs": [],
   "source": [
    "print(barrow)"
   ]
  },
  {
   "cell_type": "markdown",
   "metadata": {},
   "source": [
    "The data are formatted such that:\n",
    "\n",
    "- Each column is the monthly mean, January (1) through December (12)\n",
    "- Each row is a year, starting from January 1948 (1) through December 2016 (69)\n",
    "\n",
    "[More information on the data can be found here.](http://iridl.ldeo.columbia.edu/SOURCES/.NOAA/.NCEP/.CPC/.GHCN_CAMS/.gridded/.deg0p5/.temp/)"
   ]
  },
  {
   "cell_type": "markdown",
   "metadata": {},
   "source": [
    "## Arrays and their Attributes"
   ]
  },
  {
   "cell_type": "markdown",
   "metadata": {},
   "source": [
    "**How many rows and columns are there in the `barrow` array?**"
   ]
  },
  {
   "cell_type": "markdown",
   "metadata": {},
   "source": [
    "**Challenge: What do each of the following code samples do?**\n",
    "\n",
    "```py\n",
    "barrow[0]\n",
    "barrow[0,]\n",
    "barrow[-1]\n",
    "barrow[-3:-1]\n",
    "```"
   ]
  },
  {
   "cell_type": "markdown",
   "metadata": {},
   "source": [
    "### Slicing NumPy Arrays"
   ]
  },
  {
   "cell_type": "markdown",
   "metadata": {},
   "source": [
    "**Challenge: What's the mean monthly temperature in August of 2016? Converted to degrees Fahrenheit?**\n",
    "\n",
    "Degrees F can be calculated from degrees K by the formula:"
   ]
  },
  {
   "cell_type": "markdown",
   "metadata": {},
   "source": [
    "$$\n",
    "T_F = \\left(T_K \\times \\frac{9}{5}\\right) - 459.67\n",
    "$$"
   ]
  },
  {
   "cell_type": "markdown",
   "metadata": {},
   "source": [
    "### Calculating on NumPy Arrays"
   ]
  },
  {
   "cell_type": "markdown",
   "metadata": {},
   "source": [
    "**Convert the first year of Barrow air temperatures from degrees Kelvin to degrees Celsius.**"
   ]
  },
  {
   "cell_type": "markdown",
   "metadata": {},
   "source": [
    "**Calculate the monthly average of the first two years of air temperatures in Barrow.** (Consider this the average of the monthly averages.) Then convert to Celsius."
   ]
  },
  {
   "cell_type": "markdown",
   "metadata": {},
   "source": [
    "**What is the overall mean temperature in any month in Barrow between 1948 and 2016 in degrees C?**"
   ]
  },
  {
   "cell_type": "markdown",
   "metadata": {},
   "source": [
    "**How cold was the coldest February in Barrow, by monthly mean temperatures, in degrees C?**"
   ]
  },
  {
   "cell_type": "markdown",
   "metadata": {},
   "source": [
    "**Challenge: What's the minimum, maximum, and mean monthly temperature for August in Barrow, in degrees C?**"
   ]
  },
  {
   "cell_type": "markdown",
   "metadata": {},
   "source": [
    "## Getting Help"
   ]
  },
  {
   "cell_type": "markdown",
   "metadata": {},
   "source": [
    "## More on Arrays"
   ]
  },
  {
   "cell_type": "markdown",
   "metadata": {},
   "source": [
    "**What is the mean temperature in 1948? In 1949? And so on...**"
   ]
  },
  {
   "cell_type": "markdown",
   "metadata": {},
   "source": [
    "**What, then, does the following function call give us?**"
   ]
  },
  {
   "cell_type": "code",
   "execution_count": null,
   "metadata": {
    "collapsed": false
   },
   "outputs": [],
   "source": [
    "barrow.mean(axis = 0)"
   ]
  },
  {
   "cell_type": "markdown",
   "metadata": {},
   "source": [
    "## Basic Data Visualization"
   ]
  },
  {
   "cell_type": "markdown",
   "metadata": {},
   "source": [
    "# Repeating Tasks with Loops"
   ]
  },
  {
   "cell_type": "markdown",
   "metadata": {},
   "source": [
    "## Sequences"
   ]
  },
  {
   "cell_type": "markdown",
   "metadata": {},
   "source": [
    "### Character Strings"
   ]
  },
  {
   "cell_type": "markdown",
   "metadata": {},
   "source": [
    "### Lists and Tuples"
   ]
  },
  {
   "cell_type": "markdown",
   "metadata": {},
   "source": [
    "**How many times is the value `\"Barrow\"` found in the `cities` list?**"
   ]
  },
  {
   "cell_type": "markdown",
   "metadata": {},
   "source": [
    "### Performing Calculations with Lists"
   ]
  },
  {
   "cell_type": "markdown",
   "metadata": {},
   "source": [
    "## More Complex Loops"
   ]
  },
  {
   "cell_type": "markdown",
   "metadata": {},
   "source": [
    "### Looping over Sequences"
   ]
  },
  {
   "cell_type": "markdown",
   "metadata": {},
   "source": [
    "**Write a `for` loop that iterates through the letters of your favorite city, putting each letter inside a list. The result should be a list with an element for each letter.**\n",
    "\n",
    "Hint: You can create an empty list like this:\n",
    "\n",
    "```py\n",
    "letters = []\n",
    "```\n",
    "\n",
    "Hint: You can confirm you have the right result by comparing it to:\n",
    "\n",
    "```py\n",
    "list(\"my favorite city\")\n",
    "```"
   ]
  },
  {
   "cell_type": "markdown",
   "metadata": {},
   "source": [
    "### Challenge: Sequences and Mutability"
   ]
  },
  {
   "cell_type": "markdown",
   "metadata": {},
   "source": [
    "**Which of the sequences we've learned about are immutable (i.e., they can't be changed)?**\n",
    "\n",
    "- Strings are (immutable / mutable)?\n",
    "- Lists are (immutable / mutable)?\n",
    "- Tuples are (immutable / mutable)?\n",
    "\n",
    "**And what does this mean for working with each data type?**\n",
    "\n",
    "```py\n",
    "\"birds\".upper()\n",
    "\n",
    "[1, 2, 3].append(4)\n",
    "\n",
    "(1, 2, 3)\n",
    "```\n"
   ]
  },
  {
   "cell_type": "markdown",
   "metadata": {},
   "source": [
    "# Analyzing Data from Multiple Files"
   ]
  },
  {
   "cell_type": "markdown",
   "metadata": {},
   "source": [
    "## First Step: Looping over Files"
   ]
  },
  {
   "cell_type": "markdown",
   "metadata": {},
   "source": [
    "## Second Step: Generating a Plot"
   ]
  },
  {
   "cell_type": "markdown",
   "metadata": {},
   "source": [
    "## Third Step: Putting It All Together"
   ]
  },
  {
   "cell_type": "markdown",
   "metadata": {},
   "source": [
    "### Challenge: Integrating over Multiple File Datasets"
   ]
  },
  {
   "cell_type": "markdown",
   "metadata": {},
   "source": [
    "**For each location (each file), plot the difference between that location's mean temperature and the mean across all locations.**\n",
    "\n",
    "Hint: One way to calculate the mean across five (5) files is by adding the 5 arrays together, then dividing by 5. You can add arrays together in a loop like this:\n",
    "\n",
    "```py\n",
    "# Start with an array full of zeros that is 69-elements long\n",
    "running_total = np.zeros((69))\n",
    "\n",
    "for fname in filenames:\n",
    "    data = np.loadtxt(fname, delimiter = ',')\n",
    "    running_total = running_total + data.mean(axis = 1)\n",
    "```\n",
    "\n",
    "Hint: How do you difference two arrays? Remember how the plus, `+`, and minus, `-`, operators work on arrays?"
   ]
  },
  {
   "cell_type": "markdown",
   "metadata": {},
   "source": [
    "# Conditional Evaluation"
   ]
  },
  {
   "cell_type": "markdown",
   "metadata": {},
   "source": [
    "This code can be represented by the following workflow.\n",
    "\n",
    "![](./python-flowchart-conditional.png)"
   ]
  },
  {
   "cell_type": "markdown",
   "metadata": {},
   "source": [
    "### Challenge: Conditional Expressions"
   ]
  },
  {
   "cell_type": "markdown",
   "metadata": {},
   "source": [
    "**How can you make this code print \"Greater\" by changing only one line?**\n",
    "\n",
    "```py\n",
    "a_number = 42\n",
    "\n",
    "if a_number > 100:\n",
    "    print('Greater')\n",
    "    \n",
    "else:\n",
    "    print('Not greater')\n",
    "    \n",
    "print('Done')\n",
    "```\n",
    "\n",
    "**There are two (2) one-line changes you could make. Can you find them both?**"
   ]
  },
  {
   "cell_type": "markdown",
   "metadata": {},
   "source": [
    "## Conditional Expressions in Python"
   ]
  },
  {
   "cell_type": "markdown",
   "metadata": {},
   "source": [
    "**What do each of the following evaluate to, `True` or `False`?**\n",
    "\n",
    "```py\n",
    "1 < 2\n",
    "1 <= 1\n",
    "3 == 3\n",
    "2 != 3\n",
    "```"
   ]
  },
  {
   "cell_type": "markdown",
   "metadata": {},
   "source": [
    "## Checking our Data"
   ]
  },
  {
   "cell_type": "markdown",
   "metadata": {},
   "source": [
    "### Challenge: Fitting a Line over Multiple File Datasets"
   ]
  },
  {
   "cell_type": "markdown",
   "metadata": {},
   "source": [
    "**Write a `for` loop, with an `if` statement inside, that calculates a line of best fit for each dataset's temperature anomalies and prints out a message as to whether that trend line is positive or negative.**\n",
    "\n",
    "Hint: What we want to know about each trend line is whether, for:\n",
    "\n",
    "```py\n",
    "results = sm.OLS(y_data, x_data).fit()\n",
    "b0, b1 = results.params\n",
    "```\n",
    "\n",
    "If `b1`, the slope of the line, is positive or negative."
   ]
  },
  {
   "cell_type": "markdown",
   "metadata": {},
   "source": [
    "# Creating Functions for Reuse"
   ]
  },
  {
   "cell_type": "markdown",
   "metadata": {},
   "source": [
    "At this point, what have we learned?\n",
    "\n",
    "- What sequences are and how to create them;\n",
    "- A list is created by comma-separated values inside square brackets;\n",
    "- A tuple is created by comma-separated values inside parentheses;\n",
    "- Lists are mutable--their elements can be changed;\n",
    "- Strings and tuples are immutable--the letters or other elements in these sequences cannot be changed;\n",
    "- How to use `glob.glob()` to create a list of files whose names match a given pattern;\n",
    "- How to use `if` statements to test a condition;\n",
    "- How to use `elif` and `else` statements to test alternative conditions;\n",
    "- Conditional operators including `==`, `>=`, `<=`, `and`, and `or`;\n",
    "- `X and Y` is only true if both X and Y are true;\n",
    "- `X or Y` is true if either X, Y, or both are true;\n",
    "- How to implement a test over multiple inputs using an `if` statement inside a `for` loop."
   ]
  },
  {
   "cell_type": "markdown",
   "metadata": {},
   "source": [
    "## Composing Multiple Functions"
   ]
  },
  {
   "cell_type": "markdown",
   "metadata": {},
   "source": [
    "Now that we've created a function that converts temperatures in degrees Kelvin to degrees Celsius, let's see if we can write a function that converts from degrees Celsius to degrees Fahrenheit.\n",
    "\n",
    "$$\n",
    "T_F = \\left(T_C \\times \\frac{9}{5}\\right) + 32\n",
    "$$"
   ]
  },
  {
   "cell_type": "markdown",
   "metadata": {},
   "source": [
    "**Now, what if we want to convert temperatures in degrees to Kelvin to degrees Fahrenheit?**"
   ]
  },
  {
   "cell_type": "markdown",
   "metadata": {},
   "source": [
    "## Cleaning Up our Analysis Code"
   ]
  },
  {
   "cell_type": "markdown",
   "metadata": {},
   "source": [
    "## Positional versus Keyword Arguments"
   ]
  },
  {
   "cell_type": "markdown",
   "metadata": {},
   "source": [
    "## Documenting Functions"
   ]
  },
  {
   "cell_type": "markdown",
   "metadata": {},
   "source": [
    "### Challenge: Functions"
   ]
  },
  {
   "cell_type": "markdown",
   "metadata": {},
   "source": [
    "**Create one (or both, for an extra challenge) of the following functions...**\n",
    "\n",
    "- A function called `fences` that takes an input character string and surrounds it on both sides with another string, e.g., \"pasture\" becomes \"|pasture|\" or \"@pasture@\" if either \"|\" or \"@\" are provided.\n",
    "- A function called `rescale` that takes an array and returns a corresponding array of values scaled to lie in the range 0.0 to 1.0.\n",
    "\n",
    "Hint: Strings can be concatenated with the plus operator.\n",
    "\n",
    "```py\n",
    "'cat' + 's'\n",
    "```\n",
    "\n",
    "Hint: If $x_0$ and $x_1$ are the lowest and highest values in an array, respectively, then the replacement value for any element $x$, scaled to between 0.0 and 1.0, should be:\n",
    "\n",
    "$$\n",
    "\\frac{x - x_0}{x_1 - x_0}\n",
    "$$"
   ]
  },
  {
   "cell_type": "markdown",
   "metadata": {},
   "source": [
    "# Understanding and Handling Errors"
   ]
  },
  {
   "cell_type": "markdown",
   "metadata": {},
   "source": [
    "# Defensive Programming"
   ]
  },
  {
   "cell_type": "markdown",
   "metadata": {},
   "source": [
    "Up to this point, we've introduced the basic tools of programming:\n",
    "\n",
    "- Variables and lists,\n",
    "- File input and output,\n",
    "- Loops,\n",
    "- Conditionals, and\n",
    "- Functions."
   ]
  },
  {
   "cell_type": "markdown",
   "metadata": {},
   "source": [
    "## Assertions"
   ]
  },
  {
   "cell_type": "markdown",
   "metadata": {},
   "source": [
    "## Test-Driven Development"
   ]
  },
  {
   "cell_type": "markdown",
   "metadata": {},
   "source": [
    "For example, suppose we need to find where two or more time series overlap. The range of each time series is represented as a pair of numbers, which are the time the interval started and ended. The output is the largest range that they all include.\n",
    "\n",
    "![](./python-overlapping-ranges.svg)"
   ]
  },
  {
   "cell_type": "markdown",
   "metadata": {},
   "source": [
    "Here are three test functions for `range_overlap()`.\n",
    "\n",
    "```py\n",
    "assert range_overlap([ (0.0, 1.0) ]) == (0.0, 1.0)\n",
    "assert range_overlap([ (2.0, 3.0), (2.0, 4.0) ]) == (2.0, 3.0)\n",
    "assert range_overlap([ (0.0, 1.0), (0.0, 2.0), (-1.0, 1.0) ]) == (0.0, 1.0)\n",
    "```"
   ]
  },
  {
   "cell_type": "markdown",
   "metadata": {},
   "source": [
    "We're missing a test case, however; what should happen when the ranges don't overlap at all? Or if they share a boundary?\n",
    "\n",
    "```py\n",
    "assert range_overlap([ (0.0, 1.0), (5.0, 6.0) ]) == ???\n",
    "assert range_overlap([ (0.0, 1.0), (1.0, 2.0) ]) == ???\n",
    "```"
   ]
  },
  {
   "cell_type": "markdown",
   "metadata": {},
   "source": [
    "**Since we're planning to use the `range_overlap()` function to generate a time series for the horizontal axis in a plot, we'll decide:**\n",
    "\n",
    "- Every overlap has to have non-zero width, and,\n",
    "- We will return the special value `None` when there's no overlap.\n",
    "\n",
    "`None` is built into Python and means \"nothing here.\"\n",
    "\n",
    "```py\n",
    "assert range_overlap([ (0.0, 1.0), (5.0, 6.0) ]) == None\n",
    "assert range_overlap([ (0.0, 1.0), (1.0, 2.0) ]) == None\n",
    "```"
   ]
  },
  {
   "cell_type": "markdown",
   "metadata": {},
   "source": [
    "### A Potential Solution"
   ]
  },
  {
   "cell_type": "markdown",
   "metadata": {},
   "source": [
    "### Challenge: Fix the Range Overlap Function"
   ]
  },
  {
   "cell_type": "markdown",
   "metadata": {},
   "source": [
    "Fix `range_overlap()`; re-run `test_range_overlap()` after each change you make."
   ]
  },
  {
   "cell_type": "markdown",
   "metadata": {},
   "source": [
    "## When in Doubt..."
   ]
  },
  {
   "cell_type": "code",
   "execution_count": null,
   "metadata": {
    "collapsed": false
   },
   "outputs": [],
   "source": [
    "import this"
   ]
  },
  {
   "cell_type": "markdown",
   "metadata": {},
   "source": [
    "## Testing for Quality Control"
   ]
  },
  {
   "cell_type": "markdown",
   "metadata": {},
   "source": [
    "# Python at the Command Line"
   ]
  },
  {
   "cell_type": "markdown",
   "metadata": {
    "collapsed": true
   },
   "source": [
    "We've seen a lot of tools and techniques for improving our productivity through reproducible Python code. So far, however, we've been working exclusively within Jupyter Notebook. Jupyter Notebook is great for interactive, exploratory work in Python and encourages literate programming, as we discussed earlier. A Notebook is a great place to demonstrate to your future self or your peers how some Python code works.\n",
    "\n",
    "But when it's time to scale-up your work and process data, you want to be on the command line, for all the reasons we saw when we discussed the Unix shell earlier.\n",
    "\n",
    "Let's explore Python programs at the command line using the following *Python script,* `temp_extremes.py`.\n",
    "\n",
    "```py\n",
    "'''\n",
    "Reports the min and max July temperatures for each file\n",
    "that matches the given filename pattern.\n",
    "'''\n",
    "\n",
    "import csv\n",
    "import os\n",
    "import sys\n",
    "import glob\n",
    "\n",
    "def main():\n",
    "    # Get the user-specified directory\n",
    "    directory = sys.argv[1]\n",
    "\n",
    "    # Pattern to use in searching for files\n",
    "    filename_pattern = os.path.join(directory, '*temperature.csv')\n",
    "\n",
    "    for filename in glob.glob(filename_pattern):\n",
    "        july_temps = []\n",
    "\n",
    "        # While the file is open...\n",
    "        with open(filename, 'r') as stream:\n",
    "            # Use a function to read the file\n",
    "            reader = csv.reader(stream)\n",
    "\n",
    "            # Each row is a year\n",
    "            for row in reader:\n",
    "                # Add this year's July temperature to the list\n",
    "                july_temps.append(row[6])\n",
    "\n",
    "        # A human-readable name for the file        \n",
    "        pretty_name = os.path.basename(filename)\n",
    "        print(pretty_name, '--Hottest July mean temp. was', max(july_temps), 'deg K')\n",
    "        print(pretty_name, '--Coolest July mean temp. was', min(july_temps), 'deg K')\n",
    "        \n",
    "        \n",
    "if __name__ == '__main__':\n",
    "    main()\n",
    "```"
   ]
  },
  {
   "cell_type": "markdown",
   "metadata": {},
   "source": [
    "We can run this script on the command line by typing the following:\n",
    "\n",
    "```sh\n",
    "$ python3 temp_extremes.py .\n",
    "```\n",
    "\n",
    "Remember that the single dot, `.` represents the current working directory, which is where all of our temperature CSV files are located."
   ]
  },
  {
   "cell_type": "markdown",
   "metadata": {},
   "source": [
    "## Our First Python Script"
   ]
  },
  {
   "cell_type": "markdown",
   "metadata": {},
   "source": [
    "**Let's investigate this command-line program, line-by-line. We'll start to write this in our own text editor, calling the file `myscript.py` for now.**"
   ]
  },
  {
   "cell_type": "markdown",
   "metadata": {},
   "source": [
    "**The docstring.** \n",
    "\n",
    "```py\n",
    "'''\n",
    "Reports the min and max July temperatures for each file\n",
    "that matches the given filename pattern.\n",
    "'''\n",
    "```"
   ]
  },
  {
   "cell_type": "markdown",
   "metadata": {},
   "source": [
    "**Module imports.** \n",
    "\n",
    "```py\n",
    "import csv\n",
    "import os\n",
    "import sys\n",
    "import glob\n",
    "```"
   ]
  },
  {
   "cell_type": "markdown",
   "metadata": {},
   "source": [
    "### Encapsulating to Keep the Namespace Clean"
   ]
  },
  {
   "cell_type": "markdown",
   "metadata": {},
   "source": [
    "What do we have so far?\n",
    "\n",
    "```py\n",
    "import csv\n",
    "import os\n",
    "import sys\n",
    "import glob\n",
    "\n",
    "# Get the user-specified directory\n",
    "directory = sys.argv[1]\n",
    "\n",
    "# Pattern to use in searching for files\n",
    "filename_pattern = os.path.join(directory, '*temperature.csv')\n",
    "files = glob.glob(filename_pattern)\n",
    "print(files)\n",
    "```\n",
    "\n",
    "**Why does this work? Let's enter an interactive session again.**"
   ]
  },
  {
   "cell_type": "markdown",
   "metadata": {},
   "source": [
    "## Alternative Command-Line Tools"
   ]
  },
  {
   "cell_type": "markdown",
   "metadata": {},
   "source": [
    "`sys.argv` is a rather crude tool for processing command-line arguments. There are a couple of alternatives I suggest you look into if you are going to be writing command-line programs in Python:\n",
    "\n",
    "- `argparse`, another built-in library, that handles common cases in a systematic way. Check out [this tutorial](http://docs.python.org/dev/howto/argparse.html).\n",
    "- `Fire`, [a very new Python module from Google](https://opensource.googleblog.com/2017/03/python-fire-command-line.html), which can turn any Python object (function, class, etc.) into a command-line API."
   ]
  },
  {
   "cell_type": "markdown",
   "metadata": {},
   "source": [
    "### Optional: Try out Python Fire"
   ]
  },
  {
   "cell_type": "markdown",
   "metadata": {},
   "source": [
    "[Installation instructions and source code here.](https://github.com/google/python-fire)"
   ]
  },
  {
   "cell_type": "markdown",
   "metadata": {},
   "source": [
    "## Modularization"
   ]
  },
  {
   "cell_type": "markdown",
   "metadata": {},
   "source": [
    "```\n",
    "package_name/\n",
    "    __init__.py\n",
    "    module1.py\n",
    "    subpackage/\n",
    "        __init__.py\n",
    "        module2.py\n",
    "```\n",
    "\n",
    "Which could be used as:\n",
    "\n",
    "```py\n",
    "import package_name.module1\n",
    "from package_name.module1 import some_function\n",
    "from package_name.subpackage import module2\n",
    "from package_name.subpackage.module2 import another_function\n",
    "```"
   ]
  },
  {
   "cell_type": "markdown",
   "metadata": {},
   "source": [
    "### Installing Your Project as a Module"
   ]
  },
  {
   "cell_type": "markdown",
   "metadata": {},
   "source": [
    "We haven't covered installing new Python modules, but when the time is right for you to package your code together as a single module (e.g., as `package_name`, in the example above), [consider installing your module \"in development mode\" first.](https://packaging.python.org/tutorials/distributing-packages/#working-in-development-mode)"
   ]
  },
  {
   "cell_type": "markdown",
   "metadata": {},
   "source": [
    "## Unit Testing"
   ]
  },
  {
   "cell_type": "markdown",
   "metadata": {},
   "source": [
    "**A good test is one that verifies that a *small* and *specific* part of your code is working.** If a test is written too generally, then we don't actually know went wrong when the test fails. In general, when we test a specific part of a larger code base, we are *unit testing.*\n",
    "\n",
    "Python has a built-in unit testing module. Let's try it out.\n",
    "\n",
    "```py\n",
    "import unittest\n",
    "\n",
    "class Main(unittest.TestCase):\n",
    "    \n",
    "    def test_range_overlap_with_disjoint_ranges(self):\n",
    "        'Should return None for ranges that do not intersect'\n",
    "        self.assertEqual(range_overlap([ (0.0, 1.0), (5.0, 6.0) ]), None)\n",
    "        self.assertEqual(range_overlap([ (0.0, 1.0), (1.0, 2.0) ]), None)\n",
    "        \n",
    "    def test_range_overlap_with_single_range(self):\n",
    "        'Should return same input when single range is provided'\n",
    "        self.assertEqual(range_overlap([ (0.0, 1.0) ]), (0.0, 1.0))\n",
    "        \n",
    "        \n",
    "if __name___ == '__main__':\n",
    "    unittest.main()\n",
    "```"
   ]
  },
  {
   "cell_type": "markdown",
   "metadata": {},
   "source": [
    "# Analyzing and Optimizing Performance"
   ]
  },
  {
   "cell_type": "markdown",
   "metadata": {},
   "source": [
    "> \"Premature optimization is the root of all evil.\" - Sir Tony Hoare (later popularized by Donald Knuth)"
   ]
  },
  {
   "cell_type": "markdown",
   "metadata": {},
   "source": [
    "## Benchmarking"
   ]
  },
  {
   "cell_type": "markdown",
   "metadata": {},
   "source": [
    "## Line and Memory Profiling"
   ]
  },
  {
   "cell_type": "markdown",
   "metadata": {},
   "source": [
    "Line and memory profilers aren't available in the Anaconda installation I had you use, [but you can read all about this topic on this excellent blog post.](https://www.huyng.com/posts/python-performance-analysis)"
   ]
  },
  {
   "cell_type": "markdown",
   "metadata": {},
   "source": [
    "# Connecting to SQLite with Python"
   ]
  },
  {
   "cell_type": "markdown",
   "metadata": {},
   "source": [
    "**What is one way we could access each row at a time?**"
   ]
  },
  {
   "cell_type": "markdown",
   "metadata": {},
   "source": [
    "## Best Practices with Database Connections"
   ]
  }
 ],
 "metadata": {
  "kernelspec": {
   "display_name": "py3",
   "language": "python",
   "name": "py3"
  },
  "language_info": {
   "codemirror_mode": {
    "name": "ipython",
    "version": 3
   },
   "file_extension": ".py",
   "mimetype": "text/x-python",
   "name": "python",
   "nbconvert_exporter": "python",
   "pygments_lexer": "ipython3",
   "version": "3.5.2"
  }
 },
 "nbformat": 4,
 "nbformat_minor": 0
}
