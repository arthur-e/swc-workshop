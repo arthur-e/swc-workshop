{
 "cells": [
  {
   "cell_type": "markdown",
   "metadata": {},
   "source": [
    "# Overview: Advanced Python"
   ]
  },
  {
   "cell_type": "markdown",
   "metadata": {},
   "source": [
    "This lesson introduces Python as an environment for reproducible scientific data analysis and programming. Some of the lesson material are based on the Software Carpentry [Programming with Python lesson](http://swcarpentry.github.io/python-novice-inflammation/)."
   ]
  },
  {
   "cell_type": "markdown",
   "metadata": {},
   "source": [
    "## License"
   ]
  },
  {
   "cell_type": "markdown",
   "metadata": {},
   "source": [
    "As with [the Software Carpentry lesson](http://swcarpentry.github.io/python-novice-inflammation/license/), this lesson is licensed for open use under the [CC BY 4.0 license](https://creativecommons.org/licenses/by/4.0/)."
   ]
  },
  {
   "cell_type": "markdown",
   "metadata": {},
   "source": [
    "### Contents\n",
    "\n",
    "- **Capstone: Fitting Linear Models**\n",
    "  - About the Data\n",
    "  - Introducing `statsmodels`\n",
    "- **Python at the Command Line**\n",
    "  - Our First Python Script\n",
    "  - Alternative Command-Line Tools\n",
    "  - Modularization\n",
    "- **Understanding and Handling Errors**\n",
    "- **Defensive Programming**\n",
    "  - Assertions\n",
    "  - Test-Driven Development\n",
    "  - Testing for Quality Control\n",
    "  - Unit Testing\n",
    "- **Analyzing and Optimizing Performance**\n",
    "  - Benchmarking\n",
    "- **Capstone: WHOI Data**\n",
    "  - Your Tasks\n",
    "  - Getting Started\n",
    "- **Connecting to SQLite with Python**"
   ]
  },
  {
   "cell_type": "markdown",
   "metadata": {},
   "source": [
    "# Capstone: Fitting Linear Models"
   ]
  },
  {
   "cell_type": "markdown",
   "metadata": {},
   "source": [
    "We've seen the basics of the Python programming language. Now, let's get some hands-on experience applying what we've learned to real scientific data. **In this exercise, we'll see how to fit linear trends to data using a new Python library, `statsmodels`. After you see an initial example, you'll have time to extend the example on your own.**"
   ]
  },
  {
   "cell_type": "markdown",
   "metadata": {},
   "source": [
    "# About the Data"
   ]
  },
  {
   "cell_type": "markdown",
   "metadata": {},
   "source": [
    "The data we're using for this lesson are **monthly averages of surface air temperatures** from 1948 to 2016 for five different locations. They are derived from the NOAA NCEP CPC Monthly Global Surface Air Temperature Data Set, which has a 0.5 degree spatial resolution.\n",
    "\n",
    "**What is the unit for air temperature used in this dataset?** Recall that when we assign a value to a variable, we don't see any output on the screen. To see our Barrow temperature data, we can use the `print()` function again."
   ]
  },
  {
   "cell_type": "code",
   "execution_count": 2,
   "metadata": {
    "collapsed": false
   },
   "outputs": [
    {
     "name": "stdout",
     "output_type": "stream",
     "text": [
      "[[ 245.66    247.52    245.28    256.32    262.9     272.46    278.06\n",
      "   275.51    269.34    261.68    251.35    242.52  ]\n",
      " [ 248.12    242.64    252.04    248.61    262.84    271.93    277.45\n",
      "   278.92    274.4     266.77    258.69    248.2   ]\n",
      " [ 252.3     240.39    248.66    255.41    265.84    274.64    278.87\n",
      "   278.26    273.36    265.77    261.22    248.8   ]\n",
      " [ 239.52    242.16    243.65    256.21    266.      274.64    279.66\n",
      "   279.17    273.23    264.89    260.47    249.39  ]\n",
      " [ 244.95    241.02    244.75    251.51    262.25    272.85    278.78\n",
      "   277.02    270.84    264.87    259.14    248.89  ]\n",
      " [ 244.04    242.96    245.17    255.92    265.94    275.58    277.5     275.5\n",
      "   272.59    261.36    254.54    245.16  ]\n",
      " [ 245.15    241.35    249.29    255.02    264.12    273.83    277.92\n",
      "   279.6     273.92    266.54    256.88    244.83  ]\n",
      " [ 248.89    240.27    245.6     253.41    264.44    272.96    277.09\n",
      "   274.26    271.2     260.74    248.42    246.11  ]\n",
      " [ 244.43    240.49    246.82    255.39    266.63    272.9     277.25\n",
      "   274.2     272.48    260.43    249.28    246.57  ]\n",
      " [ 252.79    242.63    247.48    258.35    266.03    274.71    277.16\n",
      "   278.55    271.8     265.78    255.21    243.86  ]\n",
      " [ 247.12    245.83    249.23    255.7     265.03    274.97    277.51\n",
      "   278.35    273.96    263.44    255.64    250.09  ]\n",
      " [ 245.59    250.75    240.12    253.26    265.89    274.27    275.25\n",
      "   275.97    271.94    263.74    253.62    243.95  ]\n",
      " [ 244.29    249.98    248.36    252.28    267.14    273.45    276.63\n",
      "   275.15    269.89    262.72    251.06    252.82  ]\n",
      " [ 250.32    241.28    243.16    251.37    267.16    274.29    276.54\n",
      "   275.49    273.54    262.95    254.61    244.49  ]\n",
      " [ 252.23    251.42    247.37    254.33    264.13    274.27    277.91\n",
      "   278.39    271.66    265.05    256.49    250.37  ]\n",
      " [ 251.01    246.49    244.48    256.79    268.48    273.48    276.17\n",
      "   275.96    272.35    262.42    251.49    253.72  ]\n",
      " [ 244.77    241.01    242.21    250.23    264.22    273.3     276.61\n",
      "   275.63    271.4     263.85    254.92    242.63  ]\n",
      " [ 244.62    240.12    251.65    256.26    264.17    272.55    276.38\n",
      "   275.97    272.35    260.26    260.46    247.79  ]\n",
      " [ 245.2     243.45    242.63    252.33    264.26    274.66    276.67\n",
      "   275.17    273.01    264.47    257.25    248.04  ]\n",
      " [ 248.1     245.61    249.87    257.78    266.9     274.25    276.39\n",
      "   275.76    270.87    262.69    254.8     250.74  ]\n",
      " [ 249.26    242.05    248.97    252.76    266.36    273.65    278.7\n",
      "   278.02    272.49    263.92    253.8     247.5   ]\n",
      " [ 246.89    244.36    248.17    256.93    267.02    274.51    275.29\n",
      "   273.09    272.59    265.6     250.46    252.78  ]\n",
      " [ 246.45    247.03    246.63    254.01    265.85    273.49    276.41\n",
      "   275.41    269.49    257.23    254.26    248.5   ]\n",
      " [ 242.13    240.63    243.75    252.48    264.86    275.15    277.7\n",
      "   274.59    272.5     262.79    254.22    248.6   ]\n",
      " [ 245.1     243.38    242.77    251.69    265.32    273.57    278.84\n",
      "   277.91    271.99    265.99    255.61    252.15  ]\n",
      " [ 246.13    247.34    243.83    254.08    266.04    273.8     276.94\n",
      "   276.58    273.79    264.65    256.48    251.51  ]\n",
      " [ 247.74    239.06    244.38    252.04    265.73    272.47    276.98\n",
      "   278.23    273.87    259.68    251.41    241.78  ]\n",
      " [ 241.6     246.71    249.93    252.84    266.02    273.88    276.78\n",
      "   275.41    269.8     259.93    249.18    243.94  ]\n",
      " [ 245.59    241.88    246.59    254.65    265.36    274.01    276.99\n",
      "   277.17    273.7     263.14    257.85    246.84  ]\n",
      " [ 252.33    248.12    242.86    252.26    266.26    274.62    277.51\n",
      "   279.74    274.49    265.64    251.91    249.33  ]\n",
      " [ 252.5     247.59    248.82    255.9     265.09    273.42    277.74\n",
      "   276.34    274.01    260.2     258.06    248.86  ]\n",
      " [ 252.85    242.06    246.28    254.76    266.71    273.58    278.7\n",
      "   279.6801  274.62    266.07    260.85    246.9   ]\n",
      " [ 246.82    250.27    248.81    253.95    265.82    275.47    276.13\n",
      "   274.99    269.79    264.34    254.28    245.07  ]\n",
      " [ 255.14    245.79    248.75    255.22    268.94    275.16    278.04\n",
      "   275.07    270.55    264.25    254.67    249.39  ]\n",
      " [ 247.41    250.2     247.26    253.82    264.28    274.26    277.22\n",
      "   276.23    271.89    259.64    249.28    248.69  ]\n",
      " [ 243.      245.26    245.31    254.97    263.21    273.89    276.75\n",
      "   275.42    269.6     258.88    255.23    253.84  ]\n",
      " [ 245.9     235.7     244.44    247.95    263.35    274.92    277.67\n",
      "   276.39    273.82    264.31    249.53    246.02  ]\n",
      " [ 250.66    244.58    246.8     248.61    266.59    274.56    277.25\n",
      "   276.27    271.35    260.75    257.02    251.27  ]\n",
      " [ 245.47    251.1     244.93    250.6     265.36    274.82    279.27\n",
      "   277.23    275.31    263.35    254.18    250.93  ]\n",
      " [ 248.06    245.35    247.77    250.9     266.2     274.56    277.7\n",
      "   277.75    271.32    267.57    252.11    249.45  ]\n",
      " [ 249.63    246.68    247.49    255.31    265.54    274.02    277.73\n",
      "   275.84    271.62    258.34    248.56    250.82  ]\n",
      " [ 241.62    257.48    247.96    258.22    265.39    275.42    280.11\n",
      "   280.18    274.69    264.81    248.74    250.75  ]\n",
      " [ 243.12    240.      249.57    259.39    269.73    276.15    279.17\n",
      "   276.97    272.72    264.47    251.15    246.73  ]\n",
      " [ 247.28    243.6     245.3     256.1     269.67    276.63    277.5\n",
      "   276.15    272.6     264.51    250.08    244.12  ]\n",
      " [ 244.31    245.26    251.27    258.2     269.23    277.28    278.09\n",
      "   274.28    268.89    259.18    253.01    249.2   ]\n",
      " [ 248.05    248.52    248.25    257.31    266.78    276.48    281.76\n",
      "   276.78    272.97    268.03    257.33    249.91  ]\n",
      " [ 248.14    248.22    244.39    258.36    269.12    276.29    279.18\n",
      "   276.61    271.37    257.02    249.25    246.96  ]\n",
      " [ 247.81    246.38    245.45    258.4     269.41    276.27    279.36    277.\n",
      "   275.55    262.83    253.32    248.82  ]\n",
      " [ 248.38    245.65    251.99    254.02    271.74    277.23    277.65\n",
      "   273.45    271.1     257.76    256.4     251.3   ]\n",
      " [ 244.91    247.23    246.02    256.88    266.29    276.01    279.16\n",
      "   279.34    275.07    264.47    260.06    247.69  ]\n",
      " [ 245.19    245.54    253.27    261.44    268.26    276.95    281.2\n",
      "   278.93    275.8     267.62    259.2     252.71  ]\n",
      " [ 243.85    244.22    245.52    253.71    270.49    276.88    279.34\n",
      "   278.36    273.99    264.52    254.36    245.63  ]\n",
      " [ 246.86    248.67    247.19    254.44    263.16    276.81    278.43\n",
      "   276.95    272.99    264.51    256.15    251.8   ]\n",
      " [ 250.87    252.82    247.19    256.52    262.62    275.2     277.4     276.\n",
      "   273.79    261.83    255.56    249.26  ]\n",
      " [ 247.36    246.03    252.86    255.58    268.74    274.61    277.73\n",
      "   276.2     275.08    268.29    260.39    254.52  ]\n",
      " [ 249.51    248.38    248.76    259.16    267.28    275.32    278.29\n",
      "   276.2     273.09    268.66    257.18    250.49  ]\n",
      " [ 248.81    244.36    246.86    256.96    268.68    277.54    279.86\n",
      "   279.97    273.06    267.07    257.15    250.49  ]\n",
      " [ 250.03    247.77    251.23    256.23    268.59    275.15    277.72\n",
      "   278.94    274.42    267.14    253.75    253.15  ]\n",
      " [ 246.16    250.86    245.87    253.31    268.51    275.84    277.52\n",
      "   276.19    275.68    269.29    256.62    253.05  ]\n",
      " [ 247.26    248.67    245.21    259.71    265.85    275.7401  279.99\n",
      "   279.82    275.89    266.91    261.99    253.9   ]\n",
      " [ 246.28    246.21    246.88    258.33    267.85    275.64    277.85\n",
      "   276.39    274.12    265.39    256.85    253.57  ]\n",
      " [ 247.09    246.44    246.22    256.26    268.96    275.03    279.62\n",
      "   277.92    274.49    268.55    254.66    253.4   ]\n",
      " [ 245.53    249.51    248.98    258.93    267.35    274.91    278.52\n",
      "   278.96    275.55    267.43    260.76    248.88  ]\n",
      " [ 249.82    250.2     250.58    254.86    267.95    275.15    278.4\n",
      "   277.98    275.31    267.61    253.98    250.52  ]\n",
      " [ 242.19    248.96    243.16    257.6     266.93    275.86    279.16\n",
      "   279.32    274.23    268.54    256.51    248.66  ]\n",
      " [ 250.17    245.43    249.71    254.56    266.73    277.18    279.58\n",
      "   277.69    272.76    269.18    258.31    252.66  ]\n",
      " [ 256.26    249.03    250.96    258.16    267.62    273.48    276.79\n",
      "   279.19    273.85    265.64    260.18    255.57  ]\n",
      " [ 248.85    252.09    248.18    257.83    271.14    276.61    279.49\n",
      "   276.57    271.73    267.68    259.43    250.4   ]\n",
      " [ 256.61    254.16    250.8     261.01    270.44    276.61    279.02\n",
      "   279.61    273.73    268.21    256.45    251.37  ]]\n"
     ]
    }
   ],
   "source": [
    "import numpy as np\n",
    "barrow = np.loadtxt('barrow.temperature.csv', delimiter = ',')\n",
    "print(barrow)"
   ]
  },
  {
   "cell_type": "markdown",
   "metadata": {},
   "source": [
    "The data are formatted such that:\n",
    "\n",
    "- Each column is the monthly mean, January (1) through December (12)\n",
    "- Each row is a year, starting from January 1948 (1) through December 2016 (69)\n",
    "\n",
    "[More information on the data can be found here.](http://iridl.ldeo.columbia.edu/SOURCES/.NOAA/.NCEP/.CPC/.GHCN_CAMS/.gridded/.deg0p5/.temp/)"
   ]
  },
  {
   "cell_type": "code",
   "execution_count": 3,
   "metadata": {
    "collapsed": false
   },
   "outputs": [
    {
     "data": {
      "image/png": "[encoded data removed]",
      "text/plain": [
       "<matplotlib.figure.Figure at 0x7f90240d40f0>"
      ]
     },
     "metadata": {},
     "output_type": "display_data"
    }
   ],
   "source": [
    "import matplotlib.pyplot as pyplot\n",
    "%matplotlib inline\n",
    "\n",
    "image = pyplot.imshow(barrow, aspect = 1/3)\n",
    "pyplot.show()"
   ]
  },
  {
   "cell_type": "code",
   "execution_count": 4,
   "metadata": {
    "collapsed": false
   },
   "outputs": [
    {
     "data": {
      "image/png": "[encoded data removed]",
      "text/plain": [
       "<matplotlib.figure.Figure at 0x7f90092823c8>"
      ]
     },
     "metadata": {},
     "output_type": "display_data"
    }
   ],
   "source": [
    "avg_temp = barrow.mean(axis = 1)\n",
    "avg_temp_plot = pyplot.plot(avg_temp)\n",
    "pyplot.show()"
   ]
  },
  {
   "cell_type": "markdown",
   "metadata": {},
   "source": [
    "## Introducing `statsmodels`"
   ]
  },
  {
   "cell_type": "markdown",
   "metadata": {},
   "source": [
    "Let's say we're interested in *temperature anomalies;* that is, the year-to-year deviation in temperature from a long-term mean."
   ]
  },
  {
   "cell_type": "code",
   "execution_count": 20,
   "metadata": {
    "collapsed": false
   },
   "outputs": [
    {
     "data": {
      "image/png": "[encoded data removed]",
      "text/plain": [
       "<matplotlib.figure.Figure at 0x7f9008d08048>"
      ]
     },
     "metadata": {},
     "output_type": "display_data"
    }
   ],
   "source": [
    "# Subtract the location's long-term mean\n",
    "barrow_anomalies = barrow.mean(axis = 1) - barrow.mean()\n",
    "\n",
    "pyplot.plot(range(1948, 2017), barrow_anomalies)\n",
    "pyplot.xlabel('Year')\n",
    "pyplot.ylabel('Temperature Anomaly (deg K)')\n",
    "pyplot.show()"
   ]
  },
  {
   "cell_type": "markdown",
   "metadata": {},
   "source": [
    "Neat! I can do more to make my plot look even nicer, however."
   ]
  },
  {
   "cell_type": "code",
   "execution_count": 21,
   "metadata": {
    "collapsed": false
   },
   "outputs": [
    {
     "data": {
      "image/png": "[encoded data removed]",
      "text/plain": [
       "<matplotlib.figure.Figure at 0x7f9008f60780>"
      ]
     },
     "metadata": {},
     "output_type": "display_data"
    }
   ],
   "source": [
    "pyplot.plot(range(1948, 2017), barrow_anomalies)\n",
    "\n",
    "# Show only this x-axis range\n",
    "pyplot.xlim(1948, 2017)\n",
    "\n",
    "# Create a red dashed line centered on 0 (y-axis) from 1948 to 2017\n",
    "pyplot.hlines(0, 1948, 2017, colors = 'red', linestyles = 'dashed')\n",
    "\n",
    "pyplot.xlabel('Year')\n",
    "pyplot.ylabel('Temperature Anomaly (deg K)')\n",
    "pyplot.show()"
   ]
  },
  {
   "cell_type": "markdown",
   "metadata": {},
   "source": [
    "Let's also say we want to fit a straight line to the anomalies. **We can use the Python library `statsmodels` to fit an ordinary-least squares (OLS) regression to our temperature anomaly.**"
   ]
  },
  {
   "cell_type": "code",
   "execution_count": 27,
   "metadata": {
    "collapsed": false
   },
   "outputs": [
    {
     "data": {
      "text/plain": [
       "array([1948, 1949, 1950, 1951, 1952, 1953, 1954, 1955, 1956, 1957, 1958,\n",
       "       1959, 1960, 1961, 1962, 1963, 1964, 1965, 1966, 1967, 1968, 1969,\n",
       "       1970, 1971, 1972, 1973, 1974, 1975, 1976, 1977, 1978, 1979, 1980,\n",
       "       1981, 1982, 1983, 1984, 1985, 1986, 1987, 1988, 1989, 1990, 1991,\n",
       "       1992, 1993, 1994, 1995, 1996, 1997, 1998, 1999, 2000, 2001, 2002,\n",
       "       2003, 2004, 2005, 2006, 2007, 2008, 2009, 2010, 2011, 2012, 2013,\n",
       "       2014, 2015, 2016])"
      ]
     },
     "execution_count": 27,
     "metadata": {},
     "output_type": "execute_result"
    }
   ],
   "source": [
    "import statsmodels.api as sm\n",
    "\n",
    "data = np.loadtxt('barrow.temperature.csv', delimiter = ',')\n",
    "\n",
    "# Subtract the location's long-term mean\n",
    "y_data = data.mean(axis = 1) - data.mean()\n",
    "\n",
    "# Create an array of numbers 1948, 1949, ..., 2016\n",
    "x_data = np.arange(1948, 2017)\n",
    "x_data"
   ]
  },
  {
   "cell_type": "markdown",
   "metadata": {},
   "source": [
    "`statsmodels` has a relatively \"low-level\" interface for calculating linear regression models; it makes us do a little work to get the answer. To use the ordinary least squares (OLS) regression tool in `statsmodels`, we also need to understand just a little bit about the math behind OLS regression."
   ]
  },
  {
   "cell_type": "markdown",
   "metadata": {},
   "source": [
    "Without going into too much detail, our linear trend line has two components: a constant term ($\\alpha$) and the slope of the trend line ($\\beta$). Using linear algebra, we represent these two terms as two columns in a matrix. **To fit a linear model with a constant term, the first column is a column of ones.**\n",
    "\n",
    "$$\n",
    "\\begin{align}\n",
    "[\\mathrm{Temp.\\ anomaly}]&=[\\mathrm{Some\\ constant,\\ }\\alpha] + [\\mathrm{Slope\\ of\\ trend\\ line},\\beta]\\times[\\mathrm{Year}]\\\\\n",
    "\\left[\\begin{array}{r}\n",
    "-2.04\\\\\n",
    "-0.20\\\\\n",
    "0.88\\\\\n",
    "\\vdots\\\\\n",
    "\\end{array}\\right] &= \n",
    "\\left[\\begin{array}{rr}\n",
    "1 & 1948\\\\\n",
    "1 & 1949\\\\\n",
    "1 & 1950\\\\\n",
    "\\vdots & \\vdots\\\\\n",
    "\\end{array}\\right]\n",
    "\\left[\\begin{array}{r}\n",
    "\\alpha\\\\\n",
    "\\beta\\end{array}\\right]\n",
    "\\end{align}\n",
    "$$"
   ]
  },
  {
   "cell_type": "code",
   "execution_count": 32,
   "metadata": {
    "collapsed": false
   },
   "outputs": [
    {
     "data": {
      "text/plain": [
       "array([[  1.00000000e+00,   1.94800000e+03],\n",
       "       [  1.00000000e+00,   1.94900000e+03],\n",
       "       [  1.00000000e+00,   1.95000000e+03],\n",
       "       [  1.00000000e+00,   1.95100000e+03],\n",
       "       [  1.00000000e+00,   1.95200000e+03],\n",
       "       [  1.00000000e+00,   1.95300000e+03],\n",
       "       [  1.00000000e+00,   1.95400000e+03],\n",
       "       [  1.00000000e+00,   1.95500000e+03],\n",
       "       [  1.00000000e+00,   1.95600000e+03],\n",
       "       [  1.00000000e+00,   1.95700000e+03]])"
      ]
     },
     "execution_count": 32,
     "metadata": {},
     "output_type": "execute_result"
    }
   ],
   "source": [
    "# Add a constant (the intercept term)\n",
    "x_data = sm.add_constant(x_data)\n",
    "x_data[0:10,:] # Just show the first 10 rows"
   ]
  },
  {
   "cell_type": "code",
   "execution_count": 33,
   "metadata": {
    "collapsed": false
   },
   "outputs": [
    {
     "data": {
      "text/plain": [
       "<statsmodels.regression.linear_model.RegressionResultsWrapper at 0x7f8ffcc65f98>"
      ]
     },
     "execution_count": 33,
     "metadata": {},
     "output_type": "execute_result"
    }
   ],
   "source": [
    "# Fit the temperature anomalies to a simple time series\n",
    "results = sm.OLS(y_data, x_data).fit()\n",
    "results"
   ]
  },
  {
   "cell_type": "code",
   "execution_count": 34,
   "metadata": {
    "collapsed": false
   },
   "outputs": [
    {
     "data": {
      "text/html": [
       "<table class=\"simpletable\">\n",
       "<caption>OLS Regression Results</caption>\n",
       "<tr>\n",
       "  <th>Dep. Variable:</th>            <td>y</td>        <th>  R-squared:         </th> <td>   0.466</td>\n",
       "</tr>\n",
       "<tr>\n",
       "  <th>Model:</th>                   <td>OLS</td>       <th>  Adj. R-squared:    </th> <td>   0.458</td>\n",
       "</tr>\n",
       "<tr>\n",
       "  <th>Method:</th>             <td>Least Squares</td>  <th>  F-statistic:       </th> <td>   58.47</td>\n",
       "</tr>\n",
       "<tr>\n",
       "  <th>Date:</th>             <td>Mon, 11 Jun 2018</td> <th>  Prob (F-statistic):</th> <td>1.04e-10</td>\n",
       "</tr>\n",
       "<tr>\n",
       "  <th>Time:</th>                 <td>08:55:34</td>     <th>  Log-Likelihood:    </th> <td> -100.99</td>\n",
       "</tr>\n",
       "<tr>\n",
       "  <th>No. Observations:</th>      <td>    69</td>      <th>  AIC:               </th> <td>   206.0</td>\n",
       "</tr>\n",
       "<tr>\n",
       "  <th>Df Residuals:</th>          <td>    67</td>      <th>  BIC:               </th> <td>   210.4</td>\n",
       "</tr>\n",
       "<tr>\n",
       "  <th>Df Model:</th>              <td>     1</td>      <th>                     </th>     <td> </td>   \n",
       "</tr>\n",
       "<tr>\n",
       "  <th>Covariance Type:</th>      <td>nonrobust</td>    <th>                     </th>     <td> </td>   \n",
       "</tr>\n",
       "</table>\n",
       "<table class=\"simpletable\">\n",
       "<tr>\n",
       "    <td></td>       <th>coef</th>     <th>std err</th>      <th>t</th>      <th>P>|t|</th> <th>[95.0% Conf. Int.]</th> \n",
       "</tr>\n",
       "<tr>\n",
       "  <th>const</th> <td>  -97.2124</td> <td>   12.714</td> <td>   -7.646</td> <td> 0.000</td> <td> -122.590   -71.835</td>\n",
       "</tr>\n",
       "<tr>\n",
       "  <th>x1</th>    <td>    0.0490</td> <td>    0.006</td> <td>    7.647</td> <td> 0.000</td> <td>    0.036     0.062</td>\n",
       "</tr>\n",
       "</table>\n",
       "<table class=\"simpletable\">\n",
       "<tr>\n",
       "  <th>Omnibus:</th>       <td> 0.130</td> <th>  Durbin-Watson:     </th> <td>   1.442</td>\n",
       "</tr>\n",
       "<tr>\n",
       "  <th>Prob(Omnibus):</th> <td> 0.937</td> <th>  Jarque-Bera (JB):  </th> <td>   0.111</td>\n",
       "</tr>\n",
       "<tr>\n",
       "  <th>Skew:</th>          <td>-0.085</td> <th>  Prob(JB):          </th> <td>   0.946</td>\n",
       "</tr>\n",
       "<tr>\n",
       "  <th>Kurtosis:</th>      <td> 2.901</td> <th>  Cond. No.          </th> <td>1.97e+05</td>\n",
       "</tr>\n",
       "</table>"
      ],
      "text/plain": [
       "<class 'statsmodels.iolib.summary.Summary'>\n",
       "\"\"\"\n",
       "                            OLS Regression Results                            \n",
       "==============================================================================\n",
       "Dep. Variable:                      y   R-squared:                       0.466\n",
       "Model:                            OLS   Adj. R-squared:                  0.458\n",
       "Method:                 Least Squares   F-statistic:                     58.47\n",
       "Date:                Mon, 11 Jun 2018   Prob (F-statistic):           1.04e-10\n",
       "Time:                        08:55:34   Log-Likelihood:                -100.99\n",
       "No. Observations:                  69   AIC:                             206.0\n",
       "Df Residuals:                      67   BIC:                             210.4\n",
       "Df Model:                           1                                         \n",
       "Covariance Type:            nonrobust                                         \n",
       "==============================================================================\n",
       "                 coef    std err          t      P>|t|      [95.0% Conf. Int.]\n",
       "------------------------------------------------------------------------------\n",
       "const        -97.2124     12.714     -7.646      0.000      -122.590   -71.835\n",
       "x1             0.0490      0.006      7.647      0.000         0.036     0.062\n",
       "==============================================================================\n",
       "Omnibus:                        0.130   Durbin-Watson:                   1.442\n",
       "Prob(Omnibus):                  0.937   Jarque-Bera (JB):                0.111\n",
       "Skew:                          -0.085   Prob(JB):                        0.946\n",
       "Kurtosis:                       2.901   Cond. No.                     1.97e+05\n",
       "==============================================================================\n",
       "\n",
       "Warnings:\n",
       "[1] Standard Errors assume that the covariance matrix of the errors is correctly specified.\n",
       "[2] The condition number is large, 1.97e+05. This might indicate that there are\n",
       "strong multicollinearity or other numerical problems.\n",
       "\"\"\""
      ]
     },
     "execution_count": 34,
     "metadata": {},
     "output_type": "execute_result"
    }
   ],
   "source": [
    "results.summary()"
   ]
  },
  {
   "cell_type": "code",
   "execution_count": 35,
   "metadata": {
    "collapsed": false
   },
   "outputs": [
    {
     "data": {
      "text/plain": [
       "array([ -9.72123942e+01,   4.90476257e-02])"
      ]
     },
     "execution_count": 35,
     "metadata": {},
     "output_type": "execute_result"
    }
   ],
   "source": [
    "results.params"
   ]
  },
  {
   "cell_type": "code",
   "execution_count": 24,
   "metadata": {
    "collapsed": false
   },
   "outputs": [
    {
     "data": {
      "image/png": "[encoded data removed]",
      "text/plain": [
       "<matplotlib.figure.Figure at 0x7f8ffcc857f0>"
      ]
     },
     "metadata": {},
     "output_type": "display_data"
    }
   ],
   "source": [
    "b0, b1 = results.params\n",
    "\n",
    "# Calculate a line of best fit\n",
    "fit_line = b0 + (b1 * x_data[:,1])\n",
    "\n",
    "fig = pyplot.figure(figsize = (10.0, 3.0))\n",
    "axis1 = fig.add_subplot(1, 1, 1)\n",
    "axis1.plot(x_data, y_data, 'k')\n",
    "axis1.plot(x_data, fit_line, 'r')\n",
    "axis1.set_xlim(1948, 2016)\n",
    "axis1.set_title('Barrow')\n",
    "pyplot.show()"
   ]
  },
  {
   "cell_type": "markdown",
   "metadata": {},
   "source": [
    "**What if we wanted to detect the direction of this fit line automatically?** It could be tedious to have a human being tally up how many are trending upwards versus downwards... Let's have the computer do it."
   ]
  },
  {
   "cell_type": "markdown",
   "metadata": {},
   "source": [
    "## Challenge: Fitting a Line over Multiple File Datasets"
   ]
  },
  {
   "cell_type": "markdown",
   "metadata": {},
   "source": [
    "**Write a `for` loop, with an `if` statement inside, that calculates a line of best fit for each dataset's temperature anomalies and prints out a message as to whether that trend line is positive or negative.**\n",
    "\n",
    "Hint: What we want to know about each trend line is whether, for:\n",
    "\n",
    "```py\n",
    "results = sm.OLS(y_data, x_data).fit()\n",
    "b0, b1 = results.params\n",
    "```\n",
    "\n",
    "If `b1`, the slope of the line, is positive or negative. **So, to break that down:**\n",
    "\n",
    "1. Loop over all the temperature files;\n",
    "2. Calculate the temperature anomaly;\n",
    "3. Fit an OLS regression to the anomaly data;\n",
    "4. `print()` out whether the trend line is \"positive\" or \"negative;\""
   ]
  },
  {
   "cell_type": "markdown",
   "metadata": {},
   "source": [
    "### Hint: Looping over Files"
   ]
  },
  {
   "cell_type": "code",
   "execution_count": 36,
   "metadata": {
    "collapsed": false
   },
   "outputs": [
    {
     "data": {
      "text/plain": [
       "['barrow.temperature.csv',\n",
       " 'reston.temperature.csv',\n",
       " 'land_o_lakes.temperature.csv',\n",
       " 'key_west.temperature.csv',\n",
       " 'wvu.temperature.csv']"
      ]
     },
     "execution_count": 36,
     "metadata": {},
     "output_type": "execute_result"
    }
   ],
   "source": [
    "import glob\n",
    "\n",
    "filenames = glob.glob('*.csv')\n",
    "filenames"
   ]
  },
  {
   "cell_type": "markdown",
   "metadata": {},
   "source": [
    "### One Solution"
   ]
  },
  {
   "cell_type": "code",
   "execution_count": 26,
   "metadata": {
    "collapsed": false
   },
   "outputs": [
    {
     "name": "stdout",
     "output_type": "stream",
     "text": [
      "barrow.temperature.csv -- Long-term trend is positive\n",
      "reston.temperature.csv -- Long-term trend is positive\n",
      "land_o_lakes.temperature.csv -- Long-term trend is positive\n",
      "key_west.temperature.csv -- Long-term trend is positive\n",
      "wvu.temperature.csv -- Long-term trend is positive\n"
     ]
    }
   ],
   "source": [
    "import glob\n",
    "\n",
    "filenames = glob.glob('*.csv')\n",
    "\n",
    "# I can do these things outside of the loop\n",
    "#  because the X data are the same for each dataset\n",
    "x_data = np.arange(1948, 2017)\n",
    "x_data = sm.add_constant(x_data) # Add the intercept term)\n",
    "\n",
    "for fname in filenames:\n",
    "    data = np.loadtxt(fname, delimiter = ',')\n",
    "    \n",
    "    # Subtract the location's long-term mean\n",
    "    y_data = data.mean(axis = 1) - data.mean()\n",
    "\n",
    "    # Fit the temperature anomalies to a simple time series\n",
    "    results = sm.OLS(y_data, x_data).fit()\n",
    "    \n",
    "    b0, b1 = results.params\n",
    "\n",
    "    if b1 > 0:\n",
    "        print(fname, '-- Long-term trend is positive')\n",
    "        \n",
    "    else:\n",
    "        print(fname, '-- Long-term trend is negative')"
   ]
  },
  {
   "cell_type": "markdown",
   "metadata": {},
   "source": [
    "# Python at the Command Line"
   ]
  },
  {
   "cell_type": "markdown",
   "metadata": {
    "collapsed": true
   },
   "source": [
    "We've seen a lot of tools and techniques for improving our productivity through reproducible Python code. So far, however, we've been working exclusively within Jupyter Notebook. Jupyter Notebook is great for interactive, exploratory work in Python and encourages literate programming, as we discussed earlier. A Notebook is a great place to demonstrate to your future self or your peers how some Python code works.\n",
    "\n",
    "But when it's time to scale-up your work and process data, you want to be on the command line, for all the reasons we saw when we discussed the Unix shell earlier.\n",
    "\n",
    "Let's explore Python programs at the command line using the following *Python script,* `temp_extremes.py`.\n",
    "\n",
    "```py\n",
    "'''\n",
    "Reports the min and max July temperatures for each file\n",
    "that matches the given filename pattern.\n",
    "'''\n",
    "\n",
    "import csv\n",
    "import os\n",
    "import sys\n",
    "import glob\n",
    "\n",
    "def main():\n",
    "    # Get the user-specified directory\n",
    "    directory = sys.argv[1]\n",
    "\n",
    "    # Pattern to use in searching for files\n",
    "    filename_pattern = os.path.join(directory, '*temperature.csv')\n",
    "\n",
    "    for filename in glob.glob(filename_pattern):\n",
    "        july_temps = []\n",
    "\n",
    "        # While the file is open...\n",
    "        with open(filename, 'r') as stream:\n",
    "            # Use a function to read the file\n",
    "            reader = csv.reader(stream)\n",
    "\n",
    "            # Each row is a year\n",
    "            for row in reader:\n",
    "                # Add this year's July temperature to the list\n",
    "                july_temps.append(row[6])\n",
    "\n",
    "        # A human-readable name for the file        \n",
    "        pretty_name = os.path.basename(filename)\n",
    "        print(pretty_name, '--Hottest July mean temp. was', max(july_temps), 'deg K')\n",
    "        print(pretty_name, '--Coolest July mean temp. was', min(july_temps), 'deg K')\n",
    "        \n",
    "        \n",
    "if __name__ == '__main__':\n",
    "    main()\n",
    "```"
   ]
  },
  {
   "cell_type": "markdown",
   "metadata": {},
   "source": [
    "We can run this script on the command line by typing the following:\n",
    "\n",
    "```sh\n",
    "$ python3 temp_extremes.py .\n",
    "```\n",
    "\n",
    "Remember that the single dot, `.` represents the current working directory, which is where all of our temperature CSV files are located."
   ]
  },
  {
   "cell_type": "markdown",
   "metadata": {},
   "source": [
    "## Our First Python Script"
   ]
  },
  {
   "cell_type": "markdown",
   "metadata": {},
   "source": [
    "**Let's investigate this command-line program, line-by-line. We'll start to write this in our own text editor, calling the file `myscript.py` for now.**"
   ]
  },
  {
   "cell_type": "markdown",
   "metadata": {},
   "source": [
    "**The docstring.** Every Python scripts, in fact any `*.py` file, ought to have a docstring at the top. The Python interpreter will accept a stand-alone, literal string at the top of the file without breaking your code; it is basically ignored, like a comment. As a multi-line string, we can type as many lines of text as we want in order to fully describe the purpose of the Python script.\n",
    "\n",
    "```py\n",
    "'''\n",
    "Reports the min and max July temperatures for each file\n",
    "that matches the given filename pattern.\n",
    "'''\n",
    "```"
   ]
  },
  {
   "cell_type": "markdown",
   "metadata": {},
   "source": [
    "**Module imports.** The next few lines are where we import any necessary modules or objects from other Python files. These `import` statements should always be at the top of the script, as we see here. That way, we can tell at a glance what modules need to be installed in order to run this script.\n",
    "\n",
    "```py\n",
    "import os\n",
    "import sys\n",
    "import glob\n",
    "```"
   ]
  },
  {
   "cell_type": "markdown",
   "metadata": {},
   "source": [
    "**Now for the business part of our script. We first want to get the name of the directory where our program should look for temperature CSV files to process.**\n",
    "\n",
    "How can a Python script take an argument from the command line? Recall how we can use the `print()` function to print things to the command line.\n",
    "\n",
    "```py\n",
    "print('Python version:', sys.version)\n",
    "```\n",
    "\n",
    "The `sys` module has an attribute `argv`, which stands for \"argument variables.\" Whenever Python runs a program, it takes all of the values given on the command line and puts them in the list `sys.argv` so that the program can determine what they were.\n",
    "\n",
    "```py\n",
    "print('sys.argv is:', sys.argv)\n",
    "```\n",
    "\n",
    "If we run this program with no arguments, we see that the first item in the list is simply the name of the Python script that was executed:\n",
    "\n",
    "```sh\n",
    "$ python myscript.py\n",
    "```\n",
    "\n",
    "Try calling this script with multiple, different, made-up command-line arguments, e.g.:\n",
    "\n",
    "```sh\n",
    "$ python myscript.py first second third\n",
    "```\n",
    "\n",
    "**So, how can we use this to get the name of the directory we need?**\n",
    "\n",
    "```py\n",
    "# Get the user-specified directory\n",
    "directory = sys.argv[1]\n",
    "files = os.listdir(directory)\n",
    "print(files)\n",
    "```"
   ]
  },
  {
   "cell_type": "markdown",
   "metadata": {},
   "source": [
    "**Next, we want to search this directory's files for temperature CSV files.** We can use the `glob` module to search for files that match GLOB regular expressions, the same file-matching patterns that we used in the Unix shell lesson.\n",
    "\n",
    "We use the `os.path` module's `join()` function to concatenate strings that represent file paths. We could use simple string concatenaion here, but the `join()` function has some additional business logic that checks to make sure we end up with a valid file path, so it's best to use this function always for this purpose.\n",
    "\n",
    "```py\n",
    "# Pattern to use in searching for files\n",
    "filename_pattern = os.path.join(directory, '*temperature.csv')\n",
    "files = glob.glob(filename_pattern)\n",
    "print(files)\n",
    "```"
   ]
  },
  {
   "cell_type": "markdown",
   "metadata": {},
   "source": [
    "### Encapsulating to Keep the Namespace Clean"
   ]
  },
  {
   "cell_type": "markdown",
   "metadata": {},
   "source": [
    "What do we have so far?\n",
    "\n",
    "```py\n",
    "import os\n",
    "import sys\n",
    "import glob\n",
    "\n",
    "# Get the user-specified directory\n",
    "directory = sys.argv[1]\n",
    "\n",
    "# Pattern to use in searching for files\n",
    "filename_pattern = os.path.join(directory, '*temperature.csv')\n",
    "files = glob.glob(filename_pattern)\n",
    "print(files)\n",
    "```\n",
    "\n",
    "This works great but could benefit from some Python best practices. First, we need to observe that every Python script is itself a module to be imported into Python. We can demonstrate this by starting an interactive session:\n",
    "\n",
    "```sh\n",
    "$ python3\n",
    "```\n",
    "\n",
    "And then:\n",
    "\n",
    "```py\n",
    ">>> import myscript\n",
    "```\n",
    "\n",
    "We get an error, but it's only because we are trying to index the `sys.argv` list's second element and it only has one element total (because we didn't call this script from the command line). If we change `sys.argv[1]` to a dot '.' and run it again...\n",
    "\n",
    "```py\n",
    ">>> import myscript\n",
    "```\n",
    "\n",
    "Note that everything in the script we wrote was executed in this session! Even the `print()` function was executed and its output displayed here.\n",
    "\n",
    "**Can you see how this could be problematic?** To avoid this problem, we need to distinguish between objects in our *namespace* that we want to make available to other Python programs and those we want to keep private. In general, if our Python script has one principal purpose, we should create a Python function that fulfills that purpose and hide all the \"sausage-making\" details within.\n",
    "\n",
    "```py\n",
    "import os\n",
    "import sys\n",
    "import glob\n",
    "\n",
    "def main():\n",
    "    # Get the user-specified directory\n",
    "    directory = sys.argv[1]\n",
    "\n",
    "    # Pattern to use in searching for files\n",
    "    filename_pattern = os.path.join(directory, '*temperature.csv')\n",
    "    files = glob.glob(filename_pattern)\n",
    "    print(files)\n",
    "```\n",
    "\n",
    "Now let's run this script again.\n",
    "\n",
    "```sh\n",
    "$ python3 myscript.py .\n",
    "```\n",
    "\n",
    "**What happened?** Nothing. Why? This script merely defines a function, `main()`. There is no place where that function is called.\n",
    "\n",
    "Python has a special syntax that we use in a script for determining when the script is called from the command line.\n",
    "\n",
    "```py\n",
    "if __name__ == '__main__':\n",
    "    main()\n",
    "```\n",
    "\n",
    "**Why does this work? Let's enter an interactive session again.**"
   ]
  },
  {
   "cell_type": "code",
   "execution_count": 120,
   "metadata": {
    "collapsed": false
   },
   "outputs": [
    {
     "data": {
      "text/plain": [
       "'__main__'"
      ]
     },
     "execution_count": 120,
     "metadata": {},
     "output_type": "execute_result"
    }
   ],
   "source": [
    "__name__"
   ]
  },
  {
   "cell_type": "code",
   "execution_count": 121,
   "metadata": {
    "collapsed": false
   },
   "outputs": [
    {
     "data": {
      "text/plain": [
       "'os'"
      ]
     },
     "execution_count": 121,
     "metadata": {},
     "output_type": "execute_result"
    }
   ],
   "source": [
    "import os\n",
    "os.__name__"
   ]
  },
  {
   "cell_type": "markdown",
   "metadata": {},
   "source": [
    "**Note that aliasing a library doesn't change it's `__name__`; it's `__name__` is derived from the filename.**"
   ]
  },
  {
   "cell_type": "code",
   "execution_count": 122,
   "metadata": {
    "collapsed": false
   },
   "outputs": [
    {
     "data": {
      "text/plain": [
       "'os'"
      ]
     },
     "execution_count": 122,
     "metadata": {},
     "output_type": "execute_result"
    }
   ],
   "source": [
    "import os as something\n",
    "something.__name__"
   ]
  },
  {
   "cell_type": "markdown",
   "metadata": {},
   "source": [
    "So, `__name__` is a special attribute of a module, including the *global environment,* that identifies it. When we execute code in a Python session, rather than as part of a module, it gets the special name `'__main__'`."
   ]
  },
  {
   "cell_type": "markdown",
   "metadata": {},
   "source": [
    "### Finishing our First Script"
   ]
  },
  {
   "cell_type": "markdown",
   "metadata": {},
   "source": [
    "What do we have so far?\n",
    "\n",
    "```py\n",
    "import os\n",
    "import sys\n",
    "import glob\n",
    "\n",
    "def main():\n",
    "    # Get the user-specified directory\n",
    "    directory = sys.argv[1]\n",
    "\n",
    "    # Pattern to use in searching for files\n",
    "    filename_pattern = os.path.join(directory, '*temperature.csv')\n",
    "    files = glob.glob(filename_pattern)\n",
    "    print(files)\n",
    "    \n",
    "\n",
    "if __name__ == '__main__':\n",
    "    main()\n",
    "```"
   ]
  },
  {
   "cell_type": "markdown",
   "metadata": {},
   "source": [
    "No we need to loop over each file and do something useful with it. **Let's start a `for` loop iterating over the `files` we matched.**\n",
    "\n",
    "```py\n",
    "def main():\n",
    "    # Get the user-specified directory\n",
    "    directory = sys.argv[1]\n",
    "\n",
    "    # Pattern to use in searching for files\n",
    "    filename_pattern = os.path.join(directory, '*temperature.csv')\n",
    "    \n",
    "    for filename in glob.glob(filename_pattern):\n",
    "        july_temps = [] # List to hold July temperatures\n",
    "```"
   ]
  },
  {
   "cell_type": "markdown",
   "metadata": {},
   "source": [
    "Next, we'll open the file. A good way to open a file in Python is using the `with` statement to create a *context;* a *context* in Python is an environment within which certain variables are available. Outside of that context, those variables can't be accessed. **The advantage of opening a file in a context is that it is automatically closed when we exit that context; it also makes a code more readable.**\n",
    "\n",
    "```py\n",
    "def main():\n",
    "    # Get the user-specified directory\n",
    "    directory = sys.argv[1]\n",
    "\n",
    "    # Pattern to use in searching for files\n",
    "    filename_pattern = os.path.join(directory, '*temperature.csv')\n",
    "\n",
    "    for filename in glob.glob(filename_pattern):\n",
    "        july_temps = [] # List to hold July temperatures\n",
    "        \n",
    "        # Open the file in \"r\" for \"reading\" mode\n",
    "        with open(filename, 'r') as stream:\n",
    "            print(type(stream))\n",
    "```"
   ]
  },
  {
   "cell_type": "markdown",
   "metadata": {},
   "source": [
    "Every file input-output (I/O) object in Python has a `read()` method. We can use that to read the contents of a file.\n",
    "\n",
    "```py\n",
    "def main():\n",
    "    # Get the user-specified directory\n",
    "    directory = sys.argv[1]\n",
    "\n",
    "    # Pattern to use in searching for files\n",
    "    filename_pattern = os.path.join(directory, '*temperature.csv')\n",
    "\n",
    "    for filename in glob.glob(filename_pattern):\n",
    "        july_temps = [] # List to hold July temperatures\n",
    "\n",
    "        # Open the file in \"r\" for \"reading\" mode\n",
    "        with open(filename, 'r') as stream:\n",
    "            stream.read()\n",
    "```"
   ]
  },
  {
   "cell_type": "markdown",
   "metadata": {},
   "source": [
    "That's a lot of output! It reads the entire file out. **We need a way of managing the output from each file. Specifically, we need a special kind of \"Reader\" that understands the output from a CSV file.**\n",
    "\n",
    "First, let's add a new module import; we want to read from CSV files, so we need the `csv` module.\n",
    "\n",
    "```py\n",
    "import csv\n",
    "```\n",
    "\n",
    "Next, we'll use this module to more effectively read from our CSV files.\n",
    "\n",
    "```py\n",
    "def main():\n",
    "    # Get the user-specified directory\n",
    "    directory = sys.argv[1]\n",
    "\n",
    "    # Pattern to use in searching for files\n",
    "    filename_pattern = os.path.join(directory, '*temperature.csv')\n",
    "\n",
    "    for filename in glob.glob(filename_pattern):\n",
    "        july_temps = [] # List to hold July temperatures\n",
    "\n",
    "        # Open the file in \"r\" for \"reading\" mode\n",
    "        with open(filename, 'r') as stream:\n",
    "            # Create a special Reader that understands CSV files\n",
    "            reader = csv.reader(stream)\n",
    "            \n",
    "            # Each row is a year\n",
    "            for row in reader:\n",
    "                # Add this year's July temperature to the list\n",
    "                july_temps.append(row[6])\n",
    "```"
   ]
  },
  {
   "cell_type": "markdown",
   "metadata": {},
   "source": [
    "Finally, we're ready to use the July temperature list we accumulated for each file.\n",
    "\n",
    "```py\n",
    "def main():\n",
    "    # Get the user-specified directory\n",
    "    directory = sys.argv[1]\n",
    "\n",
    "    # Pattern to use in searching for files\n",
    "    filename_pattern = os.path.join(directory, '*temperature.csv')\n",
    "\n",
    "    for filename in glob.glob(filename_pattern):\n",
    "        july_temps = []\n",
    "\n",
    "        # Open the file in \"r\" for \"reading\" mode\n",
    "        with open(filename, 'r') as stream:\n",
    "            # Create a special Reader that understands CSV files\n",
    "            reader = csv.reader(stream)\n",
    "\n",
    "            # Each row is a year\n",
    "            for row in reader:\n",
    "                # Add this year's July temperature to the list\n",
    "                july_temps.append(row[6])\n",
    "\n",
    "        # A human-readable name for the file        \n",
    "        pretty_name = os.path.basename(filename)\n",
    "        print(pretty_name, '--Hottest July mean temp. was', max(july_temps), 'deg K')\n",
    "        print(pretty_name, '--Coolest July mean temp. was', min(july_temps), 'deg K')\n",
    "```"
   ]
  },
  {
   "cell_type": "markdown",
   "metadata": {},
   "source": [
    "## Alternative Command-Line Tools"
   ]
  },
  {
   "cell_type": "markdown",
   "metadata": {},
   "source": [
    "`sys.argv` is a rather crude tool for processing command-line arguments. There are a couple of alternatives I suggest you look into if you are going to be writing command-line programs in Python:\n",
    "\n",
    "- `argparse`, another built-in library, that handles common cases in a systematic way. Check out [this tutorial](http://docs.python.org/dev/howto/argparse.html).\n",
    "- `Fire`, [a very new Python module from Google](https://opensource.googleblog.com/2017/03/python-fire-command-line.html), which can turn any Python object (function, class, etc.) into a command-line API."
   ]
  },
  {
   "cell_type": "markdown",
   "metadata": {},
   "source": [
    "### Optional: Try out Python Fire"
   ]
  },
  {
   "cell_type": "markdown",
   "metadata": {},
   "source": [
    "[Installation instructions and source code here.](https://github.com/google/python-fire)"
   ]
  },
  {
   "cell_type": "markdown",
   "metadata": {},
   "source": [
    "## Modularization"
   ]
  },
  {
   "cell_type": "markdown",
   "metadata": {},
   "source": [
    "As I indicated earlier, any Python script can be imported like a module. You may have noticed that, as some Python libraries get very large, it's helpful to have *submodules.* For instance, we've seen:\n",
    "\n",
    "```py\n",
    "import matplotlib.pyplot as pyplot\n",
    "import statsmodels.api as sm\n",
    "```\n",
    "\n",
    "At some point you may want to organize all of your related Python code as a module, but you may still want to keep separate Python scripts. A good model for organizing your code is:\n",
    "\n",
    "```\n",
    "package_name/\n",
    "    __init__.py\n",
    "    module1.py\n",
    "    subpackage/\n",
    "        __init__.py\n",
    "        module2.py\n",
    "```\n",
    "\n",
    "Which could be used as:\n",
    "\n",
    "```py\n",
    "import package_name.module1\n",
    "from package_name.module1 import some_function\n",
    "from package_name.subpackage import module2\n",
    "from package_name.subpackage.module2 import another_function\n",
    "```"
   ]
  },
  {
   "cell_type": "markdown",
   "metadata": {},
   "source": [
    "In these examples, a text file titled `__init__.py` is *required* in each directory. This file, which could be blank, indicates to the Python intepreter that the directory containing it should be considered as a Python module."
   ]
  },
  {
   "cell_type": "markdown",
   "metadata": {},
   "source": [
    "### Installing Your Project as a Module"
   ]
  },
  {
   "cell_type": "markdown",
   "metadata": {},
   "source": [
    "We haven't covered installing new Python modules, but when the time is right for you to package your code together as a single module (e.g., as `package_name`, in the example above), [consider installing your module \"in development mode\" first.](https://packaging.python.org/tutorials/distributing-packages/#working-in-development-mode)"
   ]
  },
  {
   "cell_type": "markdown",
   "metadata": {},
   "source": [
    "# Understanding and Handling Errors"
   ]
  },
  {
   "cell_type": "markdown",
   "metadata": {},
   "source": [
    "Every programmer encounters errors;\n",
    "\n",
    "- Both those who are just beginning,\n",
    "- And those who have been programming for years.\n",
    "\n",
    "Encountering errors and exceptions can be very frustrating at times, and can make coding feel like a hopeless endeavour. However, understanding what the different types of errors are and when you are likely to encounter them can help a lot. Once you know why you get certain types of errors, they become much easier to fix.\n",
    "\n",
    "Errors in Python have a very specific form, called a **traceback.** Let’s examine one:"
   ]
  },
  {
   "cell_type": "code",
   "execution_count": 123,
   "metadata": {
    "collapsed": false
   },
   "outputs": [
    {
     "ename": "ValueError",
     "evalue": "endog and exog matrices are different sizes",
     "output_type": "error",
     "traceback": [
      "\u001b[0;31m---------------------------------------------------------------------------\u001b[0m",
      "\u001b[0;31mValueError\u001b[0m                                Traceback (most recent call last)",
      "\u001b[0;32m<ipython-input-123-06fe6ac604f0>\u001b[0m in \u001b[0;36m<module>\u001b[0;34m()\u001b[0m\n\u001b[1;32m     19\u001b[0m \u001b[0mdata\u001b[0m \u001b[0;34m=\u001b[0m \u001b[0mnp\u001b[0m\u001b[0;34m.\u001b[0m\u001b[0mloadtxt\u001b[0m\u001b[0;34m(\u001b[0m\u001b[0;34m'wvu.temperature.csv'\u001b[0m\u001b[0;34m,\u001b[0m \u001b[0mdelimiter\u001b[0m \u001b[0;34m=\u001b[0m \u001b[0;34m','\u001b[0m\u001b[0;34m)\u001b[0m\u001b[0;34m\u001b[0m\u001b[0m\n\u001b[1;32m     20\u001b[0m \u001b[0;34m\u001b[0m\u001b[0m\n\u001b[0;32m---> 21\u001b[0;31m \u001b[0mcalc_best_fit_line\u001b[0m\u001b[0;34m(\u001b[0m\u001b[0mtemperature_anomaly\u001b[0m\u001b[0;34m(\u001b[0m\u001b[0mdata\u001b[0m\u001b[0;34m)\u001b[0m\u001b[0;34m)\u001b[0m\u001b[0;34m\u001b[0m\u001b[0m\n\u001b[0m",
      "\u001b[0;32m<ipython-input-123-06fe6ac604f0>\u001b[0m in \u001b[0;36mcalc_best_fit_line\u001b[0;34m(y_data, x_data)\u001b[0m\n\u001b[1;32m     11\u001b[0m \u001b[0;34m\u001b[0m\u001b[0m\n\u001b[1;32m     12\u001b[0m     \u001b[0;31m# Fit the temperature anomalies to a simple time series\u001b[0m\u001b[0;34m\u001b[0m\u001b[0;34m\u001b[0m\u001b[0m\n\u001b[0;32m---> 13\u001b[0;31m     \u001b[0mresults\u001b[0m \u001b[0;34m=\u001b[0m \u001b[0msm\u001b[0m\u001b[0;34m.\u001b[0m\u001b[0mOLS\u001b[0m\u001b[0;34m(\u001b[0m\u001b[0my_data\u001b[0m\u001b[0;34m,\u001b[0m \u001b[0mx_data\u001b[0m\u001b[0;34m)\u001b[0m\u001b[0;34m.\u001b[0m\u001b[0mfit\u001b[0m\u001b[0;34m(\u001b[0m\u001b[0;34m)\u001b[0m\u001b[0;34m\u001b[0m\u001b[0m\n\u001b[0m\u001b[1;32m     14\u001b[0m \u001b[0;34m\u001b[0m\u001b[0m\n\u001b[1;32m     15\u001b[0m     \u001b[0;32mreturn\u001b[0m \u001b[0mresults\u001b[0m\u001b[0;34m.\u001b[0m\u001b[0mparams\u001b[0m\u001b[0;34m\u001b[0m\u001b[0m\n",
      "\u001b[0;32m/usr/local/lib/python3.5/dist-packages/statsmodels/regression/linear_model.py\u001b[0m in \u001b[0;36m__init__\u001b[0;34m(self, endog, exog, missing, hasconst, **kwargs)\u001b[0m\n\u001b[1;32m    689\u001b[0m                  **kwargs):\n\u001b[1;32m    690\u001b[0m         super(OLS, self).__init__(endog, exog, missing=missing,\n\u001b[0;32m--> 691\u001b[0;31m                                   hasconst=hasconst, **kwargs)\n\u001b[0m\u001b[1;32m    692\u001b[0m         \u001b[0;32mif\u001b[0m \u001b[0;34m\"weights\"\u001b[0m \u001b[0;32min\u001b[0m \u001b[0mself\u001b[0m\u001b[0;34m.\u001b[0m\u001b[0m_init_keys\u001b[0m\u001b[0;34m:\u001b[0m\u001b[0;34m\u001b[0m\u001b[0m\n\u001b[1;32m    693\u001b[0m             \u001b[0mself\u001b[0m\u001b[0;34m.\u001b[0m\u001b[0m_init_keys\u001b[0m\u001b[0;34m.\u001b[0m\u001b[0mremove\u001b[0m\u001b[0;34m(\u001b[0m\u001b[0;34m\"weights\"\u001b[0m\u001b[0;34m)\u001b[0m\u001b[0;34m\u001b[0m\u001b[0m\n",
      "\u001b[0;32m/usr/local/lib/python3.5/dist-packages/statsmodels/regression/linear_model.py\u001b[0m in \u001b[0;36m__init__\u001b[0;34m(self, endog, exog, weights, missing, hasconst, **kwargs)\u001b[0m\n\u001b[1;32m    584\u001b[0m             \u001b[0mweights\u001b[0m \u001b[0;34m=\u001b[0m \u001b[0mweights\u001b[0m\u001b[0;34m.\u001b[0m\u001b[0msqueeze\u001b[0m\u001b[0;34m(\u001b[0m\u001b[0;34m)\u001b[0m\u001b[0;34m\u001b[0m\u001b[0m\n\u001b[1;32m    585\u001b[0m         super(WLS, self).__init__(endog, exog, missing=missing,\n\u001b[0;32m--> 586\u001b[0;31m                                   weights=weights, hasconst=hasconst, **kwargs)\n\u001b[0m\u001b[1;32m    587\u001b[0m         \u001b[0mnobs\u001b[0m \u001b[0;34m=\u001b[0m \u001b[0mself\u001b[0m\u001b[0;34m.\u001b[0m\u001b[0mexog\u001b[0m\u001b[0;34m.\u001b[0m\u001b[0mshape\u001b[0m\u001b[0;34m[\u001b[0m\u001b[0;36m0\u001b[0m\u001b[0;34m]\u001b[0m\u001b[0;34m\u001b[0m\u001b[0m\n\u001b[1;32m    588\u001b[0m         \u001b[0mweights\u001b[0m \u001b[0;34m=\u001b[0m \u001b[0mself\u001b[0m\u001b[0;34m.\u001b[0m\u001b[0mweights\u001b[0m\u001b[0;34m\u001b[0m\u001b[0m\n",
      "\u001b[0;32m/usr/local/lib/python3.5/dist-packages/statsmodels/regression/linear_model.py\u001b[0m in \u001b[0;36m__init__\u001b[0;34m(self, endog, exog, **kwargs)\u001b[0m\n\u001b[1;32m     89\u001b[0m     \"\"\"\n\u001b[1;32m     90\u001b[0m     \u001b[0;32mdef\u001b[0m \u001b[0m__init__\u001b[0m\u001b[0;34m(\u001b[0m\u001b[0mself\u001b[0m\u001b[0;34m,\u001b[0m \u001b[0mendog\u001b[0m\u001b[0;34m,\u001b[0m \u001b[0mexog\u001b[0m\u001b[0;34m,\u001b[0m \u001b[0;34m**\u001b[0m\u001b[0mkwargs\u001b[0m\u001b[0;34m)\u001b[0m\u001b[0;34m:\u001b[0m\u001b[0;34m\u001b[0m\u001b[0m\n\u001b[0;32m---> 91\u001b[0;31m         \u001b[0msuper\u001b[0m\u001b[0;34m(\u001b[0m\u001b[0mRegressionModel\u001b[0m\u001b[0;34m,\u001b[0m \u001b[0mself\u001b[0m\u001b[0;34m)\u001b[0m\u001b[0;34m.\u001b[0m\u001b[0m__init__\u001b[0m\u001b[0;34m(\u001b[0m\u001b[0mendog\u001b[0m\u001b[0;34m,\u001b[0m \u001b[0mexog\u001b[0m\u001b[0;34m,\u001b[0m \u001b[0;34m**\u001b[0m\u001b[0mkwargs\u001b[0m\u001b[0;34m)\u001b[0m\u001b[0;34m\u001b[0m\u001b[0m\n\u001b[0m\u001b[1;32m     92\u001b[0m         \u001b[0mself\u001b[0m\u001b[0;34m.\u001b[0m\u001b[0m_data_attr\u001b[0m\u001b[0;34m.\u001b[0m\u001b[0mextend\u001b[0m\u001b[0;34m(\u001b[0m\u001b[0;34m[\u001b[0m\u001b[0;34m'pinv_wexog'\u001b[0m\u001b[0;34m,\u001b[0m \u001b[0;34m'wendog'\u001b[0m\u001b[0;34m,\u001b[0m \u001b[0;34m'wexog'\u001b[0m\u001b[0;34m,\u001b[0m \u001b[0;34m'weights'\u001b[0m\u001b[0;34m]\u001b[0m\u001b[0;34m)\u001b[0m\u001b[0;34m\u001b[0m\u001b[0m\n\u001b[1;32m     93\u001b[0m \u001b[0;34m\u001b[0m\u001b[0m\n",
      "\u001b[0;32m/usr/local/lib/python3.5/dist-packages/statsmodels/base/model.py\u001b[0m in \u001b[0;36m__init__\u001b[0;34m(self, endog, exog, **kwargs)\u001b[0m\n\u001b[1;32m    184\u001b[0m \u001b[0;34m\u001b[0m\u001b[0m\n\u001b[1;32m    185\u001b[0m     \u001b[0;32mdef\u001b[0m \u001b[0m__init__\u001b[0m\u001b[0;34m(\u001b[0m\u001b[0mself\u001b[0m\u001b[0;34m,\u001b[0m \u001b[0mendog\u001b[0m\u001b[0;34m,\u001b[0m \u001b[0mexog\u001b[0m\u001b[0;34m=\u001b[0m\u001b[0;32mNone\u001b[0m\u001b[0;34m,\u001b[0m \u001b[0;34m**\u001b[0m\u001b[0mkwargs\u001b[0m\u001b[0;34m)\u001b[0m\u001b[0;34m:\u001b[0m\u001b[0;34m\u001b[0m\u001b[0m\n\u001b[0;32m--> 186\u001b[0;31m         \u001b[0msuper\u001b[0m\u001b[0;34m(\u001b[0m\u001b[0mLikelihoodModel\u001b[0m\u001b[0;34m,\u001b[0m \u001b[0mself\u001b[0m\u001b[0;34m)\u001b[0m\u001b[0;34m.\u001b[0m\u001b[0m__init__\u001b[0m\u001b[0;34m(\u001b[0m\u001b[0mendog\u001b[0m\u001b[0;34m,\u001b[0m \u001b[0mexog\u001b[0m\u001b[0;34m,\u001b[0m \u001b[0;34m**\u001b[0m\u001b[0mkwargs\u001b[0m\u001b[0;34m)\u001b[0m\u001b[0;34m\u001b[0m\u001b[0m\n\u001b[0m\u001b[1;32m    187\u001b[0m         \u001b[0mself\u001b[0m\u001b[0;34m.\u001b[0m\u001b[0minitialize\u001b[0m\u001b[0;34m(\u001b[0m\u001b[0;34m)\u001b[0m\u001b[0;34m\u001b[0m\u001b[0m\n\u001b[1;32m    188\u001b[0m \u001b[0;34m\u001b[0m\u001b[0m\n",
      "\u001b[0;32m/usr/local/lib/python3.5/dist-packages/statsmodels/base/model.py\u001b[0m in \u001b[0;36m__init__\u001b[0;34m(self, endog, exog, **kwargs)\u001b[0m\n\u001b[1;32m     58\u001b[0m         \u001b[0mhasconst\u001b[0m \u001b[0;34m=\u001b[0m \u001b[0mkwargs\u001b[0m\u001b[0;34m.\u001b[0m\u001b[0mpop\u001b[0m\u001b[0;34m(\u001b[0m\u001b[0;34m'hasconst'\u001b[0m\u001b[0;34m,\u001b[0m \u001b[0;32mNone\u001b[0m\u001b[0;34m)\u001b[0m\u001b[0;34m\u001b[0m\u001b[0m\n\u001b[1;32m     59\u001b[0m         self.data = self._handle_data(endog, exog, missing, hasconst,\n\u001b[0;32m---> 60\u001b[0;31m                                       **kwargs)\n\u001b[0m\u001b[1;32m     61\u001b[0m         \u001b[0mself\u001b[0m\u001b[0;34m.\u001b[0m\u001b[0mk_constant\u001b[0m \u001b[0;34m=\u001b[0m \u001b[0mself\u001b[0m\u001b[0;34m.\u001b[0m\u001b[0mdata\u001b[0m\u001b[0;34m.\u001b[0m\u001b[0mk_constant\u001b[0m\u001b[0;34m\u001b[0m\u001b[0m\n\u001b[1;32m     62\u001b[0m         \u001b[0mself\u001b[0m\u001b[0;34m.\u001b[0m\u001b[0mexog\u001b[0m \u001b[0;34m=\u001b[0m \u001b[0mself\u001b[0m\u001b[0;34m.\u001b[0m\u001b[0mdata\u001b[0m\u001b[0;34m.\u001b[0m\u001b[0mexog\u001b[0m\u001b[0;34m\u001b[0m\u001b[0m\n",
      "\u001b[0;32m/usr/local/lib/python3.5/dist-packages/statsmodels/base/model.py\u001b[0m in \u001b[0;36m_handle_data\u001b[0;34m(self, endog, exog, missing, hasconst, **kwargs)\u001b[0m\n\u001b[1;32m     82\u001b[0m \u001b[0;34m\u001b[0m\u001b[0m\n\u001b[1;32m     83\u001b[0m     \u001b[0;32mdef\u001b[0m \u001b[0m_handle_data\u001b[0m\u001b[0;34m(\u001b[0m\u001b[0mself\u001b[0m\u001b[0;34m,\u001b[0m \u001b[0mendog\u001b[0m\u001b[0;34m,\u001b[0m \u001b[0mexog\u001b[0m\u001b[0;34m,\u001b[0m \u001b[0mmissing\u001b[0m\u001b[0;34m,\u001b[0m \u001b[0mhasconst\u001b[0m\u001b[0;34m,\u001b[0m \u001b[0;34m**\u001b[0m\u001b[0mkwargs\u001b[0m\u001b[0;34m)\u001b[0m\u001b[0;34m:\u001b[0m\u001b[0;34m\u001b[0m\u001b[0m\n\u001b[0;32m---> 84\u001b[0;31m         \u001b[0mdata\u001b[0m \u001b[0;34m=\u001b[0m \u001b[0mhandle_data\u001b[0m\u001b[0;34m(\u001b[0m\u001b[0mendog\u001b[0m\u001b[0;34m,\u001b[0m \u001b[0mexog\u001b[0m\u001b[0;34m,\u001b[0m \u001b[0mmissing\u001b[0m\u001b[0;34m,\u001b[0m \u001b[0mhasconst\u001b[0m\u001b[0;34m,\u001b[0m \u001b[0;34m**\u001b[0m\u001b[0mkwargs\u001b[0m\u001b[0;34m)\u001b[0m\u001b[0;34m\u001b[0m\u001b[0m\n\u001b[0m\u001b[1;32m     85\u001b[0m         \u001b[0;31m# kwargs arrays could have changed, easier to just attach here\u001b[0m\u001b[0;34m\u001b[0m\u001b[0;34m\u001b[0m\u001b[0m\n\u001b[1;32m     86\u001b[0m         \u001b[0;32mfor\u001b[0m \u001b[0mkey\u001b[0m \u001b[0;32min\u001b[0m \u001b[0mkwargs\u001b[0m\u001b[0;34m:\u001b[0m\u001b[0;34m\u001b[0m\u001b[0m\n",
      "\u001b[0;32m/usr/local/lib/python3.5/dist-packages/statsmodels/base/data.py\u001b[0m in \u001b[0;36mhandle_data\u001b[0;34m(endog, exog, missing, hasconst, **kwargs)\u001b[0m\n\u001b[1;32m    564\u001b[0m     \u001b[0mklass\u001b[0m \u001b[0;34m=\u001b[0m \u001b[0mhandle_data_class_factory\u001b[0m\u001b[0;34m(\u001b[0m\u001b[0mendog\u001b[0m\u001b[0;34m,\u001b[0m \u001b[0mexog\u001b[0m\u001b[0;34m)\u001b[0m\u001b[0;34m\u001b[0m\u001b[0m\n\u001b[1;32m    565\u001b[0m     return klass(endog, exog=exog, missing=missing, hasconst=hasconst,\n\u001b[0;32m--> 566\u001b[0;31m                  **kwargs)\n\u001b[0m",
      "\u001b[0;32m/usr/local/lib/python3.5/dist-packages/statsmodels/base/data.py\u001b[0m in \u001b[0;36m__init__\u001b[0;34m(self, endog, exog, missing, hasconst, **kwargs)\u001b[0m\n\u001b[1;32m     74\u001b[0m         \u001b[0;31m# this has side-effects, attaches k_constant and const_idx\u001b[0m\u001b[0;34m\u001b[0m\u001b[0;34m\u001b[0m\u001b[0m\n\u001b[1;32m     75\u001b[0m         \u001b[0mself\u001b[0m\u001b[0;34m.\u001b[0m\u001b[0m_handle_constant\u001b[0m\u001b[0;34m(\u001b[0m\u001b[0mhasconst\u001b[0m\u001b[0;34m)\u001b[0m\u001b[0;34m\u001b[0m\u001b[0m\n\u001b[0;32m---> 76\u001b[0;31m         \u001b[0mself\u001b[0m\u001b[0;34m.\u001b[0m\u001b[0m_check_integrity\u001b[0m\u001b[0;34m(\u001b[0m\u001b[0;34m)\u001b[0m\u001b[0;34m\u001b[0m\u001b[0m\n\u001b[0m\u001b[1;32m     77\u001b[0m         \u001b[0mself\u001b[0m\u001b[0;34m.\u001b[0m\u001b[0m_cache\u001b[0m \u001b[0;34m=\u001b[0m \u001b[0mresettable_cache\u001b[0m\u001b[0;34m(\u001b[0m\u001b[0;34m)\u001b[0m\u001b[0;34m\u001b[0m\u001b[0m\n\u001b[1;32m     78\u001b[0m \u001b[0;34m\u001b[0m\u001b[0m\n",
      "\u001b[0;32m/usr/local/lib/python3.5/dist-packages/statsmodels/base/data.py\u001b[0m in \u001b[0;36m_check_integrity\u001b[0;34m(self)\u001b[0m\n\u001b[1;32m    363\u001b[0m         \u001b[0;32mif\u001b[0m \u001b[0mself\u001b[0m\u001b[0;34m.\u001b[0m\u001b[0mexog\u001b[0m \u001b[0;32mis\u001b[0m \u001b[0;32mnot\u001b[0m \u001b[0;32mNone\u001b[0m\u001b[0;34m:\u001b[0m\u001b[0;34m\u001b[0m\u001b[0m\n\u001b[1;32m    364\u001b[0m             \u001b[0;32mif\u001b[0m \u001b[0mlen\u001b[0m\u001b[0;34m(\u001b[0m\u001b[0mself\u001b[0m\u001b[0;34m.\u001b[0m\u001b[0mexog\u001b[0m\u001b[0;34m)\u001b[0m \u001b[0;34m!=\u001b[0m \u001b[0mlen\u001b[0m\u001b[0;34m(\u001b[0m\u001b[0mself\u001b[0m\u001b[0;34m.\u001b[0m\u001b[0mendog\u001b[0m\u001b[0;34m)\u001b[0m\u001b[0;34m:\u001b[0m\u001b[0;34m\u001b[0m\u001b[0m\n\u001b[0;32m--> 365\u001b[0;31m                 \u001b[0;32mraise\u001b[0m \u001b[0mValueError\u001b[0m\u001b[0;34m(\u001b[0m\u001b[0;34m\"endog and exog matrices are different sizes\"\u001b[0m\u001b[0;34m)\u001b[0m\u001b[0;34m\u001b[0m\u001b[0m\n\u001b[0m\u001b[1;32m    366\u001b[0m \u001b[0;34m\u001b[0m\u001b[0m\n\u001b[1;32m    367\u001b[0m     \u001b[0;32mdef\u001b[0m \u001b[0mwrap_output\u001b[0m\u001b[0;34m(\u001b[0m\u001b[0mself\u001b[0m\u001b[0;34m,\u001b[0m \u001b[0mobj\u001b[0m\u001b[0;34m,\u001b[0m \u001b[0mhow\u001b[0m\u001b[0;34m=\u001b[0m\u001b[0;34m'columns'\u001b[0m\u001b[0;34m,\u001b[0m \u001b[0mnames\u001b[0m\u001b[0;34m=\u001b[0m\u001b[0;32mNone\u001b[0m\u001b[0;34m)\u001b[0m\u001b[0;34m:\u001b[0m\u001b[0;34m\u001b[0m\u001b[0m\n",
      "\u001b[0;31mValueError\u001b[0m: endog and exog matrices are different sizes"
     ]
    }
   ],
   "source": [
    "import statsmodels.api as sm\n",
    "\n",
    "def calc_best_fit_line(y_data, x_data = np.arange(1948, 2016)):\n",
    "    '''\n",
    "    Calculates a line of best fit through the `y_data` based\n",
    "    on the provided `x_data`.\n",
    "    '''\n",
    "\n",
    "    # Add a constant (the intercept term)\n",
    "    x_data = sm.add_constant(x_data)\n",
    "\n",
    "    # Fit the temperature anomalies to a simple time series\n",
    "    results = sm.OLS(y_data, x_data).fit()\n",
    "    \n",
    "    return results.params\n",
    "\n",
    "\n",
    "# Load the data\n",
    "data = np.loadtxt('wvu.temperature.csv', delimiter = ',')\n",
    "\n",
    "calc_best_fit_line(temperature_anomaly(data))"
   ]
  },
  {
   "cell_type": "markdown",
   "metadata": {},
   "source": [
    "**This is really long! And intimidating, at first. Let's break it down.**\n",
    "\n",
    "- You can see there are multiple groups in this traceback; each is associated with a different Python file. These are the Python files that have code that was run as part of the code we executed. **It's important to realize that most Python programs depend on a lot of other Python code! This is why we're able to do such complex things so quickly in Python--because a lot of the foundational work has already been done.** However, this also means that tracebacks can get quite long.\n",
    "- In the first line of the traceback, Python tells us the type of error (a `ValueError`) and it reminds us that the \"most recent call [is listed] last.\" This means that the traceback is sorted in the order by which Python functions were called. Each time a Python function calls another Python function, we get a new line in the traceback.\n",
    "- Because the \"most recent call [is listed] last,\" we can see the code that we just wrote at the top, displayed first. **The arrow shows the specific line that started the cascade of functions that led to the error.**\n",
    "- In the last line of the traceback, Python helpfully tells us the category or type of error (in this case, it is an `ValueError`) and a more detailed error message (`'endog and exog matrices are different sizes'`).\n",
    "\n",
    "**To debug this error:** \n",
    "\n",
    "- We have to first understand the error message. \n",
    "- We know `statsmodels` is involved, because that's the codebase that the last line of the traceback is in (according to the filename).\n",
    "- The second line of the traceback shows our call to the `sm.OLS()` function. We might include the name of the `OLS` function in an online search, along with the error message itself.\n",
    "\n",
    "Ultimately, we have to know that `endog` and `exog` are the names of arguments to the `OLS()` function in `statsmodels`. As it turns out, the array we specified for the `x_data` argument in our new function is not the right size. We need to provide `np.arange(1948, 2017)`; recall that in `np.arange()`, the range goes *up to but not including* the second number."
   ]
  },
  {
   "cell_type": "markdown",
   "metadata": {},
   "source": [
    "# Defensive Programming"
   ]
  },
  {
   "cell_type": "markdown",
   "metadata": {},
   "source": [
    "Up to this point, we've introduced the basic tools of programming:\n",
    "\n",
    "- Variables and lists,\n",
    "- File input and output,\n",
    "- Loops,\n",
    "- Conditionals, and\n",
    "- Functions."
   ]
  },
  {
   "cell_type": "markdown",
   "metadata": {},
   "source": [
    "**But how can we tell whether a program is giving us the right answer? How can we tell if it's *still* giving us the right answer after we've made changes to it?**\n",
    "\n",
    "To achieve that, we need to:\n",
    "\n",
    "- Write programs that check their own operation;\n",
    "- Write and run tests for widely-used functions;\n",
    "- And make sure we know what \"correct\" actually means.\n",
    "\n",
    "The good news is that doing all of these things will actually improve our productivity, not slow us down."
   ]
  },
  {
   "cell_type": "markdown",
   "metadata": {},
   "source": [
    "## Assertions"
   ]
  },
  {
   "cell_type": "markdown",
   "metadata": {},
   "source": [
    "The first step toward getting the right answers from our programs is to assume that mistakes *will* happen and to guard against them. This is called **defensive programming,** and the most common way to do it is to add **assertions** to our code so that it checks itself as it runs.\n",
    "\n",
    "For example, let's suppose that one of the first things we do when we acquire new temperature data is to produce a series of temperature anomaly plots."
   ]
  },
  {
   "cell_type": "code",
   "execution_count": 124,
   "metadata": {
    "collapsed": false
   },
   "outputs": [
    {
     "data": {
      "image/png": "[encoded data removed]",
      "text/plain": [
       "<matplotlib.figure.Figure at 0x7f1d63f90da0>"
      ]
     },
     "metadata": {},
     "output_type": "display_data"
    }
   ],
   "source": [
    "import matplotlib.pyplot as pyplot\n",
    "%matplotlib inline\n",
    "\n",
    "data = np.loadtxt('./barrow.temperature.csv', delimiter = ',')\n",
    "\n",
    "def plot_temperature_anomaly(temp_array):\n",
    "    pyplot.plot(temp_array.mean(axis = 1) - temp_array.mean())\n",
    "    pyplot.show()\n",
    "    \n",
    "plot_temperature_anomaly(data)"
   ]
  },
  {
   "cell_type": "markdown",
   "metadata": {},
   "source": [
    "**Because we're going to compare these temperature anomaly plots to others we've made in the past, using the same function, we expect the temperature data to be in a certain format and with certain units of measure.**\n",
    "\n",
    "What if someone provided data that were not in the correct units, e.g., degrees F instead of degrees C?"
   ]
  },
  {
   "cell_type": "code",
   "execution_count": 125,
   "metadata": {
    "collapsed": false
   },
   "outputs": [
    {
     "data": {
      "image/png": "[encoded data removed]",
      "text/plain": [
       "<matplotlib.figure.Figure at 0x7f1d63f72e80>"
      ]
     },
     "metadata": {},
     "output_type": "display_data"
    }
   ],
   "source": [
    "plot_temperature_anomaly(kelvin_to_fahr(data))"
   ]
  },
  {
   "cell_type": "markdown",
   "metadata": {},
   "source": [
    "Our temperature anomaly plot has the same shape but the numbers are very different; it looks like the anomalies are more extreme than they really are.\n",
    "\n",
    "**We'd like to add a test to our plotting function to ensure against data with the wrong units being provided.**\n",
    "The `np.all()` function is a useful function that returns `True` *only* if all the elements of an array are True."
   ]
  },
  {
   "cell_type": "code",
   "execution_count": 126,
   "metadata": {
    "collapsed": false
   },
   "outputs": [
    {
     "data": {
      "text/plain": [
       "False"
      ]
     },
     "execution_count": 126,
     "metadata": {},
     "output_type": "execute_result"
    }
   ],
   "source": [
    "data_in_f = kelvin_to_fahr(data)\n",
    "\n",
    "# Are all values greater than zero?\n",
    "np.all(data_in_f > 0)"
   ]
  },
  {
   "cell_type": "markdown",
   "metadata": {},
   "source": [
    "This is a good test for regions that experience freezing temperatures, but regions that never experience such temperatures would still pass this test when the units are in Fahrenheit. We may have to add additional tests to absolutely guard against temperature data in the wrong units, but this is a good start."
   ]
  },
  {
   "cell_type": "code",
   "execution_count": 127,
   "metadata": {
    "collapsed": false
   },
   "outputs": [
    {
     "data": {
      "image/png": "[encoded data removed]",
      "text/plain": [
       "<matplotlib.figure.Figure at 0x7f1d63eb6668>"
      ]
     },
     "metadata": {},
     "output_type": "display_data"
    }
   ],
   "source": [
    "def plot_temperature_anomaly(temp_array):\n",
    "    assert np.all(temp_array > 0), 'Temperature values (in degrees Kelvin) should be greater than zero'\n",
    "    pyplot.plot(temp_array.mean(axis = 1) - temp_array.mean())\n",
    "    pyplot.show()\n",
    "    \n",
    "plot_temperature_anomaly(data)"
   ]
  },
  {
   "cell_type": "code",
   "execution_count": 128,
   "metadata": {
    "collapsed": false
   },
   "outputs": [
    {
     "ename": "AssertionError",
     "evalue": "Temperature values (in degrees Kelvin) should be greater than zero",
     "output_type": "error",
     "traceback": [
      "\u001b[0;31m---------------------------------------------------------------------------\u001b[0m",
      "\u001b[0;31mAssertionError\u001b[0m                            Traceback (most recent call last)",
      "\u001b[0;32m<ipython-input-128-78942a425c7a>\u001b[0m in \u001b[0;36m<module>\u001b[0;34m()\u001b[0m\n\u001b[0;32m----> 1\u001b[0;31m \u001b[0mplot_temperature_anomaly\u001b[0m\u001b[0;34m(\u001b[0m\u001b[0mkelvin_to_fahr\u001b[0m\u001b[0;34m(\u001b[0m\u001b[0mdata\u001b[0m\u001b[0;34m)\u001b[0m\u001b[0;34m)\u001b[0m\u001b[0;34m\u001b[0m\u001b[0m\n\u001b[0m",
      "\u001b[0;32m<ipython-input-127-2f3f0f9ffd20>\u001b[0m in \u001b[0;36mplot_temperature_anomaly\u001b[0;34m(temp_array)\u001b[0m\n\u001b[1;32m      1\u001b[0m \u001b[0;32mdef\u001b[0m \u001b[0mplot_temperature_anomaly\u001b[0m\u001b[0;34m(\u001b[0m\u001b[0mtemp_array\u001b[0m\u001b[0;34m)\u001b[0m\u001b[0;34m:\u001b[0m\u001b[0;34m\u001b[0m\u001b[0m\n\u001b[0;32m----> 2\u001b[0;31m     \u001b[0;32massert\u001b[0m \u001b[0mnp\u001b[0m\u001b[0;34m.\u001b[0m\u001b[0mall\u001b[0m\u001b[0;34m(\u001b[0m\u001b[0mtemp_array\u001b[0m \u001b[0;34m>\u001b[0m \u001b[0;36m0\u001b[0m\u001b[0;34m)\u001b[0m\u001b[0;34m,\u001b[0m \u001b[0;34m'Temperature values (in degrees Kelvin) should be greater than zero'\u001b[0m\u001b[0;34m\u001b[0m\u001b[0m\n\u001b[0m\u001b[1;32m      3\u001b[0m     \u001b[0mpyplot\u001b[0m\u001b[0;34m.\u001b[0m\u001b[0mplot\u001b[0m\u001b[0;34m(\u001b[0m\u001b[0mtemp_array\u001b[0m\u001b[0;34m.\u001b[0m\u001b[0mmean\u001b[0m\u001b[0;34m(\u001b[0m\u001b[0maxis\u001b[0m \u001b[0;34m=\u001b[0m \u001b[0;36m1\u001b[0m\u001b[0;34m)\u001b[0m \u001b[0;34m-\u001b[0m \u001b[0mtemp_array\u001b[0m\u001b[0;34m.\u001b[0m\u001b[0mmean\u001b[0m\u001b[0;34m(\u001b[0m\u001b[0;34m)\u001b[0m\u001b[0;34m)\u001b[0m\u001b[0;34m\u001b[0m\u001b[0m\n\u001b[1;32m      4\u001b[0m     \u001b[0mpyplot\u001b[0m\u001b[0;34m.\u001b[0m\u001b[0mshow\u001b[0m\u001b[0;34m(\u001b[0m\u001b[0;34m)\u001b[0m\u001b[0;34m\u001b[0m\u001b[0m\n\u001b[1;32m      5\u001b[0m \u001b[0;34m\u001b[0m\u001b[0m\n",
      "\u001b[0;31mAssertionError\u001b[0m: Temperature values (in degrees Kelvin) should be greater than zero"
     ]
    }
   ],
   "source": [
    "plot_temperature_anomaly(kelvin_to_fahr(data))"
   ]
  },
  {
   "cell_type": "markdown",
   "metadata": {},
   "source": [
    "Most software programs that you use are full of assertions. In the Firefox web browser, for instance, among versions, 10-20% of the code is there to check that the other 80-90% is working correctly.\n",
    "\n",
    "Broadly speaking, assertions fall into three categories:\n",
    "\n",
    "- A *precondition* is something that must be true at the start of the function in order for it to work correctly.\n",
    "- A *postcondition* is something that the function guarantees is true when it finishes.\n",
    "- An *invariant* is something that is always true at a particular point inside a piece of code.\n",
    "\n",
    "Assertions can be thought of as quality control or quality assurance for software. **Can you think of examples from your work where you would benefit from preconditions, postconditions, or invariants?**"
   ]
  },
  {
   "cell_type": "markdown",
   "metadata": {},
   "source": [
    "Most people who develop software fail to follow two rules when adding assertions to their code: \n",
    "\n",
    "- **Fail early, fail often:** The more time that elapses between when an error occurs and when it is first noticed, the greater the potential damage (e.g., to your analysis, to the outputs of your software) and the harder it will be to debug (because the software has grown to be more complicated and interdependent). Good code catches mistakes as early as possible.\n",
    "- **Turn bugs into assertions or tests:** Whenever you fix a bug, write an assertion that catches the mistake should you make it again. The odds are good that you have made similar mistakes nearby or will make the same or a similar mistake the next time you change this part of this code."
   ]
  },
  {
   "cell_type": "markdown",
   "metadata": {},
   "source": [
    "### Assertations Regarding Type (Advanced)"
   ]
  },
  {
   "cell_type": "markdown",
   "metadata": {},
   "source": [
    "When we were creating functions for re-use, we often required one or more function arguments; inputs to the function that were used in the logic of the function body. We made assumptions about what kind of Python object a user provided for each argument. Recall our working example below."
   ]
  },
  {
   "cell_type": "code",
   "execution_count": 129,
   "metadata": {
    "collapsed": true
   },
   "outputs": [],
   "source": [
    "def plot_temperature_anomaly(temp_array):\n",
    "    pyplot.plot(temp_array.mean(axis = 1) - temp_array.mean())\n",
    "    pyplot.show()"
   ]
  },
  {
   "cell_type": "markdown",
   "metadata": {},
   "source": [
    "Here, we assume that the `temp_array` argument is a NumPy array. After all, we need to be able to call the `mean()` method on whatever object receives the `temp_array` name when the function is executed."
   ]
  },
  {
   "cell_type": "code",
   "execution_count": 130,
   "metadata": {
    "collapsed": false
   },
   "outputs": [
    {
     "ename": "AttributeError",
     "evalue": "'list' object has no attribute 'mean'",
     "output_type": "error",
     "traceback": [
      "\u001b[0;31m---------------------------------------------------------------------------\u001b[0m",
      "\u001b[0;31mAttributeError\u001b[0m                            Traceback (most recent call last)",
      "\u001b[0;32m<ipython-input-130-f96a3b7b4bcd>\u001b[0m in \u001b[0;36m<module>\u001b[0;34m()\u001b[0m\n\u001b[0;32m----> 1\u001b[0;31m \u001b[0mplot_temperature_anomaly\u001b[0m\u001b[0;34m(\u001b[0m\u001b[0;34m[\u001b[0m\u001b[0;36m0.5\u001b[0m\u001b[0;34m,\u001b[0m \u001b[0;36m1.0\u001b[0m\u001b[0;34m,\u001b[0m \u001b[0;36m1.5\u001b[0m\u001b[0;34m]\u001b[0m\u001b[0;34m)\u001b[0m\u001b[0;34m\u001b[0m\u001b[0m\n\u001b[0m",
      "\u001b[0;32m<ipython-input-129-2cc532187f56>\u001b[0m in \u001b[0;36mplot_temperature_anomaly\u001b[0;34m(temp_array)\u001b[0m\n\u001b[1;32m      1\u001b[0m \u001b[0;32mdef\u001b[0m \u001b[0mplot_temperature_anomaly\u001b[0m\u001b[0;34m(\u001b[0m\u001b[0mtemp_array\u001b[0m\u001b[0;34m)\u001b[0m\u001b[0;34m:\u001b[0m\u001b[0;34m\u001b[0m\u001b[0m\n\u001b[0;32m----> 2\u001b[0;31m     \u001b[0mpyplot\u001b[0m\u001b[0;34m.\u001b[0m\u001b[0mplot\u001b[0m\u001b[0;34m(\u001b[0m\u001b[0mtemp_array\u001b[0m\u001b[0;34m.\u001b[0m\u001b[0mmean\u001b[0m\u001b[0;34m(\u001b[0m\u001b[0maxis\u001b[0m \u001b[0;34m=\u001b[0m \u001b[0;36m1\u001b[0m\u001b[0;34m)\u001b[0m \u001b[0;34m-\u001b[0m \u001b[0mtemp_array\u001b[0m\u001b[0;34m.\u001b[0m\u001b[0mmean\u001b[0m\u001b[0;34m(\u001b[0m\u001b[0;34m)\u001b[0m\u001b[0;34m)\u001b[0m\u001b[0;34m\u001b[0m\u001b[0m\n\u001b[0m\u001b[1;32m      3\u001b[0m     \u001b[0mpyplot\u001b[0m\u001b[0;34m.\u001b[0m\u001b[0mshow\u001b[0m\u001b[0;34m(\u001b[0m\u001b[0;34m)\u001b[0m\u001b[0;34m\u001b[0m\u001b[0m\n",
      "\u001b[0;31mAttributeError\u001b[0m: 'list' object has no attribute 'mean'"
     ]
    }
   ],
   "source": [
    "plot_temperature_anomaly([0.5, 1.0, 1.5])"
   ]
  },
  {
   "cell_type": "markdown",
   "metadata": {},
   "source": [
    "When we provide the wrong kind of argument to this function, a `list` instead of a NumPy array, the Python interpreter attempts to call the `mean()` method on a `list`. However, a `list` has no method called `mean()`, and so our code breaks.\n",
    "\n",
    "**How can we guard against this type of user error, particularly if we suspect the users of our code will not understand the `AttributeError` above?** In Python, we have functions to check the *type* or class of an object; we can combine this with the `assert` statement that we've already seen."
   ]
  },
  {
   "cell_type": "code",
   "execution_count": 131,
   "metadata": {
    "collapsed": false
   },
   "outputs": [
    {
     "data": {
      "text/plain": [
       "list"
      ]
     },
     "execution_count": 131,
     "metadata": {},
     "output_type": "execute_result"
    }
   ],
   "source": [
    "a_list = [0.5, 1.0, 1.5]\n",
    "type(a_list)"
   ]
  },
  {
   "cell_type": "code",
   "execution_count": 132,
   "metadata": {
    "collapsed": false
   },
   "outputs": [
    {
     "data": {
      "text/plain": [
       "str"
      ]
     },
     "execution_count": 132,
     "metadata": {},
     "output_type": "execute_result"
    }
   ],
   "source": [
    "a_string = 'a string'\n",
    "type(a_string)"
   ]
  },
  {
   "cell_type": "markdown",
   "metadata": {},
   "source": [
    "How does the `type()` function work?"
   ]
  },
  {
   "cell_type": "code",
   "execution_count": 133,
   "metadata": {
    "collapsed": false
   },
   "outputs": [
    {
     "data": {
      "text/plain": [
       "True"
      ]
     },
     "execution_count": 133,
     "metadata": {},
     "output_type": "execute_result"
    }
   ],
   "source": [
    "type(a_string) == str"
   ]
  },
  {
   "cell_type": "markdown",
   "metadata": {},
   "source": [
    "How can we use the `type()` function to guard against a user providing the wrong kind of object?"
   ]
  },
  {
   "cell_type": "code",
   "execution_count": 134,
   "metadata": {
    "collapsed": false
   },
   "outputs": [
    {
     "data": {
      "text/plain": [
       "numpy.ndarray"
      ]
     },
     "execution_count": 134,
     "metadata": {},
     "output_type": "execute_result"
    }
   ],
   "source": [
    "type(data)"
   ]
  },
  {
   "cell_type": "markdown",
   "metadata": {},
   "source": [
    "Recall that we imported the `numpy` library with the alias `np` using:\n",
    "```py\n",
    "import numpy as np\n",
    "```\n",
    "\n",
    "Consequently, when we check for type, we can use either the alias or the original name."
   ]
  },
  {
   "cell_type": "code",
   "execution_count": 135,
   "metadata": {
    "collapsed": false
   },
   "outputs": [
    {
     "data": {
      "text/plain": [
       "True"
      ]
     },
     "execution_count": 135,
     "metadata": {},
     "output_type": "execute_result"
    }
   ],
   "source": [
    "type(data) == np.ndarray == numpy.ndarray"
   ]
  },
  {
   "cell_type": "code",
   "execution_count": 136,
   "metadata": {
    "collapsed": false
   },
   "outputs": [
    {
     "ename": "AssertionError",
     "evalue": "Expected temp_array to be a numpy.ndarray",
     "output_type": "error",
     "traceback": [
      "\u001b[0;31m---------------------------------------------------------------------------\u001b[0m",
      "\u001b[0;31mAssertionError\u001b[0m                            Traceback (most recent call last)",
      "\u001b[0;32m<ipython-input-136-18bfd0716193>\u001b[0m in \u001b[0;36m<module>\u001b[0;34m()\u001b[0m\n\u001b[1;32m      4\u001b[0m     \u001b[0mpyplot\u001b[0m\u001b[0;34m.\u001b[0m\u001b[0mshow\u001b[0m\u001b[0;34m(\u001b[0m\u001b[0;34m)\u001b[0m\u001b[0;34m\u001b[0m\u001b[0m\n\u001b[1;32m      5\u001b[0m \u001b[0;34m\u001b[0m\u001b[0m\n\u001b[0;32m----> 6\u001b[0;31m \u001b[0mplot_temperature_anomaly\u001b[0m\u001b[0;34m(\u001b[0m\u001b[0;34m[\u001b[0m\u001b[0;36m0.5\u001b[0m\u001b[0;34m,\u001b[0m \u001b[0;36m1.0\u001b[0m\u001b[0;34m,\u001b[0m \u001b[0;36m1.5\u001b[0m\u001b[0;34m]\u001b[0m\u001b[0;34m)\u001b[0m\u001b[0;34m\u001b[0m\u001b[0m\n\u001b[0m",
      "\u001b[0;32m<ipython-input-136-18bfd0716193>\u001b[0m in \u001b[0;36mplot_temperature_anomaly\u001b[0;34m(temp_array)\u001b[0m\n\u001b[1;32m      1\u001b[0m \u001b[0;32mdef\u001b[0m \u001b[0mplot_temperature_anomaly\u001b[0m\u001b[0;34m(\u001b[0m\u001b[0mtemp_array\u001b[0m\u001b[0;34m)\u001b[0m\u001b[0;34m:\u001b[0m\u001b[0;34m\u001b[0m\u001b[0m\n\u001b[0;32m----> 2\u001b[0;31m     \u001b[0;32massert\u001b[0m \u001b[0mtype\u001b[0m\u001b[0;34m(\u001b[0m\u001b[0mtemp_array\u001b[0m\u001b[0;34m)\u001b[0m \u001b[0;34m==\u001b[0m \u001b[0mnumpy\u001b[0m\u001b[0;34m.\u001b[0m\u001b[0mndarray\u001b[0m\u001b[0;34m,\u001b[0m \u001b[0;34m'Expected temp_array to be a numpy.ndarray'\u001b[0m\u001b[0;34m\u001b[0m\u001b[0m\n\u001b[0m\u001b[1;32m      3\u001b[0m     \u001b[0mpyplot\u001b[0m\u001b[0;34m.\u001b[0m\u001b[0mplot\u001b[0m\u001b[0;34m(\u001b[0m\u001b[0mtemp_array\u001b[0m\u001b[0;34m.\u001b[0m\u001b[0mmean\u001b[0m\u001b[0;34m(\u001b[0m\u001b[0maxis\u001b[0m \u001b[0;34m=\u001b[0m \u001b[0;36m1\u001b[0m\u001b[0;34m)\u001b[0m \u001b[0;34m-\u001b[0m \u001b[0mtemp_array\u001b[0m\u001b[0;34m.\u001b[0m\u001b[0mmean\u001b[0m\u001b[0;34m(\u001b[0m\u001b[0;34m)\u001b[0m\u001b[0;34m)\u001b[0m\u001b[0;34m\u001b[0m\u001b[0m\n\u001b[1;32m      4\u001b[0m     \u001b[0mpyplot\u001b[0m\u001b[0;34m.\u001b[0m\u001b[0mshow\u001b[0m\u001b[0;34m(\u001b[0m\u001b[0;34m)\u001b[0m\u001b[0;34m\u001b[0m\u001b[0m\n\u001b[1;32m      5\u001b[0m \u001b[0;34m\u001b[0m\u001b[0m\n",
      "\u001b[0;31mAssertionError\u001b[0m: Expected temp_array to be a numpy.ndarray"
     ]
    }
   ],
   "source": [
    "def plot_temperature_anomaly(temp_array):\n",
    "    assert type(temp_array) == numpy.ndarray, 'Expected temp_array to be a numpy.ndarray'\n",
    "    pyplot.plot(temp_array.mean(axis = 1) - temp_array.mean())\n",
    "    pyplot.show()\n",
    "    \n",
    "plot_temperature_anomaly([0.5, 1.0, 1.5])"
   ]
  },
  {
   "cell_type": "markdown",
   "metadata": {},
   "source": [
    "### Challenge: Asserting Type in a Function"
   ]
  },
  {
   "cell_type": "markdown",
   "metadata": {},
   "source": [
    "Recall the `celsius_to_fahr()` function we saw earlier. Implement a type-checking assertion that produces an `AssertionError` when the `temp_c` argument is not a number. Remember that there are two types of numbers we've see in Python so far:\n",
    "\n",
    "- `float`\n",
    "- `int`\n",
    "\n",
    "You can decide whether the `celsius_to_fahr()` function should accept one or both of these types as inputs. **Don't forget to provide a helpful message as part of the `AssertionError`.**"
   ]
  },
  {
   "cell_type": "code",
   "execution_count": 137,
   "metadata": {
    "collapsed": true
   },
   "outputs": [],
   "source": [
    "def celsius_to_fahr(temp_c):\n",
    "    return (temp_c * (9/5)) + 32"
   ]
  },
  {
   "cell_type": "markdown",
   "metadata": {},
   "source": [
    "### Assertions Regarding Inherited Type (Advanced)"
   ]
  },
  {
   "cell_type": "markdown",
   "metadata": {},
   "source": [
    "Assertions on the `type` of an object are extremely useful when we want to test that a particular Python object is a specific type. However, there are many situations where testing the `type` of an object is not ideal.\n",
    "\n",
    "We won't go into too much detail regarding Python classes, subclasses, and inheritance. **Suffice to say, in Python, some kinds of objects are very similar to other kinds of objects but have distinct types.**\n",
    "\n",
    "As a quick toy example, suppose that we have a simple function that reports on the *metadata* related to our temperature data."
   ]
  },
  {
   "cell_type": "code",
   "execution_count": 138,
   "metadata": {
    "collapsed": true
   },
   "outputs": [],
   "source": [
    "my_metadata = {'date': '2018-05-10', 'units': 'Celsius'}\n",
    "def check_metadata(metadata):\n",
    "    assert type(metadata) == dict, 'Expected a Python dictionary'\n",
    "    print(list(metadata.keys()))"
   ]
  },
  {
   "cell_type": "code",
   "execution_count": 139,
   "metadata": {
    "collapsed": false
   },
   "outputs": [
    {
     "name": "stdout",
     "output_type": "stream",
     "text": [
      "['units', 'date']\n"
     ]
    }
   ],
   "source": [
    "check_metadata(my_metadata)"
   ]
  },
  {
   "cell_type": "markdown",
   "metadata": {},
   "source": [
    "This function takes a Python dictionary, or `dict`, which, as we've discussed, is a way of representing key-value pairs. Recall that Python dictionaries are inherently unordered: the key-value pairs have no intrinsic ordering. However, there is a similar built-in data type, called an ordered dictionary, or `OrderedDict`, which does allow the key-value pairs to maintain an order."
   ]
  },
  {
   "cell_type": "code",
   "execution_count": 140,
   "metadata": {
    "collapsed": false
   },
   "outputs": [
    {
     "data": {
      "text/plain": [
       "OrderedDict([('units', 'Celsius'), ('date', '2018-05-10')])"
      ]
     },
     "execution_count": 140,
     "metadata": {},
     "output_type": "execute_result"
    }
   ],
   "source": [
    "from collections import OrderedDict\n",
    "OrderedDict(my_metadata)"
   ]
  },
  {
   "cell_type": "code",
   "execution_count": 141,
   "metadata": {
    "collapsed": false
   },
   "outputs": [
    {
     "data": {
      "text/plain": [
       "odict_keys(['units', 'date'])"
      ]
     },
     "execution_count": 141,
     "metadata": {},
     "output_type": "execute_result"
    }
   ],
   "source": [
    "my_ordered_metadata = OrderedDict(my_metadata)\n",
    "my_ordered_metadata.keys()"
   ]
  },
  {
   "cell_type": "markdown",
   "metadata": {},
   "source": [
    "**What if we used `OrderedDict` to represent our metadata?**"
   ]
  },
  {
   "cell_type": "code",
   "execution_count": 142,
   "metadata": {
    "collapsed": false
   },
   "outputs": [
    {
     "ename": "AssertionError",
     "evalue": "Expected a Python dictionary",
     "output_type": "error",
     "traceback": [
      "\u001b[0;31m---------------------------------------------------------------------------\u001b[0m",
      "\u001b[0;31mAssertionError\u001b[0m                            Traceback (most recent call last)",
      "\u001b[0;32m<ipython-input-142-ef74ee740266>\u001b[0m in \u001b[0;36m<module>\u001b[0;34m()\u001b[0m\n\u001b[0;32m----> 1\u001b[0;31m \u001b[0mcheck_metadata\u001b[0m\u001b[0;34m(\u001b[0m\u001b[0mmy_ordered_metadata\u001b[0m\u001b[0;34m)\u001b[0m\u001b[0;34m\u001b[0m\u001b[0m\n\u001b[0m",
      "\u001b[0;32m<ipython-input-138-1899d02982e8>\u001b[0m in \u001b[0;36mcheck_metadata\u001b[0;34m(metadata)\u001b[0m\n\u001b[1;32m      1\u001b[0m \u001b[0mmy_metadata\u001b[0m \u001b[0;34m=\u001b[0m \u001b[0;34m{\u001b[0m\u001b[0;34m'date'\u001b[0m\u001b[0;34m:\u001b[0m \u001b[0;34m'2018-05-10'\u001b[0m\u001b[0;34m,\u001b[0m \u001b[0;34m'units'\u001b[0m\u001b[0;34m:\u001b[0m \u001b[0;34m'Celsius'\u001b[0m\u001b[0;34m}\u001b[0m\u001b[0;34m\u001b[0m\u001b[0m\n\u001b[1;32m      2\u001b[0m \u001b[0;32mdef\u001b[0m \u001b[0mcheck_metadata\u001b[0m\u001b[0;34m(\u001b[0m\u001b[0mmetadata\u001b[0m\u001b[0;34m)\u001b[0m\u001b[0;34m:\u001b[0m\u001b[0;34m\u001b[0m\u001b[0m\n\u001b[0;32m----> 3\u001b[0;31m     \u001b[0;32massert\u001b[0m \u001b[0mtype\u001b[0m\u001b[0;34m(\u001b[0m\u001b[0mmetadata\u001b[0m\u001b[0;34m)\u001b[0m \u001b[0;34m==\u001b[0m \u001b[0mdict\u001b[0m\u001b[0;34m,\u001b[0m \u001b[0;34m'Expected a Python dictionary'\u001b[0m\u001b[0;34m\u001b[0m\u001b[0m\n\u001b[0m\u001b[1;32m      4\u001b[0m     \u001b[0mprint\u001b[0m\u001b[0;34m(\u001b[0m\u001b[0mlist\u001b[0m\u001b[0;34m(\u001b[0m\u001b[0mmetadata\u001b[0m\u001b[0;34m.\u001b[0m\u001b[0mkeys\u001b[0m\u001b[0;34m(\u001b[0m\u001b[0;34m)\u001b[0m\u001b[0;34m)\u001b[0m\u001b[0;34m)\u001b[0m\u001b[0;34m\u001b[0m\u001b[0m\n",
      "\u001b[0;31mAssertionError\u001b[0m: Expected a Python dictionary"
     ]
    }
   ],
   "source": [
    "check_metadata(my_ordered_metadata)"
   ]
  },
  {
   "cell_type": "markdown",
   "metadata": {},
   "source": [
    "Our assertion is working just as we expected. `OrderedDict` has a different `type` from the regular `dict` type."
   ]
  },
  {
   "cell_type": "code",
   "execution_count": 143,
   "metadata": {
    "collapsed": false
   },
   "outputs": [
    {
     "data": {
      "text/plain": [
       "collections.OrderedDict"
      ]
     },
     "execution_count": 143,
     "metadata": {},
     "output_type": "execute_result"
    }
   ],
   "source": [
    "type(my_ordered_metadata)"
   ]
  },
  {
   "cell_type": "markdown",
   "metadata": {},
   "source": [
    "But an `OrderedDict` isn't all that different from a `dict`. They both store key-value pairs. Can't we re-write this assertion so that our function accepts both `dict` and `OrderedDict` types?\n",
    "\n",
    "**There is another way to check the *class* of an object in Python that acknowledges that some Python objects are descended from others.** Again, we won't go into too much detail about this, but it turns out that the `OrderedDict` class is descended from, or *inherits* from the `dict` class. They both have a `keys()` method, which is all that really matters for the purposes of our `check_metadata()` function. "
   ]
  },
  {
   "cell_type": "code",
   "execution_count": 144,
   "metadata": {
    "collapsed": false
   },
   "outputs": [
    {
     "data": {
      "text/plain": [
       "True"
      ]
     },
     "execution_count": 144,
     "metadata": {},
     "output_type": "execute_result"
    }
   ],
   "source": [
    "isinstance(my_metadata, dict)"
   ]
  },
  {
   "cell_type": "code",
   "execution_count": 145,
   "metadata": {
    "collapsed": false
   },
   "outputs": [
    {
     "data": {
      "text/plain": [
       "True"
      ]
     },
     "execution_count": 145,
     "metadata": {},
     "output_type": "execute_result"
    }
   ],
   "source": [
    "isinstance(my_ordered_metadata, dict)"
   ]
  },
  {
   "cell_type": "code",
   "execution_count": 146,
   "metadata": {
    "collapsed": false
   },
   "outputs": [
    {
     "name": "stdout",
     "output_type": "stream",
     "text": [
      "['units', 'date']\n"
     ]
    }
   ],
   "source": [
    "def check_metadata(metadata):\n",
    "    assert isinstance(metadata, dict), 'Expected something like a Python dictionary'\n",
    "    print(list(metadata.keys()))\n",
    "    \n",
    "check_metadata(my_ordered_metadata)"
   ]
  },
  {
   "cell_type": "markdown",
   "metadata": {},
   "source": [
    "### Duck Typing (Advanced)"
   ]
  },
  {
   "cell_type": "markdown",
   "metadata": {},
   "source": [
    "We've seen two ways of verifying the type or class of an object in Python.\n",
    "\n",
    "- `type()`\n",
    "- `isinstance()`\n",
    "\n",
    "The major limitation with both of these approaches, however, is that they don't actually verify what we're most interested in: whether or not the Python object in question has the *attributes* we really care about.\n",
    "\n",
    "- In the temperature anomaly example, we didn't really care that the user's input was a NumPy array; we just wanted  something that holds a series of values and possesses a `mean()` method.\n",
    "- In the `check_metadata()` example, we didn't really care whether the user's input was a `dict` or an `OrderedDict`; we just wanted something that holds key-values pairs and possess a `keys()` method.\n",
    "\n",
    "Today, most software engineers argue that, instead of testing the `type` or `class` of an object, you should test that an object has the properties you are interested in. **This approach is called *duck typing,* as in the old maxim:**\n",
    "\n",
    "> If it looks like a duck, swims like a duck, and quacks like a duck, then it probably is a duck.\n",
    "\n",
    "That is, if we want to test whether a Python object is a duck, we shouldn't bother with:\n",
    "\n",
    "```py\n",
    "type(maybe_duck, duck)\n",
    "isinstance(maybe_duck, duck)\n",
    "```\n",
    "\n",
    "Instead, we should test whether duck looks, swims, or quacks like a duck."
   ]
  },
  {
   "cell_type": "code",
   "execution_count": 147,
   "metadata": {
    "collapsed": false
   },
   "outputs": [
    {
     "data": {
      "text/plain": [
       "True"
      ]
     },
     "execution_count": 147,
     "metadata": {},
     "output_type": "execute_result"
    }
   ],
   "source": [
    "hasattr(data, 'mean')"
   ]
  },
  {
   "cell_type": "code",
   "execution_count": 148,
   "metadata": {
    "collapsed": false
   },
   "outputs": [
    {
     "ename": "AssertionError",
     "evalue": "Expected temp_array to have a mean() method, like numpy.ndarray",
     "output_type": "error",
     "traceback": [
      "\u001b[0;31m---------------------------------------------------------------------------\u001b[0m",
      "\u001b[0;31mAssertionError\u001b[0m                            Traceback (most recent call last)",
      "\u001b[0;32m<ipython-input-148-1991761ebbd0>\u001b[0m in \u001b[0;36m<module>\u001b[0;34m()\u001b[0m\n\u001b[1;32m      4\u001b[0m     \u001b[0mpyplot\u001b[0m\u001b[0;34m.\u001b[0m\u001b[0mshow\u001b[0m\u001b[0;34m(\u001b[0m\u001b[0;34m)\u001b[0m\u001b[0;34m\u001b[0m\u001b[0m\n\u001b[1;32m      5\u001b[0m \u001b[0;34m\u001b[0m\u001b[0m\n\u001b[0;32m----> 6\u001b[0;31m \u001b[0mplot_temperature_anomaly\u001b[0m\u001b[0;34m(\u001b[0m\u001b[0;34m[\u001b[0m\u001b[0;36m0.5\u001b[0m\u001b[0;34m,\u001b[0m \u001b[0;36m1.0\u001b[0m\u001b[0;34m,\u001b[0m \u001b[0;36m1.5\u001b[0m\u001b[0;34m]\u001b[0m\u001b[0;34m)\u001b[0m\u001b[0;34m\u001b[0m\u001b[0m\n\u001b[0m",
      "\u001b[0;32m<ipython-input-148-1991761ebbd0>\u001b[0m in \u001b[0;36mplot_temperature_anomaly\u001b[0;34m(temp_array)\u001b[0m\n\u001b[1;32m      1\u001b[0m \u001b[0;32mdef\u001b[0m \u001b[0mplot_temperature_anomaly\u001b[0m\u001b[0;34m(\u001b[0m\u001b[0mtemp_array\u001b[0m\u001b[0;34m)\u001b[0m\u001b[0;34m:\u001b[0m\u001b[0;34m\u001b[0m\u001b[0m\n\u001b[0;32m----> 2\u001b[0;31m     \u001b[0;32massert\u001b[0m \u001b[0mhasattr\u001b[0m\u001b[0;34m(\u001b[0m\u001b[0mtemp_array\u001b[0m\u001b[0;34m,\u001b[0m \u001b[0;34m'mean'\u001b[0m\u001b[0;34m)\u001b[0m\u001b[0;34m,\u001b[0m \u001b[0;34m'Expected temp_array to have a mean() method, like numpy.ndarray'\u001b[0m\u001b[0;34m\u001b[0m\u001b[0m\n\u001b[0m\u001b[1;32m      3\u001b[0m     \u001b[0mpyplot\u001b[0m\u001b[0;34m.\u001b[0m\u001b[0mplot\u001b[0m\u001b[0;34m(\u001b[0m\u001b[0mtemp_array\u001b[0m\u001b[0;34m.\u001b[0m\u001b[0mmean\u001b[0m\u001b[0;34m(\u001b[0m\u001b[0maxis\u001b[0m \u001b[0;34m=\u001b[0m \u001b[0;36m1\u001b[0m\u001b[0;34m)\u001b[0m \u001b[0;34m-\u001b[0m \u001b[0mtemp_array\u001b[0m\u001b[0;34m.\u001b[0m\u001b[0mmean\u001b[0m\u001b[0;34m(\u001b[0m\u001b[0;34m)\u001b[0m\u001b[0;34m)\u001b[0m\u001b[0;34m\u001b[0m\u001b[0m\n\u001b[1;32m      4\u001b[0m     \u001b[0mpyplot\u001b[0m\u001b[0;34m.\u001b[0m\u001b[0mshow\u001b[0m\u001b[0;34m(\u001b[0m\u001b[0;34m)\u001b[0m\u001b[0;34m\u001b[0m\u001b[0m\n\u001b[1;32m      5\u001b[0m \u001b[0;34m\u001b[0m\u001b[0m\n",
      "\u001b[0;31mAssertionError\u001b[0m: Expected temp_array to have a mean() method, like numpy.ndarray"
     ]
    }
   ],
   "source": [
    "def plot_temperature_anomaly(temp_array):\n",
    "    assert hasattr(temp_array, 'mean'), 'Expected temp_array to have a mean() method, like numpy.ndarray'\n",
    "    pyplot.plot(temp_array.mean(axis = 1) - temp_array.mean())\n",
    "    pyplot.show()\n",
    "    \n",
    "plot_temperature_anomaly([0.5, 1.0, 1.5])"
   ]
  },
  {
   "cell_type": "markdown",
   "metadata": {},
   "source": [
    "**For more information about types, classes, and how Python represents objects, see:**\n",
    "\n",
    "- [Python 3 Documentation: The Python Data Model](https://docs.python.org/3/reference/datamodel.html#)"
   ]
  },
  {
   "cell_type": "markdown",
   "metadata": {},
   "source": [
    "## Test-Driven Development"
   ]
  },
  {
   "cell_type": "markdown",
   "metadata": {},
   "source": [
    "An assertion checks that something is true at a particular point in the program. The next step is to check the overall behavior or a piece of code, i.e., to make sure that it produces the right output when it's given a particular input."
   ]
  },
  {
   "cell_type": "markdown",
   "metadata": {},
   "source": [
    "For example, suppose we need to find where two or more time series overlap. The range of each time series is represented as a pair of numbers, which are the time the interval started and ended. The output is the largest range that they all include.\n",
    "\n",
    "![](./python-overlapping-ranges.svg)"
   ]
  },
  {
   "cell_type": "markdown",
   "metadata": {},
   "source": [
    "**Most novice programmers would solve the problem like this:**\n",
    "\n",
    "1. Write a function called `range_overlap()`;\n",
    "2. Call it interactively on two or three different inputs;\n",
    "3. If it produces the wrong answer, fix the function and re-run that test.\n",
    "\n",
    "This clearly works, but there's a better way:\n",
    "\n",
    "1. Write a short function for each test that your solution should satisfy if it were to work;\n",
    "2. Write a `range_overlap()` function that should pass those tests;\n",
    "3. If `range_overlap()` produces any wrong answers, fix it and re-run the test functions.\n",
    "\n",
    "**Writing the tests *before* writing the function they exercise is called test-driven development.**"
   ]
  },
  {
   "cell_type": "markdown",
   "metadata": {},
   "source": [
    "Here are three test functions for `range_overlap()`.\n",
    "\n",
    "```py\n",
    "assert range_overlap([ (0.0, 1.0) ]) == (0.0, 1.0)\n",
    "assert range_overlap([ (2.0, 3.0), (2.0, 4.0) ]) == (2.0, 3.0)\n",
    "assert range_overlap([ (0.0, 1.0), (0.0, 2.0), (-1.0, 1.0) ]) == (0.0, 1.0)\n",
    "```"
   ]
  },
  {
   "cell_type": "markdown",
   "metadata": {},
   "source": [
    "As part of writing these tests, we've implicitly defined what our input and output look like: we expect a list of pairs as input and produce a single pair as output."
   ]
  },
  {
   "cell_type": "markdown",
   "metadata": {},
   "source": [
    "We're missing a test case, however; what should happen when the ranges don't overlap at all? Or if they share a boundary?\n",
    "\n",
    "```py\n",
    "assert range_overlap([ (0.0, 1.0), (5.0, 6.0) ]) == ???\n",
    "assert range_overlap([ (0.0, 1.0), (1.0, 2.0) ]) == ???\n",
    "```"
   ]
  },
  {
   "cell_type": "markdown",
   "metadata": {},
   "source": [
    "What should `range_overlap()` do in the first case? Fail with an error message? Return a special value?\n",
    "\n",
    "And in the second case... Does the pair of ranges overlap? Mathematicians would generally say \"yes,\" while engineers would generally say \"no.\"\n",
    "\n",
    "Any actual implementation of the function will come down on one side or the other of these issues; writing the test *first* helps us figure out which is best *before* we're invested in whatever we happened to write before we realized there was an issue."
   ]
  },
  {
   "cell_type": "markdown",
   "metadata": {},
   "source": [
    "**Since we're planning to use the `range_overlap()` function to generate a time series for the horizontal axis in a plot, we'll decide:**\n",
    "\n",
    "- Every overlap has to have non-zero width, and,\n",
    "- We will return the special value `None` when there's no overlap.\n",
    "\n",
    "`None` is built into Python and means \"nothing here.\"\n",
    "\n",
    "```py\n",
    "assert range_overlap([ (0.0, 1.0), (5.0, 6.0) ]) == None\n",
    "assert range_overlap([ (0.0, 1.0), (1.0, 2.0) ]) == None\n",
    "```"
   ]
  },
  {
   "cell_type": "markdown",
   "metadata": {},
   "source": [
    "### A Potential Solution"
   ]
  },
  {
   "cell_type": "code",
   "execution_count": 149,
   "metadata": {
    "collapsed": true
   },
   "outputs": [],
   "source": [
    "def range_overlap(ranges):\n",
    "    '''Return common overlap among a set of [low, high] ranges.'''\n",
    "    lowest = 0.0\n",
    "    highest = 1.0\n",
    "    for (low, high) in ranges:\n",
    "        lowest = max(lowest, low)\n",
    "        highest = min(highest, high)\n",
    "        \n",
    "    return (lowest, highest)"
   ]
  },
  {
   "cell_type": "markdown",
   "metadata": {},
   "source": [
    "Let's see if this does the trick. We can write a single function that encompasses all of our tests to make development and future testing that much easier."
   ]
  },
  {
   "cell_type": "code",
   "execution_count": 150,
   "metadata": {
    "collapsed": false
   },
   "outputs": [
    {
     "ename": "AssertionError",
     "evalue": "",
     "output_type": "error",
     "traceback": [
      "\u001b[0;31m---------------------------------------------------------------------------\u001b[0m",
      "\u001b[0;31mAssertionError\u001b[0m                            Traceback (most recent call last)",
      "\u001b[0;32m<ipython-input-150-598098f7da86>\u001b[0m in \u001b[0;36m<module>\u001b[0;34m()\u001b[0m\n\u001b[1;32m      6\u001b[0m     \u001b[0;32massert\u001b[0m \u001b[0mrange_overlap\u001b[0m\u001b[0;34m(\u001b[0m\u001b[0;34m[\u001b[0m \u001b[0;34m(\u001b[0m\u001b[0;36m0.0\u001b[0m\u001b[0;34m,\u001b[0m \u001b[0;36m1.0\u001b[0m\u001b[0;34m)\u001b[0m\u001b[0;34m,\u001b[0m \u001b[0;34m(\u001b[0m\u001b[0;36m0.0\u001b[0m\u001b[0;34m,\u001b[0m \u001b[0;36m2.0\u001b[0m\u001b[0;34m)\u001b[0m\u001b[0;34m,\u001b[0m \u001b[0;34m(\u001b[0m\u001b[0;34m-\u001b[0m\u001b[0;36m1.0\u001b[0m\u001b[0;34m,\u001b[0m \u001b[0;36m1.0\u001b[0m\u001b[0;34m)\u001b[0m \u001b[0;34m]\u001b[0m\u001b[0;34m)\u001b[0m \u001b[0;34m==\u001b[0m \u001b[0;34m(\u001b[0m\u001b[0;36m0.0\u001b[0m\u001b[0;34m,\u001b[0m \u001b[0;36m1.0\u001b[0m\u001b[0;34m)\u001b[0m\u001b[0;34m\u001b[0m\u001b[0m\n\u001b[1;32m      7\u001b[0m \u001b[0;34m\u001b[0m\u001b[0m\n\u001b[0;32m----> 8\u001b[0;31m \u001b[0mtest_range_overlap\u001b[0m\u001b[0;34m(\u001b[0m\u001b[0;34m)\u001b[0m\u001b[0;34m\u001b[0m\u001b[0m\n\u001b[0m",
      "\u001b[0;32m<ipython-input-150-598098f7da86>\u001b[0m in \u001b[0;36mtest_range_overlap\u001b[0;34m()\u001b[0m\n\u001b[1;32m      1\u001b[0m \u001b[0;32mdef\u001b[0m \u001b[0mtest_range_overlap\u001b[0m\u001b[0;34m(\u001b[0m\u001b[0;34m)\u001b[0m\u001b[0;34m:\u001b[0m\u001b[0;34m\u001b[0m\u001b[0m\n\u001b[0;32m----> 2\u001b[0;31m     \u001b[0;32massert\u001b[0m \u001b[0mrange_overlap\u001b[0m\u001b[0;34m(\u001b[0m\u001b[0;34m[\u001b[0m \u001b[0;34m(\u001b[0m\u001b[0;36m0.0\u001b[0m\u001b[0;34m,\u001b[0m \u001b[0;36m1.0\u001b[0m\u001b[0;34m)\u001b[0m\u001b[0;34m,\u001b[0m \u001b[0;34m(\u001b[0m\u001b[0;36m5.0\u001b[0m\u001b[0;34m,\u001b[0m \u001b[0;36m6.0\u001b[0m\u001b[0;34m)\u001b[0m \u001b[0;34m]\u001b[0m\u001b[0;34m)\u001b[0m \u001b[0;34m==\u001b[0m \u001b[0;32mNone\u001b[0m\u001b[0;34m\u001b[0m\u001b[0m\n\u001b[0m\u001b[1;32m      3\u001b[0m     \u001b[0;32massert\u001b[0m \u001b[0mrange_overlap\u001b[0m\u001b[0;34m(\u001b[0m\u001b[0;34m[\u001b[0m \u001b[0;34m(\u001b[0m\u001b[0;36m0.0\u001b[0m\u001b[0;34m,\u001b[0m \u001b[0;36m1.0\u001b[0m\u001b[0;34m)\u001b[0m\u001b[0;34m,\u001b[0m \u001b[0;34m(\u001b[0m\u001b[0;36m1.0\u001b[0m\u001b[0;34m,\u001b[0m \u001b[0;36m2.0\u001b[0m\u001b[0;34m)\u001b[0m \u001b[0;34m]\u001b[0m\u001b[0;34m)\u001b[0m \u001b[0;34m==\u001b[0m \u001b[0;32mNone\u001b[0m\u001b[0;34m\u001b[0m\u001b[0m\n\u001b[1;32m      4\u001b[0m     \u001b[0;32massert\u001b[0m \u001b[0mrange_overlap\u001b[0m\u001b[0;34m(\u001b[0m\u001b[0;34m[\u001b[0m \u001b[0;34m(\u001b[0m\u001b[0;36m0.0\u001b[0m\u001b[0;34m,\u001b[0m \u001b[0;36m1.0\u001b[0m\u001b[0;34m)\u001b[0m \u001b[0;34m]\u001b[0m\u001b[0;34m)\u001b[0m \u001b[0;34m==\u001b[0m \u001b[0;34m(\u001b[0m\u001b[0;36m0.0\u001b[0m\u001b[0;34m,\u001b[0m \u001b[0;36m1.0\u001b[0m\u001b[0;34m)\u001b[0m\u001b[0;34m\u001b[0m\u001b[0m\n\u001b[1;32m      5\u001b[0m     \u001b[0;32massert\u001b[0m \u001b[0mrange_overlap\u001b[0m\u001b[0;34m(\u001b[0m\u001b[0;34m[\u001b[0m \u001b[0;34m(\u001b[0m\u001b[0;36m2.0\u001b[0m\u001b[0;34m,\u001b[0m \u001b[0;36m3.0\u001b[0m\u001b[0;34m)\u001b[0m\u001b[0;34m,\u001b[0m \u001b[0;34m(\u001b[0m\u001b[0;36m2.0\u001b[0m\u001b[0;34m,\u001b[0m \u001b[0;36m4.0\u001b[0m\u001b[0;34m)\u001b[0m \u001b[0;34m]\u001b[0m\u001b[0;34m)\u001b[0m \u001b[0;34m==\u001b[0m \u001b[0;34m(\u001b[0m\u001b[0;36m2.0\u001b[0m\u001b[0;34m,\u001b[0m \u001b[0;36m3.0\u001b[0m\u001b[0;34m)\u001b[0m\u001b[0;34m\u001b[0m\u001b[0m\n",
      "\u001b[0;31mAssertionError\u001b[0m: "
     ]
    }
   ],
   "source": [
    "def test_range_overlap():\n",
    "    assert range_overlap([ (0.0, 1.0), (5.0, 6.0) ]) == None\n",
    "    assert range_overlap([ (0.0, 1.0), (1.0, 2.0) ]) == None\n",
    "    assert range_overlap([ (0.0, 1.0) ]) == (0.0, 1.0)\n",
    "    assert range_overlap([ (2.0, 3.0), (2.0, 4.0) ]) == (2.0, 3.0)\n",
    "    assert range_overlap([ (0.0, 1.0), (0.0, 2.0), (-1.0, 1.0) ]) == (0.0, 1.0)\n",
    "    \n",
    "test_range_overlap()"
   ]
  },
  {
   "cell_type": "markdown",
   "metadata": {},
   "source": [
    "**The first test was supposed to produce `None`, so we know that something is wrong with our function.** We *don't* know whether the other tests passed or failed because Python halted the program as soon as it spotted the first error.\n",
    "\n",
    "It turns out that the problem is that we initialized `lowest` and `highest` to 0.0 and 1.0, respectively, regardless of the input values. **In general, we should always initialize from the data.**\n",
    "\n",
    "There's another problem with our testing framework. When a test fails, we don't know why. We can add a message to any Python assertion that will provide some information about what was expected to happen but didn't."
   ]
  },
  {
   "cell_type": "code",
   "execution_count": 151,
   "metadata": {
    "collapsed": false
   },
   "outputs": [
    {
     "ename": "AssertionError",
     "evalue": "Should return None for ranges that do not intersect",
     "output_type": "error",
     "traceback": [
      "\u001b[0;31m---------------------------------------------------------------------------\u001b[0m",
      "\u001b[0;31mAssertionError\u001b[0m                            Traceback (most recent call last)",
      "\u001b[0;32m<ipython-input-151-3bddda93ca25>\u001b[0m in \u001b[0;36m<module>\u001b[0;34m()\u001b[0m\n\u001b[1;32m      6\u001b[0m     \u001b[0;32massert\u001b[0m \u001b[0mrange_overlap\u001b[0m\u001b[0;34m(\u001b[0m\u001b[0;34m[\u001b[0m \u001b[0;34m(\u001b[0m\u001b[0;36m0.0\u001b[0m\u001b[0;34m,\u001b[0m \u001b[0;36m1.0\u001b[0m\u001b[0;34m)\u001b[0m\u001b[0;34m,\u001b[0m \u001b[0;34m(\u001b[0m\u001b[0;36m0.0\u001b[0m\u001b[0;34m,\u001b[0m \u001b[0;36m2.0\u001b[0m\u001b[0;34m)\u001b[0m\u001b[0;34m,\u001b[0m \u001b[0;34m(\u001b[0m\u001b[0;34m-\u001b[0m\u001b[0;36m1.0\u001b[0m\u001b[0;34m,\u001b[0m \u001b[0;36m1.0\u001b[0m\u001b[0;34m)\u001b[0m \u001b[0;34m]\u001b[0m\u001b[0;34m)\u001b[0m \u001b[0;34m==\u001b[0m \u001b[0;34m(\u001b[0m\u001b[0;36m0.0\u001b[0m\u001b[0;34m,\u001b[0m \u001b[0;36m1.0\u001b[0m\u001b[0;34m)\u001b[0m\u001b[0;34m\u001b[0m\u001b[0m\n\u001b[1;32m      7\u001b[0m \u001b[0;34m\u001b[0m\u001b[0m\n\u001b[0;32m----> 8\u001b[0;31m \u001b[0mtest_range_overlap\u001b[0m\u001b[0;34m(\u001b[0m\u001b[0;34m)\u001b[0m\u001b[0;34m\u001b[0m\u001b[0m\n\u001b[0m",
      "\u001b[0;32m<ipython-input-151-3bddda93ca25>\u001b[0m in \u001b[0;36mtest_range_overlap\u001b[0;34m()\u001b[0m\n\u001b[1;32m      1\u001b[0m \u001b[0;32mdef\u001b[0m \u001b[0mtest_range_overlap\u001b[0m\u001b[0;34m(\u001b[0m\u001b[0;34m)\u001b[0m\u001b[0;34m:\u001b[0m\u001b[0;34m\u001b[0m\u001b[0m\n\u001b[0;32m----> 2\u001b[0;31m     \u001b[0;32massert\u001b[0m \u001b[0mrange_overlap\u001b[0m\u001b[0;34m(\u001b[0m\u001b[0;34m[\u001b[0m \u001b[0;34m(\u001b[0m\u001b[0;36m0.0\u001b[0m\u001b[0;34m,\u001b[0m \u001b[0;36m1.0\u001b[0m\u001b[0;34m)\u001b[0m\u001b[0;34m,\u001b[0m \u001b[0;34m(\u001b[0m\u001b[0;36m5.0\u001b[0m\u001b[0;34m,\u001b[0m \u001b[0;36m6.0\u001b[0m\u001b[0;34m)\u001b[0m \u001b[0;34m]\u001b[0m\u001b[0;34m)\u001b[0m \u001b[0;34m==\u001b[0m \u001b[0;32mNone\u001b[0m\u001b[0;34m,\u001b[0m \u001b[0;34m'Should return None for ranges that do not intersect'\u001b[0m\u001b[0;34m\u001b[0m\u001b[0m\n\u001b[0m\u001b[1;32m      3\u001b[0m     \u001b[0;32massert\u001b[0m \u001b[0mrange_overlap\u001b[0m\u001b[0;34m(\u001b[0m\u001b[0;34m[\u001b[0m \u001b[0;34m(\u001b[0m\u001b[0;36m0.0\u001b[0m\u001b[0;34m,\u001b[0m \u001b[0;36m1.0\u001b[0m\u001b[0;34m)\u001b[0m\u001b[0;34m,\u001b[0m \u001b[0;34m(\u001b[0m\u001b[0;36m1.0\u001b[0m\u001b[0;34m,\u001b[0m \u001b[0;36m2.0\u001b[0m\u001b[0;34m)\u001b[0m \u001b[0;34m]\u001b[0m\u001b[0;34m)\u001b[0m \u001b[0;34m==\u001b[0m \u001b[0;32mNone\u001b[0m\u001b[0;34m,\u001b[0m \u001b[0;34m'Should return None for ranges that do not intersect'\u001b[0m\u001b[0;34m\u001b[0m\u001b[0m\n\u001b[1;32m      4\u001b[0m     \u001b[0;32massert\u001b[0m \u001b[0mrange_overlap\u001b[0m\u001b[0;34m(\u001b[0m\u001b[0;34m[\u001b[0m \u001b[0;34m(\u001b[0m\u001b[0;36m0.0\u001b[0m\u001b[0;34m,\u001b[0m \u001b[0;36m1.0\u001b[0m\u001b[0;34m)\u001b[0m \u001b[0;34m]\u001b[0m\u001b[0;34m)\u001b[0m \u001b[0;34m==\u001b[0m \u001b[0;34m(\u001b[0m\u001b[0;36m0.0\u001b[0m\u001b[0;34m,\u001b[0m \u001b[0;36m1.0\u001b[0m\u001b[0;34m)\u001b[0m\u001b[0;34m,\u001b[0m \u001b[0;34m'Should return same input when single pair is provided'\u001b[0m\u001b[0;34m\u001b[0m\u001b[0m\n\u001b[1;32m      5\u001b[0m     \u001b[0;32massert\u001b[0m \u001b[0mrange_overlap\u001b[0m\u001b[0;34m(\u001b[0m\u001b[0;34m[\u001b[0m \u001b[0;34m(\u001b[0m\u001b[0;36m2.0\u001b[0m\u001b[0;34m,\u001b[0m \u001b[0;36m3.0\u001b[0m\u001b[0;34m)\u001b[0m\u001b[0;34m,\u001b[0m \u001b[0;34m(\u001b[0m\u001b[0;36m2.0\u001b[0m\u001b[0;34m,\u001b[0m \u001b[0;36m4.0\u001b[0m\u001b[0;34m)\u001b[0m \u001b[0;34m]\u001b[0m\u001b[0;34m)\u001b[0m \u001b[0;34m==\u001b[0m \u001b[0;34m(\u001b[0m\u001b[0;36m2.0\u001b[0m\u001b[0;34m,\u001b[0m \u001b[0;36m3.0\u001b[0m\u001b[0;34m)\u001b[0m\u001b[0;34m\u001b[0m\u001b[0m\n",
      "\u001b[0;31mAssertionError\u001b[0m: Should return None for ranges that do not intersect"
     ]
    }
   ],
   "source": [
    "def test_range_overlap():\n",
    "    assert range_overlap([ (0.0, 1.0), (5.0, 6.0) ]) == None, 'Should return None for ranges that do not intersect'\n",
    "    assert range_overlap([ (0.0, 1.0), (1.0, 2.0) ]) == None, 'Should return None for ranges that do not intersect'\n",
    "    assert range_overlap([ (0.0, 1.0) ]) == (0.0, 1.0), 'Should return same input when single pair is provided'\n",
    "    assert range_overlap([ (2.0, 3.0), (2.0, 4.0) ]) == (2.0, 3.0)\n",
    "    assert range_overlap([ (0.0, 1.0), (0.0, 2.0), (-1.0, 1.0) ]) == (0.0, 1.0)\n",
    "    \n",
    "test_range_overlap()"
   ]
  },
  {
   "cell_type": "markdown",
   "metadata": {},
   "source": [
    "### Challenge: Fix the Range Overlap Function"
   ]
  },
  {
   "cell_type": "markdown",
   "metadata": {},
   "source": [
    "Fix `range_overlap()`; re-run `test_range_overlap()` after each change you make."
   ]
  },
  {
   "cell_type": "code",
   "execution_count": 152,
   "metadata": {
    "collapsed": false
   },
   "outputs": [],
   "source": [
    "def range_overlap(ranges):\n",
    "    '''Return common overlap among a set of [low, high] ranges.'''\n",
    "    for i, (low, high) in enumerate(ranges):\n",
    "        if i == 0:\n",
    "            lowest, highest = low, high\n",
    "            continue\n",
    "            \n",
    "        lowest = max(lowest, low)\n",
    "        highest = min(highest, high)\n",
    "        \n",
    "    if lowest >= highest:\n",
    "        return None\n",
    "        \n",
    "    return (lowest, highest)\n",
    "\n",
    "test_range_overlap()"
   ]
  },
  {
   "cell_type": "markdown",
   "metadata": {},
   "source": [
    "## When in Doubt..."
   ]
  },
  {
   "cell_type": "code",
   "execution_count": 153,
   "metadata": {
    "collapsed": false
   },
   "outputs": [
    {
     "name": "stdout",
     "output_type": "stream",
     "text": [
      "The Zen of Python, by Tim Peters\n",
      "\n",
      "Beautiful is better than ugly.\n",
      "Explicit is better than implicit.\n",
      "Simple is better than complex.\n",
      "Complex is better than complicated.\n",
      "Flat is better than nested.\n",
      "Sparse is better than dense.\n",
      "Readability counts.\n",
      "Special cases aren't special enough to break the rules.\n",
      "Although practicality beats purity.\n",
      "Errors should never pass silently.\n",
      "Unless explicitly silenced.\n",
      "In the face of ambiguity, refuse the temptation to guess.\n",
      "There should be one-- and preferably only one --obvious way to do it.\n",
      "Although that way may not be obvious at first unless you're Dutch.\n",
      "Now is better than never.\n",
      "Although never is often better than *right* now.\n",
      "If the implementation is hard to explain, it's a bad idea.\n",
      "If the implementation is easy to explain, it may be a good idea.\n",
      "Namespaces are one honking great idea -- let's do more of those!\n"
     ]
    }
   ],
   "source": [
    "import this"
   ]
  },
  {
   "cell_type": "markdown",
   "metadata": {},
   "source": [
    "## Testing for Quality Control"
   ]
  },
  {
   "cell_type": "markdown",
   "metadata": {},
   "source": [
    "In scientific computing in particular, testing is used not only to make sure our software continues to work in an expected way but to make sure that the scientific results we derive with our software are consistent and accurate. Often, we build scientific computing workflows to analyze large volumes of data, whether they are large text document collections, high-resolution images, or large genome datasets.\n",
    "\n",
    "**How can we encode expected values into our tests for very large data without reproducing (and storing) excessively large files?** For instance, if we want to test code that takes an input gigabyte-scale file and transforms it into a similarly large file, how can we test that the function works correctly?\n",
    "\n",
    "One approach is obviously to make a sample dataset that is very small but also representative. Another would be to procedurally generate synthetic data. However, if we have reference datasets that we want to run tests on, and we want to ensure that we get the same output every time, the easiest solution is to calculate a *checksum.*\n",
    "\n",
    "**You may have encountered checksums before, say, as a means of verifying that a downloaded or decompressed file is uncorrupted.** A checksum is just a fancy mathematical function that takes in an arbitrarily long byte sequence and returns a short, *unique* alpha-numeric string.\n",
    "\n",
    "As an example, consider our temperature data. We want to convert it from Kevlin to Celsius and test that the output file contains exactly what we expected."
   ]
  },
  {
   "cell_type": "code",
   "execution_count": 154,
   "metadata": {
    "collapsed": false
   },
   "outputs": [
    {
     "data": {
      "text/plain": [
       "array([[-27.49  , -25.63  , -27.87  , -16.83  , -10.25  ,  -0.69  ,\n",
       "          4.91  ,   2.36  ,  -3.81  , -11.47  , -21.8   , -30.63  ],\n",
       "       [-25.03  , -30.51  , -21.11  , -24.54  , -10.31  ,  -1.22  ,\n",
       "          4.3   ,   5.77  ,   1.25  ,  -6.38  , -14.46  , -24.95  ],\n",
       "       [-20.85  , -32.76  , -24.49  , -17.74  ,  -7.31  ,   1.49  ,\n",
       "          5.72  ,   5.11  ,   0.21  ,  -7.38  , -11.93  , -24.35  ],\n",
       "       [-33.63  , -30.99  , -29.5   , -16.94  ,  -7.15  ,   1.49  ,\n",
       "          6.51  ,   6.02  ,   0.08  ,  -8.26  , -12.68  , -23.76  ],\n",
       "       [-28.2   , -32.13  , -28.4   , -21.64  , -10.9   ,  -0.3   ,\n",
       "          5.63  ,   3.87  ,  -2.31  ,  -8.28  , -14.01  , -24.26  ],\n",
       "       [-29.11  , -30.19  , -27.98  , -17.23  ,  -7.21  ,   2.43  ,\n",
       "          4.35  ,   2.35  ,  -0.56  , -11.79  , -18.61  , -27.99  ],\n",
       "       [-28.    , -31.8   , -23.86  , -18.13  ,  -9.03  ,   0.68  ,\n",
       "          4.77  ,   6.45  ,   0.77  ,  -6.61  , -16.27  , -28.32  ],\n",
       "       [-24.26  , -32.88  , -27.55  , -19.74  ,  -8.71  ,  -0.19  ,\n",
       "          3.94  ,   1.11  ,  -1.95  , -12.41  , -24.73  , -27.04  ],\n",
       "       [-28.72  , -32.66  , -26.33  , -17.76  ,  -6.52  ,  -0.25  ,\n",
       "          4.1   ,   1.05  ,  -0.67  , -12.72  , -23.87  , -26.58  ],\n",
       "       [-20.36  , -30.52  , -25.67  , -14.8   ,  -7.12  ,   1.56  ,\n",
       "          4.01  ,   5.4   ,  -1.35  ,  -7.37  , -17.94  , -29.29  ],\n",
       "       [-26.03  , -27.32  , -23.92  , -17.45  ,  -8.12  ,   1.82  ,\n",
       "          4.36  ,   5.2   ,   0.81  ,  -9.71  , -17.51  , -23.06  ],\n",
       "       [-27.56  , -22.4   , -33.03  , -19.89  ,  -7.26  ,   1.12  ,\n",
       "          2.1   ,   2.82  ,  -1.21  ,  -9.41  , -19.53  , -29.2   ],\n",
       "       [-28.86  , -23.17  , -24.79  , -20.87  ,  -6.01  ,   0.3   ,\n",
       "          3.48  ,   2.    ,  -3.26  , -10.43  , -22.09  , -20.33  ],\n",
       "       [-22.83  , -31.87  , -29.99  , -21.78  ,  -5.99  ,   1.14  ,\n",
       "          3.39  ,   2.34  ,   0.39  , -10.2   , -18.54  , -28.66  ],\n",
       "       [-20.92  , -21.73  , -25.78  , -18.82  ,  -9.02  ,   1.12  ,\n",
       "          4.76  ,   5.24  ,  -1.49  ,  -8.1   , -16.66  , -22.78  ],\n",
       "       [-22.14  , -26.66  , -28.67  , -16.36  ,  -4.67  ,   0.33  ,\n",
       "          3.02  ,   2.81  ,  -0.8   , -10.73  , -21.66  , -19.43  ],\n",
       "       [-28.38  , -32.14  , -30.94  , -22.92  ,  -8.93  ,   0.15  ,\n",
       "          3.46  ,   2.48  ,  -1.75  ,  -9.3   , -18.23  , -30.52  ],\n",
       "       [-28.53  , -33.03  , -21.5   , -16.89  ,  -8.98  ,  -0.6   ,\n",
       "          3.23  ,   2.82  ,  -0.8   , -12.89  , -12.69  , -25.36  ],\n",
       "       [-27.95  , -29.7   , -30.52  , -20.82  ,  -8.89  ,   1.51  ,\n",
       "          3.52  ,   2.02  ,  -0.14  ,  -8.68  , -15.9   , -25.11  ],\n",
       "       [-25.05  , -27.54  , -23.28  , -15.37  ,  -6.25  ,   1.1   ,\n",
       "          3.24  ,   2.61  ,  -2.28  , -10.46  , -18.35  , -22.41  ],\n",
       "       [-23.89  , -31.1   , -24.18  , -20.39  ,  -6.79  ,   0.5   ,\n",
       "          5.55  ,   4.87  ,  -0.66  ,  -9.23  , -19.35  , -25.65  ],\n",
       "       [-26.26  , -28.79  , -24.98  , -16.22  ,  -6.13  ,   1.36  ,\n",
       "          2.14  ,  -0.06  ,  -0.56  ,  -7.55  , -22.69  , -20.37  ],\n",
       "       [-26.7   , -26.12  , -26.52  , -19.14  ,  -7.3   ,   0.34  ,\n",
       "          3.26  ,   2.26  ,  -3.66  , -15.92  , -18.89  , -24.65  ],\n",
       "       [-31.02  , -32.52  , -29.4   , -20.67  ,  -8.29  ,   2.    ,\n",
       "          4.55  ,   1.44  ,  -0.65  , -10.36  , -18.93  , -24.55  ],\n",
       "       [-28.05  , -29.77  , -30.38  , -21.46  ,  -7.83  ,   0.42  ,\n",
       "          5.69  ,   4.76  ,  -1.16  ,  -7.16  , -17.54  , -21.    ],\n",
       "       [-27.02  , -25.81  , -29.32  , -19.07  ,  -7.11  ,   0.65  ,\n",
       "          3.79  ,   3.43  ,   0.64  ,  -8.5   , -16.67  , -21.64  ],\n",
       "       [-25.41  , -34.09  , -28.77  , -21.11  ,  -7.42  ,  -0.68  ,\n",
       "          3.83  ,   5.08  ,   0.72  , -13.47  , -21.74  , -31.37  ],\n",
       "       [-31.55  , -26.44  , -23.22  , -20.31  ,  -7.13  ,   0.73  ,\n",
       "          3.63  ,   2.26  ,  -3.35  , -13.22  , -23.97  , -29.21  ],\n",
       "       [-27.56  , -31.27  , -26.56  , -18.5   ,  -7.79  ,   0.86  ,\n",
       "          3.84  ,   4.02  ,   0.55  , -10.01  , -15.3   , -26.31  ],\n",
       "       [-20.82  , -25.03  , -30.29  , -20.89  ,  -6.89  ,   1.47  ,\n",
       "          4.36  ,   6.59  ,   1.34  ,  -7.51  , -21.24  , -23.82  ],\n",
       "       [-20.65  , -25.56  , -24.33  , -17.25  ,  -8.06  ,   0.27  ,\n",
       "          4.59  ,   3.19  ,   0.86  , -12.95  , -15.09  , -24.29  ],\n",
       "       [-20.3   , -31.09  , -26.87  , -18.39  ,  -6.44  ,   0.43  ,\n",
       "          5.55  ,   6.5301,   1.47  ,  -7.08  , -12.3   , -26.25  ],\n",
       "       [-26.33  , -22.88  , -24.34  , -19.2   ,  -7.33  ,   2.32  ,\n",
       "          2.98  ,   1.84  ,  -3.36  ,  -8.81  , -18.87  , -28.08  ],\n",
       "       [-18.01  , -27.36  , -24.4   , -17.93  ,  -4.21  ,   2.01  ,\n",
       "          4.89  ,   1.92  ,  -2.6   ,  -8.9   , -18.48  , -23.76  ],\n",
       "       [-25.74  , -22.95  , -25.89  , -19.33  ,  -8.87  ,   1.11  ,\n",
       "          4.07  ,   3.08  ,  -1.26  , -13.51  , -23.87  , -24.46  ],\n",
       "       [-30.15  , -27.89  , -27.84  , -18.18  ,  -9.94  ,   0.74  ,\n",
       "          3.6   ,   2.27  ,  -3.55  , -14.27  , -17.92  , -19.31  ],\n",
       "       [-27.25  , -37.45  , -28.71  , -25.2   ,  -9.8   ,   1.77  ,\n",
       "          4.52  ,   3.24  ,   0.67  ,  -8.84  , -23.62  , -27.13  ],\n",
       "       [-22.49  , -28.57  , -26.35  , -24.54  ,  -6.56  ,   1.41  ,\n",
       "          4.1   ,   3.12  ,  -1.8   , -12.4   , -16.13  , -21.88  ],\n",
       "       [-27.68  , -22.05  , -28.22  , -22.55  ,  -7.79  ,   1.67  ,\n",
       "          6.12  ,   4.08  ,   2.16  ,  -9.8   , -18.97  , -22.22  ],\n",
       "       [-25.09  , -27.8   , -25.38  , -22.25  ,  -6.95  ,   1.41  ,\n",
       "          4.55  ,   4.6   ,  -1.83  ,  -5.58  , -21.04  , -23.7   ],\n",
       "       [-23.52  , -26.47  , -25.66  , -17.84  ,  -7.61  ,   0.87  ,\n",
       "          4.58  ,   2.69  ,  -1.53  , -14.81  , -24.59  , -22.33  ],\n",
       "       [-31.53  , -15.67  , -25.19  , -14.93  ,  -7.76  ,   2.27  ,\n",
       "          6.96  ,   7.03  ,   1.54  ,  -8.34  , -24.41  , -22.4   ],\n",
       "       [-30.03  , -33.15  , -23.58  , -13.76  ,  -3.42  ,   3.    ,\n",
       "          6.02  ,   3.82  ,  -0.43  ,  -8.68  , -22.    , -26.42  ],\n",
       "       [-25.87  , -29.55  , -27.85  , -17.05  ,  -3.48  ,   3.48  ,\n",
       "          4.35  ,   3.    ,  -0.55  ,  -8.64  , -23.07  , -29.03  ],\n",
       "       [-28.84  , -27.89  , -21.88  , -14.95  ,  -3.92  ,   4.13  ,\n",
       "          4.94  ,   1.13  ,  -4.26  , -13.97  , -20.14  , -23.95  ],\n",
       "       [-25.1   , -24.63  , -24.9   , -15.84  ,  -6.37  ,   3.33  ,\n",
       "          8.61  ,   3.63  ,  -0.18  ,  -5.12  , -15.82  , -23.24  ],\n",
       "       [-25.01  , -24.93  , -28.76  , -14.79  ,  -4.03  ,   3.14  ,\n",
       "          6.03  ,   3.46  ,  -1.78  , -16.13  , -23.9   , -26.19  ],\n",
       "       [-25.34  , -26.77  , -27.7   , -14.75  ,  -3.74  ,   3.12  ,\n",
       "          6.21  ,   3.85  ,   2.4   , -10.32  , -19.83  , -24.33  ],\n",
       "       [-24.77  , -27.5   , -21.16  , -19.13  ,  -1.41  ,   4.08  ,\n",
       "          4.5   ,   0.3   ,  -2.05  , -15.39  , -16.75  , -21.85  ],\n",
       "       [-28.24  , -25.92  , -27.13  , -16.27  ,  -6.86  ,   2.86  ,\n",
       "          6.01  ,   6.19  ,   1.92  ,  -8.68  , -13.09  , -25.46  ],\n",
       "       [-27.96  , -27.61  , -19.88  , -11.71  ,  -4.89  ,   3.8   ,\n",
       "          8.05  ,   5.78  ,   2.65  ,  -5.53  , -13.95  , -20.44  ],\n",
       "       [-29.3   , -28.93  , -27.63  , -19.44  ,  -2.66  ,   3.73  ,\n",
       "          6.19  ,   5.21  ,   0.84  ,  -8.63  , -18.79  , -27.52  ],\n",
       "       [-26.29  , -24.48  , -25.96  , -18.71  ,  -9.99  ,   3.66  ,\n",
       "          5.28  ,   3.8   ,  -0.16  ,  -8.64  , -17.    , -21.35  ],\n",
       "       [-22.28  , -20.33  , -25.96  , -16.63  , -10.53  ,   2.05  ,\n",
       "          4.25  ,   2.85  ,   0.64  , -11.32  , -17.59  , -23.89  ],\n",
       "       [-25.79  , -27.12  , -20.29  , -17.57  ,  -4.41  ,   1.46  ,\n",
       "          4.58  ,   3.05  ,   1.93  ,  -4.86  , -12.76  , -18.63  ],\n",
       "       [-23.64  , -24.77  , -24.39  , -13.99  ,  -5.87  ,   2.17  ,\n",
       "          5.14  ,   3.05  ,  -0.06  ,  -4.49  , -15.97  , -22.66  ],\n",
       "       [-24.34  , -28.79  , -26.29  , -16.19  ,  -4.47  ,   4.39  ,\n",
       "          6.71  ,   6.82  ,  -0.09  ,  -6.08  , -16.    , -22.66  ],\n",
       "       [-23.12  , -25.38  , -21.92  , -16.92  ,  -4.56  ,   2.    ,\n",
       "          4.57  ,   5.79  ,   1.27  ,  -6.01  , -19.4   , -20.    ],\n",
       "       [-26.99  , -22.29  , -27.28  , -19.84  ,  -4.64  ,   2.69  ,\n",
       "          4.37  ,   3.04  ,   2.53  ,  -3.86  , -16.53  , -20.1   ],\n",
       "       [-25.89  , -24.48  , -27.94  , -13.44  ,  -7.3   ,   2.5901,\n",
       "          6.84  ,   6.67  ,   2.74  ,  -6.24  , -11.16  , -19.25  ],\n",
       "       [-26.87  , -26.94  , -26.27  , -14.82  ,  -5.3   ,   2.49  ,\n",
       "          4.7   ,   3.24  ,   0.97  ,  -7.76  , -16.3   , -19.58  ],\n",
       "       [-26.06  , -26.71  , -26.93  , -16.89  ,  -4.19  ,   1.88  ,\n",
       "          6.47  ,   4.77  ,   1.34  ,  -4.6   , -18.49  , -19.75  ],\n",
       "       [-27.62  , -23.64  , -24.17  , -14.22  ,  -5.8   ,   1.76  ,\n",
       "          5.37  ,   5.81  ,   2.4   ,  -5.72  , -12.39  , -24.27  ],\n",
       "       [-23.33  , -22.95  , -22.57  , -18.29  ,  -5.2   ,   2.    ,\n",
       "          5.25  ,   4.83  ,   2.16  ,  -5.54  , -19.17  , -22.63  ],\n",
       "       [-30.96  , -24.19  , -29.99  , -15.55  ,  -6.22  ,   2.71  ,\n",
       "          6.01  ,   6.17  ,   1.08  ,  -4.61  , -16.64  , -24.49  ],\n",
       "       [-22.98  , -27.72  , -23.44  , -18.59  ,  -6.42  ,   4.03  ,\n",
       "          6.43  ,   4.54  ,  -0.39  ,  -3.97  , -14.84  , -20.49  ],\n",
       "       [-16.89  , -24.12  , -22.19  , -14.99  ,  -5.53  ,   0.33  ,\n",
       "          3.64  ,   6.04  ,   0.7   ,  -7.51  , -12.97  , -17.58  ],\n",
       "       [-24.3   , -21.06  , -24.97  , -15.32  ,  -2.01  ,   3.46  ,\n",
       "          6.34  ,   3.42  ,  -1.42  ,  -5.47  , -13.72  , -22.75  ],\n",
       "       [-16.54  , -18.99  , -22.35  , -12.14  ,  -2.71  ,   3.46  ,\n",
       "          5.87  ,   6.46  ,   0.58  ,  -4.94  , -16.7   , -21.78  ]])"
      ]
     },
     "execution_count": 154,
     "metadata": {},
     "output_type": "execute_result"
    }
   ],
   "source": [
    "data = np.loadtxt('./barrow.temperature.csv', delimiter = ',')\n",
    "\n",
    "# Convert to Celsius\n",
    "data_c = np.apply_along_axis(kelvin_to_celsius, 0, data)\n",
    "data_c"
   ]
  },
  {
   "cell_type": "markdown",
   "metadata": {},
   "source": [
    "We can save our converted array to a CSV file, similar to the one we read in."
   ]
  },
  {
   "cell_type": "code",
   "execution_count": 155,
   "metadata": {
    "collapsed": true
   },
   "outputs": [],
   "source": [
    "np.savetxt('./barrow.temperature.Celsius.csv', data_c, delimiter = ',')"
   ]
  },
  {
   "cell_type": "markdown",
   "metadata": {},
   "source": [
    "We can perform a checksum over the contents of this file using the built-in Python library of hash functions. **Recall that a checksum or hash function returns a unique string for any unique input byte sequence.**"
   ]
  },
  {
   "cell_type": "code",
   "execution_count": 156,
   "metadata": {
    "collapsed": false
   },
   "outputs": [
    {
     "data": {
      "text/plain": [
       "b'\\xe4\\xbcT;\\xb4\\xf8d}b\\x1bX\\x98,\\x89\\x87?\\xeb\\x19\\xd5\\x0e\\xce\\xa4\\x9c\\x9a\\xf6\\xfb\\x8f\\x8aT\\x8b\\xc6y'"
      ]
     },
     "execution_count": 156,
     "metadata": {},
     "output_type": "execute_result"
    }
   ],
   "source": [
    "import hashlib\n",
    "hash_func = hashlib.sha256()\n",
    "\n",
    "# We have to encode any text strings as bytes\n",
    "hash_func.update(b'Some important scientific data')\n",
    "hash_func.digest()"
   ]
  },
  {
   "cell_type": "markdown",
   "metadata": {},
   "source": [
    "Whenever we call `update()`, the effect is to concatenate the inputs. Thus, after an `update()`, the input has changed and we therefore expect the hexadecimal digest to be different."
   ]
  },
  {
   "cell_type": "code",
   "execution_count": 157,
   "metadata": {
    "collapsed": false
   },
   "outputs": [
    {
     "data": {
      "text/plain": [
       "b'A\\xe3\\x9f\\xb9\\xf4\\xc4\\xb9A\\xda\\x90D\\xfdK\\x8b\\xc1~\\xa5_F\\xa0n\\xac\\xc7(7\\x7f#t\\x10\\xa1\\x07O'"
      ]
     },
     "execution_count": 157,
     "metadata": {},
     "output_type": "execute_result"
    }
   ],
   "source": [
    "hash_func.update(b'Some additional scientific data, different from before')\n",
    "hash_func.digest()"
   ]
  },
  {
   "cell_type": "markdown",
   "metadata": {},
   "source": [
    "**How can we use this to verify that a file is unchanged?** We can read the file in as a Python byte array and then hash it."
   ]
  },
  {
   "cell_type": "code",
   "execution_count": 158,
   "metadata": {
    "collapsed": false
   },
   "outputs": [
    {
     "data": {
      "text/plain": [
       "b'}\\x00\\x00U\\xfb\\xaf\\xd2\\xc6\\x11\\xbe\\xc8Rl\\x9b\\xacd\\xa4D9\\x99\"\\xde\\x02A\\xf5dR\\xdd\\x94k\\xaa\\xf6'"
      ]
     },
     "execution_count": 158,
     "metadata": {},
     "output_type": "execute_result"
    }
   ],
   "source": [
    "# Re-initialize our hash function to clear any prior inputs\n",
    "hash_func = hashlib.sha256()\n",
    "\n",
    "# Note that the mode must include 'b' for \"binary\"\n",
    "file_stream = open('./barrow.temperature.Celsius.csv', mode = 'rb')\n",
    "hash_func.update(file_stream.read())\n",
    "hash_func.digest()"
   ]
  },
  {
   "cell_type": "markdown",
   "metadata": {},
   "source": [
    "Any time we use `open()` in Python, we need to make sure we close the connection to the file."
   ]
  },
  {
   "cell_type": "code",
   "execution_count": 159,
   "metadata": {
    "collapsed": true
   },
   "outputs": [],
   "source": [
    "file_stream.close()"
   ]
  },
  {
   "cell_type": "markdown",
   "metadata": {},
   "source": [
    "A more concise way of doing the same thing, while also testing that the file's contents match a certain checksum, is to use the Python `with` statement."
   ]
  },
  {
   "cell_type": "code",
   "execution_count": 160,
   "metadata": {
    "collapsed": false
   },
   "outputs": [],
   "source": [
    "hash_func = hashlib.sha256()\n",
    "\n",
    "with open('./barrow.temperature.Celsius.csv', mode = 'rb') as file_stream:\n",
    "    hash_func.update(file_stream.read())\n",
    "    \n",
    "assert hash_func.digest() == b'}\\x00\\x00U\\xfb\\xaf\\xd2\\xc6\\x11\\xbe\\xc8Rl\\x9b\\xacd\\xa4D9\\x99\"\\xde\\x02A\\xf5dR\\xdd\\x94k\\xaa\\xf6'"
   ]
  },
  {
   "cell_type": "markdown",
   "metadata": {},
   "source": [
    "The Python `with` statement creates a *context,* a part of our code where certain variables are available for use:\n",
    "\n",
    "- When a `with` context is used to `open()` a file, as in the above example, we use `as` to declare a variable. The variable in this case, `file_stream` is available throughout the code block that follows.\n",
    "- Outside of the `with` context (outside of the code block), the `file_stream` variable is no longer available.\n",
    "- When `with` is used to open a file, the file is also automatically closed after the `with` statement's code block is executed. This saves us the trouble of having to call `close()` on the `file_stream` object.\n",
    "\n",
    "Now, if something changed about the file--for instance, if the file's contents were not converted from Kelvin to Celsius, we would detect it as a change in the checksum."
   ]
  },
  {
   "cell_type": "code",
   "execution_count": 161,
   "metadata": {
    "collapsed": false
   },
   "outputs": [
    {
     "ename": "AssertionError",
     "evalue": "",
     "output_type": "error",
     "traceback": [
      "\u001b[0;31m---------------------------------------------------------------------------\u001b[0m",
      "\u001b[0;31mAssertionError\u001b[0m                            Traceback (most recent call last)",
      "\u001b[0;32m<ipython-input-161-2a6be7c7852e>\u001b[0m in \u001b[0;36m<module>\u001b[0;34m()\u001b[0m\n\u001b[1;32m      4\u001b[0m     \u001b[0mhash_func\u001b[0m\u001b[0;34m.\u001b[0m\u001b[0mupdate\u001b[0m\u001b[0;34m(\u001b[0m\u001b[0mfile_stream\u001b[0m\u001b[0;34m.\u001b[0m\u001b[0mread\u001b[0m\u001b[0;34m(\u001b[0m\u001b[0;34m)\u001b[0m\u001b[0;34m)\u001b[0m\u001b[0;34m\u001b[0m\u001b[0m\n\u001b[1;32m      5\u001b[0m \u001b[0;34m\u001b[0m\u001b[0m\n\u001b[0;32m----> 6\u001b[0;31m \u001b[0;32massert\u001b[0m \u001b[0mhash_func\u001b[0m\u001b[0;34m.\u001b[0m\u001b[0mdigest\u001b[0m\u001b[0;34m(\u001b[0m\u001b[0;34m)\u001b[0m \u001b[0;34m==\u001b[0m \u001b[0;34mb'}\\x00\\x00U\\xfb\\xaf\\xd2\\xc6\\x11\\xbe\\xc8Rl\\x9b\\xacd\\xa4D9\\x99\"\\xde\\x02A\\xf5dR\\xdd\\x94k\\xaa\\xf6'\u001b[0m\u001b[0;34m\u001b[0m\u001b[0m\n\u001b[0m",
      "\u001b[0;31mAssertionError\u001b[0m: "
     ]
    }
   ],
   "source": [
    "hash_func = hashlib.sha256()\n",
    "\n",
    "with open('./barrow.temperature.csv', mode = 'rb') as file_stream:\n",
    "    hash_func.update(file_stream.read())\n",
    "    \n",
    "assert hash_func.digest() == b'}\\x00\\x00U\\xfb\\xaf\\xd2\\xc6\\x11\\xbe\\xc8Rl\\x9b\\xacd\\xa4D9\\x99\"\\xde\\x02A\\xf5dR\\xdd\\x94k\\xaa\\xf6'"
   ]
  },
  {
   "cell_type": "markdown",
   "metadata": {},
   "source": [
    "## Unit Testing"
   ]
  },
  {
   "cell_type": "markdown",
   "metadata": {},
   "source": [
    "**A good test is one that verifies that a *small* and *specific* part of your code is working.** If a test is written too generally, then we don't actually know went wrong when the test fails. In general, when we test a specific part of a larger code base, we are *unit testing.*\n",
    "\n",
    "Python has a built-in unit testing module. Let's try it out.\n",
    "\n",
    "```py\n",
    "import unittest\n",
    "\n",
    "class Main(unittest.TestCase):\n",
    "    \n",
    "    def test_range_overlap_with_disjoint_ranges(self):\n",
    "        'Should return None for ranges that do not intersect'\n",
    "        self.assertEqual(range_overlap([ (0.0, 1.0), (5.0, 6.0) ]), None)\n",
    "        self.assertEqual(range_overlap([ (0.0, 1.0), (1.0, 2.0) ]), None)\n",
    "        \n",
    "    def test_range_overlap_with_single_range(self):\n",
    "        'Should return same input when single range is provided'\n",
    "        self.assertEqual(range_overlap([ (0.0, 1.0) ]), (0.0, 1.0))\n",
    "        \n",
    "        \n",
    "if __name___ == '__main__':\n",
    "    unittest.main()\n",
    "```"
   ]
  },
  {
   "cell_type": "markdown",
   "metadata": {},
   "source": [
    "# Analyzing and Optimizing Performance"
   ]
  },
  {
   "cell_type": "markdown",
   "metadata": {},
   "source": [
    "This workshop on Python has largely been framed as offering a way to improve your productivity. If we are able to get the same job done faster by using Python and other computational tools to automate our workflow, we're definitely going to get the job done faster. But how does Python software typically compare to software written in other languages? How can we measure the performance of a Python program and think critically about its effects on our productivity?\n",
    "\n",
    "Whenever we think about a new programming task and how to implement it, there are choices to be made, first and foremost as to which programming language to use. **We talked about *compiled* languages like C, C++, and Java earlier.** A software program written in a compiled language will almost always take less time to complete the same task than a program written in an interpreted language, like Python. There are several reasons for this, most beyond the scope of this discussion.\n",
    "\n",
    "Importantly, however, we have to consider the differences between languages like C, C++, or Java and a language like Python. While compiled programs, once written, run faster, they take longer to write than a program in Python because Python offers higher-level tools and constructs for getting work done, automatically handling things like file input/ output, memory management, and data types. **Thus, it will almost always take you, the programmer, less time to create the equivalent program in Python than in other languages.** The time it takes to write has to be considered as part of the total \"running time\" of any task you're considering.\n",
    "\n",
    "The time it takes to *re-write* any code should also be considered *before* attempting to change a program to make it run faster."
   ]
  },
  {
   "cell_type": "markdown",
   "metadata": {},
   "source": [
    "> \"Premature optimization is the root of all evil.\" - Sir Tony Hoare (later popularized by Donald Knuth)"
   ]
  },
  {
   "cell_type": "markdown",
   "metadata": {},
   "source": [
    "## Benchmarking"
   ]
  },
  {
   "cell_type": "markdown",
   "metadata": {},
   "source": [
    "A software program can be *benchmarked* in many ways: the time it takes to finish a task, the average framerate during a video game's animation, or the total amount of memory required.\n"
   ]
  },
  {
   "cell_type": "markdown",
   "metadata": {},
   "source": [
    "**An easy way to benchmark a Python program's *runtime,* is to use the Unix program `time`.**\n",
    "\n",
    "```sh\n",
    "$ time python3 myscript.py\n",
    "```\n",
    "\n",
    "The specific meaning of the three measurements provided are:\n",
    "\n",
    "- \"Real\" time is the actual time elapsed, from start to finish.\n",
    "- \"User\" time is the amount of **CPU time** spent outside of the kernel, during the Python process. This might include time Python spent doing other things, like garbage collection.\n",
    "- \"Sys\" time is the amount of **CPU time** spent inside the kernel. Since there are certain things that the Python process is not allowed to do, but might be required to complete the task, like allocating more memory."
   ]
  },
  {
   "cell_type": "markdown",
   "metadata": {},
   "source": [
    "\"Real\" time might be long just because there are other programs running on your system and the Python process had to wait. If you add the \"sys\" and \"user\" times together, this gives you the amount of time your CPU(s) spent running that process regardless of other programs running. Also, if their sum is much less than the \"real\" time, it is likely that most of the program's performance issues are related to input-ouput ([according to Huy Nguyen](https://www.huyng.com/posts/python-performance-analysis))."
   ]
  },
  {
   "cell_type": "markdown",
   "metadata": {},
   "source": [
    "**Another easy benchmark for small bits of Python code is provided through Python's `timeit` module.**\n",
    "\n",
    "```sh\n",
    "$ python3 -m timeit -n 10000 -r 3 \"[str(n) for n in range(100)]\"\n",
    "10000 loops, best of 3: 15.7 usec per loop\n",
    "\n",
    "$ python3 -m timeit -n 10000 -r 3 \"map(str, range(100))\"\n",
    "10000 loops, best of 3: 0.587 usec per loop\n",
    "```\n",
    "\n",
    "Here, the options:\n",
    "\n",
    "- `-n` indicates the number of times the statement should be executed; an average of all runtimes is taken.\n",
    "- `-r` indicates the number of times the suite should be repeated; for 3 times (the default), the statement is run (3 x N) times total, and the best mean time in each of the 3 suites is reported.\n",
    "\n",
    "If you need to run some setup code that you don't want counted against the time, such as importing a module, you can use the `-s` option."
   ]
  },
  {
   "cell_type": "markdown",
   "metadata": {},
   "source": [
    "## Line and Memory Profiling"
   ]
  },
  {
   "cell_type": "markdown",
   "metadata": {},
   "source": [
    "Line and memory profilers aren't available in the Anaconda installation I had you use, [but you can read all about this topic on this excellent blog post.](https://www.huyng.com/posts/python-performance-analysis)"
   ]
  },
  {
   "cell_type": "markdown",
   "metadata": {},
   "source": [
    "# Capstone: WHOI Data"
   ]
  },
  {
   "cell_type": "markdown",
   "metadata": {},
   "source": [
    "Now you have a chance to bring together everything you've learned in this Software Carpentry workshop, particularly:\n",
    "\n",
    "- Using the Unix shell to download and manage delimited text data files;\n",
    "- Importing data into Python;\n",
    "- Using NumPy or other Python tools to summarize the data and diagnose any data issues;\n",
    "- Cleaning and plotting the data using reproducible Python functions;\n",
    "\n",
    "For this open-ended exercise, we'll use data from [the Woods Hole Oceanographic Institution's \"Martha's Vineyard Coastal Observatory.\"](http://www.whoi.edu/page.do?pid=70177) **Choose which of the following datasets you want to work with:**\n",
    "\n",
    "- [**The meteorological record**](http://www.whoi.edu/mvco/meteorological-data), which includes solar irradiance (`solar_campmt_m50[W/m^2]`) and rainfall (`rain_campmt[mm]`); [the order of the fields in the delimited files is listed here.](ftp://mvcodata.whoi.edu/pub/mvcodata/data/formats/MetDat_s.C99.txt)\n",
    "- [**The oceanographic record**](http://www.whoi.edu/science/AOPE/mvco/data/OcnDat_s.html), which includes wave period and direction, ocean bottom temperature, and many other variables.\n",
    "\n",
    "Each of these data sources has an online file directory:\n",
    "\n",
    "- [**Directory to download meteorological records**](ftp://mvcodata.whoi.edu/pub/mvcodata/data/MetDat_s/)\n",
    "- [**Directory to download oceanographic records**](ftp://mvcodata.whoi.edu/pub/mvcodata/data/OcnDat_s/)\n",
    "\n",
    "Once you've decided which dataset you want to work with, follow along with me using that particular record. I'm going to use the oceanographic data in this example."
   ]
  },
  {
   "cell_type": "markdown",
   "metadata": {},
   "source": [
    "## Your Tasks"
   ]
  },
  {
   "cell_type": "markdown",
   "metadata": {},
   "source": [
    "1. Download 3 days worth of meteorological or oceanographic data files using `wget` or `curl` in the Unix shell.\n",
    "2. Join the files together as one file using `cat` in the Unix shell.\n",
    "3. Read the data into a Python session.\n",
    "4. Create a time plot of a variable of your choice.\n",
    "5. Filter the rows of the table to only daytime observations.\n",
    "6. Write a function to calculate the *range* of values in air temperature (meteorological record)) or water temperature (oceanographic record). Apply this function teach of the 3+ days for which you obtained data."
   ]
  },
  {
   "cell_type": "markdown",
   "metadata": {},
   "source": [
    "## Getting Started"
   ]
  },
  {
   "cell_type": "markdown",
   "metadata": {},
   "source": [
    "For this exercise, we want to work with multiple data files. Each data file in the index is one day, but we want to work with multiple days worth of data. **How can we quickly and conveniently download multiple data files from the web?**\n",
    "\n",
    "This is something= the Unix shell is really great at automating. The WHOI dataset we're using exposes multiple data files at unique URLs. Below is an example file from the 120th day of 2018.\n",
    "\n",
    "[ftp://mvcodata.whoi.edu/pub/mvcodata/data/OcnDat_s/2018/2018120_OcntDat_s.C99](ftp://mvcodata.whoi.edu/pub/mvcodata/data/OcnDat_s/2018/2018120_OcnDat_s.C99)\n",
    "\n",
    "To download other days, we need only change one number in the URL:\n",
    "\n",
    "```\n",
    "ftp://mvcodata.whoi.edu/pub/mvcodata/data/OcnDat_s/2018/2018120_OcnDat_s.C99\n",
    "ftp://mvcodata.whoi.edu/pub/mvcodata/data/OcnDat_s/2018/2018119_OcnDat_s.C99\n",
    "ftp://mvcodata.whoi.edu/pub/mvcodata/data/OcnDat_s/2018/2018118_OcnDat_s.C99\n",
    "...\n",
    "```\n",
    "\n",
    "How can we automate this with the Unix shell? First we need to figure out which shell program to use. Recall that the Unix shell offers many different small programs; depending on which variant of the Unix shell we're using, a certain program might not be available.\n",
    "\n",
    "```sh\n",
    "which wget\n",
    "which curl\n",
    "```\n",
    "\n",
    "So you may have both installed. If you do, use `wget` instead of `curl`; both programs do the same thing."
   ]
  },
  {
   "cell_type": "markdown",
   "metadata": {},
   "source": [
    "### Downloading Online Datafiles with wget"
   ]
  },
  {
   "cell_type": "markdown",
   "metadata": {},
   "source": [
    "Here's an example shell script to get us started. We iterate over three (3) days (118, 119, 120), storing each day number in a variable called `day`. In each iteration, we use `wget` to download the file, inserting that day number stored in the variable `day`.\n",
    "\n",
    "```sh\n",
    "cd\n",
    "cd Desktop\n",
    "\n",
    "for day in 118 119 120\n",
    "do\n",
    "  wget \"ftp://mvcodata.whoi.edu/pub/mvcodata/data/OcnDat_s/2018/2018${day}_OcnDat_s.C99\"\n",
    "done\n",
    "```"
   ]
  },
  {
   "cell_type": "markdown",
   "metadata": {},
   "source": [
    "### Downloading Online Datafiles with curl"
   ]
  },
  {
   "cell_type": "markdown",
   "metadata": {},
   "source": [
    "Unlike `wget`, the `curl` program prints the downloaded text data directly to the screen. **Remember how we dealt with taking screen output and *redirecting* it to a file?**\n",
    "\n",
    "```sh\n",
    "cd\n",
    "cd Desktop\n",
    "\n",
    "for day in 118 119 120\n",
    "do\n",
    "  curl \"ftp://mvcodata.whoi.edu/pub/mvcodata/data/OcnDat_s/2018/2018${day}_OcnDat_s.C99\" > 2018${day}_OcnDat_s.C99\n",
    "done\n",
    "```"
   ]
  },
  {
   "cell_type": "markdown",
   "metadata": {},
   "source": [
    "## Good Luck!"
   ]
  },
  {
   "cell_type": "markdown",
   "metadata": {},
   "source": [
    "**Try the rest of the Capstone on your own. Helpful hints are provided throughout. You're encouraged to work with a partner but feel free to work independently if that suits you.**\n",
    "\n",
    "The hints below use only the packages we've seen in Python 3 so far, but if you're feeling adventurous, the `pandas` package has more and better tools for dealing with mixed, tabular data like the meteorology and oceanographic records here.\n",
    "\n",
    "```py\n",
    "import pandas as pd\n",
    "```\n",
    "\n",
    "For help getting started with `pandas`, check out [10 Minutes to Pandas](https://pandas.pydata.org/pandas-docs/stable/10min.html), in particular, the sections:\n",
    "\n",
    "- [Getting data in/out - CSV](https://pandas.pydata.org/pandas-docs/stable/10min.html#csv)\n",
    "- [Viewing data](https://pandas.pydata.org/pandas-docs/stable/10min.html#viewing-data)\n",
    "- [Plotting data](https://pandas.pydata.org/pandas-docs/stable/10min.html#plotting)"
   ]
  },
  {
   "cell_type": "markdown",
   "metadata": {},
   "source": [
    "## Hint: Combining Multiple Text Files in the Unix Shell"
   ]
  },
  {
   "cell_type": "markdown",
   "metadata": {},
   "source": [
    "Remember the `cat` program?\n",
    "\n",
    "```sh\n",
    "cat 2018120_OcnDat_s.C99\n",
    "```\n",
    "\n",
    "You can provide multiple files to the `cat` program and it will combine them line-by-line.\n",
    "\n",
    "```sh\n",
    "cat 2018120_OcnDat_s.C99 2018119_OcnDat_s.C99 2018118_OcnDat_s.C99\n",
    "```\n",
    "\n",
    "But this just prints everything out to the screen. **Use redirection to store the output in a new file called `ocean.txt` or `met.txt`, depending on which data source you're using.**"
   ]
  },
  {
   "cell_type": "markdown",
   "metadata": {},
   "source": [
    "## Hint: Reading in Data Using Python"
   ]
  },
  {
   "cell_type": "markdown",
   "metadata": {},
   "source": [
    "The WHOI datasets are apparently space-delimited. They might also be called \"fixed width\" because each data column appears at the same distance along each line."
   ]
  },
  {
   "cell_type": "code",
   "execution_count": 162,
   "metadata": {
    "collapsed": false
   },
   "outputs": [
    {
     "data": {
      "text/plain": [
       "(216, 24)"
      ]
     },
     "execution_count": 162,
     "metadata": {},
     "output_type": "execute_result"
    }
   ],
   "source": [
    "import numpy as np\n",
    "\n",
    "data = np.loadtxt('/home/arthur/Desktop/ocean.txt', delimiter = ' ')\n",
    "\n",
    "# How many rows and columns?\n",
    "data.shape"
   ]
  },
  {
   "cell_type": "markdown",
   "metadata": {},
   "source": [
    "## Hint: Plotting Data in Python"
   ]
  },
  {
   "cell_type": "markdown",
   "metadata": {},
   "source": [
    "Revisit your notes from when we did this earlier! Remember you need to import the plotting capability in Jupyter Notebook:\n",
    "\n",
    "```py\n",
    "import matplotlib.pyplot as pyplot\n",
    "%matplotlib inline\n",
    "```"
   ]
  },
  {
   "cell_type": "markdown",
   "metadata": {},
   "source": [
    "## Hint: Filter Data Using Python"
   ]
  },
  {
   "cell_type": "markdown",
   "metadata": {},
   "source": [
    "The fifth column contains the hour of the day. Recall that Python starts counting at zero, so column 5 is at position 4. The three dots (`...`) just mean \"everything else\" or, more specifically, \"all the rows.\" Recall that with NumPy arrays, we count the number of rows, then columns: \"rows comma columns.\""
   ]
  },
  {
   "cell_type": "code",
   "execution_count": 163,
   "metadata": {
    "collapsed": false
   },
   "outputs": [
    {
     "data": {
      "text/plain": [
       "array([  0.,   0.,   0.,   1.,   1.,   1.,   2.,   2.,   2.,   3.,   3.,\n",
       "         3.,   4.,   4.,   4.,   5.,   5.,   5.,   6.,   6.,   6.,   7.,\n",
       "         7.,   7.,   8.,   8.,   8.,   9.,   9.,   9.,  10.,  10.,  10.,\n",
       "        11.,  11.,  11.,  12.,  12.,  12.,  13.,  13.,  13.,  14.,  14.,\n",
       "        14.,  15.,  15.,  15.,  16.,  16.,  16.,  17.,  17.,  17.,  18.,\n",
       "        18.,  18.,  19.,  19.,  19.,  20.,  20.,  20.,  21.,  21.,  21.,\n",
       "        22.,  22.,  22.,  23.,  23.,  23.,   0.,   0.,   0.,   1.,   1.,\n",
       "         1.,   2.,   2.,   2.,   3.,   3.,   3.,   4.,   4.,   4.,   5.,\n",
       "         5.,   5.,   6.,   6.,   6.,   7.,   7.,   7.,   8.,   8.,   8.,\n",
       "         9.,   9.,   9.,  10.,  10.,  10.,  11.,  11.,  11.,  12.,  12.,\n",
       "        12.,  13.,  13.,  13.,  14.,  14.,  14.,  15.,  15.,  15.,  16.,\n",
       "        16.,  16.,  17.,  17.,  17.,  18.,  18.,  18.,  19.,  19.,  19.,\n",
       "        20.,  20.,  20.,  21.,  21.,  21.,  22.,  22.,  22.,  23.,  23.,\n",
       "        23.,   0.,   0.,   0.,   1.,   1.,   1.,   2.,   2.,   2.,   3.,\n",
       "         3.,   3.,   4.,   4.,   4.,   5.,   5.,   5.,   6.,   6.,   6.,\n",
       "         7.,   7.,   7.,   8.,   8.,   8.,   9.,   9.,   9.,  10.,  10.,\n",
       "        10.,  11.,  11.,  11.,  12.,  12.,  12.,  13.,  13.,  13.,  14.,\n",
       "        14.,  14.,  15.,  15.,  15.,  16.,  16.,  16.,  17.,  17.,  17.,\n",
       "        18.,  18.,  18.,  19.,  19.,  19.,  20.,  20.,  20.,  21.,  21.,\n",
       "        21.,  22.,  22.,  22.,  23.,  23.,  23.])"
      ]
     },
     "execution_count": 163,
     "metadata": {},
     "output_type": "execute_result"
    }
   ],
   "source": [
    "data[...,4]"
   ]
  },
  {
   "cell_type": "markdown",
   "metadata": {},
   "source": [
    "The `range()` function in Python returns a list of consecutive integers between the first and the second number. The `np.in1d` function tests each element of our \"hour\" column to see if it is in the list of numbers from 7 to 18, inclusive."
   ]
  },
  {
   "cell_type": "code",
   "execution_count": 164,
   "metadata": {
    "collapsed": false
   },
   "outputs": [
    {
     "data": {
      "text/plain": [
       "array([False, False, False, False, False, False, False, False, False,\n",
       "       False, False, False, False, False, False, False, False, False,\n",
       "       False, False, False,  True,  True,  True,  True,  True,  True,\n",
       "        True,  True,  True,  True,  True,  True,  True,  True,  True,\n",
       "        True,  True,  True,  True,  True,  True,  True,  True,  True,\n",
       "        True,  True,  True,  True,  True,  True,  True,  True,  True,\n",
       "        True,  True,  True, False, False, False, False, False, False,\n",
       "       False, False, False, False, False, False, False, False, False,\n",
       "       False, False, False, False, False, False, False, False, False,\n",
       "       False, False, False, False, False, False, False, False, False,\n",
       "       False, False, False,  True,  True,  True,  True,  True,  True,\n",
       "        True,  True,  True,  True,  True,  True,  True,  True,  True,\n",
       "        True,  True,  True,  True,  True,  True,  True,  True,  True,\n",
       "        True,  True,  True,  True,  True,  True,  True,  True,  True,\n",
       "        True,  True,  True, False, False, False, False, False, False,\n",
       "       False, False, False, False, False, False, False, False, False,\n",
       "       False, False, False, False, False, False, False, False, False,\n",
       "       False, False, False, False, False, False, False, False, False,\n",
       "       False, False, False,  True,  True,  True,  True,  True,  True,\n",
       "        True,  True,  True,  True,  True,  True,  True,  True,  True,\n",
       "        True,  True,  True,  True,  True,  True,  True,  True,  True,\n",
       "        True,  True,  True,  True,  True,  True,  True,  True,  True,\n",
       "        True,  True,  True, False, False, False, False, False, False,\n",
       "       False, False, False, False, False, False, False, False, False], dtype=bool)"
      ]
     },
     "execution_count": 164,
     "metadata": {},
     "output_type": "execute_result"
    }
   ],
   "source": [
    "np.in1d(data[...,4], range(7,19))"
   ]
  },
  {
   "cell_type": "markdown",
   "metadata": {},
   "source": [
    "To filter the full NumPy array to just those rows where the \"hour\" is between 7 and 18 (inclusive), we can take this vector of `True` and `False` values and put inside brackets, as below. Remember that the three dots (`...`) just mean \"everything else\" or, more specifically, \"all the columns.\""
   ]
  },
  {
   "cell_type": "code",
   "execution_count": 165,
   "metadata": {
    "collapsed": false
   },
   "outputs": [
    {
     "data": {
      "text/plain": [
       "(108, 24)"
      ]
     },
     "execution_count": 165,
     "metadata": {},
     "output_type": "execute_result"
    }
   ],
   "source": [
    "daytime = data[np.in1d(data[...,4], range(7,19)),...]\n",
    "daytime.shape"
   ]
  },
  {
   "cell_type": "markdown",
   "metadata": {},
   "source": [
    "## Hint: Creating a Function to Calculate Temperature Ranges"
   ]
  },
  {
   "cell_type": "markdown",
   "metadata": {},
   "source": [
    "The *range* of daytime temperatures for a given day is the daily maximum temperature minus the daily minimum temperature. Create a single function to do this, then call it at least 3 times, once for each unique day in your dataset.\n",
    "\n",
    "**How can you present this function with just the data for a given day?** There are a few different ways. In both datasets, the 4th column (column 3 in Python, where we start counting from zero) has an integer representing the day of the month."
   ]
  },
  {
   "cell_type": "code",
   "execution_count": 166,
   "metadata": {
    "collapsed": false
   },
   "outputs": [
    {
     "data": {
      "text/plain": [
       "array([ 28.,  28.,  28.,  28.,  28.,  28.,  28.,  28.,  28.,  28.,  28.,\n",
       "        28.,  28.,  28.,  28.,  28.,  28.,  28.,  28.,  28.,  28.,  28.,\n",
       "        28.,  28.,  28.,  28.,  28.,  28.,  28.,  28.,  28.,  28.,  28.,\n",
       "        28.,  28.,  28.,  29.,  29.,  29.,  29.,  29.,  29.,  29.,  29.,\n",
       "        29.,  29.,  29.,  29.,  29.,  29.,  29.,  29.,  29.,  29.,  29.,\n",
       "        29.,  29.,  29.,  29.,  29.,  29.,  29.,  29.,  29.,  29.,  29.,\n",
       "        29.,  29.,  29.,  29.,  29.,  29.,  30.,  30.,  30.,  30.,  30.,\n",
       "        30.,  30.,  30.,  30.,  30.,  30.,  30.,  30.,  30.,  30.,  30.,\n",
       "        30.,  30.,  30.,  30.,  30.,  30.,  30.,  30.,  30.,  30.,  30.,\n",
       "        30.,  30.,  30.,  30.,  30.,  30.,  30.,  30.,  30.])"
      ]
     },
     "execution_count": 166,
     "metadata": {},
     "output_type": "execute_result"
    }
   ],
   "source": [
    "daytime[...,3]"
   ]
  },
  {
   "cell_type": "code",
   "execution_count": 167,
   "metadata": {
    "collapsed": false
   },
   "outputs": [
    {
     "data": {
      "text/plain": [
       "array([ True,  True,  True,  True,  True,  True,  True,  True,  True,\n",
       "        True,  True,  True,  True,  True,  True,  True,  True,  True,\n",
       "        True,  True,  True,  True,  True,  True,  True,  True,  True,\n",
       "        True,  True,  True,  True,  True,  True,  True,  True,  True,\n",
       "       False, False, False, False, False, False, False, False, False,\n",
       "       False, False, False, False, False, False, False, False, False,\n",
       "       False, False, False, False, False, False, False, False, False,\n",
       "       False, False, False, False, False, False, False, False, False,\n",
       "       False, False, False, False, False, False, False, False, False,\n",
       "       False, False, False, False, False, False, False, False, False,\n",
       "       False, False, False, False, False, False, False, False, False,\n",
       "       False, False, False, False, False, False, False, False, False], dtype=bool)"
      ]
     },
     "execution_count": 167,
     "metadata": {},
     "output_type": "execute_result"
    }
   ],
   "source": [
    "daytime[...,3] == 28"
   ]
  },
  {
   "cell_type": "markdown",
   "metadata": {},
   "source": [
    "For another way to get all the records associated with a single day, remember that every day has the same number of records. Now that we've filtered to just the daytime records, there should be 36 records per day."
   ]
  },
  {
   "cell_type": "code",
   "execution_count": 168,
   "metadata": {
    "collapsed": false
   },
   "outputs": [
    {
     "data": {
      "text/plain": [
       "(108, 24)"
      ]
     },
     "execution_count": 168,
     "metadata": {},
     "output_type": "execute_result"
    }
   ],
   "source": [
    "daytime.shape"
   ]
  },
  {
   "cell_type": "code",
   "execution_count": 169,
   "metadata": {
    "collapsed": false
   },
   "outputs": [
    {
     "data": {
      "text/plain": [
       "36.0"
      ]
     },
     "execution_count": 169,
     "metadata": {},
     "output_type": "execute_result"
    }
   ],
   "source": [
    "108 / 3"
   ]
  },
  {
   "cell_type": "markdown",
   "metadata": {},
   "source": [
    "We can slice the first 36 rows of our data table to obtain the first day. The second day would then be rows 37 through 72, and so on."
   ]
  },
  {
   "cell_type": "code",
   "execution_count": 170,
   "metadata": {
    "collapsed": false
   },
   "outputs": [
    {
     "data": {
      "text/plain": [
       "array([ 28.,  28.,  28.,  28.,  28.,  28.,  28.,  28.,  28.,  28.,  28.,\n",
       "        28.,  28.,  28.,  28.,  28.,  28.,  28.,  28.,  28.,  28.,  28.,\n",
       "        28.,  28.,  28.,  28.,  28.,  28.,  28.,  28.,  28.,  28.,  28.,\n",
       "        28.,  28.,  28.])"
      ]
     },
     "execution_count": 170,
     "metadata": {},
     "output_type": "execute_result"
    }
   ],
   "source": [
    "daytime[0:36,3]"
   ]
  },
  {
   "cell_type": "markdown",
   "metadata": {},
   "source": [
    "# Connecting to SQLite with Python"
   ]
  },
  {
   "cell_type": "markdown",
   "metadata": {},
   "source": [
    "As we've seen, SQL and databases together allow us to store and analyze our tabular data. Yet SQL has limited analytical tools and no visualization features.\n",
    "\n",
    "How can we take advantage of the consistency and the security that our database offers without sacrificing the advanced data analysis and visualization tools available in a language in Python?\n",
    "\n",
    "Here, we'll see how to connect to a relational database in Python. Ultimately, this gives us the option to store and maintain our data in a relational database but to perform analysis on it in Python in whole or in part.\n",
    "\n",
    "**First, we need to import the `sqlite3` module into Python.** This module tells Python how to talk to a SQLite database and interpret its responses."
   ]
  },
  {
   "cell_type": "code",
   "execution_count": 171,
   "metadata": {
    "collapsed": true
   },
   "outputs": [],
   "source": [
    "import sqlite3"
   ]
  },
  {
   "cell_type": "markdown",
   "metadata": {},
   "source": [
    "Next, we create a connection to the database. Because our SQLite database is simply a file, we provide the file path as the argument to the `connect()` function."
   ]
  },
  {
   "cell_type": "code",
   "execution_count": 172,
   "metadata": {
    "collapsed": true
   },
   "outputs": [],
   "source": [
    "connection = sqlite3.connect('/usr/local/dev/swc-workshop/sql-intro-ecology/survey.sqlite')"
   ]
  },
  {
   "cell_type": "markdown",
   "metadata": {},
   "source": [
    "We create a `cursor` object. Just like the cursor in an editor, its role is to keep track of where we are in the database."
   ]
  },
  {
   "cell_type": "code",
   "execution_count": 173,
   "metadata": {
    "collapsed": true
   },
   "outputs": [],
   "source": [
    "cursor = connection.cursor()"
   ]
  },
  {
   "cell_type": "markdown",
   "metadata": {},
   "source": [
    "We use the cursor to send commands to the database manager, SQLite. In this example, we select all the rows and columns in the `species` table."
   ]
  },
  {
   "cell_type": "code",
   "execution_count": 174,
   "metadata": {
    "collapsed": false
   },
   "outputs": [
    {
     "data": {
      "text/plain": [
       "<sqlite3.Cursor at 0x7f1d6412b880>"
      ]
     },
     "execution_count": 174,
     "metadata": {},
     "output_type": "execute_result"
    }
   ],
   "source": [
    "cursor.execute('SELECT * FROM species;')"
   ]
  },
  {
   "cell_type": "markdown",
   "metadata": {},
   "source": [
    "We get output from this function call, but we don't really care about it. The data that we want can actually be retrieved by the `fetchall()` method of the cursor."
   ]
  },
  {
   "cell_type": "code",
   "execution_count": 175,
   "metadata": {
    "collapsed": false
   },
   "outputs": [],
   "source": [
    "results = cursor.fetchall()"
   ]
  },
  {
   "cell_type": "markdown",
   "metadata": {},
   "source": [
    "**What's contained in results?** What type of data structure is it?"
   ]
  },
  {
   "cell_type": "code",
   "execution_count": 176,
   "metadata": {
    "collapsed": false
   },
   "outputs": [
    {
     "data": {
      "text/plain": [
       "list"
      ]
     },
     "execution_count": 176,
     "metadata": {},
     "output_type": "execute_result"
    }
   ],
   "source": [
    "type(results)"
   ]
  },
  {
   "cell_type": "markdown",
   "metadata": {},
   "source": [
    "**What is one way we could access each row at a time?**"
   ]
  },
  {
   "cell_type": "code",
   "execution_count": 177,
   "metadata": {
    "collapsed": false
   },
   "outputs": [
    {
     "name": "stdout",
     "output_type": "stream",
     "text": [
      "('AB', 'Amphispiza', 'bilineata', 'Bird')\n",
      "('AH', 'Ammospermophilus', 'harrisi', 'Rodent')\n",
      "('AS', 'Ammodramus', 'savannarum', 'Bird')\n",
      "('BA', 'Baiomys', 'taylori', 'Rodent')\n",
      "('CB', 'Campylorhynchus', 'brunneicapillus', 'Bird')\n",
      "('CM', 'Calamospiza', 'melanocorys', 'Bird')\n",
      "('CQ', 'Callipepla', 'squamata', 'Bird')\n",
      "('CS', 'Crotalus', 'scutalatus', 'Reptile')\n",
      "('CT', 'Cnemidophorus', 'tigris', 'Reptile')\n",
      "('CU', 'Cnemidophorus', 'uniparens', 'Reptile')\n",
      "('CV', 'Crotalus', 'viridis', 'Reptile')\n",
      "('DM', 'Dipodomys', 'merriami', 'Rodent')\n",
      "('DO', 'Dipodomys', 'ordii', 'Rodent')\n",
      "('DS', 'Dipodomys', 'spectabilis', 'Rodent')\n",
      "('DX', 'Dipodomys', 'sp.', 'Rodent')\n",
      "('EO', 'Eumeces', 'obsoletus', 'Reptile')\n",
      "('GS', 'Gambelia', 'silus', 'Reptile')\n",
      "('NL', 'Neotoma', 'albigula', 'Rodent')\n",
      "('NX', 'Neotoma', 'sp.', 'Rodent')\n",
      "('OL', 'Onychomys', 'leucogaster', 'Rodent')\n",
      "('OT', 'Onychomys', 'torridus', 'Rodent')\n",
      "('OX', 'Onychomys', 'sp.', 'Rodent')\n",
      "('PB', 'Chaetodipus', 'baileyi', 'Rodent')\n",
      "('PC', 'Pipilo', 'chlorurus', 'Bird')\n",
      "('PE', 'Peromyscus', 'eremicus', 'Rodent')\n",
      "('PF', 'Perognathus', 'flavus', 'Rodent')\n",
      "('PG', 'Pooecetes', 'gramineus', 'Bird')\n",
      "('PH', 'Perognathus', 'hispidus', 'Rodent')\n",
      "('PI', 'Chaetodipus', 'intermedius', 'Rodent')\n",
      "('PL', 'Peromyscus', 'leucopus', 'Rodent')\n",
      "('PM', 'Peromyscus', 'maniculatus', 'Rodent')\n",
      "('PP', 'Chaetodipus', 'penicillatus', 'Rodent')\n",
      "('PU', 'Pipilo', 'fuscus', 'Bird')\n",
      "('PX', 'Chaetodipus', 'sp.', 'Rodent')\n",
      "('RF', 'Reithrodontomys', 'fulvescens', 'Rodent')\n",
      "('RM', 'Reithrodontomys', 'megalotis', 'Rodent')\n",
      "('RO', 'Reithrodontomys', 'montanus', 'Rodent')\n",
      "('RX', 'Reithrodontomys', 'sp.', 'Rodent')\n",
      "('SA', 'Sylvilagus', 'audubonii', 'Rabbit')\n",
      "('SB', 'Spizella', 'breweri', 'Bird')\n",
      "('SC', 'Sceloporus', 'clarki', 'Reptile')\n",
      "('SF', 'Sigmodon', 'fulviventer', 'Rodent')\n",
      "('SH', 'Sigmodon', 'hispidus', 'Rodent')\n",
      "('SO', 'Sigmodon', 'ochrognathus', 'Rodent')\n",
      "('SS', 'Spermophilus', 'spilosoma', 'Rodent')\n",
      "('ST', 'Spermophilus', 'tereticaudus', 'Rodent')\n",
      "('SU', 'Sceloporus', 'undulatus', 'Reptile')\n",
      "('SX', 'Sigmodon', 'sp.', 'Rodent')\n",
      "('UL', 'Lizard', 'sp.', 'Reptile')\n",
      "('UP', 'Pipilo', 'sp.', 'Bird')\n",
      "('UR', 'Rodent', 'sp.', 'Rodent')\n",
      "('US', 'Sparrow', 'sp.', 'Bird')\n",
      "('ZL', 'Zonotrichia', 'leucophrys', 'Bird')\n",
      "('ZM', 'Zenaida', 'macroura', 'Bird')\n"
     ]
    }
   ],
   "source": [
    "for row in results:\n",
    "    print(row)"
   ]
  },
  {
   "cell_type": "markdown",
   "metadata": {},
   "source": [
    "**Note:** If you don't see any output, there is probably something wrong with the file path you specified in `sqlite3.connect()`. The SQLite API is finicky. Try providing a fully qualified path, i.e.:\n",
    "\n",
    "- On Windows, a path that starts with `C:\\` or another drive letter;\n",
    "- On Mac OSX or GNU/Linux, a path that starts with a forward slash, `/`; on Mac OSX, it probably starts like `/Users/username/Desktop/`."
   ]
  },
  {
   "cell_type": "markdown",
   "metadata": {},
   "source": [
    "**Importantly, once we have retrieved the data that we want from the database, we should remember to close both the cursor and the connection objects.**"
   ]
  },
  {
   "cell_type": "code",
   "execution_count": 178,
   "metadata": {
    "collapsed": true
   },
   "outputs": [],
   "source": [
    "cursor.close()\n",
    "connection.close()"
   ]
  },
  {
   "cell_type": "markdown",
   "metadata": {},
   "source": [
    "## Best Practices with Database Connections"
   ]
  },
  {
   "cell_type": "markdown",
   "metadata": {},
   "source": [
    "Database connection APIs tend to be a little buggy. My advise is not to use them for submitting complex SQL queries to your database. Instead, if you want to do anything other than read an existing table as-is, you should create a View or a new Table that represents the data the way you want them for analysis. Then, connect to this table (or view) and retrieve the data.\n",
    "\n",
    "Some database APIs won't connect to views, only tables.\n",
    "\n",
    "In addition, if you're using Python as part of an application that's accessible on the web, you want to be careful when connecting to a database that contains sensitive or important information. It's possible for bad actors to slip in some malicious SQL commands to your database manager through your Python connection to the database. There are a number of robust database APIs available in Python that protect against this but they are all much more complicated than the simple API we've seen here. This is because submitting queries as raw strings to a database, as we've done here, is the main vulnerability for databases connected to the web.\n",
    "\n",
    "If you're interested in connecting your database to the web, or even if you're interested in web development in Python and you don't have a database, I would recommend you [check out Django](https://www.djangoproject.com/)."
   ]
  }
 ],
 "metadata": {
  "kernelspec": {
   "display_name": "py3",
   "language": "python",
   "name": "py3"
  },
  "language_info": {
   "codemirror_mode": {
    "name": "ipython",
    "version": 3
   },
   "file_extension": ".py",
   "mimetype": "text/x-python",
   "name": "python",
   "nbconvert_exporter": "python",
   "pygments_lexer": "ipython3",
   "version": "3.5.2"
  }
 },
 "nbformat": 4,
 "nbformat_minor": 0
}
