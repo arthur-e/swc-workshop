{
 "cells": [
  {
   "cell_type": "markdown",
   "metadata": {},
   "source": [
    "# Overview"
   ]
  },
  {
   "cell_type": "markdown",
   "metadata": {},
   "source": [
    "This lesson introduces Python as an environment for data analysis and visualization. The materials are based on the Data Carpentry [Python for Ecologists lesson](http://www.datacarpentry.org/python-ecology-lesson/). However, the lesson focuses on general analysis and visualization of tabular data and is not specific to ecologists or ecological data. As Data Carpentry explains:\n",
    "\n",
    "> Data Carpentry’s aim is to teach researchers basic concepts, skills, and tools for working with data so that they can get more done in less time, and with less pain.\n",
    "\n",
    "**At the end of this lesson, you will be able to:**\n",
    "\n",
    "- Read and write basic Python code;\n",
    "- Import and export tabular data with Python;\n",
    "- Subset and filter tabular data;\n",
    "- Understand different data types and data formats;\n",
    "- Understand pandas Data Frames and how they help organize tabular data;\n",
    "- Devise and intepret data processing workflows;\n",
    "- Automate your data cleaning and analysis with Python;\n",
    "- Visualize your data using matplotlib and pandas;\n",
    "- Connect to a SQLite database using Python.\n",
    "\n",
    "This lesson will not prepare you to use Python as a general purpose programming language; there are some parts of the language we won't have time to cover. However, at the end of this lesson, you will have a good grasp of Python syntax and be well-prepared to learn the rest of the language, if you desire to do so. **Even without seeing all of the Python programming language, you will be prepared to analyze and visualize data in Python using pandas and matplotlib.**"
   ]
  },
  {
   "cell_type": "markdown",
   "metadata": {},
   "source": [
    "# Introduction to the Python Programming Language"
   ]
  },
  {
   "cell_type": "markdown",
   "metadata": {},
   "source": [
    "## The Python Interpreter"
   ]
  },
  {
   "cell_type": "markdown",
   "metadata": {},
   "source": [
    "### Jupyter Notebook"
   ]
  },
  {
   "cell_type": "markdown",
   "metadata": {},
   "source": [
    "For this lesson, we'll be using the Python interpreter that is embedded in Jupyter Notebook. Jupyter Notebook is a fancy, browser-based environment for **literate programming,** the combination of Python scripts with rich text for telling a story about the task you set out to do with Python. This is a powerful way for collecting the code, the analysis, the context, and the results in a single place.\n",
    "\n",
    "The Python interpreter we'll interact with in Jupyter Notebook is the same interpreter we could use from the command line. To launch Jupyter Notebook:\n",
    "\n",
    "- In GNU/Linux or Mac OS X, launch the Terminal and type: `jupyter notebook`; then press ENTER.\n",
    "- In Windows, launch the Command Prompt and type `jupyter notebook`; then press ENTER."
   ]
  },
  {
   "cell_type": "markdown",
   "metadata": {},
   "source": [
    "## Python Data Types"
   ]
  },
  {
   "cell_type": "markdown",
   "metadata": {},
   "source": [
    "### Strings, Integers, and Floats"
   ]
  },
  {
   "cell_type": "markdown",
   "metadata": {},
   "source": [
    "### Operators"
   ]
  },
  {
   "cell_type": "markdown",
   "metadata": {},
   "source": [
    "## Sequences"
   ]
  },
  {
   "cell_type": "markdown",
   "metadata": {},
   "source": [
    "### Tuples"
   ]
  },
  {
   "cell_type": "markdown",
   "metadata": {},
   "source": [
    "### Challenge: Tuples and Lists"
   ]
  },
  {
   "cell_type": "code",
   "execution_count": 1,
   "metadata": {
    "collapsed": true
   },
   "outputs": [],
   "source": [
    "a_tuple = ('a', 'b', 'c', 'd')\n",
    "a_list = ['a', 'b', 'c', 'd']"
   ]
  },
  {
   "cell_type": "markdown",
   "metadata": {},
   "source": [
    "1. What happens when you try to re-assign the first value in each of the following examples?\n",
    "```py\n",
    "a_tuple[0] = 5\n",
    "a_list[0] = 5\n",
    "```\n",
    "2. Type `type(a_tuple)` into Python; what is the object's type?"
   ]
  },
  {
   "cell_type": "markdown",
   "metadata": {},
   "source": [
    "## Dictionaries"
   ]
  },
  {
   "cell_type": "markdown",
   "metadata": {},
   "source": [
    "### Challenge: Reassignment in a Dictionary"
   ]
  },
  {
   "cell_type": "markdown",
   "metadata": {},
   "source": [
    "How can we change a value in our dictionary? Try to reassign one of the values in the `code_book` dictionary."
   ]
  },
  {
   "cell_type": "markdown",
   "metadata": {},
   "source": [
    "## Functions"
   ]
  },
  {
   "cell_type": "markdown",
   "metadata": {},
   "source": [
    "### Challenge: Writing Your First Function"
   ]
  },
  {
   "cell_type": "markdown",
   "metadata": {},
   "source": [
    "To convert from temperatures in Fahrenheight to Celsius, we first subtract $32$ and then multiple by $5/9$. Write a function that converts temperatures from Fahrenheit to Celsius."
   ]
  },
  {
   "cell_type": "markdown",
   "metadata": {},
   "source": [
    "# Data Analysis Workflows"
   ]
  },
  {
   "cell_type": "markdown",
   "metadata": {},
   "source": [
    "In general, when we have a data analysis task, there are specific steps that we undertake, in order:\n",
    "\n",
    "1. **Bringing data together in a common format** that is both human-readable and machine-readable (e.g., **through spreadsheets**, before exporting as a CSV).\n",
    "2. **Cleaning data,** e.g, merging text labels that are slightly different (e.g., \"Tree frogs,\" \"tree frogs,\" and \"treefrogs\"), splitting and combining fields as needed (e.g., in **OpenRefine** or in **Python**).\n",
    "3. **Archiving data,** keeping the raw data separate from any cleaned data, for further use and analysis (e.g., using a **relational database and SQL**).\n",
    "4. **Deriving a subset of cleaned data for use in a specific analysis,** such as a certain date range, certain field site, or certain collection (e.g., in **Python** or **SQL**).\n",
    "5. **Performing analysis to answer a question or make a decision,** such as grouping and summarizing data, calculating a statistic, or generating a plot (e.g., in **Python** or **SQL**)."
   ]
  },
  {
   "cell_type": "markdown",
   "metadata": {},
   "source": [
    "# Managing Data in Python"
   ]
  },
  {
   "cell_type": "markdown",
   "metadata": {},
   "source": [
    "We've seen how we can use spreadsheets to effectively organize data. You probably know how to do some basic analysis on tabular data using spreadsheet software programs like Microsoft Excel. **Why, then, should we learn to use Python for data analysis?**\n",
    "\n",
    "- Because computers are good at automating tedious tasks (and humans are not), we can use Python to instruct a computer to repeat a task over and over again. This saves us frustration and ensures that the task is performed consistently, without human error.\n",
    "- More specifically, once we have written the code to do some task with data the first time, we can apply it over and over again to subsequent datasets.\n",
    "- Ultimately, we can save the code and share it with other people if they want to perform the same analysis or understand what we did. The code is then a record of what we did to get our results. This is a key component of **reproducibility** in computer-aided science."
   ]
  },
  {
   "cell_type": "markdown",
   "metadata": {},
   "source": [
    "## About the Data"
   ]
  },
  {
   "cell_type": "markdown",
   "metadata": {},
   "source": [
    "For this lesson, we will be using the [Portal Project Teaching Database](https://figshare.com/articles/Portal_Project_Teaching_Database/1314459), a subset of data from Ernst et al.'s (2009) [long-term monitoring and experimental manipulation of a Chihuahuan desert ecosystem near Portal, Arizona, U.S.A.](http://www.esapubs.org/archive/ecol/E090/118/default.htm).\n",
    "**We are studying the species and weight of animals caught in plots in our study area.**\n",
    "The dataset is stored as a comma-separated variable (CSV) file: each row holds information for a single animal, and the columns reprsent:\n",
    "\n",
    "Column          | Description\n",
    "----------------|--------------------------------------\n",
    "record_id       | Unique ID for the observation\n",
    "month           | Month of observation\n",
    "day             | Day of observation\n",
    "year            | Year of observation\n",
    "plot_id         | ID of a particular plot\n",
    "species_id      | 2-letter code identifying the species\n",
    "sex             | Sex of animal (\"M\",\"F\")\n",
    "hindfoot_length | Length of the hindfoot in millimeters\n",
    "weight          | Weight of the animal in grams"
   ]
  },
  {
   "cell_type": "markdown",
   "metadata": {},
   "source": [
    "## About Libraries"
   ]
  },
  {
   "cell_type": "markdown",
   "metadata": {},
   "source": [
    "## Reading CSV Data in Pandas"
   ]
  },
  {
   "cell_type": "markdown",
   "metadata": {},
   "source": [
    "### Data Frames"
   ]
  },
  {
   "cell_type": "markdown",
   "metadata": {},
   "source": [
    "## Manipulating Data in Python"
   ]
  },
  {
   "cell_type": "markdown",
   "metadata": {},
   "source": [
    "### Challenge: Viewing DataFrames in Python"
   ]
  },
  {
   "cell_type": "markdown",
   "metadata": {},
   "source": [
    "Try executing each code sample below and see what is returned.\n",
    "\n",
    "- `surveys.columns`\n",
    "- `surveys.head()`\n",
    "- `surveys.head(15)`\n",
    "- `surveys.tail()`\n",
    "- `surveys.shape`\n",
    "\n",
    "Take note of the output of `surveys.shape`; what format does it return?\n",
    "\n",
    "**Finally, what is the difference between the code samples that end in parentheses and those that do not?**"
   ]
  },
  {
   "cell_type": "markdown",
   "metadata": {},
   "source": [
    "## Calculating Statistics in a Pandas DataFrame"
   ]
  },
  {
   "cell_type": "markdown",
   "metadata": {},
   "source": [
    "### Challenge: Unique Levels for a Column"
   ]
  },
  {
   "cell_type": "markdown",
   "metadata": {},
   "source": [
    "1. Create a list of unique plot IDs found in the survey data; assign the list of unique IDs to a variable called `plot_names`. **How many unique plots are there in the data? How many unique species are in the data?**\n",
    "2. What is the difference between `len(plot_names)` and `plot_names.shape`?"
   ]
  },
  {
   "cell_type": "markdown",
   "metadata": {},
   "source": [
    "### Groups in Pandas"
   ]
  },
  {
   "cell_type": "markdown",
   "metadata": {},
   "source": [
    "### Quickly Creating Summary Counts in Pandas"
   ]
  },
  {
   "cell_type": "markdown",
   "metadata": {},
   "source": [
    "### Challenge: Understanding Grouped DataFrames"
   ]
  },
  {
   "cell_type": "markdown",
   "metadata": {},
   "source": [
    "1. In that last command, we asked for the `record_id` column. Try asking for a different column in the square brackets. Do you get a different result? Why or why not?\n",
    "2. How can we get a count of just the records with `species_id` set to `DO`? *Hint: You can build on the last command we executed; think about Dictionaries and key-value pairs.*"
   ]
  },
  {
   "cell_type": "markdown",
   "metadata": {},
   "source": [
    "### Basic Math on DataFrame Columns"
   ]
  },
  {
   "cell_type": "markdown",
   "metadata": {},
   "source": [
    "## Basic Plotting with Pandas"
   ]
  },
  {
   "cell_type": "markdown",
   "metadata": {},
   "source": [
    "### Challenge: Plotting"
   ]
  },
  {
   "cell_type": "markdown",
   "metadata": {},
   "source": [
    "1. Create a plot of the average weight in each species.\n",
    "2. Create a plot of total males and total females across the entire dataset.\n",
    "\n",
    "*Note:* Some of the species have no weight measurements; they are entered as `NaN`, which stands for \"not a number\" and refers to missing values."
   ]
  },
  {
   "cell_type": "markdown",
   "metadata": {},
   "source": [
    "### Multiple Grouping in Pandas"
   ]
  },
  {
   "cell_type": "markdown",
   "metadata": {},
   "source": [
    "# Transforming Data"
   ]
  },
  {
   "cell_type": "markdown",
   "metadata": {},
   "source": [
    "**Up to this point, we have learned:**\n",
    "\n",
    "- The basic data types in Python;\n",
    "- How to read a CSV file into Python using pandas;\n",
    "- How tabular data in pandas are represented using a DataFrame;\n",
    "- How to check the data type of each column in a DataFrame;\n",
    "- How to summarize numerical data in a DataFrame;\n",
    "- How to group data according to the unique values of a column;\n",
    "- How to create basic plots of grouped, summarized data."
   ]
  },
  {
   "cell_type": "markdown",
   "metadata": {},
   "source": [
    "## Converting Units"
   ]
  },
  {
   "cell_type": "markdown",
   "metadata": {},
   "source": [
    "## Transforming Values"
   ]
  },
  {
   "cell_type": "markdown",
   "metadata": {},
   "source": [
    "# Indexing and Slicing Python DataFrames"
   ]
  },
  {
   "cell_type": "markdown",
   "metadata": {},
   "source": [
    "## Indexing and Slicing in Python"
   ]
  },
  {
   "cell_type": "markdown",
   "metadata": {},
   "source": [
    "### Selecting Data Using Labels (Column Headings)"
   ]
  },
  {
   "cell_type": "markdown",
   "metadata": {},
   "source": [
    "### Extracting a Range of Data with Slicing"
   ]
  },
  {
   "cell_type": "markdown",
   "metadata": {},
   "source": [
    "Recall that in Python, we start counting from zero instead of one. This means that the first element in an object is located at position zero."
   ]
  },
  {
   "cell_type": "code",
   "execution_count": 94,
   "metadata": {
    "collapsed": true
   },
   "outputs": [],
   "source": [
    "grades = [88, 72, 93, 94]"
   ]
  },
  {
   "cell_type": "markdown",
   "metadata": {},
   "source": [
    "![](./slicing-indexing.svg)"
   ]
  },
  {
   "cell_type": "code",
   "execution_count": 95,
   "metadata": {
    "collapsed": false
   },
   "outputs": [
    {
     "data": {
      "text/plain": [
       "93"
      ]
     },
     "execution_count": 95,
     "metadata": {},
     "output_type": "execute_result"
    }
   ],
   "source": [
    "grades[2]"
   ]
  },
  {
   "cell_type": "markdown",
   "metadata": {},
   "source": [
    "![](./slicing-slicing.svg)"
   ]
  },
  {
   "cell_type": "code",
   "execution_count": 96,
   "metadata": {
    "collapsed": false
   },
   "outputs": [
    {
     "data": {
      "text/plain": [
       "[72, 93]"
      ]
     },
     "execution_count": 96,
     "metadata": {},
     "output_type": "execute_result"
    }
   ],
   "source": [
    "grades[1:3]"
   ]
  },
  {
   "cell_type": "markdown",
   "metadata": {},
   "source": [
    "### Challenge: Slicing"
   ]
  },
  {
   "cell_type": "markdown",
   "metadata": {},
   "source": [
    "What do each of these lines of code return?\n",
    "\n",
    "1. &nbsp;`grades[0]`\n",
    "2. &nbsp;`grades[len(grades)]`\n",
    "3. &nbsp;`grades[4]`\n",
    "\n",
    "Why do (2) and (3) return errors?"
   ]
  },
  {
   "cell_type": "markdown",
   "metadata": {},
   "source": [
    "### Slicing Subsets of Rows in Python"
   ]
  },
  {
   "cell_type": "markdown",
   "metadata": {},
   "source": [
    "### Oops: Referencing versus Copying Objects in Python"
   ]
  },
  {
   "cell_type": "markdown",
   "metadata": {},
   "source": [
    "### Slicing Subsets of Rows and Columns with Pandas"
   ]
  },
  {
   "cell_type": "markdown",
   "metadata": {},
   "source": [
    "### Challenge: Slicing Rows and Columns"
   ]
  },
  {
   "cell_type": "markdown",
   "metadata": {},
   "source": [
    "What happens when you type:\n",
    "\n",
    "1. &nbsp;`surveys[0:3]`\n",
    "2. &nbsp;`surveys[:5]`\n",
    "3. &nbsp;`surveys[-1:]`"
   ]
  },
  {
   "cell_type": "markdown",
   "metadata": {},
   "source": [
    "To review...\n",
    "\n",
    "**To index by rows in Pandas:**"
   ]
  },
  {
   "cell_type": "code",
   "execution_count": 168,
   "metadata": {
    "collapsed": false
   },
   "outputs": [
    {
     "data": {
      "text/html": [
       "<div>\n",
       "<table border=\"1\" class=\"dataframe\">\n",
       "  <thead>\n",
       "    <tr style=\"text-align: right;\">\n",
       "      <th></th>\n",
       "      <th>record_id</th>\n",
       "      <th>month</th>\n",
       "      <th>day</th>\n",
       "      <th>year</th>\n",
       "      <th>plot_id</th>\n",
       "      <th>species_id</th>\n",
       "      <th>sex</th>\n",
       "      <th>hindfoot_length</th>\n",
       "      <th>weight</th>\n",
       "    </tr>\n",
       "  </thead>\n",
       "  <tbody>\n",
       "    <tr>\n",
       "      <th>0</th>\n",
       "      <td>1</td>\n",
       "      <td>7</td>\n",
       "      <td>16</td>\n",
       "      <td>1977</td>\n",
       "      <td>2</td>\n",
       "      <td>NL</td>\n",
       "      <td>M</td>\n",
       "      <td>32.0</td>\n",
       "      <td>NaN</td>\n",
       "    </tr>\n",
       "    <tr>\n",
       "      <th>1</th>\n",
       "      <td>2</td>\n",
       "      <td>7</td>\n",
       "      <td>16</td>\n",
       "      <td>1977</td>\n",
       "      <td>3</td>\n",
       "      <td>NL</td>\n",
       "      <td>M</td>\n",
       "      <td>33.0</td>\n",
       "      <td>NaN</td>\n",
       "    </tr>\n",
       "    <tr>\n",
       "      <th>2</th>\n",
       "      <td>3</td>\n",
       "      <td>7</td>\n",
       "      <td>16</td>\n",
       "      <td>1977</td>\n",
       "      <td>2</td>\n",
       "      <td>DM</td>\n",
       "      <td>F</td>\n",
       "      <td>37.0</td>\n",
       "      <td>NaN</td>\n",
       "    </tr>\n",
       "  </tbody>\n",
       "</table>\n",
       "</div>"
      ],
      "text/plain": [
       "   record_id  month  day  year  plot_id species_id sex  hindfoot_length  \\\n",
       "0          1      7   16  1977        2         NL   M             32.0   \n",
       "1          2      7   16  1977        3         NL   M             33.0   \n",
       "2          3      7   16  1977        2         DM   F             37.0   \n",
       "\n",
       "   weight  \n",
       "0     NaN  \n",
       "1     NaN  \n",
       "2     NaN  "
      ]
     },
     "execution_count": 168,
     "metadata": {},
     "output_type": "execute_result"
    }
   ],
   "source": [
    "surveys[0:3]\n",
    "surveys.iloc[0:3]\n",
    "surveys.iloc[0:3,:]"
   ]
  },
  {
   "cell_type": "markdown",
   "metadata": {},
   "source": [
    "**To index by columns (and rows) in Pandas**"
   ]
  },
  {
   "cell_type": "code",
   "execution_count": 174,
   "metadata": {
    "collapsed": false
   },
   "outputs": [
    {
     "data": {
      "text/html": [
       "<div>\n",
       "<table border=\"1\" class=\"dataframe\">\n",
       "  <thead>\n",
       "    <tr style=\"text-align: right;\">\n",
       "      <th></th>\n",
       "      <th>month</th>\n",
       "      <th>day</th>\n",
       "      <th>year</th>\n",
       "    </tr>\n",
       "  </thead>\n",
       "  <tbody>\n",
       "    <tr>\n",
       "      <th>0</th>\n",
       "      <td>7</td>\n",
       "      <td>16</td>\n",
       "      <td>1977</td>\n",
       "    </tr>\n",
       "    <tr>\n",
       "      <th>1</th>\n",
       "      <td>7</td>\n",
       "      <td>16</td>\n",
       "      <td>1977</td>\n",
       "    </tr>\n",
       "    <tr>\n",
       "      <th>2</th>\n",
       "      <td>7</td>\n",
       "      <td>16</td>\n",
       "      <td>1977</td>\n",
       "    </tr>\n",
       "  </tbody>\n",
       "</table>\n",
       "</div>"
      ],
      "text/plain": [
       "   month  day  year\n",
       "0      7   16  1977\n",
       "1      7   16  1977\n",
       "2      7   16  1977"
      ]
     },
     "execution_count": 174,
     "metadata": {},
     "output_type": "execute_result"
    }
   ],
   "source": [
    "surveys[['month', 'day', 'year']]\n",
    "surveys.loc[0:3, ['month', 'day', 'year']]\n",
    "surveys.iloc[0:3, 1:4]"
   ]
  },
  {
   "cell_type": "markdown",
   "metadata": {},
   "source": [
    "## Subsetting Data Using Criteria"
   ]
  },
  {
   "cell_type": "markdown",
   "metadata": {},
   "source": [
    "### Challenge: Filtering Data"
   ]
  },
  {
   "cell_type": "markdown",
   "metadata": {},
   "source": [
    "1. Filter the `surveys` table to observations of female members of the `DO` species. How many are there? What is their average weight?\n",
    "2. Look at the help documentation for the `isin()` function (Hint: `?surveys.year.isin`). Use this function to filter the `surveys` DataFrame to those rows that match the three species: `OL`, `OT`, `OX`."
   ]
  },
  {
   "cell_type": "markdown",
   "metadata": {},
   "source": [
    "## Using Masks"
   ]
  },
  {
   "cell_type": "markdown",
   "metadata": {},
   "source": [
    "## Dealing with Missing Data"
   ]
  },
  {
   "cell_type": "markdown",
   "metadata": {},
   "source": [
    "# Combining Multiple Datasets"
   ]
  },
  {
   "cell_type": "markdown",
   "metadata": {},
   "source": [
    "At this point, we have learned:\n",
    "\n",
    "- About zero-based indexing in Python;\n",
    "- How to manipulate and extract data using column headings and index locations;\n",
    "- How to employ slicing to select subsets of a DataFrame;\n",
    "- How to re-assign values within a DataFrame;\n",
    "- How to create a copy of a DataFrame;\n",
    "- How to query subsets of a DataFrame that match certain criteria using logical operators;\n",
    "- How to interpret NaN values and best practices for missing data;"
   ]
  },
  {
   "cell_type": "markdown",
   "metadata": {},
   "source": [
    "## Concatenating DataFrames"
   ]
  },
  {
   "cell_type": "markdown",
   "metadata": {},
   "source": [
    "## Writing Data to a CSV File"
   ]
  },
  {
   "cell_type": "markdown",
   "metadata": {},
   "source": [
    "## Joining DataFrames"
   ]
  },
  {
   "cell_type": "markdown",
   "metadata": {},
   "source": [
    "**Note:** Use [this webpage](http://blog.codinghorror.com/a-visual-explanation-of-sql-joins/) as a graphical reference for this segment."
   ]
  },
  {
   "cell_type": "markdown",
   "metadata": {},
   "source": [
    "### Identifying Join Keys"
   ]
  },
  {
   "cell_type": "markdown",
   "metadata": {},
   "source": [
    "### Inner Joins"
   ]
  },
  {
   "cell_type": "markdown",
   "metadata": {},
   "source": [
    "### Left Joins"
   ]
  },
  {
   "cell_type": "markdown",
   "metadata": {},
   "source": [
    "### Other Joins"
   ]
  },
  {
   "cell_type": "markdown",
   "metadata": {},
   "source": [
    "- A **right (outer) join** is similar to a left join except that it takes all rows from the right data frame and only matching rows from the left.\n",
    "- A **full (outer) join** returns all pairwise combinations of the two matching columns. This type is rarely used."
   ]
  },
  {
   "cell_type": "markdown",
   "metadata": {},
   "source": [
    "### Challenges: Joins"
   ]
  },
  {
   "cell_type": "markdown",
   "metadata": {},
   "source": [
    "Create a new data frame by joining the contents of `surveys` and `species`. Then, calculate and plot the distribution of `taxa` by `plot_id`."
   ]
  },
  {
   "cell_type": "markdown",
   "metadata": {},
   "source": [
    "# Automating Data Workflows with Python"
   ]
  },
  {
   "cell_type": "markdown",
   "metadata": {},
   "source": [
    "## Automating Data Processing with For Loops"
   ]
  },
  {
   "cell_type": "markdown",
   "metadata": {},
   "source": [
    "### Challenge: Automation with For Loops"
   ]
  },
  {
   "cell_type": "markdown",
   "metadata": {},
   "source": [
    "1. Some of the surveys we saved are missing data; they have `NaN` values in one or more columns. **Modify our `for` loop so that the entries with null values are not included in the yearly files.** \n",
    "2. **What happens if there are no data for a year in the sequence?** You can generate a list of years for the `for` loop to use with, e.g., `range(1970, 1980)`.\n",
    "3. Let's say you only want to look at data from a given multiple of years. **How would you modify your loop in order to generate a data file for only every 5th year, starting from 1977?**"
   ]
  },
  {
   "cell_type": "markdown",
   "metadata": {},
   "source": [
    "## Building Reusable Code with Functions"
   ]
  },
  {
   "cell_type": "markdown",
   "metadata": {},
   "source": [
    "### Challenge: Writing Reusable Functions"
   ]
  },
  {
   "cell_type": "markdown",
   "metadata": {},
   "source": [
    "1. What type of object corresponds to a variable declared as `None`? (Hint: Create a variable set to `None` and use the function `type()`).\n",
    "2. What happens if you only call `multiple_years_to_csv()` with `all_data` and an `end_year` (that is, without providing a `start_year`)?  Can you write the function call with only a value for `end_year`?"
   ]
  },
  {
   "cell_type": "markdown",
   "metadata": {},
   "source": [
    "# Answering Questions with Data"
   ]
  },
  {
   "cell_type": "markdown",
   "metadata": {},
   "source": [
    "## Validating Assumptions about Data"
   ]
  },
  {
   "cell_type": "markdown",
   "metadata": {},
   "source": [
    "## Sorting on Values"
   ]
  }
 ],
 "metadata": {
  "kernelspec": {
   "display_name": "py3",
   "language": "python",
   "name": "py3"
  },
  "language_info": {
   "codemirror_mode": {
    "name": "ipython",
    "version": 3
   },
   "file_extension": ".py",
   "mimetype": "text/x-python",
   "name": "python",
   "nbconvert_exporter": "python",
   "pygments_lexer": "ipython3",
   "version": "3.5.2"
  }
 },
 "nbformat": 4,
 "nbformat_minor": 2
}
